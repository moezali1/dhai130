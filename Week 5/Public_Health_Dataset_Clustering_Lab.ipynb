{
  "cells": [
    {
      "cell_type": "markdown",
      "metadata": {
        "id": "8xnu0ySB5srK"
      },
      "source": [
        "# Install required libraries"
      ]
    },
    {
      "cell_type": "code",
      "execution_count": 3,
      "metadata": {
        "id": "zlYWAz725sGI"
      },
      "outputs": [],
      "source": [
        "# install pycaret\n",
        "# !pip install pycaret"
      ]
    },
    {
      "cell_type": "markdown",
      "metadata": {
        "id": "IRS_m7G7DNRb"
      },
      "source": [
        "**Go to Runtime --> Restart Runtime. If you do not restart you will get error later in this notebook.**"
      ]
    },
    {
      "cell_type": "markdown",
      "metadata": {
        "id": "m6_fTr_fxvAw"
      },
      "source": [
        "# Dataset"
      ]
    },
    {
      "cell_type": "code",
      "execution_count": 4,
      "metadata": {
        "colab": {
          "base_uri": "https://localhost:8080/",
          "height": 377
        },
        "id": "23JbcRwWxuk8",
        "outputId": "03d3c882-4d28-411c-bc10-7b22965e459e"
      },
      "outputs": [
        {
          "data": {
            "text/html": [
              "<div>\n",
              "<style scoped>\n",
              "    .dataframe tbody tr th:only-of-type {\n",
              "        vertical-align: middle;\n",
              "    }\n",
              "\n",
              "    .dataframe tbody tr th {\n",
              "        vertical-align: top;\n",
              "    }\n",
              "\n",
              "    .dataframe thead th {\n",
              "        text-align: right;\n",
              "    }\n",
              "</style>\n",
              "<table border=\"1\" class=\"dataframe\">\n",
              "  <thead>\n",
              "    <tr style=\"text-align: right;\">\n",
              "      <th></th>\n",
              "      <th>Country Name</th>\n",
              "      <th>1995</th>\n",
              "      <th>1996</th>\n",
              "      <th>1997</th>\n",
              "      <th>1998</th>\n",
              "      <th>1999</th>\n",
              "      <th>2000</th>\n",
              "      <th>2001</th>\n",
              "      <th>2002</th>\n",
              "      <th>2003</th>\n",
              "      <th>...</th>\n",
              "      <th>2005</th>\n",
              "      <th>2006</th>\n",
              "      <th>2007</th>\n",
              "      <th>2008</th>\n",
              "      <th>2009</th>\n",
              "      <th>2010</th>\n",
              "      <th>2011</th>\n",
              "      <th>2012</th>\n",
              "      <th>2013</th>\n",
              "      <th>2014</th>\n",
              "    </tr>\n",
              "  </thead>\n",
              "  <tbody>\n",
              "    <tr>\n",
              "      <th>0</th>\n",
              "      <td>Arab World</td>\n",
              "      <td>2.004868</td>\n",
              "      <td>2.014602</td>\n",
              "      <td>2.071309</td>\n",
              "      <td>2.177712</td>\n",
              "      <td>2.331000</td>\n",
              "      <td>2.333596</td>\n",
              "      <td>2.588751</td>\n",
              "      <td>2.540238</td>\n",
              "      <td>2.450415</td>\n",
              "      <td>...</td>\n",
              "      <td>2.134281</td>\n",
              "      <td>2.133038</td>\n",
              "      <td>2.166872</td>\n",
              "      <td>2.101233</td>\n",
              "      <td>2.830067</td>\n",
              "      <td>2.489631</td>\n",
              "      <td>2.539570</td>\n",
              "      <td>2.711262</td>\n",
              "      <td>2.895427</td>\n",
              "      <td>3.073161</td>\n",
              "    </tr>\n",
              "    <tr>\n",
              "      <th>1</th>\n",
              "      <td>Caribbean small states</td>\n",
              "      <td>2.801518</td>\n",
              "      <td>2.856684</td>\n",
              "      <td>2.997157</td>\n",
              "      <td>2.989451</td>\n",
              "      <td>2.767858</td>\n",
              "      <td>2.826752</td>\n",
              "      <td>2.679969</td>\n",
              "      <td>2.888693</td>\n",
              "      <td>2.740593</td>\n",
              "      <td>...</td>\n",
              "      <td>2.629580</td>\n",
              "      <td>2.650900</td>\n",
              "      <td>2.790665</td>\n",
              "      <td>2.822913</td>\n",
              "      <td>3.408651</td>\n",
              "      <td>3.264064</td>\n",
              "      <td>3.087653</td>\n",
              "      <td>3.314303</td>\n",
              "      <td>3.318432</td>\n",
              "      <td>3.260012</td>\n",
              "    </tr>\n",
              "    <tr>\n",
              "      <th>2</th>\n",
              "      <td>Central Europe and the Baltics</td>\n",
              "      <td>4.678528</td>\n",
              "      <td>4.753209</td>\n",
              "      <td>4.604574</td>\n",
              "      <td>4.499988</td>\n",
              "      <td>4.679082</td>\n",
              "      <td>4.539711</td>\n",
              "      <td>4.666272</td>\n",
              "      <td>4.900196</td>\n",
              "      <td>5.100249</td>\n",
              "      <td>...</td>\n",
              "      <td>4.970861</td>\n",
              "      <td>4.841450</td>\n",
              "      <td>4.809057</td>\n",
              "      <td>5.054785</td>\n",
              "      <td>5.394921</td>\n",
              "      <td>5.284380</td>\n",
              "      <td>5.096212</td>\n",
              "      <td>5.041317</td>\n",
              "      <td>5.029266</td>\n",
              "      <td>5.017717</td>\n",
              "    </tr>\n",
              "    <tr>\n",
              "      <th>3</th>\n",
              "      <td>Early-demographic dividend</td>\n",
              "      <td>2.203164</td>\n",
              "      <td>2.156632</td>\n",
              "      <td>2.227311</td>\n",
              "      <td>2.364100</td>\n",
              "      <td>2.454394</td>\n",
              "      <td>2.450555</td>\n",
              "      <td>2.527081</td>\n",
              "      <td>2.347702</td>\n",
              "      <td>2.363263</td>\n",
              "      <td>...</td>\n",
              "      <td>2.337347</td>\n",
              "      <td>2.369884</td>\n",
              "      <td>2.385251</td>\n",
              "      <td>2.405126</td>\n",
              "      <td>2.701260</td>\n",
              "      <td>2.507131</td>\n",
              "      <td>2.495491</td>\n",
              "      <td>2.497340</td>\n",
              "      <td>2.586701</td>\n",
              "      <td>2.665603</td>\n",
              "    </tr>\n",
              "    <tr>\n",
              "      <th>4</th>\n",
              "      <td>East Asia &amp; Pacific</td>\n",
              "      <td>4.429090</td>\n",
              "      <td>4.203152</td>\n",
              "      <td>4.244351</td>\n",
              "      <td>4.453984</td>\n",
              "      <td>4.626920</td>\n",
              "      <td>4.688849</td>\n",
              "      <td>4.684790</td>\n",
              "      <td>4.613537</td>\n",
              "      <td>4.635098</td>\n",
              "      <td>...</td>\n",
              "      <td>4.566215</td>\n",
              "      <td>4.367146</td>\n",
              "      <td>4.297394</td>\n",
              "      <td>4.434848</td>\n",
              "      <td>4.865241</td>\n",
              "      <td>4.775817</td>\n",
              "      <td>4.871727</td>\n",
              "      <td>4.866869</td>\n",
              "      <td>4.643221</td>\n",
              "      <td>4.571448</td>\n",
              "    </tr>\n",
              "  </tbody>\n",
              "</table>\n",
              "<p>5 rows × 21 columns</p>\n",
              "</div>"
            ],
            "text/plain": [
              "                     Country Name      1995      1996      1997      1998  \\\n",
              "0                      Arab World  2.004868  2.014602  2.071309  2.177712   \n",
              "1          Caribbean small states  2.801518  2.856684  2.997157  2.989451   \n",
              "2  Central Europe and the Baltics  4.678528  4.753209  4.604574  4.499988   \n",
              "3      Early-demographic dividend  2.203164  2.156632  2.227311  2.364100   \n",
              "4             East Asia & Pacific  4.429090  4.203152  4.244351  4.453984   \n",
              "\n",
              "       1999      2000      2001      2002      2003  ...      2005      2006  \\\n",
              "0  2.331000  2.333596  2.588751  2.540238  2.450415  ...  2.134281  2.133038   \n",
              "1  2.767858  2.826752  2.679969  2.888693  2.740593  ...  2.629580  2.650900   \n",
              "2  4.679082  4.539711  4.666272  4.900196  5.100249  ...  4.970861  4.841450   \n",
              "3  2.454394  2.450555  2.527081  2.347702  2.363263  ...  2.337347  2.369884   \n",
              "4  4.626920  4.688849  4.684790  4.613537  4.635098  ...  4.566215  4.367146   \n",
              "\n",
              "       2007      2008      2009      2010      2011      2012      2013  \\\n",
              "0  2.166872  2.101233  2.830067  2.489631  2.539570  2.711262  2.895427   \n",
              "1  2.790665  2.822913  3.408651  3.264064  3.087653  3.314303  3.318432   \n",
              "2  4.809057  5.054785  5.394921  5.284380  5.096212  5.041317  5.029266   \n",
              "3  2.385251  2.405126  2.701260  2.507131  2.495491  2.497340  2.586701   \n",
              "4  4.297394  4.434848  4.865241  4.775817  4.871727  4.866869  4.643221   \n",
              "\n",
              "       2014  \n",
              "0  3.073161  \n",
              "1  3.260012  \n",
              "2  5.017717  \n",
              "3  2.665603  \n",
              "4  4.571448  \n",
              "\n",
              "[5 rows x 21 columns]"
            ]
          },
          "metadata": {},
          "output_type": "display_data"
        }
      ],
      "source": [
        "from pycaret.datasets import get_data\n",
        "data = get_data('public_health')"
      ]
    },
    {
      "cell_type": "code",
      "execution_count": 5,
      "metadata": {
        "colab": {
          "base_uri": "https://localhost:8080/"
        },
        "id": "fmqtwP8JpRXf",
        "outputId": "5a1cf58b-8072-4dc2-b487-06631447bf18"
      },
      "outputs": [
        {
          "data": {
            "text/plain": [
              "(224, 21)"
            ]
          },
          "execution_count": 5,
          "metadata": {},
          "output_type": "execute_result"
        }
      ],
      "source": [
        "data.shape"
      ]
    },
    {
      "cell_type": "markdown",
      "metadata": {
        "id": "yogZX4KN5bFq"
      },
      "source": [
        "There is a dataset of 224 entities (some of them are regions and some are countries). It contains public healthcare spending as % of GDP from year 1995 - 2014.\n",
        "\n",
        "Source: https://data.worldbank.org/indicator/SH.XPD.CHEX.GD.ZS"
      ]
    },
    {
      "cell_type": "markdown",
      "metadata": {
        "id": "qPqOLIaoyjnS"
      },
      "source": [
        "# Exploratory Data Analysis"
      ]
    },
    {
      "cell_type": "code",
      "execution_count": 6,
      "metadata": {
        "colab": {
          "base_uri": "https://localhost:8080/"
        },
        "id": "BiX_WSgY5wL5",
        "outputId": "e7ec9d67-456d-4a3f-a5a4-0cb33466b3d6"
      },
      "outputs": [
        {
          "data": {
            "text/plain": [
              "(224, 21)"
            ]
          },
          "execution_count": 6,
          "metadata": {},
          "output_type": "execute_result"
        }
      ],
      "source": [
        "# check shape\n",
        "data.shape"
      ]
    },
    {
      "cell_type": "code",
      "execution_count": 7,
      "metadata": {
        "colab": {
          "base_uri": "https://localhost:8080/"
        },
        "id": "M-dBawJ95xhs",
        "outputId": "89a8f93f-0c17-408d-ed81-f88db4d1b868"
      },
      "outputs": [
        {
          "data": {
            "text/plain": [
              "Country Name    0\n",
              "1995            0\n",
              "1996            0\n",
              "1997            0\n",
              "1998            0\n",
              "1999            0\n",
              "2000            0\n",
              "2001            0\n",
              "2002            0\n",
              "2003            0\n",
              "2004            0\n",
              "2005            0\n",
              "2006            0\n",
              "2007            0\n",
              "2008            0\n",
              "2009            0\n",
              "2010            0\n",
              "2011            0\n",
              "2012            0\n",
              "2013            0\n",
              "2014            0\n",
              "dtype: int64"
            ]
          },
          "execution_count": 7,
          "metadata": {},
          "output_type": "execute_result"
        }
      ],
      "source": [
        "# check missing values\n",
        "data.isnull().sum()"
      ]
    },
    {
      "cell_type": "code",
      "execution_count": 8,
      "metadata": {
        "id": "hR1tRjgqy9Pe"
      },
      "outputs": [],
      "source": [
        "# set country name to index\n",
        "data.set_index('Country Name', inplace=True, drop=True)"
      ]
    },
    {
      "cell_type": "code",
      "execution_count": 9,
      "metadata": {
        "colab": {
          "base_uri": "https://localhost:8080/",
          "height": 1000
        },
        "id": "WrtdwLBK55w7",
        "outputId": "07b19ec4-bc4c-4afa-ecb8-3b290da774b3"
      },
      "outputs": [
        {
          "data": {
            "text/html": [
              "<div>\n",
              "<style scoped>\n",
              "    .dataframe tbody tr th:only-of-type {\n",
              "        vertical-align: middle;\n",
              "    }\n",
              "\n",
              "    .dataframe tbody tr th {\n",
              "        vertical-align: top;\n",
              "    }\n",
              "\n",
              "    .dataframe thead th {\n",
              "        text-align: right;\n",
              "    }\n",
              "</style>\n",
              "<table border=\"1\" class=\"dataframe\">\n",
              "  <thead>\n",
              "    <tr style=\"text-align: right;\">\n",
              "      <th></th>\n",
              "      <th>1995</th>\n",
              "      <th>1996</th>\n",
              "      <th>1997</th>\n",
              "      <th>1998</th>\n",
              "      <th>1999</th>\n",
              "      <th>2000</th>\n",
              "      <th>2001</th>\n",
              "      <th>2002</th>\n",
              "      <th>2003</th>\n",
              "      <th>2004</th>\n",
              "      <th>2005</th>\n",
              "      <th>2006</th>\n",
              "      <th>2007</th>\n",
              "      <th>2008</th>\n",
              "      <th>2009</th>\n",
              "      <th>2010</th>\n",
              "      <th>2011</th>\n",
              "      <th>2012</th>\n",
              "      <th>2013</th>\n",
              "      <th>2014</th>\n",
              "    </tr>\n",
              "    <tr>\n",
              "      <th>Country Name</th>\n",
              "      <th></th>\n",
              "      <th></th>\n",
              "      <th></th>\n",
              "      <th></th>\n",
              "      <th></th>\n",
              "      <th></th>\n",
              "      <th></th>\n",
              "      <th></th>\n",
              "      <th></th>\n",
              "      <th></th>\n",
              "      <th></th>\n",
              "      <th></th>\n",
              "      <th></th>\n",
              "      <th></th>\n",
              "      <th></th>\n",
              "      <th></th>\n",
              "      <th></th>\n",
              "      <th></th>\n",
              "      <th></th>\n",
              "      <th></th>\n",
              "    </tr>\n",
              "  </thead>\n",
              "  <tbody>\n",
              "    <tr>\n",
              "      <th>Arab World</th>\n",
              "      <td>2.004868</td>\n",
              "      <td>2.014602</td>\n",
              "      <td>2.071309</td>\n",
              "      <td>2.177712</td>\n",
              "      <td>2.331000</td>\n",
              "      <td>2.333596</td>\n",
              "      <td>2.588751</td>\n",
              "      <td>2.540238</td>\n",
              "      <td>2.450415</td>\n",
              "      <td>2.314914</td>\n",
              "      <td>2.134281</td>\n",
              "      <td>2.133038</td>\n",
              "      <td>2.166872</td>\n",
              "      <td>2.101233</td>\n",
              "      <td>2.830067</td>\n",
              "      <td>2.489631</td>\n",
              "      <td>2.539570</td>\n",
              "      <td>2.711262</td>\n",
              "      <td>2.895427</td>\n",
              "      <td>3.073161</td>\n",
              "    </tr>\n",
              "    <tr>\n",
              "      <th>Caribbean small states</th>\n",
              "      <td>2.801518</td>\n",
              "      <td>2.856684</td>\n",
              "      <td>2.997157</td>\n",
              "      <td>2.989451</td>\n",
              "      <td>2.767858</td>\n",
              "      <td>2.826752</td>\n",
              "      <td>2.679969</td>\n",
              "      <td>2.888693</td>\n",
              "      <td>2.740593</td>\n",
              "      <td>2.845971</td>\n",
              "      <td>2.629580</td>\n",
              "      <td>2.650900</td>\n",
              "      <td>2.790665</td>\n",
              "      <td>2.822913</td>\n",
              "      <td>3.408651</td>\n",
              "      <td>3.264064</td>\n",
              "      <td>3.087653</td>\n",
              "      <td>3.314303</td>\n",
              "      <td>3.318432</td>\n",
              "      <td>3.260012</td>\n",
              "    </tr>\n",
              "    <tr>\n",
              "      <th>Central Europe and the Baltics</th>\n",
              "      <td>4.678528</td>\n",
              "      <td>4.753209</td>\n",
              "      <td>4.604574</td>\n",
              "      <td>4.499988</td>\n",
              "      <td>4.679082</td>\n",
              "      <td>4.539711</td>\n",
              "      <td>4.666272</td>\n",
              "      <td>4.900196</td>\n",
              "      <td>5.100249</td>\n",
              "      <td>4.913629</td>\n",
              "      <td>4.970861</td>\n",
              "      <td>4.841450</td>\n",
              "      <td>4.809057</td>\n",
              "      <td>5.054785</td>\n",
              "      <td>5.394921</td>\n",
              "      <td>5.284380</td>\n",
              "      <td>5.096212</td>\n",
              "      <td>5.041317</td>\n",
              "      <td>5.029266</td>\n",
              "      <td>5.017717</td>\n",
              "    </tr>\n",
              "    <tr>\n",
              "      <th>Early-demographic dividend</th>\n",
              "      <td>2.203164</td>\n",
              "      <td>2.156632</td>\n",
              "      <td>2.227311</td>\n",
              "      <td>2.364100</td>\n",
              "      <td>2.454394</td>\n",
              "      <td>2.450555</td>\n",
              "      <td>2.527081</td>\n",
              "      <td>2.347702</td>\n",
              "      <td>2.363263</td>\n",
              "      <td>2.346824</td>\n",
              "      <td>2.337347</td>\n",
              "      <td>2.369884</td>\n",
              "      <td>2.385251</td>\n",
              "      <td>2.405126</td>\n",
              "      <td>2.701260</td>\n",
              "      <td>2.507131</td>\n",
              "      <td>2.495491</td>\n",
              "      <td>2.497340</td>\n",
              "      <td>2.586701</td>\n",
              "      <td>2.665603</td>\n",
              "    </tr>\n",
              "    <tr>\n",
              "      <th>East Asia &amp; Pacific</th>\n",
              "      <td>4.429090</td>\n",
              "      <td>4.203152</td>\n",
              "      <td>4.244351</td>\n",
              "      <td>4.453984</td>\n",
              "      <td>4.626920</td>\n",
              "      <td>4.688849</td>\n",
              "      <td>4.684790</td>\n",
              "      <td>4.613537</td>\n",
              "      <td>4.635098</td>\n",
              "      <td>4.626696</td>\n",
              "      <td>4.566215</td>\n",
              "      <td>4.367146</td>\n",
              "      <td>4.297394</td>\n",
              "      <td>4.434848</td>\n",
              "      <td>4.865241</td>\n",
              "      <td>4.775817</td>\n",
              "      <td>4.871727</td>\n",
              "      <td>4.866869</td>\n",
              "      <td>4.643221</td>\n",
              "      <td>4.571448</td>\n",
              "    </tr>\n",
              "    <tr>\n",
              "      <th>East Asia &amp; Pacific (excluding high income)</th>\n",
              "      <td>1.615852</td>\n",
              "      <td>1.640251</td>\n",
              "      <td>1.678322</td>\n",
              "      <td>1.764603</td>\n",
              "      <td>1.754013</td>\n",
              "      <td>1.689185</td>\n",
              "      <td>1.626887</td>\n",
              "      <td>1.736856</td>\n",
              "      <td>1.808637</td>\n",
              "      <td>1.815667</td>\n",
              "      <td>1.796320</td>\n",
              "      <td>1.875267</td>\n",
              "      <td>2.076666</td>\n",
              "      <td>2.256214</td>\n",
              "      <td>2.574994</td>\n",
              "      <td>2.538430</td>\n",
              "      <td>2.669787</td>\n",
              "      <td>2.811490</td>\n",
              "      <td>2.881805</td>\n",
              "      <td>2.975051</td>\n",
              "    </tr>\n",
              "    <tr>\n",
              "      <th>East Asia &amp; Pacific (IDA &amp; IBRD countries)</th>\n",
              "      <td>1.615852</td>\n",
              "      <td>1.640251</td>\n",
              "      <td>1.678322</td>\n",
              "      <td>1.764603</td>\n",
              "      <td>1.754013</td>\n",
              "      <td>1.689185</td>\n",
              "      <td>1.626887</td>\n",
              "      <td>1.736856</td>\n",
              "      <td>1.808637</td>\n",
              "      <td>1.815667</td>\n",
              "      <td>1.796320</td>\n",
              "      <td>1.875267</td>\n",
              "      <td>2.076666</td>\n",
              "      <td>2.256214</td>\n",
              "      <td>2.574994</td>\n",
              "      <td>2.538430</td>\n",
              "      <td>2.669787</td>\n",
              "      <td>2.811490</td>\n",
              "      <td>2.881805</td>\n",
              "      <td>2.975051</td>\n",
              "    </tr>\n",
              "    <tr>\n",
              "      <th>Euro area</th>\n",
              "      <td>6.716642</td>\n",
              "      <td>6.819912</td>\n",
              "      <td>6.775234</td>\n",
              "      <td>6.713452</td>\n",
              "      <td>6.707802</td>\n",
              "      <td>6.725721</td>\n",
              "      <td>6.824762</td>\n",
              "      <td>6.970491</td>\n",
              "      <td>7.100570</td>\n",
              "      <td>7.082379</td>\n",
              "      <td>7.243411</td>\n",
              "      <td>7.275137</td>\n",
              "      <td>7.183726</td>\n",
              "      <td>7.419703</td>\n",
              "      <td>8.060334</td>\n",
              "      <td>7.985295</td>\n",
              "      <td>7.851060</td>\n",
              "      <td>7.904805</td>\n",
              "      <td>7.961558</td>\n",
              "      <td>8.001480</td>\n",
              "    </tr>\n",
              "    <tr>\n",
              "      <th>Europe &amp; Central Asia</th>\n",
              "      <td>6.258718</td>\n",
              "      <td>6.339841</td>\n",
              "      <td>6.249748</td>\n",
              "      <td>6.194955</td>\n",
              "      <td>6.269453</td>\n",
              "      <td>6.207591</td>\n",
              "      <td>6.357421</td>\n",
              "      <td>6.543767</td>\n",
              "      <td>6.680231</td>\n",
              "      <td>6.643570</td>\n",
              "      <td>6.709228</td>\n",
              "      <td>6.691296</td>\n",
              "      <td>6.590410</td>\n",
              "      <td>6.775062</td>\n",
              "      <td>7.489585</td>\n",
              "      <td>7.256678</td>\n",
              "      <td>7.096764</td>\n",
              "      <td>7.107059</td>\n",
              "      <td>7.143519</td>\n",
              "      <td>7.184030</td>\n",
              "    </tr>\n",
              "    <tr>\n",
              "      <th>Europe &amp; Central Asia (excluding high income)</th>\n",
              "      <td>3.401579</td>\n",
              "      <td>3.407896</td>\n",
              "      <td>4.035215</td>\n",
              "      <td>3.412752</td>\n",
              "      <td>3.222938</td>\n",
              "      <td>3.167155</td>\n",
              "      <td>3.357613</td>\n",
              "      <td>3.605665</td>\n",
              "      <td>3.621673</td>\n",
              "      <td>3.472982</td>\n",
              "      <td>3.506736</td>\n",
              "      <td>3.566117</td>\n",
              "      <td>3.635780</td>\n",
              "      <td>3.735160</td>\n",
              "      <td>4.218188</td>\n",
              "      <td>3.878113</td>\n",
              "      <td>3.652835</td>\n",
              "      <td>3.780160</td>\n",
              "      <td>3.736002</td>\n",
              "      <td>3.714757</td>\n",
              "    </tr>\n",
              "    <tr>\n",
              "      <th>Europe &amp; Central Asia (IDA &amp; IBRD countries)</th>\n",
              "      <td>3.537976</td>\n",
              "      <td>3.612691</td>\n",
              "      <td>4.047882</td>\n",
              "      <td>3.552857</td>\n",
              "      <td>3.480765</td>\n",
              "      <td>3.385148</td>\n",
              "      <td>3.605373</td>\n",
              "      <td>3.816964</td>\n",
              "      <td>3.794325</td>\n",
              "      <td>3.642164</td>\n",
              "      <td>3.681588</td>\n",
              "      <td>3.721763</td>\n",
              "      <td>3.798182</td>\n",
              "      <td>3.951118</td>\n",
              "      <td>4.401010</td>\n",
              "      <td>4.068056</td>\n",
              "      <td>3.818966</td>\n",
              "      <td>3.901666</td>\n",
              "      <td>3.857979</td>\n",
              "      <td>3.846191</td>\n",
              "    </tr>\n",
              "    <tr>\n",
              "      <th>European Union</th>\n",
              "      <td>6.506458</td>\n",
              "      <td>6.584349</td>\n",
              "      <td>6.447822</td>\n",
              "      <td>6.395838</td>\n",
              "      <td>6.453924</td>\n",
              "      <td>6.439900</td>\n",
              "      <td>6.570972</td>\n",
              "      <td>6.747120</td>\n",
              "      <td>6.899522</td>\n",
              "      <td>6.910964</td>\n",
              "      <td>7.051119</td>\n",
              "      <td>7.087790</td>\n",
              "      <td>7.002368</td>\n",
              "      <td>7.256593</td>\n",
              "      <td>7.936430</td>\n",
              "      <td>7.820469</td>\n",
              "      <td>7.744258</td>\n",
              "      <td>7.793068</td>\n",
              "      <td>7.836954</td>\n",
              "      <td>7.818446</td>\n",
              "    </tr>\n",
              "    <tr>\n",
              "      <th>Heavily indebted poor countries (HIPC)</th>\n",
              "      <td>1.630563</td>\n",
              "      <td>1.716749</td>\n",
              "      <td>1.652446</td>\n",
              "      <td>1.771870</td>\n",
              "      <td>1.834358</td>\n",
              "      <td>1.796370</td>\n",
              "      <td>2.015091</td>\n",
              "      <td>2.068193</td>\n",
              "      <td>2.166902</td>\n",
              "      <td>2.216859</td>\n",
              "      <td>2.345167</td>\n",
              "      <td>2.448883</td>\n",
              "      <td>2.302462</td>\n",
              "      <td>2.429058</td>\n",
              "      <td>2.539924</td>\n",
              "      <td>2.712863</td>\n",
              "      <td>2.661828</td>\n",
              "      <td>2.588668</td>\n",
              "      <td>2.580612</td>\n",
              "      <td>2.532969</td>\n",
              "    </tr>\n",
              "    <tr>\n",
              "      <th>High income</th>\n",
              "      <td>5.852819</td>\n",
              "      <td>5.861951</td>\n",
              "      <td>5.811809</td>\n",
              "      <td>5.837542</td>\n",
              "      <td>5.859037</td>\n",
              "      <td>5.853669</td>\n",
              "      <td>6.131479</td>\n",
              "      <td>6.354332</td>\n",
              "      <td>6.509857</td>\n",
              "      <td>6.545028</td>\n",
              "      <td>6.604202</td>\n",
              "      <td>6.657365</td>\n",
              "      <td>6.685403</td>\n",
              "      <td>6.945781</td>\n",
              "      <td>7.638854</td>\n",
              "      <td>7.562423</td>\n",
              "      <td>7.546564</td>\n",
              "      <td>7.556055</td>\n",
              "      <td>7.573149</td>\n",
              "      <td>7.658651</td>\n",
              "    </tr>\n",
              "    <tr>\n",
              "      <th>Late-demographic dividend</th>\n",
              "      <td>2.749846</td>\n",
              "      <td>2.750524</td>\n",
              "      <td>2.942327</td>\n",
              "      <td>2.795476</td>\n",
              "      <td>2.721889</td>\n",
              "      <td>2.549560</td>\n",
              "      <td>2.589519</td>\n",
              "      <td>2.719475</td>\n",
              "      <td>2.735926</td>\n",
              "      <td>2.744432</td>\n",
              "      <td>2.775096</td>\n",
              "      <td>2.818205</td>\n",
              "      <td>2.932193</td>\n",
              "      <td>3.090527</td>\n",
              "      <td>3.408419</td>\n",
              "      <td>3.272729</td>\n",
              "      <td>3.265711</td>\n",
              "      <td>3.349820</td>\n",
              "      <td>3.376663</td>\n",
              "      <td>3.426925</td>\n",
              "    </tr>\n",
              "    <tr>\n",
              "      <th>Latin America &amp; Caribbean</th>\n",
              "      <td>2.984771</td>\n",
              "      <td>2.901770</td>\n",
              "      <td>2.990421</td>\n",
              "      <td>3.029995</td>\n",
              "      <td>3.235734</td>\n",
              "      <td>3.060693</td>\n",
              "      <td>3.144669</td>\n",
              "      <td>2.998688</td>\n",
              "      <td>3.012573</td>\n",
              "      <td>3.077505</td>\n",
              "      <td>3.161939</td>\n",
              "      <td>3.160841</td>\n",
              "      <td>3.255992</td>\n",
              "      <td>3.335194</td>\n",
              "      <td>3.811995</td>\n",
              "      <td>3.638689</td>\n",
              "      <td>3.592872</td>\n",
              "      <td>3.509237</td>\n",
              "      <td>3.619143</td>\n",
              "      <td>3.732313</td>\n",
              "    </tr>\n",
              "    <tr>\n",
              "      <th>Latin America &amp; Caribbean (excluding high income)</th>\n",
              "      <td>2.996165</td>\n",
              "      <td>2.906640</td>\n",
              "      <td>3.008480</td>\n",
              "      <td>3.040838</td>\n",
              "      <td>3.247513</td>\n",
              "      <td>3.059905</td>\n",
              "      <td>3.146715</td>\n",
              "      <td>2.987107</td>\n",
              "      <td>3.037261</td>\n",
              "      <td>3.070576</td>\n",
              "      <td>3.166320</td>\n",
              "      <td>3.167769</td>\n",
              "      <td>3.275389</td>\n",
              "      <td>3.337350</td>\n",
              "      <td>3.804704</td>\n",
              "      <td>3.638582</td>\n",
              "      <td>3.591022</td>\n",
              "      <td>3.496118</td>\n",
              "      <td>3.606971</td>\n",
              "      <td>3.707311</td>\n",
              "    </tr>\n",
              "    <tr>\n",
              "      <th>Latin America &amp; the Caribbean (IDA &amp; IBRD countries)</th>\n",
              "      <td>2.956811</td>\n",
              "      <td>2.877788</td>\n",
              "      <td>2.968040</td>\n",
              "      <td>3.004958</td>\n",
              "      <td>3.205383</td>\n",
              "      <td>3.027071</td>\n",
              "      <td>3.107586</td>\n",
              "      <td>2.949443</td>\n",
              "      <td>2.962836</td>\n",
              "      <td>3.036157</td>\n",
              "      <td>3.075373</td>\n",
              "      <td>3.095616</td>\n",
              "      <td>3.153373</td>\n",
              "      <td>3.239000</td>\n",
              "      <td>3.700609</td>\n",
              "      <td>3.563297</td>\n",
              "      <td>3.516540</td>\n",
              "      <td>3.452394</td>\n",
              "      <td>3.551660</td>\n",
              "      <td>3.731808</td>\n",
              "    </tr>\n",
              "    <tr>\n",
              "      <th>Least developed countries: UN classification</th>\n",
              "      <td>1.525482</td>\n",
              "      <td>1.429737</td>\n",
              "      <td>1.430389</td>\n",
              "      <td>1.471607</td>\n",
              "      <td>1.522392</td>\n",
              "      <td>1.465800</td>\n",
              "      <td>1.689042</td>\n",
              "      <td>1.690471</td>\n",
              "      <td>1.800899</td>\n",
              "      <td>1.881000</td>\n",
              "      <td>1.898899</td>\n",
              "      <td>2.157904</td>\n",
              "      <td>1.913855</td>\n",
              "      <td>2.140700</td>\n",
              "      <td>2.172630</td>\n",
              "      <td>2.198172</td>\n",
              "      <td>2.177007</td>\n",
              "      <td>1.963542</td>\n",
              "      <td>2.031210</td>\n",
              "      <td>1.919877</td>\n",
              "    </tr>\n",
              "    <tr>\n",
              "      <th>Low &amp; middle income</th>\n",
              "      <td>2.401016</td>\n",
              "      <td>2.351840</td>\n",
              "      <td>2.507134</td>\n",
              "      <td>2.465440</td>\n",
              "      <td>2.427531</td>\n",
              "      <td>2.347052</td>\n",
              "      <td>2.376885</td>\n",
              "      <td>2.345133</td>\n",
              "      <td>2.384588</td>\n",
              "      <td>2.407614</td>\n",
              "      <td>2.458114</td>\n",
              "      <td>2.506992</td>\n",
              "      <td>2.605220</td>\n",
              "      <td>2.734476</td>\n",
              "      <td>3.005713</td>\n",
              "      <td>2.869482</td>\n",
              "      <td>2.894132</td>\n",
              "      <td>2.956697</td>\n",
              "      <td>3.013086</td>\n",
              "      <td>3.038318</td>\n",
              "    </tr>\n",
              "    <tr>\n",
              "      <th>Low income</th>\n",
              "      <td>1.530125</td>\n",
              "      <td>1.483896</td>\n",
              "      <td>1.521129</td>\n",
              "      <td>1.657154</td>\n",
              "      <td>1.738222</td>\n",
              "      <td>1.759790</td>\n",
              "      <td>2.034209</td>\n",
              "      <td>2.063322</td>\n",
              "      <td>2.217969</td>\n",
              "      <td>2.328768</td>\n",
              "      <td>2.458481</td>\n",
              "      <td>2.691172</td>\n",
              "      <td>2.317963</td>\n",
              "      <td>2.365497</td>\n",
              "      <td>2.421492</td>\n",
              "      <td>2.642193</td>\n",
              "      <td>2.659364</td>\n",
              "      <td>2.511732</td>\n",
              "      <td>2.394347</td>\n",
              "      <td>2.439106</td>\n",
              "    </tr>\n",
              "    <tr>\n",
              "      <th>Lower middle income</th>\n",
              "      <td>1.382172</td>\n",
              "      <td>1.344573</td>\n",
              "      <td>1.355006</td>\n",
              "      <td>1.431021</td>\n",
              "      <td>1.388854</td>\n",
              "      <td>1.384144</td>\n",
              "      <td>1.428883</td>\n",
              "      <td>1.380571</td>\n",
              "      <td>1.384181</td>\n",
              "      <td>1.400072</td>\n",
              "      <td>1.428082</td>\n",
              "      <td>1.478788</td>\n",
              "      <td>1.521791</td>\n",
              "      <td>1.559231</td>\n",
              "      <td>1.588441</td>\n",
              "      <td>1.513130</td>\n",
              "      <td>1.519120</td>\n",
              "      <td>1.581265</td>\n",
              "      <td>1.639780</td>\n",
              "      <td>1.635833</td>\n",
              "    </tr>\n",
              "    <tr>\n",
              "      <th>Middle East &amp; North Africa</th>\n",
              "      <td>2.423457</td>\n",
              "      <td>2.430438</td>\n",
              "      <td>2.520587</td>\n",
              "      <td>2.585412</td>\n",
              "      <td>2.614487</td>\n",
              "      <td>2.609442</td>\n",
              "      <td>2.869833</td>\n",
              "      <td>2.818406</td>\n",
              "      <td>2.735597</td>\n",
              "      <td>2.572310</td>\n",
              "      <td>2.411220</td>\n",
              "      <td>2.452751</td>\n",
              "      <td>2.439046</td>\n",
              "      <td>2.352177</td>\n",
              "      <td>3.016616</td>\n",
              "      <td>2.714643</td>\n",
              "      <td>2.711285</td>\n",
              "      <td>2.895572</td>\n",
              "      <td>3.067826</td>\n",
              "      <td>3.224936</td>\n",
              "    </tr>\n",
              "    <tr>\n",
              "      <th>Middle East &amp; North Africa (excluding high income)</th>\n",
              "      <td>1.986615</td>\n",
              "      <td>2.000319</td>\n",
              "      <td>2.116533</td>\n",
              "      <td>2.180356</td>\n",
              "      <td>2.073848</td>\n",
              "      <td>2.153540</td>\n",
              "      <td>2.406186</td>\n",
              "      <td>2.452579</td>\n",
              "      <td>2.404325</td>\n",
              "      <td>2.413375</td>\n",
              "      <td>2.277110</td>\n",
              "      <td>2.333169</td>\n",
              "      <td>2.386048</td>\n",
              "      <td>2.484024</td>\n",
              "      <td>2.883656</td>\n",
              "      <td>2.674039</td>\n",
              "      <td>2.666316</td>\n",
              "      <td>2.946036</td>\n",
              "      <td>3.113362</td>\n",
              "      <td>3.195117</td>\n",
              "    </tr>\n",
              "    <tr>\n",
              "      <th>Middle East &amp; North Africa (IDA &amp; IBRD countries)</th>\n",
              "      <td>1.986615</td>\n",
              "      <td>2.000319</td>\n",
              "      <td>2.116533</td>\n",
              "      <td>2.180356</td>\n",
              "      <td>2.073848</td>\n",
              "      <td>2.153540</td>\n",
              "      <td>2.406186</td>\n",
              "      <td>2.452579</td>\n",
              "      <td>2.404325</td>\n",
              "      <td>2.413375</td>\n",
              "      <td>2.277110</td>\n",
              "      <td>2.333169</td>\n",
              "      <td>2.386048</td>\n",
              "      <td>2.484024</td>\n",
              "      <td>2.883656</td>\n",
              "      <td>2.674039</td>\n",
              "      <td>2.666316</td>\n",
              "      <td>2.946036</td>\n",
              "      <td>3.113362</td>\n",
              "      <td>3.195117</td>\n",
              "    </tr>\n",
              "    <tr>\n",
              "      <th>Middle income</th>\n",
              "      <td>2.412679</td>\n",
              "      <td>2.363623</td>\n",
              "      <td>2.520242</td>\n",
              "      <td>2.477042</td>\n",
              "      <td>2.437620</td>\n",
              "      <td>2.356948</td>\n",
              "      <td>2.382039</td>\n",
              "      <td>2.349753</td>\n",
              "      <td>2.387242</td>\n",
              "      <td>2.408815</td>\n",
              "      <td>2.458109</td>\n",
              "      <td>2.504455</td>\n",
              "      <td>2.609021</td>\n",
              "      <td>2.739391</td>\n",
              "      <td>3.014234</td>\n",
              "      <td>2.872383</td>\n",
              "      <td>2.896996</td>\n",
              "      <td>2.962451</td>\n",
              "      <td>3.021265</td>\n",
              "      <td>3.046737</td>\n",
              "    </tr>\n",
              "    <tr>\n",
              "      <th>North America</th>\n",
              "      <td>5.938995</td>\n",
              "      <td>5.907199</td>\n",
              "      <td>5.845014</td>\n",
              "      <td>5.712566</td>\n",
              "      <td>5.645996</td>\n",
              "      <td>5.683423</td>\n",
              "      <td>6.092952</td>\n",
              "      <td>6.429777</td>\n",
              "      <td>6.624291</td>\n",
              "      <td>6.699778</td>\n",
              "      <td>6.722687</td>\n",
              "      <td>6.874372</td>\n",
              "      <td>7.005070</td>\n",
              "      <td>7.338894</td>\n",
              "      <td>8.005832</td>\n",
              "      <td>8.060769</td>\n",
              "      <td>8.033061</td>\n",
              "      <td>8.002663</td>\n",
              "      <td>7.998393</td>\n",
              "      <td>8.197721</td>\n",
              "    </tr>\n",
              "    <tr>\n",
              "      <th>OECD members</th>\n",
              "      <td>5.837047</td>\n",
              "      <td>5.841498</td>\n",
              "      <td>5.787359</td>\n",
              "      <td>5.793233</td>\n",
              "      <td>5.816091</td>\n",
              "      <td>5.809017</td>\n",
              "      <td>6.084878</td>\n",
              "      <td>6.308109</td>\n",
              "      <td>6.476245</td>\n",
              "      <td>6.522931</td>\n",
              "      <td>6.584751</td>\n",
              "      <td>6.646100</td>\n",
              "      <td>6.683972</td>\n",
              "      <td>6.975707</td>\n",
              "      <td>7.653296</td>\n",
              "      <td>7.584523</td>\n",
              "      <td>7.588943</td>\n",
              "      <td>7.608826</td>\n",
              "      <td>7.617928</td>\n",
              "      <td>7.692358</td>\n",
              "    </tr>\n",
              "    <tr>\n",
              "      <th>Other small states</th>\n",
              "      <td>3.116201</td>\n",
              "      <td>3.224323</td>\n",
              "      <td>3.216267</td>\n",
              "      <td>3.450545</td>\n",
              "      <td>3.380267</td>\n",
              "      <td>3.080331</td>\n",
              "      <td>3.159763</td>\n",
              "      <td>3.374505</td>\n",
              "      <td>3.668536</td>\n",
              "      <td>3.488792</td>\n",
              "      <td>3.281081</td>\n",
              "      <td>3.027817</td>\n",
              "      <td>2.968222</td>\n",
              "      <td>2.750198</td>\n",
              "      <td>3.271047</td>\n",
              "      <td>2.934338</td>\n",
              "      <td>2.743224</td>\n",
              "      <td>2.926310</td>\n",
              "      <td>2.991147</td>\n",
              "      <td>2.916464</td>\n",
              "    </tr>\n",
              "    <tr>\n",
              "      <th>Pacific island small states</th>\n",
              "      <td>4.089271</td>\n",
              "      <td>3.644414</td>\n",
              "      <td>3.817141</td>\n",
              "      <td>3.801816</td>\n",
              "      <td>3.794036</td>\n",
              "      <td>4.478111</td>\n",
              "      <td>4.430499</td>\n",
              "      <td>4.327512</td>\n",
              "      <td>4.223172</td>\n",
              "      <td>4.262646</td>\n",
              "      <td>4.517164</td>\n",
              "      <td>4.531308</td>\n",
              "      <td>4.428103</td>\n",
              "      <td>4.253259</td>\n",
              "      <td>4.770018</td>\n",
              "      <td>4.858083</td>\n",
              "      <td>4.239524</td>\n",
              "      <td>4.210439</td>\n",
              "      <td>4.497317</td>\n",
              "      <td>4.576328</td>\n",
              "    </tr>\n",
              "    <tr>\n",
              "      <th>Post-demographic dividend</th>\n",
              "      <td>5.923738</td>\n",
              "      <td>5.937933</td>\n",
              "      <td>5.892329</td>\n",
              "      <td>5.914244</td>\n",
              "      <td>5.932601</td>\n",
              "      <td>5.939921</td>\n",
              "      <td>6.217851</td>\n",
              "      <td>6.445490</td>\n",
              "      <td>6.611676</td>\n",
              "      <td>6.657099</td>\n",
              "      <td>6.744363</td>\n",
              "      <td>6.812282</td>\n",
              "      <td>6.853257</td>\n",
              "      <td>7.145683</td>\n",
              "      <td>7.822251</td>\n",
              "      <td>7.781963</td>\n",
              "      <td>7.795103</td>\n",
              "      <td>7.812070</td>\n",
              "      <td>7.833116</td>\n",
              "      <td>7.914720</td>\n",
              "    </tr>\n",
              "    <tr>\n",
              "      <th>Pre-demographic dividend</th>\n",
              "      <td>1.410677</td>\n",
              "      <td>1.300914</td>\n",
              "      <td>1.347157</td>\n",
              "      <td>1.433273</td>\n",
              "      <td>1.489742</td>\n",
              "      <td>1.405823</td>\n",
              "      <td>1.605339</td>\n",
              "      <td>1.438588</td>\n",
              "      <td>1.609784</td>\n",
              "      <td>2.055880</td>\n",
              "      <td>1.894072</td>\n",
              "      <td>1.910215</td>\n",
              "      <td>1.915209</td>\n",
              "      <td>2.147428</td>\n",
              "      <td>2.256713</td>\n",
              "      <td>1.826936</td>\n",
              "      <td>1.921276</td>\n",
              "      <td>2.018579</td>\n",
              "      <td>2.092089</td>\n",
              "      <td>1.933374</td>\n",
              "    </tr>\n",
              "    <tr>\n",
              "      <th>Small states</th>\n",
              "      <td>3.083442</td>\n",
              "      <td>3.155745</td>\n",
              "      <td>3.185096</td>\n",
              "      <td>3.337761</td>\n",
              "      <td>3.231472</td>\n",
              "      <td>3.053471</td>\n",
              "      <td>3.067515</td>\n",
              "      <td>3.273958</td>\n",
              "      <td>3.467882</td>\n",
              "      <td>3.372045</td>\n",
              "      <td>3.178289</td>\n",
              "      <td>2.985243</td>\n",
              "      <td>2.963612</td>\n",
              "      <td>2.787731</td>\n",
              "      <td>3.320675</td>\n",
              "      <td>3.018925</td>\n",
              "      <td>2.816009</td>\n",
              "      <td>3.001126</td>\n",
              "      <td>3.061103</td>\n",
              "      <td>2.993089</td>\n",
              "    </tr>\n",
              "    <tr>\n",
              "      <th>South Asia</th>\n",
              "      <td>1.035032</td>\n",
              "      <td>0.997990</td>\n",
              "      <td>1.037499</td>\n",
              "      <td>1.070832</td>\n",
              "      <td>1.081228</td>\n",
              "      <td>1.067052</td>\n",
              "      <td>1.042238</td>\n",
              "      <td>1.032538</td>\n",
              "      <td>0.973377</td>\n",
              "      <td>1.018914</td>\n",
              "      <td>1.103442</td>\n",
              "      <td>1.103522</td>\n",
              "      <td>1.090512</td>\n",
              "      <td>1.151606</td>\n",
              "      <td>1.205501</td>\n",
              "      <td>1.181098</td>\n",
              "      <td>1.181153</td>\n",
              "      <td>1.190272</td>\n",
              "      <td>1.282248</td>\n",
              "      <td>1.367899</td>\n",
              "    </tr>\n",
              "    <tr>\n",
              "      <th>South Asia (IDA &amp; IBRD)</th>\n",
              "      <td>1.035032</td>\n",
              "      <td>0.997990</td>\n",
              "      <td>1.037499</td>\n",
              "      <td>1.070832</td>\n",
              "      <td>1.081228</td>\n",
              "      <td>1.067052</td>\n",
              "      <td>1.042238</td>\n",
              "      <td>1.032538</td>\n",
              "      <td>0.973377</td>\n",
              "      <td>1.018914</td>\n",
              "      <td>1.103442</td>\n",
              "      <td>1.103522</td>\n",
              "      <td>1.090512</td>\n",
              "      <td>1.151606</td>\n",
              "      <td>1.205501</td>\n",
              "      <td>1.181098</td>\n",
              "      <td>1.181153</td>\n",
              "      <td>1.190272</td>\n",
              "      <td>1.282248</td>\n",
              "      <td>1.367899</td>\n",
              "    </tr>\n",
              "    <tr>\n",
              "      <th>Sub-Saharan Africa</th>\n",
              "      <td>2.449863</td>\n",
              "      <td>2.516645</td>\n",
              "      <td>2.494454</td>\n",
              "      <td>2.437191</td>\n",
              "      <td>2.374140</td>\n",
              "      <td>2.271764</td>\n",
              "      <td>2.365897</td>\n",
              "      <td>2.179882</td>\n",
              "      <td>2.392891</td>\n",
              "      <td>2.486942</td>\n",
              "      <td>2.485236</td>\n",
              "      <td>2.510834</td>\n",
              "      <td>2.462421</td>\n",
              "      <td>2.512477</td>\n",
              "      <td>2.711077</td>\n",
              "      <td>2.489037</td>\n",
              "      <td>2.624570</td>\n",
              "      <td>2.543530</td>\n",
              "      <td>2.459809</td>\n",
              "      <td>2.314823</td>\n",
              "    </tr>\n",
              "    <tr>\n",
              "      <th>Sub-Saharan Africa (excluding high income)</th>\n",
              "      <td>2.447084</td>\n",
              "      <td>2.513732</td>\n",
              "      <td>2.490668</td>\n",
              "      <td>2.433949</td>\n",
              "      <td>2.370627</td>\n",
              "      <td>2.269188</td>\n",
              "      <td>2.363320</td>\n",
              "      <td>2.177062</td>\n",
              "      <td>2.390205</td>\n",
              "      <td>2.484999</td>\n",
              "      <td>2.483687</td>\n",
              "      <td>2.509610</td>\n",
              "      <td>2.461744</td>\n",
              "      <td>2.512576</td>\n",
              "      <td>2.711330</td>\n",
              "      <td>2.488515</td>\n",
              "      <td>2.624164</td>\n",
              "      <td>2.542636</td>\n",
              "      <td>2.459071</td>\n",
              "      <td>2.314178</td>\n",
              "    </tr>\n",
              "    <tr>\n",
              "      <th>Sub-Saharan Africa (IDA &amp; IBRD countries)</th>\n",
              "      <td>2.449863</td>\n",
              "      <td>2.516645</td>\n",
              "      <td>2.494454</td>\n",
              "      <td>2.437191</td>\n",
              "      <td>2.374140</td>\n",
              "      <td>2.271764</td>\n",
              "      <td>2.365897</td>\n",
              "      <td>2.179882</td>\n",
              "      <td>2.392891</td>\n",
              "      <td>2.486942</td>\n",
              "      <td>2.485236</td>\n",
              "      <td>2.510834</td>\n",
              "      <td>2.462421</td>\n",
              "      <td>2.512477</td>\n",
              "      <td>2.711077</td>\n",
              "      <td>2.489037</td>\n",
              "      <td>2.624570</td>\n",
              "      <td>2.543530</td>\n",
              "      <td>2.459809</td>\n",
              "      <td>2.314823</td>\n",
              "    </tr>\n",
              "    <tr>\n",
              "      <th>Upper middle income</th>\n",
              "      <td>2.719154</td>\n",
              "      <td>2.669179</td>\n",
              "      <td>2.858817</td>\n",
              "      <td>2.755692</td>\n",
              "      <td>2.758388</td>\n",
              "      <td>2.642261</td>\n",
              "      <td>2.661444</td>\n",
              "      <td>2.653640</td>\n",
              "      <td>2.707245</td>\n",
              "      <td>2.713228</td>\n",
              "      <td>2.754574</td>\n",
              "      <td>2.798325</td>\n",
              "      <td>2.916842</td>\n",
              "      <td>3.039130</td>\n",
              "      <td>3.401349</td>\n",
              "      <td>3.258324</td>\n",
              "      <td>3.260523</td>\n",
              "      <td>3.324736</td>\n",
              "      <td>3.375958</td>\n",
              "      <td>3.424687</td>\n",
              "    </tr>\n",
              "    <tr>\n",
              "      <th>World</th>\n",
              "      <td>5.286304</td>\n",
              "      <td>5.246770</td>\n",
              "      <td>5.196803</td>\n",
              "      <td>5.227930</td>\n",
              "      <td>5.274912</td>\n",
              "      <td>5.221119</td>\n",
              "      <td>5.444044</td>\n",
              "      <td>5.633905</td>\n",
              "      <td>5.765420</td>\n",
              "      <td>5.755465</td>\n",
              "      <td>5.733553</td>\n",
              "      <td>5.701873</td>\n",
              "      <td>5.652299</td>\n",
              "      <td>5.782657</td>\n",
              "      <td>6.320948</td>\n",
              "      <td>6.075446</td>\n",
              "      <td>5.982565</td>\n",
              "      <td>5.940788</td>\n",
              "      <td>5.921680</td>\n",
              "      <td>5.994028</td>\n",
              "    </tr>\n",
              "    <tr>\n",
              "      <th>Albania</th>\n",
              "      <td>1.713004</td>\n",
              "      <td>1.746198</td>\n",
              "      <td>2.024509</td>\n",
              "      <td>2.095128</td>\n",
              "      <td>2.510171</td>\n",
              "      <td>2.258418</td>\n",
              "      <td>2.292224</td>\n",
              "      <td>2.256326</td>\n",
              "      <td>2.252104</td>\n",
              "      <td>2.679405</td>\n",
              "      <td>2.706455</td>\n",
              "      <td>2.575136</td>\n",
              "      <td>2.629171</td>\n",
              "      <td>2.693898</td>\n",
              "      <td>2.833576</td>\n",
              "      <td>2.476568</td>\n",
              "      <td>2.849171</td>\n",
              "      <td>2.735704</td>\n",
              "      <td>2.835984</td>\n",
              "      <td>2.936373</td>\n",
              "    </tr>\n",
              "    <tr>\n",
              "      <th>Algeria</th>\n",
              "      <td>2.673594</td>\n",
              "      <td>2.502183</td>\n",
              "      <td>2.553366</td>\n",
              "      <td>2.527980</td>\n",
              "      <td>2.383331</td>\n",
              "      <td>2.558561</td>\n",
              "      <td>2.971717</td>\n",
              "      <td>2.852274</td>\n",
              "      <td>2.802237</td>\n",
              "      <td>2.566248</td>\n",
              "      <td>2.280233</td>\n",
              "      <td>2.334851</td>\n",
              "      <td>2.705571</td>\n",
              "      <td>3.062804</td>\n",
              "      <td>3.837966</td>\n",
              "      <td>3.593209</td>\n",
              "      <td>3.775729</td>\n",
              "      <td>4.520251</td>\n",
              "      <td>5.188359</td>\n",
              "      <td>5.244146</td>\n",
              "    </tr>\n",
              "    <tr>\n",
              "      <th>Andorra</th>\n",
              "      <td>3.982683</td>\n",
              "      <td>4.235647</td>\n",
              "      <td>4.297070</td>\n",
              "      <td>5.737580</td>\n",
              "      <td>3.933466</td>\n",
              "      <td>3.976548</td>\n",
              "      <td>3.979764</td>\n",
              "      <td>4.109589</td>\n",
              "      <td>3.946180</td>\n",
              "      <td>3.916260</td>\n",
              "      <td>3.459709</td>\n",
              "      <td>3.566122</td>\n",
              "      <td>4.586323</td>\n",
              "      <td>4.825071</td>\n",
              "      <td>5.037537</td>\n",
              "      <td>6.242027</td>\n",
              "      <td>4.926289</td>\n",
              "      <td>5.747040</td>\n",
              "      <td>9.692357</td>\n",
              "      <td>6.341446</td>\n",
              "    </tr>\n",
              "    <tr>\n",
              "      <th>Angola</th>\n",
              "      <td>4.659118</td>\n",
              "      <td>1.739782</td>\n",
              "      <td>2.019219</td>\n",
              "      <td>1.414705</td>\n",
              "      <td>2.131798</td>\n",
              "      <td>1.677216</td>\n",
              "      <td>2.812403</td>\n",
              "      <td>1.685218</td>\n",
              "      <td>2.044369</td>\n",
              "      <td>2.407841</td>\n",
              "      <td>2.024646</td>\n",
              "      <td>3.022435</td>\n",
              "      <td>2.213764</td>\n",
              "      <td>2.716334</td>\n",
              "      <td>2.663917</td>\n",
              "      <td>2.061255</td>\n",
              "      <td>2.155094</td>\n",
              "      <td>2.137317</td>\n",
              "      <td>3.080408</td>\n",
              "      <td>2.124912</td>\n",
              "    </tr>\n",
              "    <tr>\n",
              "      <th>Antigua and Barbuda</th>\n",
              "      <td>2.746345</td>\n",
              "      <td>2.505800</td>\n",
              "      <td>2.597403</td>\n",
              "      <td>2.672065</td>\n",
              "      <td>2.744200</td>\n",
              "      <td>2.787805</td>\n",
              "      <td>2.949760</td>\n",
              "      <td>2.950231</td>\n",
              "      <td>2.950013</td>\n",
              "      <td>2.679794</td>\n",
              "      <td>2.950099</td>\n",
              "      <td>2.950106</td>\n",
              "      <td>2.950000</td>\n",
              "      <td>3.343031</td>\n",
              "      <td>3.343900</td>\n",
              "      <td>3.893547</td>\n",
              "      <td>3.891040</td>\n",
              "      <td>3.652333</td>\n",
              "      <td>3.592597</td>\n",
              "      <td>3.784611</td>\n",
              "    </tr>\n",
              "    <tr>\n",
              "      <th>Argentina</th>\n",
              "      <td>4.966443</td>\n",
              "      <td>4.631641</td>\n",
              "      <td>4.553044</td>\n",
              "      <td>4.624212</td>\n",
              "      <td>5.152316</td>\n",
              "      <td>4.965804</td>\n",
              "      <td>5.065934</td>\n",
              "      <td>4.452940</td>\n",
              "      <td>4.251023</td>\n",
              "      <td>3.522397</td>\n",
              "      <td>3.664234</td>\n",
              "      <td>3.654869</td>\n",
              "      <td>3.783075</td>\n",
              "      <td>4.121097</td>\n",
              "      <td>5.040786</td>\n",
              "      <td>4.163482</td>\n",
              "      <td>3.745393</td>\n",
              "      <td>2.958951</td>\n",
              "      <td>2.735022</td>\n",
              "      <td>2.652674</td>\n",
              "    </tr>\n",
              "    <tr>\n",
              "      <th>Armenia</th>\n",
              "      <td>1.996273</td>\n",
              "      <td>1.621148</td>\n",
              "      <td>1.407496</td>\n",
              "      <td>1.644913</td>\n",
              "      <td>1.612415</td>\n",
              "      <td>1.137532</td>\n",
              "      <td>1.591475</td>\n",
              "      <td>1.361332</td>\n",
              "      <td>1.516570</td>\n",
              "      <td>1.404451</td>\n",
              "      <td>1.905053</td>\n",
              "      <td>2.052882</td>\n",
              "      <td>2.099285</td>\n",
              "      <td>1.764770</td>\n",
              "      <td>2.010005</td>\n",
              "      <td>1.922714</td>\n",
              "      <td>1.938904</td>\n",
              "      <td>1.875682</td>\n",
              "      <td>1.946691</td>\n",
              "      <td>1.925676</td>\n",
              "    </tr>\n",
              "    <tr>\n",
              "      <th>Australia</th>\n",
              "      <td>4.775233</td>\n",
              "      <td>4.856308</td>\n",
              "      <td>5.016476</td>\n",
              "      <td>5.084648</td>\n",
              "      <td>5.326927</td>\n",
              "      <td>5.399512</td>\n",
              "      <td>5.420999</td>\n",
              "      <td>5.620660</td>\n",
              "      <td>5.506127</td>\n",
              "      <td>5.724899</td>\n",
              "      <td>5.661448</td>\n",
              "      <td>5.660887</td>\n",
              "      <td>5.765876</td>\n",
              "      <td>5.927631</td>\n",
              "      <td>6.186556</td>\n",
              "      <td>6.127334</td>\n",
              "      <td>6.315378</td>\n",
              "      <td>6.285633</td>\n",
              "      <td>6.274917</td>\n",
              "      <td>6.316593</td>\n",
              "    </tr>\n",
              "    <tr>\n",
              "      <th>Austria</th>\n",
              "      <td>7.137100</td>\n",
              "      <td>7.096257</td>\n",
              "      <td>7.356729</td>\n",
              "      <td>7.478720</td>\n",
              "      <td>7.648252</td>\n",
              "      <td>7.536367</td>\n",
              "      <td>7.503314</td>\n",
              "      <td>7.606508</td>\n",
              "      <td>7.736480</td>\n",
              "      <td>7.791336</td>\n",
              "      <td>7.831419</td>\n",
              "      <td>7.737933</td>\n",
              "      <td>7.775803</td>\n",
              "      <td>7.995857</td>\n",
              "      <td>8.466130</td>\n",
              "      <td>8.400007</td>\n",
              "      <td>8.213675</td>\n",
              "      <td>8.417190</td>\n",
              "      <td>8.370613</td>\n",
              "      <td>8.725026</td>\n",
              "    </tr>\n",
              "    <tr>\n",
              "      <th>Azerbaijan</th>\n",
              "      <td>1.391753</td>\n",
              "      <td>1.485547</td>\n",
              "      <td>1.228626</td>\n",
              "      <td>0.903807</td>\n",
              "      <td>0.985430</td>\n",
              "      <td>0.866893</td>\n",
              "      <td>0.846501</td>\n",
              "      <td>0.791818</td>\n",
              "      <td>0.829678</td>\n",
              "      <td>1.028670</td>\n",
              "      <td>0.880905</td>\n",
              "      <td>0.864184</td>\n",
              "      <td>0.980254</td>\n",
              "      <td>0.824675</td>\n",
              "      <td>1.338970</td>\n",
              "      <td>1.168021</td>\n",
              "      <td>1.080988</td>\n",
              "      <td>1.210597</td>\n",
              "      <td>1.150184</td>\n",
              "      <td>1.230967</td>\n",
              "    </tr>\n",
              "  </tbody>\n",
              "</table>\n",
              "</div>"
            ],
            "text/plain": [
              "                                                        1995      1996  \\\n",
              "Country Name                                                             \n",
              "Arab World                                          2.004868  2.014602   \n",
              "Caribbean small states                              2.801518  2.856684   \n",
              "Central Europe and the Baltics                      4.678528  4.753209   \n",
              "Early-demographic dividend                          2.203164  2.156632   \n",
              "East Asia & Pacific                                 4.429090  4.203152   \n",
              "East Asia & Pacific (excluding high income)         1.615852  1.640251   \n",
              "East Asia & Pacific (IDA & IBRD countries)          1.615852  1.640251   \n",
              "Euro area                                           6.716642  6.819912   \n",
              "Europe & Central Asia                               6.258718  6.339841   \n",
              "Europe & Central Asia (excluding high income)       3.401579  3.407896   \n",
              "Europe & Central Asia (IDA & IBRD countries)        3.537976  3.612691   \n",
              "European Union                                      6.506458  6.584349   \n",
              "Heavily indebted poor countries (HIPC)              1.630563  1.716749   \n",
              "High income                                         5.852819  5.861951   \n",
              "Late-demographic dividend                           2.749846  2.750524   \n",
              "Latin America & Caribbean                           2.984771  2.901770   \n",
              "Latin America & Caribbean (excluding high income)   2.996165  2.906640   \n",
              "Latin America & the Caribbean (IDA & IBRD count...  2.956811  2.877788   \n",
              "Least developed countries: UN classification        1.525482  1.429737   \n",
              "Low & middle income                                 2.401016  2.351840   \n",
              "Low income                                          1.530125  1.483896   \n",
              "Lower middle income                                 1.382172  1.344573   \n",
              "Middle East & North Africa                          2.423457  2.430438   \n",
              "Middle East & North Africa (excluding high income)  1.986615  2.000319   \n",
              "Middle East & North Africa (IDA & IBRD countries)   1.986615  2.000319   \n",
              "Middle income                                       2.412679  2.363623   \n",
              "North America                                       5.938995  5.907199   \n",
              "OECD members                                        5.837047  5.841498   \n",
              "Other small states                                  3.116201  3.224323   \n",
              "Pacific island small states                         4.089271  3.644414   \n",
              "Post-demographic dividend                           5.923738  5.937933   \n",
              "Pre-demographic dividend                            1.410677  1.300914   \n",
              "Small states                                        3.083442  3.155745   \n",
              "South Asia                                          1.035032  0.997990   \n",
              "South Asia (IDA & IBRD)                             1.035032  0.997990   \n",
              "Sub-Saharan Africa                                  2.449863  2.516645   \n",
              "Sub-Saharan Africa (excluding high income)          2.447084  2.513732   \n",
              "Sub-Saharan Africa (IDA & IBRD countries)           2.449863  2.516645   \n",
              "Upper middle income                                 2.719154  2.669179   \n",
              "World                                               5.286304  5.246770   \n",
              "Albania                                             1.713004  1.746198   \n",
              "Algeria                                             2.673594  2.502183   \n",
              "Andorra                                             3.982683  4.235647   \n",
              "Angola                                              4.659118  1.739782   \n",
              "Antigua and Barbuda                                 2.746345  2.505800   \n",
              "Argentina                                           4.966443  4.631641   \n",
              "Armenia                                             1.996273  1.621148   \n",
              "Australia                                           4.775233  4.856308   \n",
              "Austria                                             7.137100  7.096257   \n",
              "Azerbaijan                                          1.391753  1.485547   \n",
              "\n",
              "                                                        1997      1998  \\\n",
              "Country Name                                                             \n",
              "Arab World                                          2.071309  2.177712   \n",
              "Caribbean small states                              2.997157  2.989451   \n",
              "Central Europe and the Baltics                      4.604574  4.499988   \n",
              "Early-demographic dividend                          2.227311  2.364100   \n",
              "East Asia & Pacific                                 4.244351  4.453984   \n",
              "East Asia & Pacific (excluding high income)         1.678322  1.764603   \n",
              "East Asia & Pacific (IDA & IBRD countries)          1.678322  1.764603   \n",
              "Euro area                                           6.775234  6.713452   \n",
              "Europe & Central Asia                               6.249748  6.194955   \n",
              "Europe & Central Asia (excluding high income)       4.035215  3.412752   \n",
              "Europe & Central Asia (IDA & IBRD countries)        4.047882  3.552857   \n",
              "European Union                                      6.447822  6.395838   \n",
              "Heavily indebted poor countries (HIPC)              1.652446  1.771870   \n",
              "High income                                         5.811809  5.837542   \n",
              "Late-demographic dividend                           2.942327  2.795476   \n",
              "Latin America & Caribbean                           2.990421  3.029995   \n",
              "Latin America & Caribbean (excluding high income)   3.008480  3.040838   \n",
              "Latin America & the Caribbean (IDA & IBRD count...  2.968040  3.004958   \n",
              "Least developed countries: UN classification        1.430389  1.471607   \n",
              "Low & middle income                                 2.507134  2.465440   \n",
              "Low income                                          1.521129  1.657154   \n",
              "Lower middle income                                 1.355006  1.431021   \n",
              "Middle East & North Africa                          2.520587  2.585412   \n",
              "Middle East & North Africa (excluding high income)  2.116533  2.180356   \n",
              "Middle East & North Africa (IDA & IBRD countries)   2.116533  2.180356   \n",
              "Middle income                                       2.520242  2.477042   \n",
              "North America                                       5.845014  5.712566   \n",
              "OECD members                                        5.787359  5.793233   \n",
              "Other small states                                  3.216267  3.450545   \n",
              "Pacific island small states                         3.817141  3.801816   \n",
              "Post-demographic dividend                           5.892329  5.914244   \n",
              "Pre-demographic dividend                            1.347157  1.433273   \n",
              "Small states                                        3.185096  3.337761   \n",
              "South Asia                                          1.037499  1.070832   \n",
              "South Asia (IDA & IBRD)                             1.037499  1.070832   \n",
              "Sub-Saharan Africa                                  2.494454  2.437191   \n",
              "Sub-Saharan Africa (excluding high income)          2.490668  2.433949   \n",
              "Sub-Saharan Africa (IDA & IBRD countries)           2.494454  2.437191   \n",
              "Upper middle income                                 2.858817  2.755692   \n",
              "World                                               5.196803  5.227930   \n",
              "Albania                                             2.024509  2.095128   \n",
              "Algeria                                             2.553366  2.527980   \n",
              "Andorra                                             4.297070  5.737580   \n",
              "Angola                                              2.019219  1.414705   \n",
              "Antigua and Barbuda                                 2.597403  2.672065   \n",
              "Argentina                                           4.553044  4.624212   \n",
              "Armenia                                             1.407496  1.644913   \n",
              "Australia                                           5.016476  5.084648   \n",
              "Austria                                             7.356729  7.478720   \n",
              "Azerbaijan                                          1.228626  0.903807   \n",
              "\n",
              "                                                        1999      2000  \\\n",
              "Country Name                                                             \n",
              "Arab World                                          2.331000  2.333596   \n",
              "Caribbean small states                              2.767858  2.826752   \n",
              "Central Europe and the Baltics                      4.679082  4.539711   \n",
              "Early-demographic dividend                          2.454394  2.450555   \n",
              "East Asia & Pacific                                 4.626920  4.688849   \n",
              "East Asia & Pacific (excluding high income)         1.754013  1.689185   \n",
              "East Asia & Pacific (IDA & IBRD countries)          1.754013  1.689185   \n",
              "Euro area                                           6.707802  6.725721   \n",
              "Europe & Central Asia                               6.269453  6.207591   \n",
              "Europe & Central Asia (excluding high income)       3.222938  3.167155   \n",
              "Europe & Central Asia (IDA & IBRD countries)        3.480765  3.385148   \n",
              "European Union                                      6.453924  6.439900   \n",
              "Heavily indebted poor countries (HIPC)              1.834358  1.796370   \n",
              "High income                                         5.859037  5.853669   \n",
              "Late-demographic dividend                           2.721889  2.549560   \n",
              "Latin America & Caribbean                           3.235734  3.060693   \n",
              "Latin America & Caribbean (excluding high income)   3.247513  3.059905   \n",
              "Latin America & the Caribbean (IDA & IBRD count...  3.205383  3.027071   \n",
              "Least developed countries: UN classification        1.522392  1.465800   \n",
              "Low & middle income                                 2.427531  2.347052   \n",
              "Low income                                          1.738222  1.759790   \n",
              "Lower middle income                                 1.388854  1.384144   \n",
              "Middle East & North Africa                          2.614487  2.609442   \n",
              "Middle East & North Africa (excluding high income)  2.073848  2.153540   \n",
              "Middle East & North Africa (IDA & IBRD countries)   2.073848  2.153540   \n",
              "Middle income                                       2.437620  2.356948   \n",
              "North America                                       5.645996  5.683423   \n",
              "OECD members                                        5.816091  5.809017   \n",
              "Other small states                                  3.380267  3.080331   \n",
              "Pacific island small states                         3.794036  4.478111   \n",
              "Post-demographic dividend                           5.932601  5.939921   \n",
              "Pre-demographic dividend                            1.489742  1.405823   \n",
              "Small states                                        3.231472  3.053471   \n",
              "South Asia                                          1.081228  1.067052   \n",
              "South Asia (IDA & IBRD)                             1.081228  1.067052   \n",
              "Sub-Saharan Africa                                  2.374140  2.271764   \n",
              "Sub-Saharan Africa (excluding high income)          2.370627  2.269188   \n",
              "Sub-Saharan Africa (IDA & IBRD countries)           2.374140  2.271764   \n",
              "Upper middle income                                 2.758388  2.642261   \n",
              "World                                               5.274912  5.221119   \n",
              "Albania                                             2.510171  2.258418   \n",
              "Algeria                                             2.383331  2.558561   \n",
              "Andorra                                             3.933466  3.976548   \n",
              "Angola                                              2.131798  1.677216   \n",
              "Antigua and Barbuda                                 2.744200  2.787805   \n",
              "Argentina                                           5.152316  4.965804   \n",
              "Armenia                                             1.612415  1.137532   \n",
              "Australia                                           5.326927  5.399512   \n",
              "Austria                                             7.648252  7.536367   \n",
              "Azerbaijan                                          0.985430  0.866893   \n",
              "\n",
              "                                                        2001      2002  \\\n",
              "Country Name                                                             \n",
              "Arab World                                          2.588751  2.540238   \n",
              "Caribbean small states                              2.679969  2.888693   \n",
              "Central Europe and the Baltics                      4.666272  4.900196   \n",
              "Early-demographic dividend                          2.527081  2.347702   \n",
              "East Asia & Pacific                                 4.684790  4.613537   \n",
              "East Asia & Pacific (excluding high income)         1.626887  1.736856   \n",
              "East Asia & Pacific (IDA & IBRD countries)          1.626887  1.736856   \n",
              "Euro area                                           6.824762  6.970491   \n",
              "Europe & Central Asia                               6.357421  6.543767   \n",
              "Europe & Central Asia (excluding high income)       3.357613  3.605665   \n",
              "Europe & Central Asia (IDA & IBRD countries)        3.605373  3.816964   \n",
              "European Union                                      6.570972  6.747120   \n",
              "Heavily indebted poor countries (HIPC)              2.015091  2.068193   \n",
              "High income                                         6.131479  6.354332   \n",
              "Late-demographic dividend                           2.589519  2.719475   \n",
              "Latin America & Caribbean                           3.144669  2.998688   \n",
              "Latin America & Caribbean (excluding high income)   3.146715  2.987107   \n",
              "Latin America & the Caribbean (IDA & IBRD count...  3.107586  2.949443   \n",
              "Least developed countries: UN classification        1.689042  1.690471   \n",
              "Low & middle income                                 2.376885  2.345133   \n",
              "Low income                                          2.034209  2.063322   \n",
              "Lower middle income                                 1.428883  1.380571   \n",
              "Middle East & North Africa                          2.869833  2.818406   \n",
              "Middle East & North Africa (excluding high income)  2.406186  2.452579   \n",
              "Middle East & North Africa (IDA & IBRD countries)   2.406186  2.452579   \n",
              "Middle income                                       2.382039  2.349753   \n",
              "North America                                       6.092952  6.429777   \n",
              "OECD members                                        6.084878  6.308109   \n",
              "Other small states                                  3.159763  3.374505   \n",
              "Pacific island small states                         4.430499  4.327512   \n",
              "Post-demographic dividend                           6.217851  6.445490   \n",
              "Pre-demographic dividend                            1.605339  1.438588   \n",
              "Small states                                        3.067515  3.273958   \n",
              "South Asia                                          1.042238  1.032538   \n",
              "South Asia (IDA & IBRD)                             1.042238  1.032538   \n",
              "Sub-Saharan Africa                                  2.365897  2.179882   \n",
              "Sub-Saharan Africa (excluding high income)          2.363320  2.177062   \n",
              "Sub-Saharan Africa (IDA & IBRD countries)           2.365897  2.179882   \n",
              "Upper middle income                                 2.661444  2.653640   \n",
              "World                                               5.444044  5.633905   \n",
              "Albania                                             2.292224  2.256326   \n",
              "Algeria                                             2.971717  2.852274   \n",
              "Andorra                                             3.979764  4.109589   \n",
              "Angola                                              2.812403  1.685218   \n",
              "Antigua and Barbuda                                 2.949760  2.950231   \n",
              "Argentina                                           5.065934  4.452940   \n",
              "Armenia                                             1.591475  1.361332   \n",
              "Australia                                           5.420999  5.620660   \n",
              "Austria                                             7.503314  7.606508   \n",
              "Azerbaijan                                          0.846501  0.791818   \n",
              "\n",
              "                                                        2003      2004  \\\n",
              "Country Name                                                             \n",
              "Arab World                                          2.450415  2.314914   \n",
              "Caribbean small states                              2.740593  2.845971   \n",
              "Central Europe and the Baltics                      5.100249  4.913629   \n",
              "Early-demographic dividend                          2.363263  2.346824   \n",
              "East Asia & Pacific                                 4.635098  4.626696   \n",
              "East Asia & Pacific (excluding high income)         1.808637  1.815667   \n",
              "East Asia & Pacific (IDA & IBRD countries)          1.808637  1.815667   \n",
              "Euro area                                           7.100570  7.082379   \n",
              "Europe & Central Asia                               6.680231  6.643570   \n",
              "Europe & Central Asia (excluding high income)       3.621673  3.472982   \n",
              "Europe & Central Asia (IDA & IBRD countries)        3.794325  3.642164   \n",
              "European Union                                      6.899522  6.910964   \n",
              "Heavily indebted poor countries (HIPC)              2.166902  2.216859   \n",
              "High income                                         6.509857  6.545028   \n",
              "Late-demographic dividend                           2.735926  2.744432   \n",
              "Latin America & Caribbean                           3.012573  3.077505   \n",
              "Latin America & Caribbean (excluding high income)   3.037261  3.070576   \n",
              "Latin America & the Caribbean (IDA & IBRD count...  2.962836  3.036157   \n",
              "Least developed countries: UN classification        1.800899  1.881000   \n",
              "Low & middle income                                 2.384588  2.407614   \n",
              "Low income                                          2.217969  2.328768   \n",
              "Lower middle income                                 1.384181  1.400072   \n",
              "Middle East & North Africa                          2.735597  2.572310   \n",
              "Middle East & North Africa (excluding high income)  2.404325  2.413375   \n",
              "Middle East & North Africa (IDA & IBRD countries)   2.404325  2.413375   \n",
              "Middle income                                       2.387242  2.408815   \n",
              "North America                                       6.624291  6.699778   \n",
              "OECD members                                        6.476245  6.522931   \n",
              "Other small states                                  3.668536  3.488792   \n",
              "Pacific island small states                         4.223172  4.262646   \n",
              "Post-demographic dividend                           6.611676  6.657099   \n",
              "Pre-demographic dividend                            1.609784  2.055880   \n",
              "Small states                                        3.467882  3.372045   \n",
              "South Asia                                          0.973377  1.018914   \n",
              "South Asia (IDA & IBRD)                             0.973377  1.018914   \n",
              "Sub-Saharan Africa                                  2.392891  2.486942   \n",
              "Sub-Saharan Africa (excluding high income)          2.390205  2.484999   \n",
              "Sub-Saharan Africa (IDA & IBRD countries)           2.392891  2.486942   \n",
              "Upper middle income                                 2.707245  2.713228   \n",
              "World                                               5.765420  5.755465   \n",
              "Albania                                             2.252104  2.679405   \n",
              "Algeria                                             2.802237  2.566248   \n",
              "Andorra                                             3.946180  3.916260   \n",
              "Angola                                              2.044369  2.407841   \n",
              "Antigua and Barbuda                                 2.950013  2.679794   \n",
              "Argentina                                           4.251023  3.522397   \n",
              "Armenia                                             1.516570  1.404451   \n",
              "Australia                                           5.506127  5.724899   \n",
              "Austria                                             7.736480  7.791336   \n",
              "Azerbaijan                                          0.829678  1.028670   \n",
              "\n",
              "                                                        2005      2006  \\\n",
              "Country Name                                                             \n",
              "Arab World                                          2.134281  2.133038   \n",
              "Caribbean small states                              2.629580  2.650900   \n",
              "Central Europe and the Baltics                      4.970861  4.841450   \n",
              "Early-demographic dividend                          2.337347  2.369884   \n",
              "East Asia & Pacific                                 4.566215  4.367146   \n",
              "East Asia & Pacific (excluding high income)         1.796320  1.875267   \n",
              "East Asia & Pacific (IDA & IBRD countries)          1.796320  1.875267   \n",
              "Euro area                                           7.243411  7.275137   \n",
              "Europe & Central Asia                               6.709228  6.691296   \n",
              "Europe & Central Asia (excluding high income)       3.506736  3.566117   \n",
              "Europe & Central Asia (IDA & IBRD countries)        3.681588  3.721763   \n",
              "European Union                                      7.051119  7.087790   \n",
              "Heavily indebted poor countries (HIPC)              2.345167  2.448883   \n",
              "High income                                         6.604202  6.657365   \n",
              "Late-demographic dividend                           2.775096  2.818205   \n",
              "Latin America & Caribbean                           3.161939  3.160841   \n",
              "Latin America & Caribbean (excluding high income)   3.166320  3.167769   \n",
              "Latin America & the Caribbean (IDA & IBRD count...  3.075373  3.095616   \n",
              "Least developed countries: UN classification        1.898899  2.157904   \n",
              "Low & middle income                                 2.458114  2.506992   \n",
              "Low income                                          2.458481  2.691172   \n",
              "Lower middle income                                 1.428082  1.478788   \n",
              "Middle East & North Africa                          2.411220  2.452751   \n",
              "Middle East & North Africa (excluding high income)  2.277110  2.333169   \n",
              "Middle East & North Africa (IDA & IBRD countries)   2.277110  2.333169   \n",
              "Middle income                                       2.458109  2.504455   \n",
              "North America                                       6.722687  6.874372   \n",
              "OECD members                                        6.584751  6.646100   \n",
              "Other small states                                  3.281081  3.027817   \n",
              "Pacific island small states                         4.517164  4.531308   \n",
              "Post-demographic dividend                           6.744363  6.812282   \n",
              "Pre-demographic dividend                            1.894072  1.910215   \n",
              "Small states                                        3.178289  2.985243   \n",
              "South Asia                                          1.103442  1.103522   \n",
              "South Asia (IDA & IBRD)                             1.103442  1.103522   \n",
              "Sub-Saharan Africa                                  2.485236  2.510834   \n",
              "Sub-Saharan Africa (excluding high income)          2.483687  2.509610   \n",
              "Sub-Saharan Africa (IDA & IBRD countries)           2.485236  2.510834   \n",
              "Upper middle income                                 2.754574  2.798325   \n",
              "World                                               5.733553  5.701873   \n",
              "Albania                                             2.706455  2.575136   \n",
              "Algeria                                             2.280233  2.334851   \n",
              "Andorra                                             3.459709  3.566122   \n",
              "Angola                                              2.024646  3.022435   \n",
              "Antigua and Barbuda                                 2.950099  2.950106   \n",
              "Argentina                                           3.664234  3.654869   \n",
              "Armenia                                             1.905053  2.052882   \n",
              "Australia                                           5.661448  5.660887   \n",
              "Austria                                             7.831419  7.737933   \n",
              "Azerbaijan                                          0.880905  0.864184   \n",
              "\n",
              "                                                        2007      2008  \\\n",
              "Country Name                                                             \n",
              "Arab World                                          2.166872  2.101233   \n",
              "Caribbean small states                              2.790665  2.822913   \n",
              "Central Europe and the Baltics                      4.809057  5.054785   \n",
              "Early-demographic dividend                          2.385251  2.405126   \n",
              "East Asia & Pacific                                 4.297394  4.434848   \n",
              "East Asia & Pacific (excluding high income)         2.076666  2.256214   \n",
              "East Asia & Pacific (IDA & IBRD countries)          2.076666  2.256214   \n",
              "Euro area                                           7.183726  7.419703   \n",
              "Europe & Central Asia                               6.590410  6.775062   \n",
              "Europe & Central Asia (excluding high income)       3.635780  3.735160   \n",
              "Europe & Central Asia (IDA & IBRD countries)        3.798182  3.951118   \n",
              "European Union                                      7.002368  7.256593   \n",
              "Heavily indebted poor countries (HIPC)              2.302462  2.429058   \n",
              "High income                                         6.685403  6.945781   \n",
              "Late-demographic dividend                           2.932193  3.090527   \n",
              "Latin America & Caribbean                           3.255992  3.335194   \n",
              "Latin America & Caribbean (excluding high income)   3.275389  3.337350   \n",
              "Latin America & the Caribbean (IDA & IBRD count...  3.153373  3.239000   \n",
              "Least developed countries: UN classification        1.913855  2.140700   \n",
              "Low & middle income                                 2.605220  2.734476   \n",
              "Low income                                          2.317963  2.365497   \n",
              "Lower middle income                                 1.521791  1.559231   \n",
              "Middle East & North Africa                          2.439046  2.352177   \n",
              "Middle East & North Africa (excluding high income)  2.386048  2.484024   \n",
              "Middle East & North Africa (IDA & IBRD countries)   2.386048  2.484024   \n",
              "Middle income                                       2.609021  2.739391   \n",
              "North America                                       7.005070  7.338894   \n",
              "OECD members                                        6.683972  6.975707   \n",
              "Other small states                                  2.968222  2.750198   \n",
              "Pacific island small states                         4.428103  4.253259   \n",
              "Post-demographic dividend                           6.853257  7.145683   \n",
              "Pre-demographic dividend                            1.915209  2.147428   \n",
              "Small states                                        2.963612  2.787731   \n",
              "South Asia                                          1.090512  1.151606   \n",
              "South Asia (IDA & IBRD)                             1.090512  1.151606   \n",
              "Sub-Saharan Africa                                  2.462421  2.512477   \n",
              "Sub-Saharan Africa (excluding high income)          2.461744  2.512576   \n",
              "Sub-Saharan Africa (IDA & IBRD countries)           2.462421  2.512477   \n",
              "Upper middle income                                 2.916842  3.039130   \n",
              "World                                               5.652299  5.782657   \n",
              "Albania                                             2.629171  2.693898   \n",
              "Algeria                                             2.705571  3.062804   \n",
              "Andorra                                             4.586323  4.825071   \n",
              "Angola                                              2.213764  2.716334   \n",
              "Antigua and Barbuda                                 2.950000  3.343031   \n",
              "Argentina                                           3.783075  4.121097   \n",
              "Armenia                                             2.099285  1.764770   \n",
              "Australia                                           5.765876  5.927631   \n",
              "Austria                                             7.775803  7.995857   \n",
              "Azerbaijan                                          0.980254  0.824675   \n",
              "\n",
              "                                                        2009      2010  \\\n",
              "Country Name                                                             \n",
              "Arab World                                          2.830067  2.489631   \n",
              "Caribbean small states                              3.408651  3.264064   \n",
              "Central Europe and the Baltics                      5.394921  5.284380   \n",
              "Early-demographic dividend                          2.701260  2.507131   \n",
              "East Asia & Pacific                                 4.865241  4.775817   \n",
              "East Asia & Pacific (excluding high income)         2.574994  2.538430   \n",
              "East Asia & Pacific (IDA & IBRD countries)          2.574994  2.538430   \n",
              "Euro area                                           8.060334  7.985295   \n",
              "Europe & Central Asia                               7.489585  7.256678   \n",
              "Europe & Central Asia (excluding high income)       4.218188  3.878113   \n",
              "Europe & Central Asia (IDA & IBRD countries)        4.401010  4.068056   \n",
              "European Union                                      7.936430  7.820469   \n",
              "Heavily indebted poor countries (HIPC)              2.539924  2.712863   \n",
              "High income                                         7.638854  7.562423   \n",
              "Late-demographic dividend                           3.408419  3.272729   \n",
              "Latin America & Caribbean                           3.811995  3.638689   \n",
              "Latin America & Caribbean (excluding high income)   3.804704  3.638582   \n",
              "Latin America & the Caribbean (IDA & IBRD count...  3.700609  3.563297   \n",
              "Least developed countries: UN classification        2.172630  2.198172   \n",
              "Low & middle income                                 3.005713  2.869482   \n",
              "Low income                                          2.421492  2.642193   \n",
              "Lower middle income                                 1.588441  1.513130   \n",
              "Middle East & North Africa                          3.016616  2.714643   \n",
              "Middle East & North Africa (excluding high income)  2.883656  2.674039   \n",
              "Middle East & North Africa (IDA & IBRD countries)   2.883656  2.674039   \n",
              "Middle income                                       3.014234  2.872383   \n",
              "North America                                       8.005832  8.060769   \n",
              "OECD members                                        7.653296  7.584523   \n",
              "Other small states                                  3.271047  2.934338   \n",
              "Pacific island small states                         4.770018  4.858083   \n",
              "Post-demographic dividend                           7.822251  7.781963   \n",
              "Pre-demographic dividend                            2.256713  1.826936   \n",
              "Small states                                        3.320675  3.018925   \n",
              "South Asia                                          1.205501  1.181098   \n",
              "South Asia (IDA & IBRD)                             1.205501  1.181098   \n",
              "Sub-Saharan Africa                                  2.711077  2.489037   \n",
              "Sub-Saharan Africa (excluding high income)          2.711330  2.488515   \n",
              "Sub-Saharan Africa (IDA & IBRD countries)           2.711077  2.489037   \n",
              "Upper middle income                                 3.401349  3.258324   \n",
              "World                                               6.320948  6.075446   \n",
              "Albania                                             2.833576  2.476568   \n",
              "Algeria                                             3.837966  3.593209   \n",
              "Andorra                                             5.037537  6.242027   \n",
              "Angola                                              2.663917  2.061255   \n",
              "Antigua and Barbuda                                 3.343900  3.893547   \n",
              "Argentina                                           5.040786  4.163482   \n",
              "Armenia                                             2.010005  1.922714   \n",
              "Australia                                           6.186556  6.127334   \n",
              "Austria                                             8.466130  8.400007   \n",
              "Azerbaijan                                          1.338970  1.168021   \n",
              "\n",
              "                                                        2011      2012  \\\n",
              "Country Name                                                             \n",
              "Arab World                                          2.539570  2.711262   \n",
              "Caribbean small states                              3.087653  3.314303   \n",
              "Central Europe and the Baltics                      5.096212  5.041317   \n",
              "Early-demographic dividend                          2.495491  2.497340   \n",
              "East Asia & Pacific                                 4.871727  4.866869   \n",
              "East Asia & Pacific (excluding high income)         2.669787  2.811490   \n",
              "East Asia & Pacific (IDA & IBRD countries)          2.669787  2.811490   \n",
              "Euro area                                           7.851060  7.904805   \n",
              "Europe & Central Asia                               7.096764  7.107059   \n",
              "Europe & Central Asia (excluding high income)       3.652835  3.780160   \n",
              "Europe & Central Asia (IDA & IBRD countries)        3.818966  3.901666   \n",
              "European Union                                      7.744258  7.793068   \n",
              "Heavily indebted poor countries (HIPC)              2.661828  2.588668   \n",
              "High income                                         7.546564  7.556055   \n",
              "Late-demographic dividend                           3.265711  3.349820   \n",
              "Latin America & Caribbean                           3.592872  3.509237   \n",
              "Latin America & Caribbean (excluding high income)   3.591022  3.496118   \n",
              "Latin America & the Caribbean (IDA & IBRD count...  3.516540  3.452394   \n",
              "Least developed countries: UN classification        2.177007  1.963542   \n",
              "Low & middle income                                 2.894132  2.956697   \n",
              "Low income                                          2.659364  2.511732   \n",
              "Lower middle income                                 1.519120  1.581265   \n",
              "Middle East & North Africa                          2.711285  2.895572   \n",
              "Middle East & North Africa (excluding high income)  2.666316  2.946036   \n",
              "Middle East & North Africa (IDA & IBRD countries)   2.666316  2.946036   \n",
              "Middle income                                       2.896996  2.962451   \n",
              "North America                                       8.033061  8.002663   \n",
              "OECD members                                        7.588943  7.608826   \n",
              "Other small states                                  2.743224  2.926310   \n",
              "Pacific island small states                         4.239524  4.210439   \n",
              "Post-demographic dividend                           7.795103  7.812070   \n",
              "Pre-demographic dividend                            1.921276  2.018579   \n",
              "Small states                                        2.816009  3.001126   \n",
              "South Asia                                          1.181153  1.190272   \n",
              "South Asia (IDA & IBRD)                             1.181153  1.190272   \n",
              "Sub-Saharan Africa                                  2.624570  2.543530   \n",
              "Sub-Saharan Africa (excluding high income)          2.624164  2.542636   \n",
              "Sub-Saharan Africa (IDA & IBRD countries)           2.624570  2.543530   \n",
              "Upper middle income                                 3.260523  3.324736   \n",
              "World                                               5.982565  5.940788   \n",
              "Albania                                             2.849171  2.735704   \n",
              "Algeria                                             3.775729  4.520251   \n",
              "Andorra                                             4.926289  5.747040   \n",
              "Angola                                              2.155094  2.137317   \n",
              "Antigua and Barbuda                                 3.891040  3.652333   \n",
              "Argentina                                           3.745393  2.958951   \n",
              "Armenia                                             1.938904  1.875682   \n",
              "Australia                                           6.315378  6.285633   \n",
              "Austria                                             8.213675  8.417190   \n",
              "Azerbaijan                                          1.080988  1.210597   \n",
              "\n",
              "                                                        2013      2014  \n",
              "Country Name                                                            \n",
              "Arab World                                          2.895427  3.073161  \n",
              "Caribbean small states                              3.318432  3.260012  \n",
              "Central Europe and the Baltics                      5.029266  5.017717  \n",
              "Early-demographic dividend                          2.586701  2.665603  \n",
              "East Asia & Pacific                                 4.643221  4.571448  \n",
              "East Asia & Pacific (excluding high income)         2.881805  2.975051  \n",
              "East Asia & Pacific (IDA & IBRD countries)          2.881805  2.975051  \n",
              "Euro area                                           7.961558  8.001480  \n",
              "Europe & Central Asia                               7.143519  7.184030  \n",
              "Europe & Central Asia (excluding high income)       3.736002  3.714757  \n",
              "Europe & Central Asia (IDA & IBRD countries)        3.857979  3.846191  \n",
              "European Union                                      7.836954  7.818446  \n",
              "Heavily indebted poor countries (HIPC)              2.580612  2.532969  \n",
              "High income                                         7.573149  7.658651  \n",
              "Late-demographic dividend                           3.376663  3.426925  \n",
              "Latin America & Caribbean                           3.619143  3.732313  \n",
              "Latin America & Caribbean (excluding high income)   3.606971  3.707311  \n",
              "Latin America & the Caribbean (IDA & IBRD count...  3.551660  3.731808  \n",
              "Least developed countries: UN classification        2.031210  1.919877  \n",
              "Low & middle income                                 3.013086  3.038318  \n",
              "Low income                                          2.394347  2.439106  \n",
              "Lower middle income                                 1.639780  1.635833  \n",
              "Middle East & North Africa                          3.067826  3.224936  \n",
              "Middle East & North Africa (excluding high income)  3.113362  3.195117  \n",
              "Middle East & North Africa (IDA & IBRD countries)   3.113362  3.195117  \n",
              "Middle income                                       3.021265  3.046737  \n",
              "North America                                       7.998393  8.197721  \n",
              "OECD members                                        7.617928  7.692358  \n",
              "Other small states                                  2.991147  2.916464  \n",
              "Pacific island small states                         4.497317  4.576328  \n",
              "Post-demographic dividend                           7.833116  7.914720  \n",
              "Pre-demographic dividend                            2.092089  1.933374  \n",
              "Small states                                        3.061103  2.993089  \n",
              "South Asia                                          1.282248  1.367899  \n",
              "South Asia (IDA & IBRD)                             1.282248  1.367899  \n",
              "Sub-Saharan Africa                                  2.459809  2.314823  \n",
              "Sub-Saharan Africa (excluding high income)          2.459071  2.314178  \n",
              "Sub-Saharan Africa (IDA & IBRD countries)           2.459809  2.314823  \n",
              "Upper middle income                                 3.375958  3.424687  \n",
              "World                                               5.921680  5.994028  \n",
              "Albania                                             2.835984  2.936373  \n",
              "Algeria                                             5.188359  5.244146  \n",
              "Andorra                                             9.692357  6.341446  \n",
              "Angola                                              3.080408  2.124912  \n",
              "Antigua and Barbuda                                 3.592597  3.784611  \n",
              "Argentina                                           2.735022  2.652674  \n",
              "Armenia                                             1.946691  1.925676  \n",
              "Australia                                           6.274917  6.316593  \n",
              "Austria                                             8.370613  8.725026  \n",
              "Azerbaijan                                          1.150184  1.230967  "
            ]
          },
          "execution_count": 9,
          "metadata": {},
          "output_type": "execute_result"
        }
      ],
      "source": [
        "data.head(50)"
      ]
    },
    {
      "cell_type": "markdown",
      "metadata": {
        "id": "f26btAg26Fj_"
      },
      "source": [
        "Notice that all the entries towards the top are not countries. There are regions like `Arab World` or category like `Upper middle income`. Let us visualize some regions and then we will only keep countries in this dataset before we begin Clustering."
      ]
    },
    {
      "cell_type": "code",
      "execution_count": 10,
      "metadata": {
        "colab": {
          "base_uri": "https://localhost:8080/",
          "height": 617
        },
        "id": "4e3PRCp1ydUa",
        "outputId": "1fbc6901-bc8f-40d3-f4e9-103f799de780"
      },
      "outputs": [
        {
          "data": {
            "text/plain": [
              "<Axes: >"
            ]
          },
          "execution_count": 10,
          "metadata": {},
          "output_type": "execute_result"
        },
        {
          "data": {
            "image/png": "[encoded data removed]",
            "text/plain": [
              "<Figure size 1200x700 with 1 Axes>"
            ]
          },
          "metadata": {},
          "output_type": "display_data"
        }
      ],
      "source": [
        "# public health as % of GDP for entire world\n",
        "data.loc['World'].plot(figsize=(12,7))"
      ]
    },
    {
      "cell_type": "code",
      "execution_count": 11,
      "metadata": {
        "colab": {
          "base_uri": "https://localhost:8080/",
          "height": 617
        },
        "id": "omoIrqd36d-e",
        "outputId": "0c2558b7-2597-4474-c1bd-cd49626a5fab"
      },
      "outputs": [
        {
          "data": {
            "text/plain": [
              "<Axes: >"
            ]
          },
          "execution_count": 11,
          "metadata": {},
          "output_type": "execute_result"
        },
        {
          "data": {
            "image/png": "[encoded data removed]",
            "text/plain": [
              "<Figure size 1200x700 with 1 Axes>"
            ]
          },
          "metadata": {},
          "output_type": "display_data"
        }
      ],
      "source": [
        "# public health as % of GDP for North America\n",
        "data.loc['North America'].plot(figsize=(12,7))"
      ]
    },
    {
      "cell_type": "code",
      "execution_count": 12,
      "metadata": {
        "colab": {
          "base_uri": "https://localhost:8080/",
          "height": 617
        },
        "id": "UQfKL87-6eCa",
        "outputId": "41887f74-4665-48f5-d4c9-a7f295fba0b7"
      },
      "outputs": [
        {
          "data": {
            "text/plain": [
              "<Axes: >"
            ]
          },
          "execution_count": 12,
          "metadata": {},
          "output_type": "execute_result"
        },
        {
          "data": {
            "image/png": "[encoded data removed]",
            "text/plain": [
              "<Figure size 1200x700 with 1 Axes>"
            ]
          },
          "metadata": {},
          "output_type": "display_data"
        }
      ],
      "source": [
        "# public health as % of GDP for Arab World\n",
        "data.loc['Arab World'].plot(figsize=(12,7))"
      ]
    },
    {
      "cell_type": "code",
      "execution_count": 13,
      "metadata": {
        "colab": {
          "base_uri": "https://localhost:8080/",
          "height": 617
        },
        "id": "wqISStVT6vSl",
        "outputId": "b68dcb7d-0824-40dd-ec36-7fdd0ff52ca5"
      },
      "outputs": [
        {
          "data": {
            "text/plain": [
              "<Axes: >"
            ]
          },
          "execution_count": 13,
          "metadata": {},
          "output_type": "execute_result"
        },
        {
          "data": {
            "image/png": "[encoded data removed]",
            "text/plain": [
              "<Figure size 1200x700 with 1 Axes>"
            ]
          },
          "metadata": {},
          "output_type": "display_data"
        }
      ],
      "source": [
        "# public health as % of GDP for Low Income\n",
        "data.loc['Low income'].plot(figsize=(12,7))"
      ]
    },
    {
      "cell_type": "code",
      "execution_count": 14,
      "metadata": {
        "colab": {
          "base_uri": "https://localhost:8080/",
          "height": 617
        },
        "id": "rV2FlDy56vVX",
        "outputId": "fbd7430a-d049-4dcc-f766-5ada5721037f"
      },
      "outputs": [
        {
          "data": {
            "text/plain": [
              "<Axes: >"
            ]
          },
          "execution_count": 14,
          "metadata": {},
          "output_type": "execute_result"
        },
        {
          "data": {
            "image/png": "[encoded data removed]",
            "text/plain": [
              "<Figure size 1200x700 with 1 Axes>"
            ]
          },
          "metadata": {},
          "output_type": "display_data"
        }
      ],
      "source": [
        "# public health as % of GDP for Lower middle income\n",
        "data.loc['Lower middle income'].plot(figsize=(12,7))"
      ]
    },
    {
      "cell_type": "code",
      "execution_count": 15,
      "metadata": {
        "colab": {
          "base_uri": "https://localhost:8080/",
          "height": 622
        },
        "id": "-iK7x43e6vYM",
        "outputId": "cedc53b4-6f38-42b1-e8b9-061da894ec6f"
      },
      "outputs": [
        {
          "data": {
            "text/plain": [
              "<Axes: >"
            ]
          },
          "execution_count": 15,
          "metadata": {},
          "output_type": "execute_result"
        },
        {
          "data": {
            "image/png": "[encoded data removed]",
            "text/plain": [
              "<Figure size 1200x700 with 1 Axes>"
            ]
          },
          "metadata": {},
          "output_type": "display_data"
        }
      ],
      "source": [
        "# public health as % of GDP for High income\n",
        "data.loc['High income'].plot(figsize=(12,7))"
      ]
    },
    {
      "cell_type": "markdown",
      "metadata": {
        "id": "elITSoM87Eb-"
      },
      "source": [
        "Do you notice any differences? Comment on it."
      ]
    },
    {
      "cell_type": "code",
      "execution_count": 16,
      "metadata": {
        "colab": {
          "base_uri": "https://localhost:8080/",
          "height": 309
        },
        "id": "4lP2QfeF6eEu",
        "outputId": "5e3ac2d6-0df7-474e-ccba-dd05200dca2b"
      },
      "outputs": [
        {
          "data": {
            "text/html": [
              "<div>\n",
              "<style scoped>\n",
              "    .dataframe tbody tr th:only-of-type {\n",
              "        vertical-align: middle;\n",
              "    }\n",
              "\n",
              "    .dataframe tbody tr th {\n",
              "        vertical-align: top;\n",
              "    }\n",
              "\n",
              "    .dataframe thead th {\n",
              "        text-align: right;\n",
              "    }\n",
              "</style>\n",
              "<table border=\"1\" class=\"dataframe\">\n",
              "  <thead>\n",
              "    <tr style=\"text-align: right;\">\n",
              "      <th></th>\n",
              "      <th>1995</th>\n",
              "      <th>1996</th>\n",
              "      <th>1997</th>\n",
              "      <th>1998</th>\n",
              "      <th>1999</th>\n",
              "      <th>2000</th>\n",
              "      <th>2001</th>\n",
              "      <th>2002</th>\n",
              "      <th>2003</th>\n",
              "      <th>2004</th>\n",
              "      <th>2005</th>\n",
              "      <th>2006</th>\n",
              "      <th>2007</th>\n",
              "      <th>2008</th>\n",
              "      <th>2009</th>\n",
              "      <th>2010</th>\n",
              "      <th>2011</th>\n",
              "      <th>2012</th>\n",
              "      <th>2013</th>\n",
              "      <th>2014</th>\n",
              "    </tr>\n",
              "    <tr>\n",
              "      <th>Country Name</th>\n",
              "      <th></th>\n",
              "      <th></th>\n",
              "      <th></th>\n",
              "      <th></th>\n",
              "      <th></th>\n",
              "      <th></th>\n",
              "      <th></th>\n",
              "      <th></th>\n",
              "      <th></th>\n",
              "      <th></th>\n",
              "      <th></th>\n",
              "      <th></th>\n",
              "      <th></th>\n",
              "      <th></th>\n",
              "      <th></th>\n",
              "      <th></th>\n",
              "      <th></th>\n",
              "      <th></th>\n",
              "      <th></th>\n",
              "      <th></th>\n",
              "    </tr>\n",
              "  </thead>\n",
              "  <tbody>\n",
              "    <tr>\n",
              "      <th>Albania</th>\n",
              "      <td>1.713004</td>\n",
              "      <td>1.746198</td>\n",
              "      <td>2.024509</td>\n",
              "      <td>2.095128</td>\n",
              "      <td>2.510171</td>\n",
              "      <td>2.258418</td>\n",
              "      <td>2.292224</td>\n",
              "      <td>2.256326</td>\n",
              "      <td>2.252104</td>\n",
              "      <td>2.679405</td>\n",
              "      <td>2.706455</td>\n",
              "      <td>2.575136</td>\n",
              "      <td>2.629171</td>\n",
              "      <td>2.693898</td>\n",
              "      <td>2.833576</td>\n",
              "      <td>2.476568</td>\n",
              "      <td>2.849171</td>\n",
              "      <td>2.735704</td>\n",
              "      <td>2.835984</td>\n",
              "      <td>2.936373</td>\n",
              "    </tr>\n",
              "    <tr>\n",
              "      <th>Algeria</th>\n",
              "      <td>2.673594</td>\n",
              "      <td>2.502183</td>\n",
              "      <td>2.553366</td>\n",
              "      <td>2.527980</td>\n",
              "      <td>2.383331</td>\n",
              "      <td>2.558561</td>\n",
              "      <td>2.971717</td>\n",
              "      <td>2.852274</td>\n",
              "      <td>2.802237</td>\n",
              "      <td>2.566248</td>\n",
              "      <td>2.280233</td>\n",
              "      <td>2.334851</td>\n",
              "      <td>2.705571</td>\n",
              "      <td>3.062804</td>\n",
              "      <td>3.837966</td>\n",
              "      <td>3.593209</td>\n",
              "      <td>3.775729</td>\n",
              "      <td>4.520251</td>\n",
              "      <td>5.188359</td>\n",
              "      <td>5.244146</td>\n",
              "    </tr>\n",
              "    <tr>\n",
              "      <th>Andorra</th>\n",
              "      <td>3.982683</td>\n",
              "      <td>4.235647</td>\n",
              "      <td>4.297070</td>\n",
              "      <td>5.737580</td>\n",
              "      <td>3.933466</td>\n",
              "      <td>3.976548</td>\n",
              "      <td>3.979764</td>\n",
              "      <td>4.109589</td>\n",
              "      <td>3.946180</td>\n",
              "      <td>3.916260</td>\n",
              "      <td>3.459709</td>\n",
              "      <td>3.566122</td>\n",
              "      <td>4.586323</td>\n",
              "      <td>4.825071</td>\n",
              "      <td>5.037537</td>\n",
              "      <td>6.242027</td>\n",
              "      <td>4.926289</td>\n",
              "      <td>5.747040</td>\n",
              "      <td>9.692357</td>\n",
              "      <td>6.341446</td>\n",
              "    </tr>\n",
              "    <tr>\n",
              "      <th>Angola</th>\n",
              "      <td>4.659118</td>\n",
              "      <td>1.739782</td>\n",
              "      <td>2.019219</td>\n",
              "      <td>1.414705</td>\n",
              "      <td>2.131798</td>\n",
              "      <td>1.677216</td>\n",
              "      <td>2.812403</td>\n",
              "      <td>1.685218</td>\n",
              "      <td>2.044369</td>\n",
              "      <td>2.407841</td>\n",
              "      <td>2.024646</td>\n",
              "      <td>3.022435</td>\n",
              "      <td>2.213764</td>\n",
              "      <td>2.716334</td>\n",
              "      <td>2.663917</td>\n",
              "      <td>2.061255</td>\n",
              "      <td>2.155094</td>\n",
              "      <td>2.137317</td>\n",
              "      <td>3.080408</td>\n",
              "      <td>2.124912</td>\n",
              "    </tr>\n",
              "    <tr>\n",
              "      <th>Antigua and Barbuda</th>\n",
              "      <td>2.746345</td>\n",
              "      <td>2.505800</td>\n",
              "      <td>2.597403</td>\n",
              "      <td>2.672065</td>\n",
              "      <td>2.744200</td>\n",
              "      <td>2.787805</td>\n",
              "      <td>2.949760</td>\n",
              "      <td>2.950231</td>\n",
              "      <td>2.950013</td>\n",
              "      <td>2.679794</td>\n",
              "      <td>2.950099</td>\n",
              "      <td>2.950106</td>\n",
              "      <td>2.950000</td>\n",
              "      <td>3.343031</td>\n",
              "      <td>3.343900</td>\n",
              "      <td>3.893547</td>\n",
              "      <td>3.891040</td>\n",
              "      <td>3.652333</td>\n",
              "      <td>3.592597</td>\n",
              "      <td>3.784611</td>\n",
              "    </tr>\n",
              "  </tbody>\n",
              "</table>\n",
              "</div>"
            ],
            "text/plain": [
              "                         1995      1996      1997      1998      1999  \\\n",
              "Country Name                                                            \n",
              "Albania              1.713004  1.746198  2.024509  2.095128  2.510171   \n",
              "Algeria              2.673594  2.502183  2.553366  2.527980  2.383331   \n",
              "Andorra              3.982683  4.235647  4.297070  5.737580  3.933466   \n",
              "Angola               4.659118  1.739782  2.019219  1.414705  2.131798   \n",
              "Antigua and Barbuda  2.746345  2.505800  2.597403  2.672065  2.744200   \n",
              "\n",
              "                         2000      2001      2002      2003      2004  \\\n",
              "Country Name                                                            \n",
              "Albania              2.258418  2.292224  2.256326  2.252104  2.679405   \n",
              "Algeria              2.558561  2.971717  2.852274  2.802237  2.566248   \n",
              "Andorra              3.976548  3.979764  4.109589  3.946180  3.916260   \n",
              "Angola               1.677216  2.812403  1.685218  2.044369  2.407841   \n",
              "Antigua and Barbuda  2.787805  2.949760  2.950231  2.950013  2.679794   \n",
              "\n",
              "                         2005      2006      2007      2008      2009  \\\n",
              "Country Name                                                            \n",
              "Albania              2.706455  2.575136  2.629171  2.693898  2.833576   \n",
              "Algeria              2.280233  2.334851  2.705571  3.062804  3.837966   \n",
              "Andorra              3.459709  3.566122  4.586323  4.825071  5.037537   \n",
              "Angola               2.024646  3.022435  2.213764  2.716334  2.663917   \n",
              "Antigua and Barbuda  2.950099  2.950106  2.950000  3.343031  3.343900   \n",
              "\n",
              "                         2010      2011      2012      2013      2014  \n",
              "Country Name                                                           \n",
              "Albania              2.476568  2.849171  2.735704  2.835984  2.936373  \n",
              "Algeria              3.593209  3.775729  4.520251  5.188359  5.244146  \n",
              "Andorra              6.242027  4.926289  5.747040  9.692357  6.341446  \n",
              "Angola               2.061255  2.155094  2.137317  3.080408  2.124912  \n",
              "Antigua and Barbuda  3.893547  3.891040  3.652333  3.592597  3.784611  "
            ]
          },
          "execution_count": 16,
          "metadata": {},
          "output_type": "execute_result"
        }
      ],
      "source": [
        "# remove the first 40 rows as they contain regions or categories.\n",
        "# we will only work countries now.\n",
        "data = data.iloc[40:]\n",
        "data.head()"
      ]
    },
    {
      "cell_type": "code",
      "execution_count": 17,
      "metadata": {
        "colab": {
          "base_uri": "https://localhost:8080/"
        },
        "id": "9YFnuLSz7IJl",
        "outputId": "4d9b6087-14d1-435b-b2fc-c936340ff75e"
      },
      "outputs": [
        {
          "data": {
            "text/plain": [
              "(184, 20)"
            ]
          },
          "execution_count": 17,
          "metadata": {},
          "output_type": "execute_result"
        }
      ],
      "source": [
        "# notice the difference between shape now vs. previously on raw data.\n",
        "data.shape"
      ]
    },
    {
      "cell_type": "markdown",
      "metadata": {
        "id": "ZvVfKkHs7tep"
      },
      "source": [
        "# Modeling"
      ]
    },
    {
      "cell_type": "code",
      "execution_count": 18,
      "metadata": {
        "colab": {
          "base_uri": "https://localhost:8080/",
          "height": 307
        },
        "id": "q-B690SK8Htw",
        "outputId": "9c4c43f4-bba3-44c2-b8dd-c1142ec21eed"
      },
      "outputs": [
        {
          "data": {
            "text/html": [
              "<div>\n",
              "<style scoped>\n",
              "    .dataframe tbody tr th:only-of-type {\n",
              "        vertical-align: middle;\n",
              "    }\n",
              "\n",
              "    .dataframe tbody tr th {\n",
              "        vertical-align: top;\n",
              "    }\n",
              "\n",
              "    .dataframe thead th {\n",
              "        text-align: right;\n",
              "    }\n",
              "</style>\n",
              "<table border=\"1\" class=\"dataframe\">\n",
              "  <thead>\n",
              "    <tr style=\"text-align: right;\">\n",
              "      <th></th>\n",
              "      <th>Country Name</th>\n",
              "      <th>1995</th>\n",
              "      <th>1996</th>\n",
              "      <th>1997</th>\n",
              "      <th>1998</th>\n",
              "      <th>1999</th>\n",
              "      <th>2000</th>\n",
              "      <th>2001</th>\n",
              "      <th>2002</th>\n",
              "      <th>2003</th>\n",
              "      <th>...</th>\n",
              "      <th>2005</th>\n",
              "      <th>2006</th>\n",
              "      <th>2007</th>\n",
              "      <th>2008</th>\n",
              "      <th>2009</th>\n",
              "      <th>2010</th>\n",
              "      <th>2011</th>\n",
              "      <th>2012</th>\n",
              "      <th>2013</th>\n",
              "      <th>2014</th>\n",
              "    </tr>\n",
              "  </thead>\n",
              "  <tbody>\n",
              "    <tr>\n",
              "      <th>0</th>\n",
              "      <td>Albania</td>\n",
              "      <td>1.713004</td>\n",
              "      <td>1.746198</td>\n",
              "      <td>2.024509</td>\n",
              "      <td>2.095128</td>\n",
              "      <td>2.510171</td>\n",
              "      <td>2.258418</td>\n",
              "      <td>2.292224</td>\n",
              "      <td>2.256326</td>\n",
              "      <td>2.252104</td>\n",
              "      <td>...</td>\n",
              "      <td>2.706455</td>\n",
              "      <td>2.575136</td>\n",
              "      <td>2.629171</td>\n",
              "      <td>2.693898</td>\n",
              "      <td>2.833576</td>\n",
              "      <td>2.476568</td>\n",
              "      <td>2.849171</td>\n",
              "      <td>2.735704</td>\n",
              "      <td>2.835984</td>\n",
              "      <td>2.936373</td>\n",
              "    </tr>\n",
              "    <tr>\n",
              "      <th>1</th>\n",
              "      <td>Algeria</td>\n",
              "      <td>2.673594</td>\n",
              "      <td>2.502183</td>\n",
              "      <td>2.553366</td>\n",
              "      <td>2.527980</td>\n",
              "      <td>2.383331</td>\n",
              "      <td>2.558561</td>\n",
              "      <td>2.971717</td>\n",
              "      <td>2.852274</td>\n",
              "      <td>2.802237</td>\n",
              "      <td>...</td>\n",
              "      <td>2.280233</td>\n",
              "      <td>2.334851</td>\n",
              "      <td>2.705571</td>\n",
              "      <td>3.062804</td>\n",
              "      <td>3.837966</td>\n",
              "      <td>3.593209</td>\n",
              "      <td>3.775729</td>\n",
              "      <td>4.520251</td>\n",
              "      <td>5.188359</td>\n",
              "      <td>5.244146</td>\n",
              "    </tr>\n",
              "    <tr>\n",
              "      <th>2</th>\n",
              "      <td>Andorra</td>\n",
              "      <td>3.982683</td>\n",
              "      <td>4.235647</td>\n",
              "      <td>4.297070</td>\n",
              "      <td>5.737580</td>\n",
              "      <td>3.933466</td>\n",
              "      <td>3.976548</td>\n",
              "      <td>3.979764</td>\n",
              "      <td>4.109589</td>\n",
              "      <td>3.946180</td>\n",
              "      <td>...</td>\n",
              "      <td>3.459709</td>\n",
              "      <td>3.566122</td>\n",
              "      <td>4.586323</td>\n",
              "      <td>4.825071</td>\n",
              "      <td>5.037537</td>\n",
              "      <td>6.242027</td>\n",
              "      <td>4.926289</td>\n",
              "      <td>5.747040</td>\n",
              "      <td>9.692357</td>\n",
              "      <td>6.341446</td>\n",
              "    </tr>\n",
              "    <tr>\n",
              "      <th>3</th>\n",
              "      <td>Angola</td>\n",
              "      <td>4.659118</td>\n",
              "      <td>1.739782</td>\n",
              "      <td>2.019219</td>\n",
              "      <td>1.414705</td>\n",
              "      <td>2.131798</td>\n",
              "      <td>1.677216</td>\n",
              "      <td>2.812403</td>\n",
              "      <td>1.685218</td>\n",
              "      <td>2.044369</td>\n",
              "      <td>...</td>\n",
              "      <td>2.024646</td>\n",
              "      <td>3.022435</td>\n",
              "      <td>2.213764</td>\n",
              "      <td>2.716334</td>\n",
              "      <td>2.663917</td>\n",
              "      <td>2.061255</td>\n",
              "      <td>2.155094</td>\n",
              "      <td>2.137317</td>\n",
              "      <td>3.080408</td>\n",
              "      <td>2.124912</td>\n",
              "    </tr>\n",
              "    <tr>\n",
              "      <th>4</th>\n",
              "      <td>Antigua and Barbuda</td>\n",
              "      <td>2.746345</td>\n",
              "      <td>2.505800</td>\n",
              "      <td>2.597403</td>\n",
              "      <td>2.672065</td>\n",
              "      <td>2.744200</td>\n",
              "      <td>2.787805</td>\n",
              "      <td>2.949760</td>\n",
              "      <td>2.950231</td>\n",
              "      <td>2.950013</td>\n",
              "      <td>...</td>\n",
              "      <td>2.950099</td>\n",
              "      <td>2.950106</td>\n",
              "      <td>2.950000</td>\n",
              "      <td>3.343031</td>\n",
              "      <td>3.343900</td>\n",
              "      <td>3.893547</td>\n",
              "      <td>3.891040</td>\n",
              "      <td>3.652333</td>\n",
              "      <td>3.592597</td>\n",
              "      <td>3.784611</td>\n",
              "    </tr>\n",
              "  </tbody>\n",
              "</table>\n",
              "<p>5 rows × 21 columns</p>\n",
              "</div>"
            ],
            "text/plain": [
              "          Country Name      1995      1996      1997      1998      1999  \\\n",
              "0              Albania  1.713004  1.746198  2.024509  2.095128  2.510171   \n",
              "1              Algeria  2.673594  2.502183  2.553366  2.527980  2.383331   \n",
              "2              Andorra  3.982683  4.235647  4.297070  5.737580  3.933466   \n",
              "3               Angola  4.659118  1.739782  2.019219  1.414705  2.131798   \n",
              "4  Antigua and Barbuda  2.746345  2.505800  2.597403  2.672065  2.744200   \n",
              "\n",
              "       2000      2001      2002      2003  ...      2005      2006      2007  \\\n",
              "0  2.258418  2.292224  2.256326  2.252104  ...  2.706455  2.575136  2.629171   \n",
              "1  2.558561  2.971717  2.852274  2.802237  ...  2.280233  2.334851  2.705571   \n",
              "2  3.976548  3.979764  4.109589  3.946180  ...  3.459709  3.566122  4.586323   \n",
              "3  1.677216  2.812403  1.685218  2.044369  ...  2.024646  3.022435  2.213764   \n",
              "4  2.787805  2.949760  2.950231  2.950013  ...  2.950099  2.950106  2.950000   \n",
              "\n",
              "       2008      2009      2010      2011      2012      2013      2014  \n",
              "0  2.693898  2.833576  2.476568  2.849171  2.735704  2.835984  2.936373  \n",
              "1  3.062804  3.837966  3.593209  3.775729  4.520251  5.188359  5.244146  \n",
              "2  4.825071  5.037537  6.242027  4.926289  5.747040  9.692357  6.341446  \n",
              "3  2.716334  2.663917  2.061255  2.155094  2.137317  3.080408  2.124912  \n",
              "4  3.343031  3.343900  3.893547  3.891040  3.652333  3.592597  3.784611  \n",
              "\n",
              "[5 rows x 21 columns]"
            ]
          },
          "execution_count": 18,
          "metadata": {},
          "output_type": "execute_result"
        }
      ],
      "source": [
        "# reseting index of data\n",
        "data.reset_index(inplace=True)\n",
        "data.head()"
      ]
    },
    {
      "cell_type": "code",
      "execution_count": 19,
      "metadata": {
        "colab": {
          "base_uri": "https://localhost:8080/",
          "height": 488
        },
        "id": "FApJ7rNHzZNn",
        "outputId": "fcd93fd9-7348-4c6a-a724-74455b8f07f8"
      },
      "outputs": [
        {
          "data": {
            "text/html": [
              "<style type=\"text/css\">\n",
              "#T_19ec0_row5_col1 {\n",
              "  background-color: lightgreen;\n",
              "}\n",
              "</style>\n",
              "<table id=\"T_19ec0\">\n",
              "  <thead>\n",
              "    <tr>\n",
              "      <th class=\"blank level0\" >&nbsp;</th>\n",
              "      <th id=\"T_19ec0_level0_col0\" class=\"col_heading level0 col0\" >Description</th>\n",
              "      <th id=\"T_19ec0_level0_col1\" class=\"col_heading level0 col1\" >Value</th>\n",
              "    </tr>\n",
              "  </thead>\n",
              "  <tbody>\n",
              "    <tr>\n",
              "      <th id=\"T_19ec0_level0_row0\" class=\"row_heading level0 row0\" >0</th>\n",
              "      <td id=\"T_19ec0_row0_col0\" class=\"data row0 col0\" >Session id</td>\n",
              "      <td id=\"T_19ec0_row0_col1\" class=\"data row0 col1\" >123</td>\n",
              "    </tr>\n",
              "    <tr>\n",
              "      <th id=\"T_19ec0_level0_row1\" class=\"row_heading level0 row1\" >1</th>\n",
              "      <td id=\"T_19ec0_row1_col0\" class=\"data row1 col0\" >Original data shape</td>\n",
              "      <td id=\"T_19ec0_row1_col1\" class=\"data row1 col1\" >(184, 21)</td>\n",
              "    </tr>\n",
              "    <tr>\n",
              "      <th id=\"T_19ec0_level0_row2\" class=\"row_heading level0 row2\" >2</th>\n",
              "      <td id=\"T_19ec0_row2_col0\" class=\"data row2 col0\" >Transformed data shape</td>\n",
              "      <td id=\"T_19ec0_row2_col1\" class=\"data row2 col1\" >(184, 20)</td>\n",
              "    </tr>\n",
              "    <tr>\n",
              "      <th id=\"T_19ec0_level0_row3\" class=\"row_heading level0 row3\" >3</th>\n",
              "      <td id=\"T_19ec0_row3_col0\" class=\"data row3 col0\" >Ignore features</td>\n",
              "      <td id=\"T_19ec0_row3_col1\" class=\"data row3 col1\" >1</td>\n",
              "    </tr>\n",
              "    <tr>\n",
              "      <th id=\"T_19ec0_level0_row4\" class=\"row_heading level0 row4\" >4</th>\n",
              "      <td id=\"T_19ec0_row4_col0\" class=\"data row4 col0\" >Numeric features</td>\n",
              "      <td id=\"T_19ec0_row4_col1\" class=\"data row4 col1\" >20</td>\n",
              "    </tr>\n",
              "    <tr>\n",
              "      <th id=\"T_19ec0_level0_row5\" class=\"row_heading level0 row5\" >5</th>\n",
              "      <td id=\"T_19ec0_row5_col0\" class=\"data row5 col0\" >Preprocess</td>\n",
              "      <td id=\"T_19ec0_row5_col1\" class=\"data row5 col1\" >True</td>\n",
              "    </tr>\n",
              "    <tr>\n",
              "      <th id=\"T_19ec0_level0_row6\" class=\"row_heading level0 row6\" >6</th>\n",
              "      <td id=\"T_19ec0_row6_col0\" class=\"data row6 col0\" >Imputation type</td>\n",
              "      <td id=\"T_19ec0_row6_col1\" class=\"data row6 col1\" >simple</td>\n",
              "    </tr>\n",
              "    <tr>\n",
              "      <th id=\"T_19ec0_level0_row7\" class=\"row_heading level0 row7\" >7</th>\n",
              "      <td id=\"T_19ec0_row7_col0\" class=\"data row7 col0\" >Numeric imputation</td>\n",
              "      <td id=\"T_19ec0_row7_col1\" class=\"data row7 col1\" >mean</td>\n",
              "    </tr>\n",
              "    <tr>\n",
              "      <th id=\"T_19ec0_level0_row8\" class=\"row_heading level0 row8\" >8</th>\n",
              "      <td id=\"T_19ec0_row8_col0\" class=\"data row8 col0\" >Categorical imputation</td>\n",
              "      <td id=\"T_19ec0_row8_col1\" class=\"data row8 col1\" >mode</td>\n",
              "    </tr>\n",
              "    <tr>\n",
              "      <th id=\"T_19ec0_level0_row9\" class=\"row_heading level0 row9\" >9</th>\n",
              "      <td id=\"T_19ec0_row9_col0\" class=\"data row9 col0\" >CPU Jobs</td>\n",
              "      <td id=\"T_19ec0_row9_col1\" class=\"data row9 col1\" >-1</td>\n",
              "    </tr>\n",
              "    <tr>\n",
              "      <th id=\"T_19ec0_level0_row10\" class=\"row_heading level0 row10\" >10</th>\n",
              "      <td id=\"T_19ec0_row10_col0\" class=\"data row10 col0\" >Use GPU</td>\n",
              "      <td id=\"T_19ec0_row10_col1\" class=\"data row10 col1\" >False</td>\n",
              "    </tr>\n",
              "    <tr>\n",
              "      <th id=\"T_19ec0_level0_row11\" class=\"row_heading level0 row11\" >11</th>\n",
              "      <td id=\"T_19ec0_row11_col0\" class=\"data row11 col0\" >Log Experiment</td>\n",
              "      <td id=\"T_19ec0_row11_col1\" class=\"data row11 col1\" >False</td>\n",
              "    </tr>\n",
              "    <tr>\n",
              "      <th id=\"T_19ec0_level0_row12\" class=\"row_heading level0 row12\" >12</th>\n",
              "      <td id=\"T_19ec0_row12_col0\" class=\"data row12 col0\" >Experiment Name</td>\n",
              "      <td id=\"T_19ec0_row12_col1\" class=\"data row12 col1\" >cluster-default-name</td>\n",
              "    </tr>\n",
              "    <tr>\n",
              "      <th id=\"T_19ec0_level0_row13\" class=\"row_heading level0 row13\" >13</th>\n",
              "      <td id=\"T_19ec0_row13_col0\" class=\"data row13 col0\" >USI</td>\n",
              "      <td id=\"T_19ec0_row13_col1\" class=\"data row13 col1\" >f047</td>\n",
              "    </tr>\n",
              "  </tbody>\n",
              "</table>\n"
            ],
            "text/plain": [
              "<pandas.io.formats.style.Styler at 0x293e378e910>"
            ]
          },
          "metadata": {},
          "output_type": "display_data"
        }
      ],
      "source": [
        "from pycaret.clustering import *\n",
        "s = setup(data, ignore_features = ['Country Name'], session_id = 123)"
      ]
    },
    {
      "cell_type": "code",
      "execution_count": 20,
      "metadata": {
        "colab": {
          "base_uri": "https://localhost:8080/",
          "height": 81,
          "referenced_widgets": [
            "b180379d8037426e8123f951382bca55",
            "aabb0e0212c245babb928bd35b733d73",
            "33460209e56640b7b372fedd04be1c30",
            "f25ab9b15fea42f9ae505f0d3fc9f1e5",
            "ebf8fd7ce4394510be1495a5c20c5278",
            "753003b0e7b5471da12222dfc5ce6b30",
            "a4a1e49c96b145b2aa0daa2f2330348a",
            "a99b44674f404284a65b5ba60d96c5ad",
            "9dfe95f9c4ef4cbca17fb0e6784c8987",
            "71f5398b3de74b829ec7ca7caf2b9b9f",
            "ab4f91d821974b7191b8d412f4475bdf"
          ]
        },
        "id": "m-PuKTDa7nfo",
        "outputId": "f6e62698-8344-40bb-d1a4-fe81580a48b2"
      },
      "outputs": [
        {
          "data": {
            "text/html": [],
            "text/plain": [
              "<IPython.core.display.HTML object>"
            ]
          },
          "metadata": {},
          "output_type": "display_data"
        },
        {
          "data": {
            "text/html": [
              "<style type=\"text/css\">\n",
              "</style>\n",
              "<table id=\"T_bd045\">\n",
              "  <thead>\n",
              "    <tr>\n",
              "      <th class=\"blank level0\" >&nbsp;</th>\n",
              "      <th id=\"T_bd045_level0_col0\" class=\"col_heading level0 col0\" >Silhouette</th>\n",
              "      <th id=\"T_bd045_level0_col1\" class=\"col_heading level0 col1\" >Calinski-Harabasz</th>\n",
              "      <th id=\"T_bd045_level0_col2\" class=\"col_heading level0 col2\" >Davies-Bouldin</th>\n",
              "      <th id=\"T_bd045_level0_col3\" class=\"col_heading level0 col3\" >Homogeneity</th>\n",
              "      <th id=\"T_bd045_level0_col4\" class=\"col_heading level0 col4\" >Rand Index</th>\n",
              "      <th id=\"T_bd045_level0_col5\" class=\"col_heading level0 col5\" >Completeness</th>\n",
              "    </tr>\n",
              "  </thead>\n",
              "  <tbody>\n",
              "    <tr>\n",
              "      <th id=\"T_bd045_level0_row0\" class=\"row_heading level0 row0\" >0</th>\n",
              "      <td id=\"T_bd045_row0_col0\" class=\"data row0 col0\" >0.4348</td>\n",
              "      <td id=\"T_bd045_row0_col1\" class=\"data row0 col1\" >253.5978</td>\n",
              "      <td id=\"T_bd045_row0_col2\" class=\"data row0 col2\" >0.7596</td>\n",
              "      <td id=\"T_bd045_row0_col3\" class=\"data row0 col3\" >0</td>\n",
              "      <td id=\"T_bd045_row0_col4\" class=\"data row0 col4\" >0</td>\n",
              "      <td id=\"T_bd045_row0_col5\" class=\"data row0 col5\" >0</td>\n",
              "    </tr>\n",
              "  </tbody>\n",
              "</table>\n"
            ],
            "text/plain": [
              "<pandas.io.formats.style.Styler at 0x293f950eb10>"
            ]
          },
          "metadata": {},
          "output_type": "display_data"
        },
        {
          "data": {
            "text/html": [],
            "text/plain": [
              "<IPython.core.display.HTML object>"
            ]
          },
          "metadata": {},
          "output_type": "display_data"
        }
      ],
      "source": [
        "kmeans = create_model('kmeans', num_clusters = 4)"
      ]
    },
    {
      "cell_type": "markdown",
      "metadata": {
        "id": "rIlSQX1z73gb"
      },
      "source": [
        "# Model Analysis"
      ]
    },
    {
      "cell_type": "code",
      "execution_count": 21,
      "metadata": {
        "colab": {
          "base_uri": "https://localhost:8080/",
          "height": 617
        },
        "id": "Cc6Hezdr7270",
        "outputId": "df538015-97f3-4fd7-cb6c-8e2726487d3e"
      },
      "outputs": [
        {
          "data": {
            "text/html": [],
            "text/plain": [
              "<IPython.core.display.HTML object>"
            ]
          },
          "metadata": {},
          "output_type": "display_data"
        },
        {
          "data": {
            "application/vnd.plotly.v1+json": {
              "config": {
                "plotlyServerURL": "https://plot.ly"
              },
              "data": [
                {
                  "customdata": [
                    [
                      "Lebanon"
                    ],
                    [
                      "Papua New Guinea"
                    ],
                    [
                      "Poland"
                    ],
                    [
                      "Romania"
                    ],
                    [
                      "Russian Federation"
                    ],
                    [
                      "Estonia"
                    ],
                    [
                      "Samoa"
                    ],
                    [
                      "San Marino"
                    ],
                    [
                      "El Salvador"
                    ],
                    [
                      "Sao Tome and Principe"
                    ],
                    [
                      "Macedonia, FYR"
                    ],
                    [
                      "Dominica"
                    ],
                    [
                      "Djibouti"
                    ],
                    [
                      "Serbia"
                    ],
                    [
                      "Seychelles"
                    ],
                    [
                      "Slovak Republic"
                    ],
                    [
                      "Greece"
                    ],
                    [
                      "Solomon Islands"
                    ],
                    [
                      "Panama"
                    ],
                    [
                      "Honduras"
                    ],
                    [
                      "Lithuania"
                    ],
                    [
                      "Maldives"
                    ],
                    [
                      "Lesotho"
                    ],
                    [
                      "Latvia"
                    ],
                    [
                      "Malta"
                    ],
                    [
                      "Moldova"
                    ],
                    [
                      "Monaco"
                    ],
                    [
                      "Jordan"
                    ],
                    [
                      "Montenegro"
                    ],
                    [
                      "Mozambique"
                    ],
                    [
                      "Israel"
                    ],
                    [
                      "Ireland"
                    ],
                    [
                      "Namibia"
                    ],
                    [
                      "Nicaragua"
                    ],
                    [
                      "Hungary"
                    ],
                    [
                      "Guyana"
                    ],
                    [
                      "South Africa"
                    ],
                    [
                      "Malawi"
                    ],
                    [
                      "Tonga"
                    ],
                    [
                      "Belarus"
                    ],
                    [
                      "Turkey"
                    ],
                    [
                      "Tunisia"
                    ],
                    [
                      "Ukraine"
                    ],
                    [
                      "Uruguay"
                    ],
                    [
                      "Bhutan"
                    ],
                    [
                      "Bolivia"
                    ],
                    [
                      "Bosnia and Herzegovina"
                    ],
                    [
                      "Botswana"
                    ],
                    [
                      "Brazil"
                    ],
                    [
                      "Bulgaria"
                    ],
                    [
                      "Thailand"
                    ],
                    [
                      "Barbados"
                    ],
                    [
                      "Argentina"
                    ],
                    [
                      "St. Lucia"
                    ],
                    [
                      "Colombia"
                    ],
                    [
                      "St. Vincent and the Grenadines"
                    ],
                    [
                      "Algeria"
                    ],
                    [
                      "Andorra"
                    ],
                    [
                      "Suriname"
                    ],
                    [
                      "Cabo Verde"
                    ],
                    [
                      "Swaziland"
                    ]
                  ],
                  "hovertemplate": "Cluster=Cluster 0<br>PCA1=%{x}<br>PCA2=%{y}<br>Feature=%{customdata[0]}<extra></extra>",
                  "legendgroup": "Cluster 0",
                  "marker": {
                    "color": "#636efa",
                    "opacity": 0.5,
                    "symbol": "circle"
                  },
                  "mode": "markers",
                  "name": "Cluster 0",
                  "orientation": "v",
                  "showlegend": true,
                  "textposition": "top center",
                  "type": "scatter",
                  "x": [
                    -1.2588178,
                    1.5378875,
                    2.6791284,
                    0.56107837,
                    -0.57743335,
                    3.4915502,
                    2.014393,
                    2.7703326,
                    0.19039527,
                    -2.1832938,
                    4.6079016,
                    -0.9122587,
                    3.2739422,
                    7.4302807,
                    -0.8413343,
                    7.1314983,
                    6.9695997,
                    6.1179357,
                    5.9672685,
                    -0.16162892,
                    3.1871667,
                    7.232429,
                    6.8051496,
                    -0.3565702,
                    7.0937057,
                    4.661007,
                    -2.226653,
                    6.1610713,
                    5.331493,
                    -1.7394089,
                    4.022585,
                    6.959668,
                    2.2501283,
                    -0.6406615,
                    6.675218,
                    2.5629008,
                    -0.6344413,
                    3.1903741,
                    0.48820814,
                    2.8985164,
                    -0.65250105,
                    -2.480818,
                    0.47224757,
                    3.5310507,
                    2.6877537,
                    -1.0695821,
                    6.780706,
                    -1.8960472,
                    -2.045684,
                    0.6960713,
                    -0.35886425,
                    0.32337472,
                    1.458836,
                    -2.0020015,
                    5.0484567,
                    -0.73409986,
                    -2.7940881,
                    4.6432743,
                    -0.16193298,
                    -0.8019877,
                    3.2401245
                  ],
                  "xaxis": "x",
                  "y": [
                    3.0165882,
                    1.3518605,
                    0.24642207,
                    -1.2339349,
                    1.688259,
                    1.2851422,
                    -1.6735295,
                    -0.2556761,
                    -0.5504727,
                    1.7909509,
                    3.384566,
                    1.5645427,
                    -3.0064414,
                    -1.4854074,
                    3.1655116,
                    0.6184341,
                    -1.3809708,
                    -1.5883561,
                    0.6478563,
                    -0.99768996,
                    0.95604825,
                    -4.93066,
                    -6.8507996,
                    0.819214,
                    -1.7177263,
                    0.27458385,
                    -0.39118993,
                    0.7136401,
                    4.0947146,
                    1.9251399,
                    1.7034178,
                    -0.27548638,
                    0.6012168,
                    -1.0704093,
                    2.4887362,
                    2.1884222,
                    0.1406566,
                    -6.4655666,
                    0.22531834,
                    3.1464775,
                    -1.8211071,
                    -0.80638075,
                    1.1803372,
                    -4.165811,
                    3.860274,
                    -0.50049824,
                    -3.5324137,
                    -0.43881723,
                    -0.40422106,
                    0.5793709,
                    -3.685309,
                    -0.548642,
                    3.9853005,
                    0.06365128,
                    1.3384941,
                    -0.03479226,
                    -2.0880275,
                    -2.4174376,
                    4.76137,
                    2.2740552,
                    -5.1234136
                  ],
                  "yaxis": "y"
                },
                {
                  "customdata": [
                    [
                      "Uzbekistan"
                    ],
                    [
                      "Mongolia"
                    ],
                    [
                      "Vietnam"
                    ],
                    [
                      "Mexico"
                    ],
                    [
                      "Mali"
                    ],
                    [
                      "Turkmenistan"
                    ],
                    [
                      "United Arab Emirates"
                    ],
                    [
                      "Morocco"
                    ],
                    [
                      "Malaysia"
                    ],
                    [
                      "Uganda"
                    ],
                    [
                      "Mauritius"
                    ],
                    [
                      "Venezuela, RB"
                    ],
                    [
                      "Mauritania"
                    ],
                    [
                      "Vanuatu"
                    ],
                    [
                      "Sri Lanka"
                    ],
                    [
                      "Oman"
                    ],
                    [
                      "Nepal"
                    ],
                    [
                      "Singapore"
                    ],
                    [
                      "Sierra Leone"
                    ],
                    [
                      "Sudan"
                    ],
                    [
                      "Syrian Arab Republic"
                    ],
                    [
                      "Tajikistan"
                    ],
                    [
                      "Saudi Arabia"
                    ],
                    [
                      "Tanzania"
                    ],
                    [
                      "Togo"
                    ],
                    [
                      "Myanmar"
                    ],
                    [
                      "Rwanda"
                    ],
                    [
                      "Philippines"
                    ],
                    [
                      "Peru"
                    ],
                    [
                      "Paraguay"
                    ],
                    [
                      "Pakistan"
                    ],
                    [
                      "St. Kitts and Nevis"
                    ],
                    [
                      "Nigeria"
                    ],
                    [
                      "Trinidad and Tobago"
                    ],
                    [
                      "Niger"
                    ],
                    [
                      "Qatar"
                    ],
                    [
                      "Senegal"
                    ],
                    [
                      "Albania"
                    ],
                    [
                      "Ecuador"
                    ],
                    [
                      "Ethiopia"
                    ],
                    [
                      "Eritrea"
                    ],
                    [
                      "Equatorial Guinea"
                    ],
                    [
                      "Egypt, Arab Rep."
                    ],
                    [
                      "Madagascar"
                    ],
                    [
                      "Dominican Republic"
                    ],
                    [
                      "Cyprus"
                    ],
                    [
                      "Cote d'Ivoire"
                    ],
                    [
                      "Congo, Rep."
                    ],
                    [
                      "Congo, Dem. Rep."
                    ],
                    [
                      "Comoros"
                    ],
                    [
                      "China"
                    ],
                    [
                      "Chile"
                    ],
                    [
                      "Chad"
                    ],
                    [
                      "Central African Republic"
                    ],
                    [
                      "Cameroon"
                    ],
                    [
                      "Cambodia"
                    ],
                    [
                      "Burundi"
                    ],
                    [
                      "Burkina Faso"
                    ],
                    [
                      "Brunei Darussalam"
                    ],
                    [
                      "Benin"
                    ],
                    [
                      "Belize"
                    ],
                    [
                      "Bangladesh"
                    ],
                    [
                      "Bahrain"
                    ],
                    [
                      "Bahamas, The"
                    ],
                    [
                      "Azerbaijan"
                    ],
                    [
                      "Armenia"
                    ],
                    [
                      "Antigua and Barbuda"
                    ],
                    [
                      "Angola"
                    ],
                    [
                      "Fiji"
                    ],
                    [
                      "Gabon"
                    ],
                    [
                      "Zambia"
                    ],
                    [
                      "Georgia"
                    ],
                    [
                      "Libya"
                    ],
                    [
                      "Yemen, Rep."
                    ],
                    [
                      "Lao PDR"
                    ],
                    [
                      "Kyrgyz Republic"
                    ],
                    [
                      "Kuwait"
                    ],
                    [
                      "Korea, Rep."
                    ],
                    [
                      "Kenya"
                    ],
                    [
                      "Kazakhstan"
                    ],
                    [
                      "Jamaica"
                    ],
                    [
                      "Iran, Islamic Rep."
                    ],
                    [
                      "Gambia, The"
                    ],
                    [
                      "India"
                    ],
                    [
                      "Haiti"
                    ],
                    [
                      "Indonesia"
                    ],
                    [
                      "Guatemala"
                    ],
                    [
                      "Guinea-Bissau"
                    ],
                    [
                      "Grenada"
                    ],
                    [
                      "Ghana"
                    ],
                    [
                      "Guinea"
                    ]
                  ],
                  "hovertemplate": "Cluster=Cluster 1<br>PCA1=%{x}<br>PCA2=%{y}<br>Feature=%{customdata[0]}<extra></extra>",
                  "legendgroup": "Cluster 1",
                  "marker": {
                    "color": "#EF553B",
                    "opacity": 0.5,
                    "symbol": "circle"
                  },
                  "mode": "markers",
                  "name": "Cluster 1",
                  "orientation": "v",
                  "showlegend": true,
                  "textposition": "top center",
                  "type": "scatter",
                  "x": [
                    -4.5563955,
                    -3.910416,
                    -7.0631714,
                    -5.0771174,
                    -5.195402,
                    -8.0067425,
                    -7.746914,
                    -9.695709,
                    -8.054464,
                    -7.6165986,
                    -7.394254,
                    -8.211055,
                    -8.4103985,
                    -2.894507,
                    -9.236766,
                    -5.9920564,
                    -7.6979513,
                    -10.995737,
                    -6.2726636,
                    -10.404644,
                    -8.549195,
                    -10.954998,
                    -5.4898477,
                    -6.9069996,
                    -8.846722,
                    -15.324952,
                    -4.7395773,
                    -10.58253,
                    -4.9128504,
                    -3.553526,
                    -13.482025,
                    -6.1887536,
                    -12.296429,
                    -5.4081583,
                    -7.105765,
                    -7.489031,
                    -7.3336277,
                    -5.8766336,
                    -8.020395,
                    -6.020674,
                    -10.062926,
                    -6.562538,
                    -7.8269243,
                    -6.5188956,
                    -7.996647,
                    -4.560713,
                    -9.701281,
                    -8.546951,
                    -12.964359,
                    -7.3342385,
                    -7.30508,
                    -3.1985474,
                    -8.942138,
                    -8.532399,
                    -12.022494,
                    -10.041433,
                    -4.141969,
                    -3.799709,
                    -5.7635665,
                    -6.9664736,
                    -3.8974905,
                    -12.482985,
                    -5.353642,
                    -3.6851444,
                    -12.198617,
                    -9.094782,
                    -3.0062814,
                    -6.3748794,
                    -4.3464723,
                    -9.863825,
                    -3.919462,
                    -10.479129,
                    -7.072069,
                    -9.285688,
                    -11.361448,
                    -3.702688,
                    -5.9689817,
                    -4.0629067,
                    -7.7238874,
                    -6.311947,
                    -4.491125,
                    -6.507159,
                    -5.292807,
                    -11.857134,
                    -9.539937,
                    -12.74493,
                    -7.486758,
                    -10.741906,
                    -2.913591,
                    -5.5421314,
                    -11.167121
                  ],
                  "xaxis": "x",
                  "y": [
                    1.3391631,
                    2.5590866,
                    -2.0445008,
                    -0.60629445,
                    1.5296793,
                    3.6814675,
                    -0.3061044,
                    -0.612348,
                    0.08053977,
                    -0.052195236,
                    0.31937614,
                    0.86895734,
                    2.0525777,
                    -0.96494466,
                    0.9921249,
                    1.9266663,
                    -0.7794319,
                    0.41845065,
                    2.0929952,
                    -1.4617156,
                    1.9789283,
                    -0.28243816,
                    0.02887331,
                    -1.1799839,
                    -0.42385665,
                    0.061689854,
                    -0.47964808,
                    0.7546587,
                    0.44933227,
                    -1.7207485,
                    0.23164314,
                    2.1771698,
                    0.38556042,
                    -0.10364503,
                    -0.8207663,
                    1.7440298,
                    -0.44833067,
                    -0.25883788,
                    -1.9308234,
                    -1.5675099,
                    1.5057235,
                    0.015474237,
                    0.8924021,
                    0.90645814,
                    -0.6848719,
                    -1.0943282,
                    0.96376634,
                    -1.1061964,
                    -1.7102703,
                    1.2977749,
                    -1.0016096,
                    0.1972855,
                    2.0620065,
                    0.5967439,
                    0.48975134,
                    1.3785393,
                    -4.759718,
                    -1.1354549,
                    2.0844615,
                    0.31868383,
                    -1.5144572,
                    1.0029317,
                    1.0682385,
                    -0.3860297,
                    0.70686287,
                    0.29317084,
                    -0.57478076,
                    1.0972537,
                    0.84575444,
                    -0.8535808,
                    2.136939,
                    -0.22840059,
                    -0.7638208,
                    2.0286229,
                    1.9895592,
                    -1.2900816,
                    2.0305958,
                    -2.4885814,
                    -0.58839315,
                    1.4602538,
                    0.8640898,
                    -0.38494024,
                    -4.192361,
                    0.5104898,
                    2.0771785,
                    0.23423375,
                    0.036185328,
                    1.1056882,
                    1.951899,
                    -1.7189521,
                    -1.068697
                  ],
                  "yaxis": "y"
                },
                {
                  "customdata": [
                    [
                      "Palau"
                    ],
                    [
                      "Kiribati"
                    ],
                    [
                      "Micronesia, Fed. Sts."
                    ],
                    [
                      "Belgium"
                    ],
                    [
                      "United Kingdom"
                    ],
                    [
                      "United States"
                    ],
                    [
                      "Austria"
                    ],
                    [
                      "Australia"
                    ],
                    [
                      "Finland"
                    ],
                    [
                      "France"
                    ],
                    [
                      "Portugal"
                    ],
                    [
                      "Germany"
                    ],
                    [
                      "Cuba"
                    ],
                    [
                      "Croatia"
                    ],
                    [
                      "Italy"
                    ],
                    [
                      "Slovenia"
                    ],
                    [
                      "Costa Rica"
                    ],
                    [
                      "Spain"
                    ],
                    [
                      "Iceland"
                    ],
                    [
                      "New Zealand"
                    ],
                    [
                      "Netherlands"
                    ],
                    [
                      "Czech Republic"
                    ],
                    [
                      "Luxembourg"
                    ],
                    [
                      "Denmark"
                    ],
                    [
                      "Norway"
                    ],
                    [
                      "Sweden"
                    ],
                    [
                      "Switzerland"
                    ],
                    [
                      "Canada"
                    ],
                    [
                      "Japan"
                    ]
                  ],
                  "hovertemplate": "Cluster=Cluster 2<br>PCA1=%{x}<br>PCA2=%{y}<br>Feature=%{customdata[0]}<extra></extra>",
                  "legendgroup": "Cluster 2",
                  "marker": {
                    "color": "#00cc96",
                    "opacity": 0.5,
                    "symbol": "circle"
                  },
                  "mode": "markers",
                  "name": "Cluster 2",
                  "orientation": "v",
                  "showlegend": true,
                  "textposition": "top center",
                  "type": "scatter",
                  "x": [
                    13.64608,
                    23.22488,
                    27.789474,
                    14.374094,
                    12.703172,
                    13.830822,
                    18.147392,
                    8.458056,
                    10.50339,
                    20.05447,
                    10.931234,
                    19.476128,
                    16.571907,
                    10.262447,
                    11.262977,
                    11.10112,
                    9.992114,
                    9.822089,
                    15.742007,
                    15.237617,
                    14.140142,
                    9.995566,
                    10.539581,
                    19.84341,
                    16.451555,
                    18.149464,
                    11.466694,
                    13.73277,
                    13.581057
                  ],
                  "xaxis": "x",
                  "y": [
                    3.4162905,
                    1.720604,
                    -6.158404,
                    -1.9175154,
                    -2.3071043,
                    -2.171803,
                    0.14759336,
                    -0.39280626,
                    -1.0592625,
                    0.5172801,
                    -0.36682096,
                    1.1723807,
                    -6.536611,
                    0.32359302,
                    -1.2610496,
                    0.40601754,
                    -1.1395177,
                    -0.99428827,
                    2.103933,
                    -4.7838955,
                    -6.1139836,
                    0.9685588,
                    0.6308596,
                    -2.1348073,
                    0.38267308,
                    -2.2564414,
                    -1.8702303,
                    -0.7119706,
                    -2.7287593
                  ],
                  "yaxis": "y"
                },
                {
                  "customdata": [
                    [
                      "Nauru"
                    ],
                    [
                      "Tuvalu"
                    ],
                    [
                      "Marshall Islands"
                    ]
                  ],
                  "hovertemplate": "Cluster=Cluster 3<br>PCA1=%{x}<br>PCA2=%{y}<br>Feature=%{customdata[0]}<extra></extra>",
                  "legendgroup": "Cluster 3",
                  "marker": {
                    "color": "#ab63fa",
                    "opacity": 0.5,
                    "symbol": "circle"
                  },
                  "mode": "markers",
                  "name": "Cluster 3",
                  "orientation": "v",
                  "showlegend": true,
                  "textposition": "top center",
                  "type": "scatter",
                  "x": [
                    32.43858,
                    48.945812,
                    55.751198
                  ],
                  "xaxis": "x",
                  "y": [
                    14.354872,
                    -5.092336,
                    10.981213
                  ],
                  "yaxis": "y"
                }
              ],
              "layout": {
                "height": 600,
                "legend": {
                  "title": {
                    "text": "Cluster"
                  },
                  "tracegroupgap": 0
                },
                "margin": {
                  "t": 60
                },
                "plot_bgcolor": "rgb(240,240,240)",
                "template": {
                  "data": {
                    "bar": [
                      {
                        "error_x": {
                          "color": "#2a3f5f"
                        },
                        "error_y": {
                          "color": "#2a3f5f"
                        },
                        "marker": {
                          "line": {
                            "color": "#E5ECF6",
                            "width": 0.5
                          },
                          "pattern": {
                            "fillmode": "overlay",
                            "size": 10,
                            "solidity": 0.2
                          }
                        },
                        "type": "bar"
                      }
                    ],
                    "barpolar": [
                      {
                        "marker": {
                          "line": {
                            "color": "#E5ECF6",
                            "width": 0.5
                          },
                          "pattern": {
                            "fillmode": "overlay",
                            "size": 10,
                            "solidity": 0.2
                          }
                        },
                        "type": "barpolar"
                      }
                    ],
                    "carpet": [
                      {
                        "aaxis": {
                          "endlinecolor": "#2a3f5f",
                          "gridcolor": "white",
                          "linecolor": "white",
                          "minorgridcolor": "white",
                          "startlinecolor": "#2a3f5f"
                        },
                        "baxis": {
                          "endlinecolor": "#2a3f5f",
                          "gridcolor": "white",
                          "linecolor": "white",
                          "minorgridcolor": "white",
                          "startlinecolor": "#2a3f5f"
                        },
                        "type": "carpet"
                      }
                    ],
                    "choropleth": [
                      {
                        "colorbar": {
                          "outlinewidth": 0,
                          "ticks": ""
                        },
                        "type": "choropleth"
                      }
                    ],
                    "contour": [
                      {
                        "colorbar": {
                          "outlinewidth": 0,
                          "ticks": ""
                        },
                        "colorscale": [
                          [
                            0,
                            "#0d0887"
                          ],
                          [
                            0.1111111111111111,
                            "#46039f"
                          ],
                          [
                            0.2222222222222222,
                            "#7201a8"
                          ],
                          [
                            0.3333333333333333,
                            "#9c179e"
                          ],
                          [
                            0.4444444444444444,
                            "#bd3786"
                          ],
                          [
                            0.5555555555555556,
                            "#d8576b"
                          ],
                          [
                            0.6666666666666666,
                            "#ed7953"
                          ],
                          [
                            0.7777777777777778,
                            "#fb9f3a"
                          ],
                          [
                            0.8888888888888888,
                            "#fdca26"
                          ],
                          [
                            1,
                            "#f0f921"
                          ]
                        ],
                        "type": "contour"
                      }
                    ],
                    "contourcarpet": [
                      {
                        "colorbar": {
                          "outlinewidth": 0,
                          "ticks": ""
                        },
                        "type": "contourcarpet"
                      }
                    ],
                    "heatmap": [
                      {
                        "colorbar": {
                          "outlinewidth": 0,
                          "ticks": ""
                        },
                        "colorscale": [
                          [
                            0,
                            "#0d0887"
                          ],
                          [
                            0.1111111111111111,
                            "#46039f"
                          ],
                          [
                            0.2222222222222222,
                            "#7201a8"
                          ],
                          [
                            0.3333333333333333,
                            "#9c179e"
                          ],
                          [
                            0.4444444444444444,
                            "#bd3786"
                          ],
                          [
                            0.5555555555555556,
                            "#d8576b"
                          ],
                          [
                            0.6666666666666666,
                            "#ed7953"
                          ],
                          [
                            0.7777777777777778,
                            "#fb9f3a"
                          ],
                          [
                            0.8888888888888888,
                            "#fdca26"
                          ],
                          [
                            1,
                            "#f0f921"
                          ]
                        ],
                        "type": "heatmap"
                      }
                    ],
                    "heatmapgl": [
                      {
                        "colorbar": {
                          "outlinewidth": 0,
                          "ticks": ""
                        },
                        "colorscale": [
                          [
                            0,
                            "#0d0887"
                          ],
                          [
                            0.1111111111111111,
                            "#46039f"
                          ],
                          [
                            0.2222222222222222,
                            "#7201a8"
                          ],
                          [
                            0.3333333333333333,
                            "#9c179e"
                          ],
                          [
                            0.4444444444444444,
                            "#bd3786"
                          ],
                          [
                            0.5555555555555556,
                            "#d8576b"
                          ],
                          [
                            0.6666666666666666,
                            "#ed7953"
                          ],
                          [
                            0.7777777777777778,
                            "#fb9f3a"
                          ],
                          [
                            0.8888888888888888,
                            "#fdca26"
                          ],
                          [
                            1,
                            "#f0f921"
                          ]
                        ],
                        "type": "heatmapgl"
                      }
                    ],
                    "histogram": [
                      {
                        "marker": {
                          "pattern": {
                            "fillmode": "overlay",
                            "size": 10,
                            "solidity": 0.2
                          }
                        },
                        "type": "histogram"
                      }
                    ],
                    "histogram2d": [
                      {
                        "colorbar": {
                          "outlinewidth": 0,
                          "ticks": ""
                        },
                        "colorscale": [
                          [
                            0,
                            "#0d0887"
                          ],
                          [
                            0.1111111111111111,
                            "#46039f"
                          ],
                          [
                            0.2222222222222222,
                            "#7201a8"
                          ],
                          [
                            0.3333333333333333,
                            "#9c179e"
                          ],
                          [
                            0.4444444444444444,
                            "#bd3786"
                          ],
                          [
                            0.5555555555555556,
                            "#d8576b"
                          ],
                          [
                            0.6666666666666666,
                            "#ed7953"
                          ],
                          [
                            0.7777777777777778,
                            "#fb9f3a"
                          ],
                          [
                            0.8888888888888888,
                            "#fdca26"
                          ],
                          [
                            1,
                            "#f0f921"
                          ]
                        ],
                        "type": "histogram2d"
                      }
                    ],
                    "histogram2dcontour": [
                      {
                        "colorbar": {
                          "outlinewidth": 0,
                          "ticks": ""
                        },
                        "colorscale": [
                          [
                            0,
                            "#0d0887"
                          ],
                          [
                            0.1111111111111111,
                            "#46039f"
                          ],
                          [
                            0.2222222222222222,
                            "#7201a8"
                          ],
                          [
                            0.3333333333333333,
                            "#9c179e"
                          ],
                          [
                            0.4444444444444444,
                            "#bd3786"
                          ],
                          [
                            0.5555555555555556,
                            "#d8576b"
                          ],
                          [
                            0.6666666666666666,
                            "#ed7953"
                          ],
                          [
                            0.7777777777777778,
                            "#fb9f3a"
                          ],
                          [
                            0.8888888888888888,
                            "#fdca26"
                          ],
                          [
                            1,
                            "#f0f921"
                          ]
                        ],
                        "type": "histogram2dcontour"
                      }
                    ],
                    "mesh3d": [
                      {
                        "colorbar": {
                          "outlinewidth": 0,
                          "ticks": ""
                        },
                        "type": "mesh3d"
                      }
                    ],
                    "parcoords": [
                      {
                        "line": {
                          "colorbar": {
                            "outlinewidth": 0,
                            "ticks": ""
                          }
                        },
                        "type": "parcoords"
                      }
                    ],
                    "pie": [
                      {
                        "automargin": true,
                        "type": "pie"
                      }
                    ],
                    "scatter": [
                      {
                        "fillpattern": {
                          "fillmode": "overlay",
                          "size": 10,
                          "solidity": 0.2
                        },
                        "type": "scatter"
                      }
                    ],
                    "scatter3d": [
                      {
                        "line": {
                          "colorbar": {
                            "outlinewidth": 0,
                            "ticks": ""
                          }
                        },
                        "marker": {
                          "colorbar": {
                            "outlinewidth": 0,
                            "ticks": ""
                          }
                        },
                        "type": "scatter3d"
                      }
                    ],
                    "scattercarpet": [
                      {
                        "marker": {
                          "colorbar": {
                            "outlinewidth": 0,
                            "ticks": ""
                          }
                        },
                        "type": "scattercarpet"
                      }
                    ],
                    "scattergeo": [
                      {
                        "marker": {
                          "colorbar": {
                            "outlinewidth": 0,
                            "ticks": ""
                          }
                        },
                        "type": "scattergeo"
                      }
                    ],
                    "scattergl": [
                      {
                        "marker": {
                          "colorbar": {
                            "outlinewidth": 0,
                            "ticks": ""
                          }
                        },
                        "type": "scattergl"
                      }
                    ],
                    "scattermapbox": [
                      {
                        "marker": {
                          "colorbar": {
                            "outlinewidth": 0,
                            "ticks": ""
                          }
                        },
                        "type": "scattermapbox"
                      }
                    ],
                    "scatterpolar": [
                      {
                        "marker": {
                          "colorbar": {
                            "outlinewidth": 0,
                            "ticks": ""
                          }
                        },
                        "type": "scatterpolar"
                      }
                    ],
                    "scatterpolargl": [
                      {
                        "marker": {
                          "colorbar": {
                            "outlinewidth": 0,
                            "ticks": ""
                          }
                        },
                        "type": "scatterpolargl"
                      }
                    ],
                    "scatterternary": [
                      {
                        "marker": {
                          "colorbar": {
                            "outlinewidth": 0,
                            "ticks": ""
                          }
                        },
                        "type": "scatterternary"
                      }
                    ],
                    "surface": [
                      {
                        "colorbar": {
                          "outlinewidth": 0,
                          "ticks": ""
                        },
                        "colorscale": [
                          [
                            0,
                            "#0d0887"
                          ],
                          [
                            0.1111111111111111,
                            "#46039f"
                          ],
                          [
                            0.2222222222222222,
                            "#7201a8"
                          ],
                          [
                            0.3333333333333333,
                            "#9c179e"
                          ],
                          [
                            0.4444444444444444,
                            "#bd3786"
                          ],
                          [
                            0.5555555555555556,
                            "#d8576b"
                          ],
                          [
                            0.6666666666666666,
                            "#ed7953"
                          ],
                          [
                            0.7777777777777778,
                            "#fb9f3a"
                          ],
                          [
                            0.8888888888888888,
                            "#fdca26"
                          ],
                          [
                            1,
                            "#f0f921"
                          ]
                        ],
                        "type": "surface"
                      }
                    ],
                    "table": [
                      {
                        "cells": {
                          "fill": {
                            "color": "#EBF0F8"
                          },
                          "line": {
                            "color": "white"
                          }
                        },
                        "header": {
                          "fill": {
                            "color": "#C8D4E3"
                          },
                          "line": {
                            "color": "white"
                          }
                        },
                        "type": "table"
                      }
                    ]
                  },
                  "layout": {
                    "annotationdefaults": {
                      "arrowcolor": "#2a3f5f",
                      "arrowhead": 0,
                      "arrowwidth": 1
                    },
                    "autotypenumbers": "strict",
                    "coloraxis": {
                      "colorbar": {
                        "outlinewidth": 0,
                        "ticks": ""
                      }
                    },
                    "colorscale": {
                      "diverging": [
                        [
                          0,
                          "#8e0152"
                        ],
                        [
                          0.1,
                          "#c51b7d"
                        ],
                        [
                          0.2,
                          "#de77ae"
                        ],
                        [
                          0.3,
                          "#f1b6da"
                        ],
                        [
                          0.4,
                          "#fde0ef"
                        ],
                        [
                          0.5,
                          "#f7f7f7"
                        ],
                        [
                          0.6,
                          "#e6f5d0"
                        ],
                        [
                          0.7,
                          "#b8e186"
                        ],
                        [
                          0.8,
                          "#7fbc41"
                        ],
                        [
                          0.9,
                          "#4d9221"
                        ],
                        [
                          1,
                          "#276419"
                        ]
                      ],
                      "sequential": [
                        [
                          0,
                          "#0d0887"
                        ],
                        [
                          0.1111111111111111,
                          "#46039f"
                        ],
                        [
                          0.2222222222222222,
                          "#7201a8"
                        ],
                        [
                          0.3333333333333333,
                          "#9c179e"
                        ],
                        [
                          0.4444444444444444,
                          "#bd3786"
                        ],
                        [
                          0.5555555555555556,
                          "#d8576b"
                        ],
                        [
                          0.6666666666666666,
                          "#ed7953"
                        ],
                        [
                          0.7777777777777778,
                          "#fb9f3a"
                        ],
                        [
                          0.8888888888888888,
                          "#fdca26"
                        ],
                        [
                          1,
                          "#f0f921"
                        ]
                      ],
                      "sequentialminus": [
                        [
                          0,
                          "#0d0887"
                        ],
                        [
                          0.1111111111111111,
                          "#46039f"
                        ],
                        [
                          0.2222222222222222,
                          "#7201a8"
                        ],
                        [
                          0.3333333333333333,
                          "#9c179e"
                        ],
                        [
                          0.4444444444444444,
                          "#bd3786"
                        ],
                        [
                          0.5555555555555556,
                          "#d8576b"
                        ],
                        [
                          0.6666666666666666,
                          "#ed7953"
                        ],
                        [
                          0.7777777777777778,
                          "#fb9f3a"
                        ],
                        [
                          0.8888888888888888,
                          "#fdca26"
                        ],
                        [
                          1,
                          "#f0f921"
                        ]
                      ]
                    },
                    "colorway": [
                      "#636efa",
                      "#EF553B",
                      "#00cc96",
                      "#ab63fa",
                      "#FFA15A",
                      "#19d3f3",
                      "#FF6692",
                      "#B6E880",
                      "#FF97FF",
                      "#FECB52"
                    ],
                    "font": {
                      "color": "#2a3f5f"
                    },
                    "geo": {
                      "bgcolor": "white",
                      "lakecolor": "white",
                      "landcolor": "#E5ECF6",
                      "showlakes": true,
                      "showland": true,
                      "subunitcolor": "white"
                    },
                    "hoverlabel": {
                      "align": "left"
                    },
                    "hovermode": "closest",
                    "mapbox": {
                      "style": "light"
                    },
                    "paper_bgcolor": "white",
                    "plot_bgcolor": "#E5ECF6",
                    "polar": {
                      "angularaxis": {
                        "gridcolor": "white",
                        "linecolor": "white",
                        "ticks": ""
                      },
                      "bgcolor": "#E5ECF6",
                      "radialaxis": {
                        "gridcolor": "white",
                        "linecolor": "white",
                        "ticks": ""
                      }
                    },
                    "scene": {
                      "xaxis": {
                        "backgroundcolor": "#E5ECF6",
                        "gridcolor": "white",
                        "gridwidth": 2,
                        "linecolor": "white",
                        "showbackground": true,
                        "ticks": "",
                        "zerolinecolor": "white"
                      },
                      "yaxis": {
                        "backgroundcolor": "#E5ECF6",
                        "gridcolor": "white",
                        "gridwidth": 2,
                        "linecolor": "white",
                        "showbackground": true,
                        "ticks": "",
                        "zerolinecolor": "white"
                      },
                      "zaxis": {
                        "backgroundcolor": "#E5ECF6",
                        "gridcolor": "white",
                        "gridwidth": 2,
                        "linecolor": "white",
                        "showbackground": true,
                        "ticks": "",
                        "zerolinecolor": "white"
                      }
                    },
                    "shapedefaults": {
                      "line": {
                        "color": "#2a3f5f"
                      }
                    },
                    "ternary": {
                      "aaxis": {
                        "gridcolor": "white",
                        "linecolor": "white",
                        "ticks": ""
                      },
                      "baxis": {
                        "gridcolor": "white",
                        "linecolor": "white",
                        "ticks": ""
                      },
                      "bgcolor": "#E5ECF6",
                      "caxis": {
                        "gridcolor": "white",
                        "linecolor": "white",
                        "ticks": ""
                      }
                    },
                    "title": {
                      "x": 0.05
                    },
                    "xaxis": {
                      "automargin": true,
                      "gridcolor": "white",
                      "linecolor": "white",
                      "ticks": "",
                      "title": {
                        "standoff": 15
                      },
                      "zerolinecolor": "white",
                      "zerolinewidth": 2
                    },
                    "yaxis": {
                      "automargin": true,
                      "gridcolor": "white",
                      "linecolor": "white",
                      "ticks": "",
                      "title": {
                        "standoff": 15
                      },
                      "zerolinecolor": "white",
                      "zerolinewidth": 2
                    }
                  }
                },
                "title": {
                  "text": "2D Cluster PCA Plot"
                },
                "xaxis": {
                  "anchor": "y",
                  "domain": [
                    0,
                    1
                  ],
                  "title": {
                    "text": "PCA1"
                  }
                },
                "yaxis": {
                  "anchor": "x",
                  "domain": [
                    0,
                    1
                  ],
                  "title": {
                    "text": "PCA2"
                  }
                }
              }
            }
          },
          "metadata": {},
          "output_type": "display_data"
        }
      ],
      "source": [
        "# clusters are represented by color. hover over the dots to see country names\n",
        "plot_model(kmeans, plot = 'cluster')"
      ]
    },
    {
      "cell_type": "code",
      "execution_count": 22,
      "metadata": {
        "colab": {
          "base_uri": "https://localhost:8080/",
          "height": 817
        },
        "id": "cS3xaSZc7nhy",
        "outputId": "3755f594-39bb-4c49-8dfa-d9a77c05260e"
      },
      "outputs": [
        {
          "data": {
            "text/html": [],
            "text/plain": [
              "<IPython.core.display.HTML object>"
            ]
          },
          "metadata": {},
          "output_type": "display_data"
        },
        {
          "data": {
            "application/vnd.plotly.v1+json": {
              "config": {
                "plotlyServerURL": "https://plot.ly"
              },
              "data": [
                {
                  "customdata": [
                    [
                      "Lebanon"
                    ],
                    [
                      "Papua New Guinea"
                    ],
                    [
                      "Poland"
                    ],
                    [
                      "Romania"
                    ],
                    [
                      "Russian Federation"
                    ],
                    [
                      "Estonia"
                    ],
                    [
                      "Samoa"
                    ],
                    [
                      "San Marino"
                    ],
                    [
                      "El Salvador"
                    ],
                    [
                      "Sao Tome and Principe"
                    ],
                    [
                      "Macedonia, FYR"
                    ],
                    [
                      "Dominica"
                    ],
                    [
                      "Djibouti"
                    ],
                    [
                      "Serbia"
                    ],
                    [
                      "Seychelles"
                    ],
                    [
                      "Slovak Republic"
                    ],
                    [
                      "Greece"
                    ],
                    [
                      "Solomon Islands"
                    ],
                    [
                      "Panama"
                    ],
                    [
                      "Honduras"
                    ],
                    [
                      "Lithuania"
                    ],
                    [
                      "Maldives"
                    ],
                    [
                      "Lesotho"
                    ],
                    [
                      "Latvia"
                    ],
                    [
                      "Malta"
                    ],
                    [
                      "Moldova"
                    ],
                    [
                      "Monaco"
                    ],
                    [
                      "Jordan"
                    ],
                    [
                      "Montenegro"
                    ],
                    [
                      "Mozambique"
                    ],
                    [
                      "Israel"
                    ],
                    [
                      "Ireland"
                    ],
                    [
                      "Namibia"
                    ],
                    [
                      "Nicaragua"
                    ],
                    [
                      "Hungary"
                    ],
                    [
                      "Guyana"
                    ],
                    [
                      "South Africa"
                    ],
                    [
                      "Malawi"
                    ],
                    [
                      "Tonga"
                    ],
                    [
                      "Belarus"
                    ],
                    [
                      "Turkey"
                    ],
                    [
                      "Tunisia"
                    ],
                    [
                      "Ukraine"
                    ],
                    [
                      "Uruguay"
                    ],
                    [
                      "Bhutan"
                    ],
                    [
                      "Bolivia"
                    ],
                    [
                      "Bosnia and Herzegovina"
                    ],
                    [
                      "Botswana"
                    ],
                    [
                      "Brazil"
                    ],
                    [
                      "Bulgaria"
                    ],
                    [
                      "Thailand"
                    ],
                    [
                      "Barbados"
                    ],
                    [
                      "Argentina"
                    ],
                    [
                      "St. Lucia"
                    ],
                    [
                      "Colombia"
                    ],
                    [
                      "St. Vincent and the Grenadines"
                    ],
                    [
                      "Algeria"
                    ],
                    [
                      "Andorra"
                    ],
                    [
                      "Suriname"
                    ],
                    [
                      "Cabo Verde"
                    ],
                    [
                      "Swaziland"
                    ]
                  ],
                  "hovertemplate": "Cluster=Cluster 0<br>0=%{x}<br>1=%{y}<br>2=%{z}<br>Feature=%{customdata[0]}<extra></extra>",
                  "legendgroup": "Cluster 0",
                  "marker": {
                    "color": "#636efa",
                    "opacity": 0.7,
                    "symbol": "circle"
                  },
                  "mode": "markers",
                  "name": "Cluster 0",
                  "scene": "scene",
                  "showlegend": true,
                  "type": "scatter3d",
                  "x": [
                    14.511296,
                    -0.93757594,
                    -171.96643,
                    -21.32378,
                    -6.206762,
                    -21.63117,
                    -27.084206,
                    -24.485071,
                    -16.892473,
                    14.85485,
                    -24.090696,
                    -1.3521662,
                    -37.0112,
                    -57.999294,
                    8.412696,
                    -47.338284,
                    -44.463875,
                    -53.727257,
                    -37.82116,
                    -24.370615,
                    -12.965154,
                    -54.20004,
                    -46.213383,
                    -5.998828,
                    -46.39201,
                    -25.034306,
                    0.64511317,
                    -37.704235,
                    -30.037481,
                    10.119763,
                    -24.564783,
                    -53.61437,
                    -12.910432,
                    -23.077883,
                    -38.747932,
                    0.09499138,
                    -10.498388,
                    -37.80169,
                    -9.088685,
                    -16.278158,
                    -21.070932,
                    -9.481479,
                    -19.618147,
                    -27.194124,
                    -5.6597033,
                    -7.651558,
                    -48.4624,
                    -7.712731,
                    -10.951311,
                    -5.928054,
                    -35.175133,
                    -23.685795,
                    -1.3998274,
                    -0.42301676,
                    -28.608583,
                    -13.297689,
                    -2.0011854,
                    -27.760157,
                    -2.5074117,
                    6.510626,
                    -36.448647
                  ],
                  "y": [
                    15.279655,
                    -27.106361,
                    -1.2654294,
                    -5.7205396,
                    7.429297,
                    -27.755795,
                    -14.575394,
                    -12.1483135,
                    -2.802819,
                    -20.571281,
                    -17.156612,
                    18.834387,
                    -11.385779,
                    -28.892168,
                    8.416685,
                    -24.543684,
                    -32.110073,
                    -44.67914,
                    -18.49209,
                    7.045531,
                    -25.631237,
                    -17.950216,
                    -35.53534,
                    1.135766,
                    -18.79682,
                    -40.900864,
                    13.961423,
                    -32.936073,
                    -3.8708994,
                    -7.4163766,
                    -17.616203,
                    -33.638603,
                    -17.01228,
                    20.729301,
                    -14.73587,
                    -20.918621,
                    13.082169,
                    -15.241641,
                    -14.588917,
                    -7.8374143,
                    6.1560426,
                    31.071442,
                    11.462172,
                    -22.042768,
                    -17.88343,
                    2.5108604,
                    -30.490837,
                    2.236052,
                    17.282818,
                    -11.476889,
                    4.2498484,
                    5.975789,
                    -7.325537,
                    23.554472,
                    -29.7333,
                    24.324366,
                    43.46333,
                    -30.397596,
                    9.091914,
                    3.8711448,
                    -23.603827
                  ],
                  "z": [
                    38.614086,
                    16.097563,
                    -2.1432712,
                    5.1603227,
                    42.007477,
                    35.380043,
                    17.640816,
                    31.468367,
                    18.459106,
                    22.324982,
                    60.270218,
                    39.572693,
                    5.789955,
                    24.499935,
                    48.430553,
                    47.67788,
                    27.728586,
                    26.520437,
                    38.721794,
                    11.02805,
                    48.95401,
                    4.352886,
                    0.5550833,
                    28.938013,
                    22.238684,
                    36.56809,
                    12.508731,
                    41.930256,
                    58.050648,
                    26.738503,
                    45.871452,
                    37.925713,
                    34.644485,
                    21.146225,
                    53.72505,
                    48.16849,
                    26.66783,
                    -9.820588,
                    5.9420805,
                    52.080364,
                    -2.315121,
                    13.816661,
                    40.749397,
                    -10.701896,
                    62.74777,
                    10.848577,
                    13.412132,
                    -4.191867,
                    10.79331,
                    19.631098,
                    -2.7636476,
                    25.91348,
                    52.559425,
                    23.012768,
                    53.479153,
                    32.250782,
                    15.839733,
                    16.685995,
                    58.61269,
                    35.975098,
                    2.056516
                  ]
                },
                {
                  "customdata": [
                    [
                      "Uzbekistan"
                    ],
                    [
                      "Mongolia"
                    ],
                    [
                      "Vietnam"
                    ],
                    [
                      "Mexico"
                    ],
                    [
                      "Mali"
                    ],
                    [
                      "Turkmenistan"
                    ],
                    [
                      "United Arab Emirates"
                    ],
                    [
                      "Morocco"
                    ],
                    [
                      "Malaysia"
                    ],
                    [
                      "Uganda"
                    ],
                    [
                      "Mauritius"
                    ],
                    [
                      "Venezuela, RB"
                    ],
                    [
                      "Mauritania"
                    ],
                    [
                      "Vanuatu"
                    ],
                    [
                      "Sri Lanka"
                    ],
                    [
                      "Oman"
                    ],
                    [
                      "Nepal"
                    ],
                    [
                      "Singapore"
                    ],
                    [
                      "Sierra Leone"
                    ],
                    [
                      "Sudan"
                    ],
                    [
                      "Syrian Arab Republic"
                    ],
                    [
                      "Tajikistan"
                    ],
                    [
                      "Saudi Arabia"
                    ],
                    [
                      "Tanzania"
                    ],
                    [
                      "Togo"
                    ],
                    [
                      "Myanmar"
                    ],
                    [
                      "Rwanda"
                    ],
                    [
                      "Philippines"
                    ],
                    [
                      "Peru"
                    ],
                    [
                      "Paraguay"
                    ],
                    [
                      "Pakistan"
                    ],
                    [
                      "St. Kitts and Nevis"
                    ],
                    [
                      "Nigeria"
                    ],
                    [
                      "Trinidad and Tobago"
                    ],
                    [
                      "Niger"
                    ],
                    [
                      "Qatar"
                    ],
                    [
                      "Senegal"
                    ],
                    [
                      "Albania"
                    ],
                    [
                      "Ecuador"
                    ],
                    [
                      "Ethiopia"
                    ],
                    [
                      "Eritrea"
                    ],
                    [
                      "Equatorial Guinea"
                    ],
                    [
                      "Egypt, Arab Rep."
                    ],
                    [
                      "Madagascar"
                    ],
                    [
                      "Dominican Republic"
                    ],
                    [
                      "Cyprus"
                    ],
                    [
                      "Cote d'Ivoire"
                    ],
                    [
                      "Congo, Rep."
                    ],
                    [
                      "Congo, Dem. Rep."
                    ],
                    [
                      "Comoros"
                    ],
                    [
                      "China"
                    ],
                    [
                      "Chile"
                    ],
                    [
                      "Chad"
                    ],
                    [
                      "Central African Republic"
                    ],
                    [
                      "Cameroon"
                    ],
                    [
                      "Cambodia"
                    ],
                    [
                      "Burundi"
                    ],
                    [
                      "Burkina Faso"
                    ],
                    [
                      "Brunei Darussalam"
                    ],
                    [
                      "Benin"
                    ],
                    [
                      "Belize"
                    ],
                    [
                      "Bangladesh"
                    ],
                    [
                      "Bahrain"
                    ],
                    [
                      "Bahamas, The"
                    ],
                    [
                      "Azerbaijan"
                    ],
                    [
                      "Armenia"
                    ],
                    [
                      "Antigua and Barbuda"
                    ],
                    [
                      "Angola"
                    ],
                    [
                      "Fiji"
                    ],
                    [
                      "Gabon"
                    ],
                    [
                      "Zambia"
                    ],
                    [
                      "Georgia"
                    ],
                    [
                      "Libya"
                    ],
                    [
                      "Yemen, Rep."
                    ],
                    [
                      "Lao PDR"
                    ],
                    [
                      "Kyrgyz Republic"
                    ],
                    [
                      "Kuwait"
                    ],
                    [
                      "Korea, Rep."
                    ],
                    [
                      "Kenya"
                    ],
                    [
                      "Kazakhstan"
                    ],
                    [
                      "Jamaica"
                    ],
                    [
                      "Iran, Islamic Rep."
                    ],
                    [
                      "Gambia, The"
                    ],
                    [
                      "India"
                    ],
                    [
                      "Haiti"
                    ],
                    [
                      "Indonesia"
                    ],
                    [
                      "Guatemala"
                    ],
                    [
                      "Guinea-Bissau"
                    ],
                    [
                      "Grenada"
                    ],
                    [
                      "Ghana"
                    ],
                    [
                      "Guinea"
                    ]
                  ],
                  "hovertemplate": "Cluster=Cluster 1<br>0=%{x}<br>1=%{y}<br>2=%{z}<br>Feature=%{customdata[0]}<extra></extra>",
                  "legendgroup": "Cluster 1",
                  "marker": {
                    "color": "#EF553B",
                    "opacity": 0.7,
                    "symbol": "circle"
                  },
                  "mode": "markers",
                  "name": "Cluster 1",
                  "scene": "scene",
                  "showlegend": true,
                  "type": "scatter3d",
                  "x": [
                    40.551414,
                    25.781698,
                    18.817146,
                    12.645625,
                    10.28174,
                    31.303911,
                    38.78011,
                    44.447826,
                    25.368101,
                    7.2474637,
                    19.3074,
                    14.45431,
                    18.307648,
                    -14.314156,
                    29.891323,
                    29.617323,
                    30.54791,
                    54.27802,
                    20.384916,
                    55.28861,
                    28.341822,
                    57.039223,
                    27.701471,
                    -7.8962493,
                    40.156803,
                    86.34994,
                    -12.800943,
                    52.906845,
                    21.655344,
                    7.8493433,
                    82.29153,
                    44.808834,
                    75.08843,
                    23.718899,
                    6.6842875,
                    29.618826,
                    3.4227593,
                    8.747963,
                    25.26384,
                    14.171742,
                    42.662197,
                    44.13134,
                    -146.36328,
                    5.8966494,
                    28.002943,
                    11.818003,
                    42.88209,
                    38.032272,
                    71.45542,
                    46.997726,
                    26.10264,
                    13.102715,
                    25.135357,
                    21.125399,
                    64.30454,
                    51.64804,
                    -13.176688,
                    -11.434101,
                    34.68517,
                    19.202047,
                    -2.3662627,
                    74.602,
                    30.43818,
                    1.9687283,
                    69.44481,
                    36.064896,
                    1.118289,
                    57.011944,
                    15.368925,
                    43.856365,
                    18.060455,
                    56.217365,
                    31.145754,
                    36.46142,
                    61.089672,
                    -7.4757857,
                    38.576622,
                    1.4049219,
                    35.924072,
                    38.849308,
                    27.315655,
                    15.833606,
                    -1.039555,
                    66.09262,
                    43.9321,
                    73.33648,
                    16.883821,
                    56.36954,
                    14.129679,
                    -1.7143755,
                    57.41335
                  ],
                  "y": [
                    13.412189,
                    3.8087137,
                    25.373396,
                    20.408329,
                    -5.7914896,
                    -38.017677,
                    15.879419,
                    -1.6198626,
                    -10.0133,
                    -10.150797,
                    -7.80899,
                    -21.199213,
                    -36.40022,
                    22.667812,
                    -26.480646,
                    -7.196716,
                    5.1564636,
                    -16.141603,
                    -21.055218,
                    8.03055,
                    -26.922148,
                    -4.8837023,
                    29.027607,
                    4.417708,
                    -7.2300744,
                    -0.6324476,
                    8.988541,
                    -17.749073,
                    19.44386,
                    42.00524,
                    -14.27248,
                    -1.6751739,
                    -9.366277,
                    12.187946,
                    10.4171715,
                    -19.74251,
                    0.86264974,
                    8.624443,
                    21.167143,
                    29.242481,
                    -25.289614,
                    18.25158,
                    24.84049,
                    -11.090246,
                    6.9741454,
                    32.12864,
                    -23.84472,
                    19.57378,
                    5.0679293,
                    -13.128291,
                    17.466602,
                    24.077202,
                    -40.47448,
                    -15.649665,
                    -19.242842,
                    -32.688847,
                    40.078865,
                    20.267874,
                    -2.8138888,
                    -3.0887823,
                    30.07525,
                    -24.532648,
                    7.020173,
                    17.676554,
                    -20.468388,
                    -11.977779,
                    27.182796,
                    5.941883,
                    8.379416,
                    -0.89795923,
                    -9.353953,
                    -5.2182245,
                    32.519188,
                    -37.62293,
                    -31.525837,
                    40.627636,
                    -15.122808,
                    38.651985,
                    26.914724,
                    -0.08192192,
                    16.781801,
                    11.953292,
                    41.64246,
                    -13.007624,
                    -37.927692,
                    -4.6381273,
                    -0.47283873,
                    -31.20426,
                    8.345104,
                    24.494623,
                    -0.8143799
                  ],
                  "z": [
                    6.9053383,
                    22.23246,
                    -44.33386,
                    -12.541596,
                    -6.8393946,
                    -11.042992,
                    -30.221142,
                    -41.321693,
                    -32.837242,
                    -39.68674,
                    67.10323,
                    -31.360363,
                    -22.44198,
                    -1.4511354,
                    -41.669056,
                    0.026179869,
                    -29.232481,
                    -55.429085,
                    -1.1055628,
                    -40.065704,
                    -27.018135,
                    -48.25577,
                    -9.982517,
                    -40.392612,
                    -29.235703,
                    -40.38893,
                    -27.593237,
                    -41.254093,
                    -0.82294965,
                    6.859646,
                    -44.115875,
                    2.8840876,
                    -30.483938,
                    -12.000799,
                    -40.189804,
                    -15.711956,
                    -31.196997,
                    -16.83074,
                    -55.666344,
                    -25.031282,
                    -49.975906,
                    -16.1985,
                    12.441507,
                    -20.833212,
                    -44.408283,
                    -7.646364,
                    -35.903175,
                    -55.468563,
                    -36.773922,
                    -11.910896,
                    -35.738758,
                    14.044817,
                    -34.082893,
                    -46.056297,
                    -28.55076,
                    -27.228834,
                    -22.571077,
                    -17.9209,
                    11.752971,
                    -21.162592,
                    -7.110272,
                    -37.56758,
                    0.92954266,
                    -2.4744942,
                    -52.249344,
                    -43.2311,
                    6.8337417,
                    -6.8364453,
                    3.541955,
                    -55.806473,
                    15.811994,
                    -31.447948,
                    -31.871658,
                    -26.505262,
                    -41.812065,
                    -0.8112799,
                    6.7873363,
                    -16.215607,
                    -44.029343,
                    -8.540869,
                    12.303772,
                    -27.043676,
                    -29.866972,
                    -41.18255,
                    -41.591022,
                    -50.20876,
                    -35.744743,
                    -55.075226,
                    21.360683,
                    -27.304922,
                    -61.743435
                  ]
                },
                {
                  "customdata": [
                    [
                      "Palau"
                    ],
                    [
                      "Kiribati"
                    ],
                    [
                      "Micronesia, Fed. Sts."
                    ],
                    [
                      "Belgium"
                    ],
                    [
                      "United Kingdom"
                    ],
                    [
                      "United States"
                    ],
                    [
                      "Austria"
                    ],
                    [
                      "Australia"
                    ],
                    [
                      "Finland"
                    ],
                    [
                      "France"
                    ],
                    [
                      "Portugal"
                    ],
                    [
                      "Germany"
                    ],
                    [
                      "Cuba"
                    ],
                    [
                      "Croatia"
                    ],
                    [
                      "Italy"
                    ],
                    [
                      "Slovenia"
                    ],
                    [
                      "Costa Rica"
                    ],
                    [
                      "Spain"
                    ],
                    [
                      "Iceland"
                    ],
                    [
                      "New Zealand"
                    ],
                    [
                      "Netherlands"
                    ],
                    [
                      "Czech Republic"
                    ],
                    [
                      "Luxembourg"
                    ],
                    [
                      "Denmark"
                    ],
                    [
                      "Norway"
                    ],
                    [
                      "Sweden"
                    ],
                    [
                      "Switzerland"
                    ],
                    [
                      "Canada"
                    ],
                    [
                      "Japan"
                    ]
                  ],
                  "hovertemplate": "Cluster=Cluster 2<br>0=%{x}<br>1=%{y}<br>2=%{z}<br>Feature=%{customdata[0]}<extra></extra>",
                  "legendgroup": "Cluster 2",
                  "marker": {
                    "color": "#00cc96",
                    "opacity": 0.7,
                    "symbol": "circle"
                  },
                  "mode": "markers",
                  "name": "Cluster 2",
                  "scene": "scene",
                  "showlegend": true,
                  "type": "scatter3d",
                  "x": [
                    -66.3935,
                    -57.596962,
                    -61.721077,
                    -67.31514,
                    -60.56552,
                    -77.973564,
                    -68.43658,
                    -52.416027,
                    -52.297935,
                    -69.97871,
                    -76.838486,
                    -57.160107,
                    -59.319996,
                    -62.498947,
                    -71.85854,
                    -63.717255,
                    -61.510563,
                    -66.02264,
                    -54.31849,
                    -74.63261,
                    -67.96448,
                    -50.922966,
                    -77.134254,
                    -63.008297,
                    -53.483444,
                    -77.75573,
                    -70.262566,
                    -63.147102,
                    -77.915886
                  ],
                  "y": [
                    8.669701,
                    41.76128,
                    37.75099,
                    12.953152,
                    1.4890589,
                    9.019508,
                    22.33031,
                    -18.222004,
                    -3.671905,
                    36.171474,
                    -17.906418,
                    31.042898,
                    18.138885,
                    -14.362108,
                    -4.4605603,
                    -5.526101,
                    -14.040967,
                    -21.753279,
                    16.96361,
                    17.888868,
                    6.131578,
                    -4.9955378,
                    -10.72038,
                    27.830126,
                    18.225859,
                    25.408543,
                    -9.5324135,
                    7.300823,
                    4.13913
                  ],
                  "z": [
                    48.51492,
                    24.407227,
                    8.674708,
                    20.654913,
                    17.102636,
                    30.142809,
                    35.153904,
                    35.27076,
                    28.466839,
                    30.775797,
                    26.895054,
                    35.769634,
                    5.187264,
                    49.743523,
                    27.494791,
                    38.55266,
                    24.489393,
                    36.77448,
                    41.410206,
                    8.570509,
                    3.0882673,
                    43.78905,
                    40.550106,
                    20.169619,
                    26.814602,
                    22.93822,
                    13.971981,
                    32.27702,
                    16.187595
                  ]
                },
                {
                  "customdata": [
                    [
                      "Nauru"
                    ],
                    [
                      "Tuvalu"
                    ],
                    [
                      "Marshall Islands"
                    ]
                  ],
                  "hovertemplate": "Cluster=Cluster 3<br>0=%{x}<br>1=%{y}<br>2=%{z}<br>Feature=%{customdata[0]}<extra></extra>",
                  "legendgroup": "Cluster 3",
                  "marker": {
                    "color": "#ab63fa",
                    "opacity": 0.7,
                    "symbol": "circle"
                  },
                  "mode": "markers",
                  "name": "Cluster 3",
                  "scene": "scene",
                  "showlegend": true,
                  "type": "scatter3d",
                  "x": [
                    -43.77538,
                    -47.018368,
                    -42.99181
                  ],
                  "y": [
                    38.088657,
                    44.078125,
                    32.444687
                  ],
                  "z": [
                    28.107883,
                    10.321824,
                    13.273093
                  ]
                }
              ],
              "layout": {
                "height": 800,
                "legend": {
                  "title": {
                    "text": "Cluster"
                  },
                  "tracegroupgap": 0
                },
                "scene": {
                  "domain": {
                    "x": [
                      0,
                      1
                    ],
                    "y": [
                      0,
                      1
                    ]
                  },
                  "xaxis": {
                    "title": {
                      "text": "0"
                    }
                  },
                  "yaxis": {
                    "title": {
                      "text": "1"
                    }
                  },
                  "zaxis": {
                    "title": {
                      "text": "2"
                    }
                  }
                },
                "template": {
                  "data": {
                    "bar": [
                      {
                        "error_x": {
                          "color": "#2a3f5f"
                        },
                        "error_y": {
                          "color": "#2a3f5f"
                        },
                        "marker": {
                          "line": {
                            "color": "#E5ECF6",
                            "width": 0.5
                          },
                          "pattern": {
                            "fillmode": "overlay",
                            "size": 10,
                            "solidity": 0.2
                          }
                        },
                        "type": "bar"
                      }
                    ],
                    "barpolar": [
                      {
                        "marker": {
                          "line": {
                            "color": "#E5ECF6",
                            "width": 0.5
                          },
                          "pattern": {
                            "fillmode": "overlay",
                            "size": 10,
                            "solidity": 0.2
                          }
                        },
                        "type": "barpolar"
                      }
                    ],
                    "carpet": [
                      {
                        "aaxis": {
                          "endlinecolor": "#2a3f5f",
                          "gridcolor": "white",
                          "linecolor": "white",
                          "minorgridcolor": "white",
                          "startlinecolor": "#2a3f5f"
                        },
                        "baxis": {
                          "endlinecolor": "#2a3f5f",
                          "gridcolor": "white",
                          "linecolor": "white",
                          "minorgridcolor": "white",
                          "startlinecolor": "#2a3f5f"
                        },
                        "type": "carpet"
                      }
                    ],
                    "choropleth": [
                      {
                        "colorbar": {
                          "outlinewidth": 0,
                          "ticks": ""
                        },
                        "type": "choropleth"
                      }
                    ],
                    "contour": [
                      {
                        "colorbar": {
                          "outlinewidth": 0,
                          "ticks": ""
                        },
                        "colorscale": [
                          [
                            0,
                            "#0d0887"
                          ],
                          [
                            0.1111111111111111,
                            "#46039f"
                          ],
                          [
                            0.2222222222222222,
                            "#7201a8"
                          ],
                          [
                            0.3333333333333333,
                            "#9c179e"
                          ],
                          [
                            0.4444444444444444,
                            "#bd3786"
                          ],
                          [
                            0.5555555555555556,
                            "#d8576b"
                          ],
                          [
                            0.6666666666666666,
                            "#ed7953"
                          ],
                          [
                            0.7777777777777778,
                            "#fb9f3a"
                          ],
                          [
                            0.8888888888888888,
                            "#fdca26"
                          ],
                          [
                            1,
                            "#f0f921"
                          ]
                        ],
                        "type": "contour"
                      }
                    ],
                    "contourcarpet": [
                      {
                        "colorbar": {
                          "outlinewidth": 0,
                          "ticks": ""
                        },
                        "type": "contourcarpet"
                      }
                    ],
                    "heatmap": [
                      {
                        "colorbar": {
                          "outlinewidth": 0,
                          "ticks": ""
                        },
                        "colorscale": [
                          [
                            0,
                            "#0d0887"
                          ],
                          [
                            0.1111111111111111,
                            "#46039f"
                          ],
                          [
                            0.2222222222222222,
                            "#7201a8"
                          ],
                          [
                            0.3333333333333333,
                            "#9c179e"
                          ],
                          [
                            0.4444444444444444,
                            "#bd3786"
                          ],
                          [
                            0.5555555555555556,
                            "#d8576b"
                          ],
                          [
                            0.6666666666666666,
                            "#ed7953"
                          ],
                          [
                            0.7777777777777778,
                            "#fb9f3a"
                          ],
                          [
                            0.8888888888888888,
                            "#fdca26"
                          ],
                          [
                            1,
                            "#f0f921"
                          ]
                        ],
                        "type": "heatmap"
                      }
                    ],
                    "heatmapgl": [
                      {
                        "colorbar": {
                          "outlinewidth": 0,
                          "ticks": ""
                        },
                        "colorscale": [
                          [
                            0,
                            "#0d0887"
                          ],
                          [
                            0.1111111111111111,
                            "#46039f"
                          ],
                          [
                            0.2222222222222222,
                            "#7201a8"
                          ],
                          [
                            0.3333333333333333,
                            "#9c179e"
                          ],
                          [
                            0.4444444444444444,
                            "#bd3786"
                          ],
                          [
                            0.5555555555555556,
                            "#d8576b"
                          ],
                          [
                            0.6666666666666666,
                            "#ed7953"
                          ],
                          [
                            0.7777777777777778,
                            "#fb9f3a"
                          ],
                          [
                            0.8888888888888888,
                            "#fdca26"
                          ],
                          [
                            1,
                            "#f0f921"
                          ]
                        ],
                        "type": "heatmapgl"
                      }
                    ],
                    "histogram": [
                      {
                        "marker": {
                          "pattern": {
                            "fillmode": "overlay",
                            "size": 10,
                            "solidity": 0.2
                          }
                        },
                        "type": "histogram"
                      }
                    ],
                    "histogram2d": [
                      {
                        "colorbar": {
                          "outlinewidth": 0,
                          "ticks": ""
                        },
                        "colorscale": [
                          [
                            0,
                            "#0d0887"
                          ],
                          [
                            0.1111111111111111,
                            "#46039f"
                          ],
                          [
                            0.2222222222222222,
                            "#7201a8"
                          ],
                          [
                            0.3333333333333333,
                            "#9c179e"
                          ],
                          [
                            0.4444444444444444,
                            "#bd3786"
                          ],
                          [
                            0.5555555555555556,
                            "#d8576b"
                          ],
                          [
                            0.6666666666666666,
                            "#ed7953"
                          ],
                          [
                            0.7777777777777778,
                            "#fb9f3a"
                          ],
                          [
                            0.8888888888888888,
                            "#fdca26"
                          ],
                          [
                            1,
                            "#f0f921"
                          ]
                        ],
                        "type": "histogram2d"
                      }
                    ],
                    "histogram2dcontour": [
                      {
                        "colorbar": {
                          "outlinewidth": 0,
                          "ticks": ""
                        },
                        "colorscale": [
                          [
                            0,
                            "#0d0887"
                          ],
                          [
                            0.1111111111111111,
                            "#46039f"
                          ],
                          [
                            0.2222222222222222,
                            "#7201a8"
                          ],
                          [
                            0.3333333333333333,
                            "#9c179e"
                          ],
                          [
                            0.4444444444444444,
                            "#bd3786"
                          ],
                          [
                            0.5555555555555556,
                            "#d8576b"
                          ],
                          [
                            0.6666666666666666,
                            "#ed7953"
                          ],
                          [
                            0.7777777777777778,
                            "#fb9f3a"
                          ],
                          [
                            0.8888888888888888,
                            "#fdca26"
                          ],
                          [
                            1,
                            "#f0f921"
                          ]
                        ],
                        "type": "histogram2dcontour"
                      }
                    ],
                    "mesh3d": [
                      {
                        "colorbar": {
                          "outlinewidth": 0,
                          "ticks": ""
                        },
                        "type": "mesh3d"
                      }
                    ],
                    "parcoords": [
                      {
                        "line": {
                          "colorbar": {
                            "outlinewidth": 0,
                            "ticks": ""
                          }
                        },
                        "type": "parcoords"
                      }
                    ],
                    "pie": [
                      {
                        "automargin": true,
                        "type": "pie"
                      }
                    ],
                    "scatter": [
                      {
                        "fillpattern": {
                          "fillmode": "overlay",
                          "size": 10,
                          "solidity": 0.2
                        },
                        "type": "scatter"
                      }
                    ],
                    "scatter3d": [
                      {
                        "line": {
                          "colorbar": {
                            "outlinewidth": 0,
                            "ticks": ""
                          }
                        },
                        "marker": {
                          "colorbar": {
                            "outlinewidth": 0,
                            "ticks": ""
                          }
                        },
                        "type": "scatter3d"
                      }
                    ],
                    "scattercarpet": [
                      {
                        "marker": {
                          "colorbar": {
                            "outlinewidth": 0,
                            "ticks": ""
                          }
                        },
                        "type": "scattercarpet"
                      }
                    ],
                    "scattergeo": [
                      {
                        "marker": {
                          "colorbar": {
                            "outlinewidth": 0,
                            "ticks": ""
                          }
                        },
                        "type": "scattergeo"
                      }
                    ],
                    "scattergl": [
                      {
                        "marker": {
                          "colorbar": {
                            "outlinewidth": 0,
                            "ticks": ""
                          }
                        },
                        "type": "scattergl"
                      }
                    ],
                    "scattermapbox": [
                      {
                        "marker": {
                          "colorbar": {
                            "outlinewidth": 0,
                            "ticks": ""
                          }
                        },
                        "type": "scattermapbox"
                      }
                    ],
                    "scatterpolar": [
                      {
                        "marker": {
                          "colorbar": {
                            "outlinewidth": 0,
                            "ticks": ""
                          }
                        },
                        "type": "scatterpolar"
                      }
                    ],
                    "scatterpolargl": [
                      {
                        "marker": {
                          "colorbar": {
                            "outlinewidth": 0,
                            "ticks": ""
                          }
                        },
                        "type": "scatterpolargl"
                      }
                    ],
                    "scatterternary": [
                      {
                        "marker": {
                          "colorbar": {
                            "outlinewidth": 0,
                            "ticks": ""
                          }
                        },
                        "type": "scatterternary"
                      }
                    ],
                    "surface": [
                      {
                        "colorbar": {
                          "outlinewidth": 0,
                          "ticks": ""
                        },
                        "colorscale": [
                          [
                            0,
                            "#0d0887"
                          ],
                          [
                            0.1111111111111111,
                            "#46039f"
                          ],
                          [
                            0.2222222222222222,
                            "#7201a8"
                          ],
                          [
                            0.3333333333333333,
                            "#9c179e"
                          ],
                          [
                            0.4444444444444444,
                            "#bd3786"
                          ],
                          [
                            0.5555555555555556,
                            "#d8576b"
                          ],
                          [
                            0.6666666666666666,
                            "#ed7953"
                          ],
                          [
                            0.7777777777777778,
                            "#fb9f3a"
                          ],
                          [
                            0.8888888888888888,
                            "#fdca26"
                          ],
                          [
                            1,
                            "#f0f921"
                          ]
                        ],
                        "type": "surface"
                      }
                    ],
                    "table": [
                      {
                        "cells": {
                          "fill": {
                            "color": "#EBF0F8"
                          },
                          "line": {
                            "color": "white"
                          }
                        },
                        "header": {
                          "fill": {
                            "color": "#C8D4E3"
                          },
                          "line": {
                            "color": "white"
                          }
                        },
                        "type": "table"
                      }
                    ]
                  },
                  "layout": {
                    "annotationdefaults": {
                      "arrowcolor": "#2a3f5f",
                      "arrowhead": 0,
                      "arrowwidth": 1
                    },
                    "autotypenumbers": "strict",
                    "coloraxis": {
                      "colorbar": {
                        "outlinewidth": 0,
                        "ticks": ""
                      }
                    },
                    "colorscale": {
                      "diverging": [
                        [
                          0,
                          "#8e0152"
                        ],
                        [
                          0.1,
                          "#c51b7d"
                        ],
                        [
                          0.2,
                          "#de77ae"
                        ],
                        [
                          0.3,
                          "#f1b6da"
                        ],
                        [
                          0.4,
                          "#fde0ef"
                        ],
                        [
                          0.5,
                          "#f7f7f7"
                        ],
                        [
                          0.6,
                          "#e6f5d0"
                        ],
                        [
                          0.7,
                          "#b8e186"
                        ],
                        [
                          0.8,
                          "#7fbc41"
                        ],
                        [
                          0.9,
                          "#4d9221"
                        ],
                        [
                          1,
                          "#276419"
                        ]
                      ],
                      "sequential": [
                        [
                          0,
                          "#0d0887"
                        ],
                        [
                          0.1111111111111111,
                          "#46039f"
                        ],
                        [
                          0.2222222222222222,
                          "#7201a8"
                        ],
                        [
                          0.3333333333333333,
                          "#9c179e"
                        ],
                        [
                          0.4444444444444444,
                          "#bd3786"
                        ],
                        [
                          0.5555555555555556,
                          "#d8576b"
                        ],
                        [
                          0.6666666666666666,
                          "#ed7953"
                        ],
                        [
                          0.7777777777777778,
                          "#fb9f3a"
                        ],
                        [
                          0.8888888888888888,
                          "#fdca26"
                        ],
                        [
                          1,
                          "#f0f921"
                        ]
                      ],
                      "sequentialminus": [
                        [
                          0,
                          "#0d0887"
                        ],
                        [
                          0.1111111111111111,
                          "#46039f"
                        ],
                        [
                          0.2222222222222222,
                          "#7201a8"
                        ],
                        [
                          0.3333333333333333,
                          "#9c179e"
                        ],
                        [
                          0.4444444444444444,
                          "#bd3786"
                        ],
                        [
                          0.5555555555555556,
                          "#d8576b"
                        ],
                        [
                          0.6666666666666666,
                          "#ed7953"
                        ],
                        [
                          0.7777777777777778,
                          "#fb9f3a"
                        ],
                        [
                          0.8888888888888888,
                          "#fdca26"
                        ],
                        [
                          1,
                          "#f0f921"
                        ]
                      ]
                    },
                    "colorway": [
                      "#636efa",
                      "#EF553B",
                      "#00cc96",
                      "#ab63fa",
                      "#FFA15A",
                      "#19d3f3",
                      "#FF6692",
                      "#B6E880",
                      "#FF97FF",
                      "#FECB52"
                    ],
                    "font": {
                      "color": "#2a3f5f"
                    },
                    "geo": {
                      "bgcolor": "white",
                      "lakecolor": "white",
                      "landcolor": "#E5ECF6",
                      "showlakes": true,
                      "showland": true,
                      "subunitcolor": "white"
                    },
                    "hoverlabel": {
                      "align": "left"
                    },
                    "hovermode": "closest",
                    "mapbox": {
                      "style": "light"
                    },
                    "paper_bgcolor": "white",
                    "plot_bgcolor": "#E5ECF6",
                    "polar": {
                      "angularaxis": {
                        "gridcolor": "white",
                        "linecolor": "white",
                        "ticks": ""
                      },
                      "bgcolor": "#E5ECF6",
                      "radialaxis": {
                        "gridcolor": "white",
                        "linecolor": "white",
                        "ticks": ""
                      }
                    },
                    "scene": {
                      "xaxis": {
                        "backgroundcolor": "#E5ECF6",
                        "gridcolor": "white",
                        "gridwidth": 2,
                        "linecolor": "white",
                        "showbackground": true,
                        "ticks": "",
                        "zerolinecolor": "white"
                      },
                      "yaxis": {
                        "backgroundcolor": "#E5ECF6",
                        "gridcolor": "white",
                        "gridwidth": 2,
                        "linecolor": "white",
                        "showbackground": true,
                        "ticks": "",
                        "zerolinecolor": "white"
                      },
                      "zaxis": {
                        "backgroundcolor": "#E5ECF6",
                        "gridcolor": "white",
                        "gridwidth": 2,
                        "linecolor": "white",
                        "showbackground": true,
                        "ticks": "",
                        "zerolinecolor": "white"
                      }
                    },
                    "shapedefaults": {
                      "line": {
                        "color": "#2a3f5f"
                      }
                    },
                    "ternary": {
                      "aaxis": {
                        "gridcolor": "white",
                        "linecolor": "white",
                        "ticks": ""
                      },
                      "baxis": {
                        "gridcolor": "white",
                        "linecolor": "white",
                        "ticks": ""
                      },
                      "bgcolor": "#E5ECF6",
                      "caxis": {
                        "gridcolor": "white",
                        "linecolor": "white",
                        "ticks": ""
                      }
                    },
                    "title": {
                      "x": 0.05
                    },
                    "xaxis": {
                      "automargin": true,
                      "gridcolor": "white",
                      "linecolor": "white",
                      "ticks": "",
                      "title": {
                        "standoff": 15
                      },
                      "zerolinecolor": "white",
                      "zerolinewidth": 2
                    },
                    "yaxis": {
                      "automargin": true,
                      "gridcolor": "white",
                      "linecolor": "white",
                      "ticks": "",
                      "title": {
                        "standoff": 15
                      },
                      "zerolinecolor": "white",
                      "zerolinewidth": 2
                    }
                  }
                },
                "title": {
                  "text": "3d TSNE Plot for Clusters"
                },
                "width": 900
              }
            }
          },
          "metadata": {},
          "output_type": "display_data"
        }
      ],
      "source": [
        "# same plot as above in 3d\n",
        "plot_model(kmeans, plot = 'tsne')"
      ]
    },
    {
      "cell_type": "code",
      "execution_count": 23,
      "metadata": {
        "colab": {
          "base_uri": "https://localhost:8080/",
          "height": 617
        },
        "id": "8Eq8UVEM7nky",
        "outputId": "8b43b3e3-61b0-4cac-e640-d040a2b06608"
      },
      "outputs": [
        {
          "data": {
            "text/html": [],
            "text/plain": [
              "<IPython.core.display.HTML object>"
            ]
          },
          "metadata": {},
          "output_type": "display_data"
        },
        {
          "data": {
            "application/vnd.plotly.v1+json": {
              "config": {
                "plotlyServerURL": "https://plot.ly"
              },
              "data": [
                {
                  "alignmentgroup": "True",
                  "bingroup": "x",
                  "hovertemplate": "Cluster=%{x}<br>count=%{y}<extra></extra>",
                  "legendgroup": "Cluster 0",
                  "marker": {
                    "color": "#636efa",
                    "opacity": 0.7,
                    "pattern": {
                      "shape": ""
                    }
                  },
                  "name": "Cluster 0",
                  "offsetgroup": "Cluster 0",
                  "orientation": "v",
                  "showlegend": true,
                  "type": "histogram",
                  "x": [
                    "Cluster 0",
                    "Cluster 0",
                    "Cluster 0",
                    "Cluster 0",
                    "Cluster 0",
                    "Cluster 0",
                    "Cluster 0",
                    "Cluster 0",
                    "Cluster 0",
                    "Cluster 0",
                    "Cluster 0",
                    "Cluster 0",
                    "Cluster 0",
                    "Cluster 0",
                    "Cluster 0",
                    "Cluster 0",
                    "Cluster 0",
                    "Cluster 0",
                    "Cluster 0",
                    "Cluster 0",
                    "Cluster 0",
                    "Cluster 0",
                    "Cluster 0",
                    "Cluster 0",
                    "Cluster 0",
                    "Cluster 0",
                    "Cluster 0",
                    "Cluster 0",
                    "Cluster 0",
                    "Cluster 0",
                    "Cluster 0",
                    "Cluster 0",
                    "Cluster 0",
                    "Cluster 0",
                    "Cluster 0",
                    "Cluster 0",
                    "Cluster 0",
                    "Cluster 0",
                    "Cluster 0",
                    "Cluster 0",
                    "Cluster 0",
                    "Cluster 0",
                    "Cluster 0",
                    "Cluster 0",
                    "Cluster 0",
                    "Cluster 0",
                    "Cluster 0",
                    "Cluster 0",
                    "Cluster 0",
                    "Cluster 0",
                    "Cluster 0",
                    "Cluster 0",
                    "Cluster 0",
                    "Cluster 0",
                    "Cluster 0",
                    "Cluster 0",
                    "Cluster 0",
                    "Cluster 0",
                    "Cluster 0",
                    "Cluster 0",
                    "Cluster 0"
                  ],
                  "xaxis": "x",
                  "yaxis": "y"
                },
                {
                  "alignmentgroup": "True",
                  "customdata": [
                    [
                      4.2424765,
                      4.991737,
                      5.0616364,
                      3.14491,
                      2.9430094,
                      3.2063487,
                      3.733964,
                      3.7355936,
                      3.4963758,
                      3.7119708,
                      3.744333,
                      3.6318824,
                      3.7155356,
                      3.1448133,
                      3.1234171,
                      2.7085514,
                      2.744397,
                      3.2358553,
                      3.0542297,
                      3.0439246
                    ],
                    [
                      2.4495378,
                      2.5857062,
                      2.979204,
                      3.1665812,
                      3.3732443,
                      3.2561626,
                      5.895056,
                      6.716728,
                      6.024921,
                      7.601456,
                      5.4705844,
                      5.059123,
                      3.1238432,
                      3.0754132,
                      3.2208812,
                      3.183411,
                      4.041347,
                      3.6532795,
                      3.9060037,
                      3.4655428
                    ],
                    [
                      3.9050374,
                      4.224738,
                      3.9837484,
                      3.828607,
                      4.0329013,
                      3.852713,
                      4.2103915,
                      4.4978085,
                      4.349887,
                      4.242001,
                      4.298902,
                      4.31321,
                      4.42036,
                      4.935316,
                      5.0971813,
                      4.902807,
                      4.7103558,
                      4.5775156,
                      4.534425,
                      4.5076394
                    ],
                    [
                      2.397777,
                      2.3537192,
                      3.3087964,
                      2.8352914,
                      3.34416,
                      3.5136998,
                      3.5341916,
                      3.7578328,
                      4.4933844,
                      4.0521398,
                      4.3987236,
                      4.0307856,
                      4.278891,
                      4.374198,
                      4.3919683,
                      4.6866055,
                      4.3780785,
                      4.397386,
                      4.5202947,
                      4.474478
                    ],
                    [
                      3.962243,
                      3.965474,
                      5.026415,
                      4.308861,
                      3.585441,
                      3.2468243,
                      3.3286371,
                      3.530757,
                      3.2987084,
                      3.090937,
                      3.2304788,
                      3.3543608,
                      3.452891,
                      3.5201373,
                      4.159022,
                      3.6969454,
                      3.5824554,
                      3.7958388,
                      3.7073014,
                      3.6909227
                    ],
                    [
                      5.671495,
                      5.809624,
                      5.5179086,
                      4.797025,
                      4.5364375,
                      4.075515,
                      3.817487,
                      3.7357259,
                      3.7750092,
                      3.8771176,
                      3.8500416,
                      3.6735492,
                      3.8992426,
                      4.7124233,
                      5.216717,
                      4.9273467,
                      4.6258855,
                      5.1157618,
                      5.138603,
                      5.028396
                    ],
                    [
                      3.3907166,
                      3.0107238,
                      3.338795,
                      3.926949,
                      4.2695017,
                      4.11545,
                      3.8480222,
                      3.9408514,
                      3.6494915,
                      3.596861,
                      3.5879326,
                      3.9255664,
                      4.509783,
                      3.8248453,
                      4.3410316,
                      4.9852242,
                      5.1016827,
                      4.3376412,
                      6.2166677,
                      6.536869
                    ],
                    [
                      4.563939,
                      4.383787,
                      4.3124433,
                      4.248369,
                      4.3006797,
                      4.3854,
                      4.2968097,
                      4.269449,
                      3.9072685,
                      3.8323774,
                      3.7497485,
                      3.522373,
                      3.5415442,
                      3.6162639,
                      4.204063,
                      4.6474504,
                      5.3223577,
                      5.865948,
                      5.656072,
                      5.7360587
                    ],
                    [
                      2.4567654,
                      3.1063273,
                      3.204773,
                      3.6835754,
                      3.651733,
                      3.7963028,
                      3.7534487,
                      3.8056803,
                      3.7501736,
                      3.6353042,
                      3.8125532,
                      4.1531386,
                      3.7447696,
                      3.7067149,
                      4.133697,
                      4.2901206,
                      4.3279033,
                      4.210471,
                      4.632292,
                      4.469508
                    ],
                    [
                      2.8050795,
                      1.9668108,
                      2.9381843,
                      2.9092364,
                      3.8562996,
                      3.8239758,
                      3.7920382,
                      3.8456142,
                      6.0386157,
                      5.1383615,
                      5.2933044,
                      2.5410378,
                      2.1379077,
                      1.5920762,
                      2.5073528,
                      2.537331,
                      2.6053126,
                      2.4823043,
                      3.586817,
                      3.6122546
                    ],
                    [
                      4.9963975,
                      5.1359534,
                      5.5549965,
                      6.489321,
                      5.341639,
                      4.7877665,
                      4.6311126,
                      5.191571,
                      5.226035,
                      5.0392895,
                      4.781615,
                      4.8767495,
                      4.4458675,
                      4.747492,
                      4.4568577,
                      4.2929034,
                      4.2729325,
                      4.425397,
                      4.204269,
                      4.1014204
                    ],
                    [
                      4.159861,
                      4.217262,
                      4.3700366,
                      4.155978,
                      4.1499515,
                      3.3083966,
                      3.238264,
                      3.2902727,
                      3.173776,
                      2.974158,
                      3.0197,
                      3.094683,
                      3.0779197,
                      2.9695103,
                      3.6526046,
                      4.0471826,
                      3.97439,
                      3.669364,
                      3.8122168,
                      3.767973
                    ],
                    [
                      2.3841484,
                      2.3182936,
                      2.8329206,
                      3.6097572,
                      4.4071484,
                      3.9005063,
                      3.4863803,
                      3.5164495,
                      4.1676965,
                      4.6008883,
                      4.939468,
                      4.702732,
                      5.3376007,
                      5.7456326,
                      5.9572062,
                      5.149939,
                      5.019684,
                      5.258886,
                      5.3224173,
                      6.750848
                    ],
                    [
                      4.267817,
                      4.267817,
                      4.267817,
                      4.267817,
                      4.267817,
                      4.267817,
                      4.600455,
                      5.837583,
                      5.7669487,
                      5.672611,
                      5.742701,
                      5.664904,
                      6.1466217,
                      6.228212,
                      6.126576,
                      6.2419915,
                      6.039683,
                      6.049713,
                      5.984362,
                      6.416506
                    ],
                    [
                      4.222966,
                      4.451644,
                      4.8204694,
                      4.1857996,
                      4.236397,
                      3.7856147,
                      3.7586765,
                      3.6364589,
                      4.145567,
                      3.8126106,
                      3.6201293,
                      3.457911,
                      3.0607288,
                      2.4051185,
                      2.413078,
                      3.2088597,
                      3.1987717,
                      3.7978926,
                      3.3356996,
                      3.1072428
                    ],
                    [
                      5.367669,
                      5.70826,
                      5.3028398,
                      5.179372,
                      5.1579027,
                      4.915242,
                      4.9148498,
                      5.0137067,
                      5.138875,
                      5.319742,
                      5.2410583,
                      5.020216,
                      5.184302,
                      5.4353,
                      6.0120344,
                      5.7971306,
                      5.6439047,
                      5.679221,
                      5.788082,
                      5.839599
                    ],
                    [
                      4.3013597,
                      4.3256474,
                      4.232331,
                      4.118548,
                      4.3404264,
                      4.562211,
                      5.1460705,
                      5.0556464,
                      5.1468687,
                      4.9087377,
                      5.627319,
                      5.7908325,
                      5.6778283,
                      5.8498588,
                      6.78108,
                      6.216354,
                      6.682802,
                      6.2744303,
                      6.0662875,
                      4.985039
                    ],
                    [
                      3.0135176,
                      2.7842827,
                      3.0470417,
                      3.2772145,
                      3.5447922,
                      4.2995214,
                      6.1623373,
                      5.8209577,
                      5.537966,
                      5.1809373,
                      7.3705587,
                      6.2055073,
                      5.9541655,
                      5.5227323,
                      7.45379,
                      7.0228953,
                      4.6962504,
                      5.094695,
                      4.9906955,
                      4.6404824
                    ],
                    [
                      5.2465816,
                      4.628785,
                      4.8750496,
                      4.7271895,
                      4.5433517,
                      5.2846265,
                      5.1797585,
                      5.544148,
                      5.0467014,
                      5.6885743,
                      5.2054033,
                      4.7207794,
                      4.048878,
                      4.6664524,
                      5.6327653,
                      5.650022,
                      5.0897326,
                      4.97152,
                      5.80401,
                      5.878366
                    ],
                    [
                      2.8665795,
                      2.4606075,
                      2.3729522,
                      2.9239085,
                      2.9027574,
                      3.5929701,
                      3.616459,
                      3.9061685,
                      4.733087,
                      4.207177,
                      3.9058986,
                      3.4889703,
                      3.6394694,
                      3.7255735,
                      4.5541716,
                      4.2156105,
                      3.916842,
                      4.4536476,
                      4.4570746,
                      4.4178343
                    ],
                    [
                      3.9852178,
                      3.9310043,
                      4.161432,
                      4.616116,
                      4.646192,
                      4.5019293,
                      4.547919,
                      4.792172,
                      4.9298754,
                      3.8324728,
                      3.9536645,
                      4.306716,
                      4.542177,
                      4.784196,
                      5.4855466,
                      5.0209556,
                      4.7391367,
                      4.3495393,
                      4.3126307,
                      4.4468894
                    ],
                    [
                      3.6626136,
                      3.6030939,
                      3.5440886,
                      4.648467,
                      4.749579,
                      5.119448,
                      3.700268,
                      3.5671825,
                      3.7782009,
                      3.8768778,
                      7.12665,
                      5.2378306,
                      4.5532675,
                      7.025878,
                      6.7297115,
                      5.273435,
                      5.608782,
                      6.5029273,
                      8.263833,
                      10.757052
                    ],
                    [
                      3.5622592,
                      3.7805336,
                      3.117609,
                      3.2720442,
                      3.2392335,
                      3.474021,
                      4.37251,
                      3.8313193,
                      4.0348806,
                      3.9382918,
                      3.309584,
                      4.1757107,
                      5.5975122,
                      6.059684,
                      7.000414,
                      8.079926,
                      9.087436,
                      8.4473505,
                      8.408565,
                      8.082168
                    ],
                    [
                      3.820165,
                      3.5258703,
                      3.4596157,
                      3.6262617,
                      3.7286572,
                      3.2654467,
                      3.157708,
                      3.279068,
                      3.249523,
                      3.684698,
                      3.6371512,
                      4.357857,
                      4.255979,
                      4.124515,
                      4.0700417,
                      3.9402583,
                      3.8734014,
                      3.5769553,
                      3.539843,
                      3.715232
                    ],
                    [
                      3.8195179,
                      4.1053452,
                      4.3843846,
                      4.443697,
                      4.3936563,
                      4.742395,
                      4.8342676,
                      5.429401,
                      5.542024,
                      5.653686,
                      5.997449,
                      6.046313,
                      5.4822407,
                      5.1562324,
                      5.2500286,
                      5.219545,
                      6.4620123,
                      6.6252346,
                      6.5542827,
                      6.7434306
                    ],
                    [
                      5.815895,
                      6.7097974,
                      6.075025,
                      4.323723,
                      2.901964,
                      3.229713,
                      3.2075372,
                      4.04061,
                      3.9671965,
                      4.18238,
                      4.1761394,
                      4.718684,
                      4.9197083,
                      5.3898478,
                      6.0594373,
                      5.6214786,
                      5.31154,
                      5.517523,
                      5.03134,
                      5.3039885
                    ],
                    [
                      2.7828047,
                      2.7220316,
                      2.8387482,
                      2.7604022,
                      2.9899075,
                      2.8661873,
                      2.9117725,
                      2.956788,
                      3.4665384,
                      3.54513,
                      3.5289366,
                      3.3603203,
                      2.9526548,
                      3.1897776,
                      3.801158,
                      3.8964603,
                      3.7052572,
                      3.764195,
                      3.5549603,
                      3.8410985
                    ],
                    [
                      5.3288984,
                      5.441182,
                      5.1163926,
                      5.3005896,
                      4.99107,
                      4.635309,
                      4.786093,
                      4.8106914,
                      4.451037,
                      4.692326,
                      4.7610083,
                      4.4899,
                      4.994182,
                      5.4312506,
                      6.6959844,
                      5.9212956,
                      5.9058623,
                      5.5093026,
                      4.8735557,
                      5.193102
                    ],
                    [
                      5.196506,
                      5.196506,
                      5.196506,
                      5.196506,
                      5.196506,
                      5.196506,
                      5.957185,
                      5.8802423,
                      6.6630116,
                      6.2323666,
                      6.02294,
                      5.6134996,
                      4.5478215,
                      3.9917967,
                      3.6139307,
                      4.1734695,
                      4.18659,
                      4.4723783,
                      3.7190883,
                      3.667381
                    ],
                    [
                      3.3965561,
                      2.5982614,
                      2.955874,
                      2.9684768,
                      3.5660975,
                      4.311883,
                      3.967596,
                      4.488862,
                      4.108241,
                      3.5219278,
                      4.306135,
                      3.9509819,
                      3.1000051,
                      2.6068046,
                      2.5151598,
                      3.018103,
                      2.6645777,
                      2.7763827,
                      3.1190877,
                      3.9367347
                    ],
                    [
                      4.9501452,
                      5.1081443,
                      5.1448407,
                      4.7621894,
                      4.6017823,
                      4.4603615,
                      4.719172,
                      4.7378187,
                      4.5875864,
                      4.4734364,
                      4.408426,
                      4.7025604,
                      4.560886,
                      4.471593,
                      4.5607734,
                      4.6122766,
                      4.6185246,
                      4.865017,
                      4.8578086,
                      4.7516956
                    ],
                    [
                      4.669803,
                      4.5419054,
                      4.64484,
                      4.494539,
                      4.4618664,
                      4.466601,
                      4.9116726,
                      5.171167,
                      5.4026837,
                      5.596229,
                      5.5207243,
                      5.4438787,
                      5.7299104,
                      6.513027,
                      6.9172416,
                      6.10144,
                      5.5260434,
                      5.622417,
                      5.3332887,
                      5.1414843
                    ],
                    [
                      4.4136586,
                      4.750909,
                      4.924512,
                      4.9525967,
                      5.1117444,
                      4.2140293,
                      3.474247,
                      3.5769687,
                      3.7223353,
                      3.2070386,
                      3.5796196,
                      3.12912,
                      3.8007712,
                      3.8985431,
                      4.4172297,
                      4.5944295,
                      5.3157644,
                      4.854098,
                      5.0291367,
                      5.3571377
                    ],
                    [
                      4.175094,
                      3.7946177,
                      2.5771012,
                      2.7720206,
                      2.4336472,
                      2.881102,
                      2.8359501,
                      2.99523,
                      3.4622312,
                      3.3894982,
                      3.4505675,
                      3.4730518,
                      3.7924042,
                      3.8300407,
                      4.2866974,
                      4.2881474,
                      4.0819745,
                      4.2601624,
                      4.4201527,
                      5.0957975
                    ],
                    [
                      6.065785,
                      5.7076316,
                      5.480771,
                      5.2930474,
                      5.2156925,
                      4.992263,
                      4.9077477,
                      5.241661,
                      5.9868293,
                      5.625905,
                      5.798316,
                      5.6511593,
                      5.050828,
                      4.912567,
                      4.958615,
                      5.1174946,
                      5.029887,
                      4.910106,
                      4.9058285,
                      4.883082
                    ],
                    [
                      4.123692,
                      4.0421824,
                      4.267223,
                      4.3140135,
                      3.8158052,
                      4.9549437,
                      4.8980103,
                      4.9465804,
                      4.7497287,
                      4.5483074,
                      4.3596587,
                      3.0449443,
                      4.6857963,
                      5.597246,
                      5.3009114,
                      4.4605837,
                      4.571478,
                      4.339438,
                      2.8961535,
                      3.119698
                    ],
                    [
                      3.4277403,
                      3.8406205,
                      3.754994,
                      3.584417,
                      3.4183764,
                      3.2908392,
                      3.3308034,
                      3.2319174,
                      3.3379948,
                      3.2180862,
                      3.3158987,
                      3.3609328,
                      3.3985271,
                      3.5953455,
                      3.9473984,
                      3.990054,
                      4.1340833,
                      4.2762933,
                      4.204761,
                      4.243269
                    ],
                    [
                      1.8652138,
                      1.2633877,
                      1.6004341,
                      1.8810967,
                      2.2747822,
                      2.7785566,
                      2.2150815,
                      2.91255,
                      4.5784965,
                      5.7169633,
                      6.0663667,
                      6.194908,
                      4.4161105,
                      6.096625,
                      6.185753,
                      6.339255,
                      6.9337025,
                      6.7659345,
                      5.793451,
                      5.998621
                    ],
                    [
                      2.6708245,
                      2.7968638,
                      3.0401616,
                      3.2127216,
                      3.7638922,
                      3.350358,
                      4.2841005,
                      3.8079197,
                      4.2330413,
                      4.050935,
                      5.6803803,
                      4.879184,
                      4.7628183,
                      4.1865373,
                      3.70511,
                      3.6948683,
                      3.2235243,
                      3.6405303,
                      4.0556245,
                      4.265699
                    ],
                    [
                      4.7939506,
                      4.6966467,
                      5.4272823,
                      4.588919,
                      4.715802,
                      4.626455,
                      4.7399354,
                      4.560549,
                      4.8657556,
                      4.922951,
                      5.0227385,
                      4.4504004,
                      4.451424,
                      3.8715765,
                      3.8954425,
                      4.3148055,
                      3.4725575,
                      3.865758,
                      4.022291,
                      3.7417552
                    ],
                    [
                      1.7628771,
                      2.0071669,
                      2.244024,
                      2.5846703,
                      2.9131157,
                      3.1142397,
                      3.5125537,
                      3.7862782,
                      3.8396533,
                      3.826071,
                      3.696383,
                      3.9710398,
                      4.0952187,
                      4.435295,
                      4.922532,
                      4.4122705,
                      4.2058597,
                      4.149143,
                      4.22564,
                      4.193779
                    ],
                    [
                      2.89434,
                      2.987334,
                      2.6998274,
                      2.9193048,
                      2.8987083,
                      2.9616098,
                      2.8344479,
                      2.8014176,
                      2.8334053,
                      2.9136858,
                      2.8660364,
                      2.9550662,
                      2.9523964,
                      3.0419123,
                      3.5073788,
                      3.8292124,
                      4.167224,
                      4.1578727,
                      4.2296233,
                      3.9688165
                    ],
                    [
                      5.0881987,
                      4.789083,
                      4.1936784,
                      3.5402024,
                      2.9421506,
                      2.895455,
                      3.0721388,
                      3.5140162,
                      4.04259,
                      3.869747,
                      3.8117394,
                      3.8845692,
                      3.930454,
                      3.8250904,
                      4.292354,
                      4.4213347,
                      3.7298212,
                      4.1252403,
                      4.150795,
                      3.604521
                    ],
                    [
                      3.8801556,
                      3.4247286,
                      2.6122503,
                      2.5861528,
                      2.9180639,
                      2.7115476,
                      2.314327,
                      2.0447164,
                      1.7534277,
                      7.2938843,
                      7.069811,
                      7.245025,
                      4.593275,
                      5.297813,
                      5.352677,
                      5.372432,
                      5.520951,
                      5.9470887,
                      6.074635,
                      6.1114845
                    ],
                    [
                      2.6556711,
                      4.922489,
                      5.589716,
                      5.420761,
                      5.060486,
                      5.325052,
                      4.8498936,
                      6.606985,
                      3.7490194,
                      3.1935546,
                      4.1663756,
                      4.29058,
                      5.118894,
                      5.5624084,
                      4.8912954,
                      4.544795,
                      4.1428933,
                      2.700861,
                      2.8048248,
                      2.6150396
                    ],
                    [
                      2.1122153,
                      2.9782255,
                      2.667261,
                      3.122442,
                      3.602861,
                      3.2453437,
                      3.7441676,
                      4.1018076,
                      3.496279,
                      3.4922764,
                      3.860741,
                      3.5213408,
                      3.4088278,
                      3.4068432,
                      3.9482262,
                      3.6629968,
                      3.7521417,
                      3.7723663,
                      4.238349,
                      4.5653777
                    ],
                    [
                      3.3504531,
                      4.80289,
                      3.4999256,
                      3.3295472,
                      4.7307525,
                      4.032096,
                      4.3125057,
                      4.4225464,
                      5.478548,
                      5.173272,
                      4.8659286,
                      4.97997,
                      5.334222,
                      5.8128605,
                      6.803551,
                      6.7889214,
                      6.9230065,
                      7.080212,
                      6.629772,
                      6.813077
                    ],
                    [
                      2.1268735,
                      2.1231244,
                      2.4297318,
                      2.1792576,
                      2.16357,
                      2.8998525,
                      4.146457,
                      4.89469,
                      2.9697964,
                      3.8880959,
                      4.0904794,
                      3.479114,
                      3.315712,
                      3.9283218,
                      4.4945374,
                      3.5444617,
                      3.236017,
                      3.955382,
                      3.5069454,
                      3.1938844
                    ],
                    [
                      2.8005583,
                      2.7004502,
                      2.874415,
                      2.79699,
                      2.952575,
                      2.8324718,
                      3.040959,
                      3.1829922,
                      3.0803282,
                      3.3236756,
                      3.4319088,
                      3.4926522,
                      3.4551482,
                      3.6115823,
                      3.8413556,
                      3.7861397,
                      3.654002,
                      3.6613522,
                      3.827307,
                      3.83176
                    ],
                    [
                      3.5155234,
                      3.182541,
                      3.398,
                      3.26249,
                      3.8838866,
                      3.6982741,
                      4.224389,
                      4.536792,
                      4.617963,
                      4.3051534,
                      4.3129716,
                      3.800813,
                      3.730706,
                      3.8703163,
                      3.75185,
                      4.03423,
                      3.759656,
                      3.9998186,
                      4.122862,
                      4.6076317
                    ],
                    [
                      1.9694428,
                      2.150731,
                      2.536894,
                      2.4557035,
                      2.3148208,
                      2.3028872,
                      2.292282,
                      3.330872,
                      3.4676468,
                      3.334134,
                      3.3812776,
                      3.904107,
                      4.6088624,
                      4.714661,
                      4.734495,
                      4.4415593,
                      4.9955673,
                      5.237115,
                      5.26584,
                      5.6153803
                    ],
                    [
                      3.541708,
                      3.4617398,
                      3.3299527,
                      3.1894178,
                      3.277843,
                      3.39205,
                      3.696644,
                      3.9629903,
                      3.8432782,
                      3.7180715,
                      3.463279,
                      3.4158459,
                      3.758301,
                      4.0563126,
                      4.144962,
                      4.0099287,
                      4.15599,
                      4.8415136,
                      4.899894,
                      4.7446322
                    ],
                    [
                      4.966443,
                      4.6316414,
                      4.5530443,
                      4.624212,
                      5.1523156,
                      4.9658036,
                      5.065934,
                      4.45294,
                      4.2510233,
                      3.5223968,
                      3.664234,
                      3.6548688,
                      3.7830749,
                      4.1210976,
                      5.040786,
                      4.163482,
                      3.7453926,
                      2.9589508,
                      2.735022,
                      2.6526737
                    ],
                    [
                      3.044466,
                      3.5404134,
                      3.011747,
                      3.0899608,
                      3.0860481,
                      2.8750947,
                      3.2434444,
                      3.2677448,
                      2.9438002,
                      2.9480524,
                      2.8950996,
                      3.114881,
                      2.9798653,
                      3.5734265,
                      4.4018464,
                      4.034045,
                      3.2629812,
                      4.207409,
                      3.5359764,
                      3.5992951
                    ],
                    [
                      3.7205698,
                      5.0676064,
                      5.593914,
                      6.1034393,
                      6.4592514,
                      4.683827,
                      4.6905236,
                      4.549736,
                      4.899277,
                      4.0828667,
                      4.316017,
                      4.5350423,
                      4.5395265,
                      4.698007,
                      5.148274,
                      4.975653,
                      5.016165,
                      5.277512,
                      5.2189183,
                      5.409943
                    ],
                    [
                      3.7804031,
                      3.762663,
                      3.905016,
                      3.3791661,
                      3.459667,
                      3.067373,
                      2.9506347,
                      3.2315352,
                      3.2055297,
                      3.022707,
                      2.9590428,
                      3.183552,
                      3.2201202,
                      3.946406,
                      4.3304977,
                      3.858236,
                      4.0929832,
                      4.4034467,
                      4.3086,
                      4.385223
                    ],
                    [
                      2.6735945,
                      2.5021825,
                      2.5533657,
                      2.5279803,
                      2.3833313,
                      2.5585613,
                      2.9717174,
                      2.8522737,
                      2.802237,
                      2.5662482,
                      2.2802331,
                      2.3348508,
                      2.7055707,
                      3.062804,
                      3.837966,
                      3.5932086,
                      3.7757294,
                      4.520251,
                      5.1883593,
                      5.2441454
                    ],
                    [
                      3.9826832,
                      4.235647,
                      4.2970705,
                      5.7375803,
                      3.9334657,
                      3.9765482,
                      3.9797635,
                      4.109589,
                      3.9461799,
                      3.9162602,
                      3.459709,
                      3.5661223,
                      4.586323,
                      4.825071,
                      5.037537,
                      6.242027,
                      4.926289,
                      5.74704,
                      9.692357,
                      6.341446
                    ],
                    [
                      4.471885,
                      3.1450598,
                      5.651223,
                      7.115668,
                      5.1965046,
                      5.617563,
                      4.1843786,
                      3.5513535,
                      3.3571448,
                      3.3271644,
                      3.4693878,
                      3.177793,
                      2.977298,
                      2.709679,
                      3.196518,
                      2.9303586,
                      2.9214056,
                      3.2158618,
                      3.202562,
                      2.940624
                    ],
                    [
                      4.2524,
                      3.9401934,
                      3.8628373,
                      3.9262705,
                      3.4246562,
                      3.524933,
                      3.9135356,
                      3.8931205,
                      3.7468717,
                      3.7893527,
                      3.6499906,
                      3.9626803,
                      3.3863366,
                      3.0373497,
                      3.2392654,
                      3.4317667,
                      3.3357604,
                      3.3386414,
                      3.1204398,
                      3.5572267
                    ],
                    [
                      2.8320715,
                      3.0579195,
                      2.8120785,
                      2.8791008,
                      3.0030665,
                      2.9584122,
                      2.9336572,
                      3.0504572,
                      3.719225,
                      3.7224765,
                      4.591989,
                      4.559222,
                      4.817315,
                      5.700295,
                      5.7685947,
                      5.965266,
                      5.971126,
                      6.295393,
                      7.374204,
                      7.0049095
                    ]
                  ],
                  "hovertemplate": "Cluster=%{x}<br>1995=%{customdata[0]}<br>1996=%{customdata[1]}<br>1997=%{customdata[2]}<br>1998=%{customdata[3]}<br>1999=%{customdata[4]}<br>2000=%{customdata[5]}<br>2001=%{customdata[6]}<br>2002=%{customdata[7]}<br>2003=%{customdata[8]}<br>2004=%{customdata[9]}<br>2005=%{customdata[10]}<br>2006=%{customdata[11]}<br>2007=%{customdata[12]}<br>2008=%{customdata[13]}<br>2009=%{customdata[14]}<br>2010=%{customdata[15]}<br>2011=%{customdata[16]}<br>2012=%{customdata[17]}<br>2013=%{customdata[18]}<br>2014=%{customdata[19]}<extra></extra>",
                  "legendgroup": "Cluster 0",
                  "marker": {
                    "color": "#636efa"
                  },
                  "name": "Cluster 0",
                  "notched": true,
                  "offsetgroup": "Cluster 0",
                  "showlegend": false,
                  "type": "box",
                  "x": [
                    "Cluster 0",
                    "Cluster 0",
                    "Cluster 0",
                    "Cluster 0",
                    "Cluster 0",
                    "Cluster 0",
                    "Cluster 0",
                    "Cluster 0",
                    "Cluster 0",
                    "Cluster 0",
                    "Cluster 0",
                    "Cluster 0",
                    "Cluster 0",
                    "Cluster 0",
                    "Cluster 0",
                    "Cluster 0",
                    "Cluster 0",
                    "Cluster 0",
                    "Cluster 0",
                    "Cluster 0",
                    "Cluster 0",
                    "Cluster 0",
                    "Cluster 0",
                    "Cluster 0",
                    "Cluster 0",
                    "Cluster 0",
                    "Cluster 0",
                    "Cluster 0",
                    "Cluster 0",
                    "Cluster 0",
                    "Cluster 0",
                    "Cluster 0",
                    "Cluster 0",
                    "Cluster 0",
                    "Cluster 0",
                    "Cluster 0",
                    "Cluster 0",
                    "Cluster 0",
                    "Cluster 0",
                    "Cluster 0",
                    "Cluster 0",
                    "Cluster 0",
                    "Cluster 0",
                    "Cluster 0",
                    "Cluster 0",
                    "Cluster 0",
                    "Cluster 0",
                    "Cluster 0",
                    "Cluster 0",
                    "Cluster 0",
                    "Cluster 0",
                    "Cluster 0",
                    "Cluster 0",
                    "Cluster 0",
                    "Cluster 0",
                    "Cluster 0",
                    "Cluster 0",
                    "Cluster 0",
                    "Cluster 0",
                    "Cluster 0",
                    "Cluster 0"
                  ],
                  "xaxis": "x2",
                  "yaxis": "y2"
                },
                {
                  "alignmentgroup": "True",
                  "bingroup": "x",
                  "hovertemplate": "Cluster=%{x}<br>count=%{y}<extra></extra>",
                  "legendgroup": "Cluster 1",
                  "marker": {
                    "color": "#EF553B",
                    "opacity": 0.7,
                    "pattern": {
                      "shape": ""
                    }
                  },
                  "name": "Cluster 1",
                  "offsetgroup": "Cluster 1",
                  "orientation": "v",
                  "showlegend": true,
                  "type": "histogram",
                  "x": [
                    "Cluster 1",
                    "Cluster 1",
                    "Cluster 1",
                    "Cluster 1",
                    "Cluster 1",
                    "Cluster 1",
                    "Cluster 1",
                    "Cluster 1",
                    "Cluster 1",
                    "Cluster 1",
                    "Cluster 1",
                    "Cluster 1",
                    "Cluster 1",
                    "Cluster 1",
                    "Cluster 1",
                    "Cluster 1",
                    "Cluster 1",
                    "Cluster 1",
                    "Cluster 1",
                    "Cluster 1",
                    "Cluster 1",
                    "Cluster 1",
                    "Cluster 1",
                    "Cluster 1",
                    "Cluster 1",
                    "Cluster 1",
                    "Cluster 1",
                    "Cluster 1",
                    "Cluster 1",
                    "Cluster 1",
                    "Cluster 1",
                    "Cluster 1",
                    "Cluster 1",
                    "Cluster 1",
                    "Cluster 1",
                    "Cluster 1",
                    "Cluster 1",
                    "Cluster 1",
                    "Cluster 1",
                    "Cluster 1",
                    "Cluster 1",
                    "Cluster 1",
                    "Cluster 1",
                    "Cluster 1",
                    "Cluster 1",
                    "Cluster 1",
                    "Cluster 1",
                    "Cluster 1",
                    "Cluster 1",
                    "Cluster 1",
                    "Cluster 1",
                    "Cluster 1",
                    "Cluster 1",
                    "Cluster 1",
                    "Cluster 1",
                    "Cluster 1",
                    "Cluster 1",
                    "Cluster 1",
                    "Cluster 1",
                    "Cluster 1",
                    "Cluster 1",
                    "Cluster 1",
                    "Cluster 1",
                    "Cluster 1",
                    "Cluster 1",
                    "Cluster 1",
                    "Cluster 1",
                    "Cluster 1",
                    "Cluster 1",
                    "Cluster 1",
                    "Cluster 1",
                    "Cluster 1",
                    "Cluster 1",
                    "Cluster 1",
                    "Cluster 1",
                    "Cluster 1",
                    "Cluster 1",
                    "Cluster 1",
                    "Cluster 1",
                    "Cluster 1",
                    "Cluster 1",
                    "Cluster 1",
                    "Cluster 1",
                    "Cluster 1",
                    "Cluster 1",
                    "Cluster 1",
                    "Cluster 1",
                    "Cluster 1",
                    "Cluster 1",
                    "Cluster 1",
                    "Cluster 1"
                  ],
                  "xaxis": "x",
                  "yaxis": "y"
                },
                {
                  "alignmentgroup": "True",
                  "customdata": [
                    [
                      3.6,
                      3.7,
                      3.3,
                      2.9445868,
                      2.8045814,
                      2.5156908,
                      2.5501142,
                      2.4240553,
                      2.3806038,
                      2.2624974,
                      2.2790132,
                      2.4548035,
                      2.2986875,
                      2.5299,
                      2.61929,
                      2.7513173,
                      2.8639007,
                      3.1273715,
                      3.1179063,
                      3.1112483
                    ],
                    [
                      2.598918,
                      3.0338893,
                      3.0634255,
                      3.4813275,
                      3.4174,
                      3.8282862,
                      3.8998528,
                      3.455279,
                      2.9180312,
                      2.9267642,
                      2.4845912,
                      2.3969135,
                      2.7364123,
                      3.1835191,
                      2.7683728,
                      2.654478,
                      2.5957062,
                      2.260515,
                      2.2115946,
                      2.6205728
                    ],
                    [
                      1.7578627,
                      1.6322317,
                      1.6046113,
                      1.7314376,
                      1.7170601,
                      1.5138634,
                      1.6275607,
                      1.4477357,
                      1.5518224,
                      1.3936496,
                      1.4195696,
                      1.9448675,
                      2.5635524,
                      2.1319633,
                      2.5691874,
                      2.9609666,
                      2.805002,
                      3.722124,
                      3.7963605,
                      3.820019
                    ],
                    [
                      2.1301694,
                      1.9017576,
                      2.108606,
                      2.2097766,
                      2.39474,
                      2.3181076,
                      2.3986208,
                      2.4220273,
                      2.5412774,
                      2.688004,
                      2.618878,
                      2.5603452,
                      2.6423748,
                      2.7609367,
                      3.0959356,
                      3.1032956,
                      3.0671313,
                      3.1609712,
                      3.2569933,
                      3.2595515
                    ],
                    [
                      2.6274223,
                      2.9937875,
                      2.4782763,
                      2.1367528,
                      1.8193967,
                      2.0699213,
                      2.8724487,
                      2.5388775,
                      2.757199,
                      3.0918865,
                      3.0385294,
                      3.1646335,
                      3.366577,
                      3.1356974,
                      3.1489959,
                      2.8074596,
                      3.0152464,
                      2.2502625,
                      1.134273,
                      1.5681721
                    ],
                    [
                      1.8558282,
                      2.2614393,
                      3.4792237,
                      3.5012505,
                      2.3858197,
                      3.2146275,
                      2.817917,
                      2.4314766,
                      2.7085261,
                      2.4214306,
                      2.0210502,
                      1.5455486,
                      1.3881482,
                      0.9468365,
                      1.1630732,
                      1.2236378,
                      1.2680973,
                      1.2733763,
                      1.4260023,
                      1.3485305
                    ],
                    [
                      2.0817382,
                      1.9488056,
                      1.9483958,
                      2.0567067,
                      1.9176295,
                      1.6770586,
                      1.9444921,
                      1.7139829,
                      1.6715404,
                      1.4560425,
                      1.3688972,
                      1.382507,
                      1.5553772,
                      1.9216341,
                      3.034126,
                      2.8341656,
                      2.7324882,
                      2.550026,
                      2.557326,
                      2.6361516
                    ],
                    [
                      1.1841338,
                      1.1433516,
                      1.0733902,
                      1.1791021,
                      1.1491419,
                      1.2297379,
                      1.4277592,
                      1.378809,
                      1.3949955,
                      1.4295298,
                      1.4389259,
                      1.7144026,
                      1.8980774,
                      1.8919717,
                      2.046396,
                      2.067572,
                      2.0877721,
                      2.1814663,
                      1.9577495,
                      2.0013263
                    ],
                    [
                      1.67358,
                      1.6931001,
                      1.5034689,
                      1.6234894,
                      1.6823932,
                      1.6935326,
                      1.9903823,
                      1.958874,
                      2.3620415,
                      2.1180406,
                      1.6908276,
                      2.0118167,
                      1.9618677,
                      1.9367063,
                      2.3366396,
                      2.2862966,
                      2.1359138,
                      2.2152333,
                      2.2031472,
                      2.30029
                    ],
                    [
                      1.419935,
                      1.4132377,
                      1.4347816,
                      1.895183,
                      1.6585484,
                      1.8379589,
                      1.9800487,
                      2.105322,
                      1.9481084,
                      2.2655518,
                      2.361978,
                      2.472357,
                      2.4618094,
                      2.3028195,
                      1.8143344,
                      3.1183584,
                      2.6332672,
                      2.1538994,
                      2.0878968,
                      1.8012513
                    ],
                    [
                      1.9791547,
                      1.9049163,
                      1.9114689,
                      1.9545,
                      1.8827777,
                      1.9695497,
                      2.0041707,
                      2.1805518,
                      2.188349,
                      2.349089,
                      2.2148368,
                      2.0475075,
                      1.8729098,
                      1.7829542,
                      2.1686914,
                      2.5825882,
                      2.461224,
                      2.2927027,
                      2.3655562,
                      2.3646858
                    ],
                    [
                      1.8031521,
                      1.482415,
                      1.3873165,
                      1.4660156,
                      1.8334221,
                      2.1630595,
                      2.3407567,
                      2.151332,
                      2.0793004,
                      2.1581407,
                      2.1533325,
                      2.22177,
                      2.4647813,
                      1.2304891,
                      2.4963124,
                      2.0882392,
                      2.3354514,
                      1.6756381,
                      1.5428591,
                      1.542766
                    ],
                    [
                      2.2303343,
                      1.3288084,
                      1.4921914,
                      2.084762,
                      2.901813,
                      2.7709935,
                      1.8795605,
                      2.8620603,
                      2.1792183,
                      2.4641125,
                      2.033356,
                      1.4476165,
                      1.6517913,
                      1.3545648,
                      1.7998028,
                      1.5210538,
                      1.2791414,
                      1.370247,
                      1.7260388,
                      1.8710163
                    ],
                    [
                      2.1393054,
                      1.7497468,
                      2.2968302,
                      3.0385704,
                      2.6399527,
                      2.7369294,
                      2.7885501,
                      2.9076602,
                      3.4189272,
                      3.524657,
                      3.2929962,
                      3.4274454,
                      3.1616817,
                      3.1798916,
                      3.4023228,
                      4.1825976,
                      3.3201783,
                      3.1673963,
                      3.3914752,
                      4.5107493
                    ],
                    [
                      1.6153717,
                      1.6114502,
                      1.5207695,
                      1.878022,
                      1.7467115,
                      1.8463216,
                      1.7582097,
                      1.683336,
                      1.6776152,
                      2.005509,
                      1.8501033,
                      1.9500592,
                      1.8259765,
                      1.5815241,
                      1.5351707,
                      1.5538039,
                      1.3809265,
                      1.2195994,
                      2.102564,
                      1.9639534
                    ],
                    [
                      3.0600436,
                      2.9844568,
                      2.7825696,
                      3.0185177,
                      2.8937464,
                      2.5120342,
                      2.5289636,
                      2.6547508,
                      2.6294658,
                      2.4375618,
                      2.130348,
                      1.8645978,
                      1.9682894,
                      1.5863008,
                      2.3007374,
                      2.2697291,
                      2.0395665,
                      2.0799568,
                      2.4085739,
                      3.1902285
                    ],
                    [
                      1.4073788,
                      1.4221404,
                      1.471027,
                      2.5543962,
                      1.7632319,
                      1.3521234,
                      1.5944633,
                      1.640841,
                      1.5276877,
                      1.5903265,
                      1.5853285,
                      2.044875,
                      2.2831252,
                      2.7256987,
                      2.8243952,
                      2.867317,
                      3.2420974,
                      2.4668546,
                      2.2199025,
                      2.337819
                    ],
                    [
                      1.4561509,
                      1.3919032,
                      1.3447728,
                      1.6641104,
                      1.4782906,
                      1.217785,
                      0.8870398,
                      1.0589668,
                      1.3461615,
                      1.0302562,
                      1.0037581,
                      1.0010905,
                      0.95538986,
                      1.2004901,
                      1.5265974,
                      1.3714286,
                      1.346479,
                      1.5010778,
                      1.7359207,
                      2.0546832
                    ],
                    [
                      2.3883882,
                      2.1634283,
                      2.5131638,
                      2.0471494,
                      3.0646245,
                      3.494132,
                      2.8241415,
                      2.964916,
                      2.7842612,
                      2.6839173,
                      2.6761742,
                      1.9616953,
                      1.645376,
                      1.7879205,
                      2.2075174,
                      2.3969407,
                      2.6469336,
                      1.9808785,
                      1.6946555,
                      1.8838018
                    ],
                    [
                      0.7858221,
                      1.1132447,
                      0.89135116,
                      0.94742304,
                      0.7634364,
                      0.88739896,
                      0.75511587,
                      0.783278,
                      0.88321555,
                      1.0807228,
                      1.091364,
                      1.2705626,
                      1.5118424,
                      2.6309555,
                      2.3567348,
                      2.698469,
                      2.5573435,
                      1.8717955,
                      1.8597938,
                      1.8023618
                    ],
                    [
                      2.1892376,
                      1.9540946,
                      1.8777605,
                      1.9609232,
                      2.0144258,
                      1.9897791,
                      2.1730514,
                      2.262243,
                      2.4683383,
                      2.148409,
                      2.0755684,
                      1.8335469,
                      1.7896513,
                      1.5964767,
                      1.6313764,
                      1.5071658,
                      1.5071658,
                      1.5071658,
                      1.5071658,
                      1.5071658
                    ],
                    [
                      1.2894444,
                      1.2967209,
                      1.6012273,
                      1.1412292,
                      1.0408323,
                      0.9464747,
                      0.9497663,
                      0.9065828,
                      0.91056037,
                      0.9433344,
                      1.1438193,
                      1.1290538,
                      1.1847517,
                      1.3717742,
                      1.478537,
                      1.5946833,
                      1.71028,
                      1.8776045,
                      2.0677319,
                      1.983765
                    ],
                    [
                      1.5431947,
                      1.6172719,
                      1.7527047,
                      1.94586,
                      2.8033962,
                      3.0518346,
                      3.2564688,
                      3.0900898,
                      2.8964229,
                      2.5618286,
                      2.4783645,
                      2.6413913,
                      2.5073977,
                      1.8894053,
                      2.788237,
                      2.2652001,
                      2.495887,
                      2.7522826,
                      3.1003695,
                      3.4907897
                    ],
                    [
                      1.367139,
                      1.1740805,
                      1.1272284,
                      1.0097352,
                      1.1200299,
                      1.1459394,
                      1.7695954,
                      2.1066222,
                      2.573525,
                      2.5659451,
                      2.9651659,
                      4.763506,
                      3.0384712,
                      2.435878,
                      2.1096382,
                      2.0728974,
                      2.4866152,
                      2.7904603,
                      2.565408,
                      2.5899587
                    ],
                    [
                      1.5142425,
                      1.4763662,
                      1.2636944,
                      1.522818,
                      1.4206209,
                      1.420843,
                      1.2527249,
                      0.90614897,
                      1.4419998,
                      1.6843733,
                      1.898456,
                      2.259633,
                      2.1575735,
                      2.4164917,
                      3.2782154,
                      1.9385852,
                      1.6553375,
                      1.9477973,
                      2.148307,
                      2.017321
                    ],
                    [
                      0.40560317,
                      0.33454758,
                      0.2628072,
                      0.16829349,
                      0.17096418,
                      0.26099718,
                      0.22498201,
                      0.31358838,
                      0.24333455,
                      0.26696151,
                      0.16497408,
                      0.25631204,
                      0.19819528,
                      0.2075547,
                      0.23255366,
                      0.2992519,
                      0.29762465,
                      0.8196291,
                      0.8268462,
                      1.0448998
                    ],
                    [
                      1.6398878,
                      1.8756932,
                      1.8534049,
                      2.5584161,
                      2.083505,
                      1.6531532,
                      2.1388915,
                      2.1826174,
                      3.3450434,
                      2.8759599,
                      3.1994948,
                      4.980592,
                      3.7801936,
                      2.830119,
                      2.4020538,
                      2.9280136,
                      2.8108058,
                      2.8358772,
                      2.9251773,
                      2.8694012
                    ],
                    [
                      1.3636569,
                      1.4514241,
                      1.5581077,
                      1.3732069,
                      1.4283558,
                      1.5267614,
                      1.3244431,
                      1.1166424,
                      1.3062006,
                      1.3031315,
                      1.5016485,
                      1.4521871,
                      1.3678265,
                      1.3327457,
                      1.5486766,
                      1.5736915,
                      1.306363,
                      1.3862563,
                      1.4492171,
                      1.6146852
                    ],
                    [
                      2.4000535,
                      2.439422,
                      2.2663279,
                      2.5719132,
                      2.8299162,
                      2.7208316,
                      2.8314395,
                      2.8257055,
                      2.6908622,
                      2.5437613,
                      2.693896,
                      2.3921459,
                      2.414623,
                      2.4520338,
                      2.9834445,
                      2.7942872,
                      2.6241403,
                      2.8466477,
                      3.0451035,
                      3.318751
                    ],
                    [
                      2.1300237,
                      2.3956554,
                      2.4280813,
                      2.8210454,
                      3.030939,
                      3.2306283,
                      2.6541119,
                      2.1601038,
                      1.949492,
                      2.0315707,
                      2.3551974,
                      2.610015,
                      2.6921866,
                      2.7130756,
                      3.4986806,
                      3.3609028,
                      3.7659192,
                      4.5986013,
                      4.781259,
                      4.50224
                    ],
                    [
                      0.65550923,
                      0.71534395,
                      0.655567,
                      0.5714069,
                      0.5547307,
                      0.6086024,
                      0.55152416,
                      0.8093861,
                      0.6483209,
                      0.677301,
                      0.6859183,
                      0.7887748,
                      0.79883224,
                      0.8392359,
                      0.80290353,
                      0.9542345,
                      0.9197683,
                      1.018463,
                      0.9943308,
                      0.9188115
                    ],
                    [
                      3.2102728,
                      3.1674209,
                      2.9649596,
                      3.032258,
                      3.0387747,
                      2.5725906,
                      2.2624428,
                      2.0918617,
                      2.0872338,
                      1.8705093,
                      1.9221867,
                      2.336683,
                      2.1546106,
                      2.0306687,
                      2.193109,
                      2.5320222,
                      2.2606702,
                      2.3751745,
                      2.1837287,
                      2.144605
                    ],
                    [
                      0.658145,
                      0.6004809,
                      0.71761227,
                      0.90662616,
                      0.9836661,
                      0.94928604,
                      1.0177073,
                      0.62200433,
                      0.9066618,
                      1.4147605,
                      1.1977868,
                      1.2046008,
                      1.4727288,
                      1.4700594,
                      1.32467,
                      0.9085807,
                      1.1516112,
                      1.0331695,
                      0.88262725,
                      0.9225351
                    ],
                    [
                      2.63827,
                      2.386765,
                      2.3443933,
                      1.9526589,
                      2.3448613,
                      1.9555949,
                      2.2269812,
                      2.6470065,
                      2.5999732,
                      2.5997772,
                      2.6419816,
                      2.2319772,
                      2.3752675,
                      2.1644504,
                      3.2808106,
                      3.0183387,
                      2.6801515,
                      2.8949888,
                      3.1444943,
                      3.1746275
                    ],
                    [
                      1.4689478,
                      1.2844857,
                      1.6847956,
                      1.6945951,
                      1.6988028,
                      1.5224655,
                      1.8667212,
                      1.9092584,
                      1.6804503,
                      1.8458639,
                      2.9786544,
                      3.175497,
                      2.6628647,
                      2.6958768,
                      2.6503866,
                      2.162437,
                      2.4532452,
                      2.2118347,
                      2.4556773,
                      3.2144938
                    ],
                    [
                      2.3204105,
                      2.4942584,
                      2.1475446,
                      2.2621992,
                      1.9516242,
                      1.57473,
                      1.9219924,
                      2.035923,
                      3.488087,
                      3.036904,
                      2.5351517,
                      2.1720822,
                      1.9433211,
                      1.5741826,
                      2.065528,
                      1.6208309,
                      1.5059314,
                      1.8314776,
                      1.854801,
                      1.8753914
                    ],
                    [
                      1.2798538,
                      1.4840144,
                      1.28426,
                      1.3111686,
                      1.7410012,
                      1.8955417,
                      2.1352403,
                      1.9504809,
                      2.0913284,
                      2.1192572,
                      2.9824374,
                      3.1499016,
                      2.3325124,
                      2.5275264,
                      2.4862638,
                      2.368548,
                      2.2798395,
                      2.1798663,
                      2.2383153,
                      2.417956
                    ],
                    [
                      1.7130045,
                      1.7461976,
                      2.0245094,
                      2.0951278,
                      2.5101714,
                      2.2584178,
                      2.292224,
                      2.256326,
                      2.252104,
                      2.679405,
                      2.7064555,
                      2.5751362,
                      2.6291711,
                      2.6938984,
                      2.8335757,
                      2.476568,
                      2.849171,
                      2.7357042,
                      2.8359842,
                      2.9363732
                    ],
                    [
                      1.8815244,
                      2.2042024,
                      1.9874814,
                      1.4007405,
                      1.3751416,
                      0.8960032,
                      1.2284632,
                      1.4288759,
                      1.4257146,
                      1.4293144,
                      1.3098755,
                      1.4236557,
                      1.5062408,
                      1.6303546,
                      2.1865914,
                      2.4594076,
                      2.5973809,
                      2.957293,
                      3.8583853,
                      4.508157
                    ],
                    [
                      1.2010899,
                      1.1133317,
                      1.3082831,
                      1.634136,
                      1.8427428,
                      2.3826554,
                      2.2308183,
                      2.5502813,
                      2.5563688,
                      2.3736408,
                      2.5803344,
                      2.5294056,
                      2.5714772,
                      2.2213223,
                      2.4215198,
                      3.716736,
                      3.7351558,
                      3.310595,
                      2.9536376,
                      2.8675668
                    ],
                    [
                      2.1719744,
                      1.3211004,
                      1.770927,
                      1.8514262,
                      1.9965689,
                      1.5885111,
                      1.3867813,
                      1.6404693,
                      1.291689,
                      1.2360146,
                      1.0959392,
                      1.4704505,
                      1.4903381,
                      1.9314296,
                      1.3979602,
                      1.4248636,
                      1.4078226,
                      1.3839765,
                      1.3782662,
                      1.527464
                    ],
                    [
                      3.8838582,
                      2.7329981,
                      2.2512457,
                      3.0559542,
                      1.9222566,
                      2.1662717,
                      1.3355252,
                      1.1117215,
                      1.5275972,
                      1.3524547,
                      0.9139821,
                      1.467452,
                      1.6408284,
                      1.7950796,
                      4.461108,
                      3.057171,
                      2.5966544,
                      3.325882,
                      2.9617898,
                      2.9327104
                    ],
                    [
                      1.6460251,
                      1.6206647,
                      1.7855395,
                      1.9698113,
                      2.1234133,
                      2.2469585,
                      2.3275583,
                      2.4038172,
                      2.068548,
                      1.9859115,
                      1.985041,
                      2.2875192,
                      2.0466957,
                      2.0297272,
                      2.058127,
                      1.8725928,
                      1.9908042,
                      1.9092313,
                      2.0574682,
                      2.1553845
                    ],
                    [
                      1.4415262,
                      1.9149721,
                      2.1480222,
                      1.9613352,
                      2.0399137,
                      2.5733042,
                      2.8085155,
                      2.743214,
                      2.2601743,
                      2.4369953,
                      2.62145,
                      2.8177116,
                      2.739822,
                      2.4189184,
                      2.408213,
                      2.6065586,
                      2.4358723,
                      1.8161052,
                      2.5604448,
                      1.4734147
                    ],
                    [
                      1.1552207,
                      1.2382753,
                      1.4883543,
                      1.7989109,
                      2.0018892,
                      2.192495,
                      1.9258959,
                      2.0087385,
                      1.8208773,
                      1.3886193,
                      1.485949,
                      1.7816058,
                      1.9925088,
                      2.0512779,
                      2.2455602,
                      2.263965,
                      2.604386,
                      2.7018123,
                      2.6234674,
                      2.9273756
                    ],
                    [
                      1.6970544,
                      1.7748134,
                      1.9483382,
                      2.3381162,
                      2.3881269,
                      2.4028301,
                      2.4492595,
                      2.7545185,
                      3.0826268,
                      2.8134608,
                      2.6626773,
                      2.6638212,
                      2.5780401,
                      2.8508255,
                      3.3114724,
                      3.4253073,
                      3.507635,
                      3.4116037,
                      3.4707913,
                      3.3320193
                    ],
                    [
                      1.6458693,
                      1.854107,
                      2.00329,
                      1.8888131,
                      1.7996674,
                      1.7880358,
                      1.2902578,
                      1.4086009,
                      1.3383336,
                      1.4716744,
                      1.2697195,
                      1.3584038,
                      1.4282131,
                      1.5286264,
                      1.6968101,
                      1.6761721,
                      1.635697,
                      1.8850455,
                      1.7965878,
                      1.6785384
                    ],
                    [
                      1.8759423,
                      1.7216115,
                      1.9118363,
                      2.218402,
                      1.7527649,
                      1.2225921,
                      1.3345325,
                      1.2879591,
                      1.3001791,
                      1.3696752,
                      1.4346085,
                      1.4940327,
                      1.5457641,
                      1.2385929,
                      1.1411418,
                      1.3865789,
                      1.9773753,
                      3.1494215,
                      4.057311,
                      4.2119207
                    ],
                    [
                      0.15146966,
                      0.11302006,
                      0.20486781,
                      0.17818515,
                      0.24769671,
                      0.04470361,
                      0.14417975,
                      0.1600804,
                      0.70002687,
                      0.71835464,
                      0.75246215,
                      0.9389913,
                      1.2094344,
                      2.0998728,
                      2.3629792,
                      1.0625956,
                      1.2552686,
                      1.6871736,
                      1.3234417,
                      1.5983565
                    ],
                    [
                      2.8797863,
                      2.7139497,
                      2.5849257,
                      2.1850362,
                      1.9644266,
                      1.5227231,
                      1.0946753,
                      1.6697581,
                      1.8154749,
                      2.0104384,
                      2.274052,
                      2.5071516,
                      2.8029914,
                      3.094532,
                      1.7212121,
                      1.4544089,
                      1.6567594,
                      2.646604,
                      2.0031931,
                      2.2173204
                    ],
                    [
                      1.7803819,
                      1.7637161,
                      1.7806566,
                      1.8120754,
                      1.8349422,
                      1.7598435,
                      1.6212842,
                      1.7146722,
                      1.7465299,
                      1.7934299,
                      1.8059204,
                      1.8385383,
                      2.026592,
                      2.2921236,
                      2.6644826,
                      2.65382,
                      2.8106527,
                      2.9458137,
                      3.0056014,
                      3.0951743
                    ],
                    [
                      2.4830344,
                      2.6675794,
                      2.7228963,
                      2.99928,
                      3.1887834,
                      3.3320618,
                      3.4845421,
                      3.5298908,
                      2.6875498,
                      2.6381435,
                      2.5362916,
                      2.5176175,
                      2.6556563,
                      2.9425888,
                      3.4681022,
                      3.2949257,
                      3.3326392,
                      3.4761648,
                      3.6328216,
                      3.8513095
                    ],
                    [
                      2.0113752,
                      1.9609138,
                      1.9635887,
                      1.659397,
                      1.9898416,
                      2.6674843,
                      2.3964825,
                      2.691864,
                      2.2683203,
                      2.2993553,
                      1.5579714,
                      1.1289788,
                      1.2502512,
                      0.9966042,
                      1.2315228,
                      1.1851372,
                      1.5348746,
                      1.4219394,
                      1.7746923,
                      1.9789501
                    ],
                    [
                      1.3639746,
                      2.023372,
                      1.2161839,
                      1.4170994,
                      1.8717183,
                      2.1021469,
                      1.8638892,
                      2.062252,
                      2.076812,
                      1.8451152,
                      2.1146898,
                      1.9239902,
                      2.0367224,
                      2.290509,
                      1.4971621,
                      1.9771464,
                      1.8402262,
                      1.7680298,
                      1.9133593,
                      2.056943
                    ],
                    [
                      0.90026873,
                      0.8933683,
                      0.978966,
                      0.78462964,
                      0.8337348,
                      0.93262917,
                      1.1291993,
                      1.2903832,
                      1.331728,
                      1.1296381,
                      1.1200792,
                      1.0760924,
                      1.0657762,
                      1.0492873,
                      1.2831329,
                      1.5076023,
                      1.3314471,
                      1.0667471,
                      1.0124696,
                      0.9386337
                    ],
                    [
                      1.1239033,
                      2.6427724,
                      2.0557184,
                      1.3567755,
                      1.1849345,
                      1.3401496,
                      1.3037683,
                      1.5204393,
                      2.4161642,
                      2.3923242,
                      1.6182188,
                      1.2352886,
                      1.3217709,
                      1.1113312,
                      1.3124685,
                      1.440775,
                      1.3398556,
                      1.5033407,
                      1.3975847,
                      1.251042
                    ],
                    [
                      1.3464323,
                      1.4941034,
                      1.1308436,
                      1.2478422,
                      1.2384857,
                      1.4043645,
                      1.634486,
                      1.5551225,
                      1.3451883,
                      2.5449522,
                      2.9377964,
                      3.5288293,
                      3.7804363,
                      3.3553116,
                      3.0930402,
                      5.4996567,
                      5.4018774,
                      4.9308653,
                      4.396653,
                      3.9737275
                    ],
                    [
                      1.865862,
                      1.9337872,
                      2.067887,
                      2.0613267,
                      2.1914437,
                      2.0169153,
                      1.8324488,
                      2.2566864,
                      2.604253,
                      3.4643846,
                      4.091776,
                      3.741065,
                      3.9957218,
                      3.996974,
                      3.6583793,
                      3.9711797,
                      2.9551477,
                      2.9803686,
                      3.4893954,
                      2.5939736
                    ],
                    [
                      2.2940388,
                      3.016498,
                      3.017237,
                      3.717911,
                      3.1839404,
                      2.598589,
                      2.5767813,
                      2.5673854,
                      2.5935388,
                      2.5222666,
                      2.215897,
                      1.929078,
                      2.038671,
                      2.0157745,
                      2.5919516,
                      2.5200245,
                      2.066758,
                      2.1125324,
                      2.407481,
                      2.4855678
                    ],
                    [
                      2.1117296,
                      2.031551,
                      1.8144228,
                      1.9397959,
                      2.1099124,
                      1.9175268,
                      2.3082635,
                      1.8886704,
                      2.2112665,
                      2.175233,
                      2.35248,
                      2.385751,
                      2.3070855,
                      2.1376967,
                      2.328624,
                      2.6885703,
                      2.9290097,
                      2.1540937,
                      2.2154565,
                      2.2511964
                    ],
                    [
                      2.6323652,
                      2.0480409,
                      2.263611,
                      2.1556966,
                      2.03549,
                      2.0916972,
                      2.5894225,
                      2.4565418,
                      2.5893943,
                      2.5071719,
                      2.6479511,
                      2.669251,
                      3.0223129,
                      3.2906747,
                      3.8624272,
                      3.8583817,
                      3.7256043,
                      3.5777435,
                      3.7771308,
                      3.8796577
                    ],
                    [
                      1.1998053,
                      1.0312841,
                      0.96812475,
                      0.9353351,
                      0.93516016,
                      0.94671243,
                      1.0249264,
                      1.0678098,
                      0.9755481,
                      1.0420672,
                      0.96680015,
                      1.0388302,
                      0.9876837,
                      0.95375246,
                      0.99109966,
                      1.050173,
                      1.0410901,
                      0.9844837,
                      0.81032395,
                      0.7865325
                    ],
                    [
                      2.8185465,
                      2.7515132,
                      3.0477219,
                      2.8813207,
                      2.8387277,
                      2.3624177,
                      2.5328784,
                      2.5843232,
                      2.5011237,
                      2.2678096,
                      2.1565223,
                      2.1252506,
                      2.1845672,
                      2.3130581,
                      2.7484443,
                      2.5933795,
                      2.3835328,
                      2.7626622,
                      3.0159943,
                      3.1505003
                    ],
                    [
                      2.7296588,
                      2.7736216,
                      2.3572907,
                      2.5395048,
                      2.4678187,
                      2.5025475,
                      2.466896,
                      2.5106654,
                      2.647886,
                      2.8804357,
                      2.6421897,
                      3.272602,
                      3.1815016,
                      3.3548775,
                      3.526524,
                      3.4608154,
                      3.5750563,
                      3.2982492,
                      3.0769558,
                      3.5506728
                    ],
                    [
                      1.3917526,
                      1.4855471,
                      1.2286257,
                      0.90380704,
                      0.9854305,
                      0.86689276,
                      0.8465011,
                      0.7918179,
                      0.829678,
                      1.0286701,
                      0.8809054,
                      0.8641844,
                      0.9802539,
                      0.8246755,
                      1.3389697,
                      1.1680207,
                      1.0809877,
                      1.2105966,
                      1.1501839,
                      1.2309675
                    ],
                    [
                      1.9962726,
                      1.6211481,
                      1.4074962,
                      1.6449131,
                      1.6124148,
                      1.137532,
                      1.5914747,
                      1.3613324,
                      1.5165702,
                      1.4044507,
                      1.9050534,
                      2.052882,
                      2.099285,
                      1.7647703,
                      2.0100055,
                      1.9227141,
                      1.9389036,
                      1.8756815,
                      1.946691,
                      1.9256756
                    ],
                    [
                      2.7463446,
                      2.5058005,
                      2.5974026,
                      2.6720648,
                      2.7442,
                      2.7878056,
                      2.94976,
                      2.9502316,
                      2.950013,
                      2.6797936,
                      2.9500985,
                      2.950106,
                      2.95,
                      3.3430314,
                      3.3438995,
                      3.893547,
                      3.8910396,
                      3.6523325,
                      3.5925975,
                      3.7846107
                    ],
                    [
                      4.659118,
                      1.7397817,
                      2.0192194,
                      1.4147054,
                      2.1317978,
                      1.6772164,
                      2.8124034,
                      1.6852175,
                      2.0443695,
                      2.4078405,
                      2.0246463,
                      3.0224354,
                      2.213764,
                      2.7163343,
                      2.6639173,
                      2.0612547,
                      2.1550944,
                      2.1373165,
                      3.0804083,
                      2.1249123
                    ],
                    [
                      2.4636872,
                      2.6436107,
                      2.8924072,
                      2.6044335,
                      2.5053377,
                      3.2355711,
                      2.6281784,
                      2.8544881,
                      2.7002647,
                      2.8876634,
                      2.936056,
                      3.012362,
                      2.7919827,
                      2.780329,
                      2.953906,
                      2.965206,
                      2.6771443,
                      2.7621486,
                      2.9022439,
                      2.9532082
                    ],
                    [
                      1.2574453,
                      1.2864755,
                      1.1921763,
                      1.7313439,
                      1.2139877,
                      1.1548562,
                      1.2858374,
                      1.20729,
                      1.4675813,
                      1.3605983,
                      1.1149809,
                      1.2350861,
                      1.266978,
                      1.0762414,
                      1.5480996,
                      2.4409246,
                      2.103288,
                      2.2102013,
                      2.9318297,
                      2.350581
                    ],
                    [
                      2.152489,
                      2.4846778,
                      2.5852394,
                      3.133965,
                      3.403697,
                      3.7199,
                      3.526559,
                      4.01811,
                      4.1876693,
                      3.6570845,
                      3.956979,
                      2.7558455,
                      1.885822,
                      2.1899416,
                      2.2616677,
                      2.2799563,
                      2.148932,
                      2.5363705,
                      2.7654047,
                      2.7600946
                    ],
                    [
                      0.2672812,
                      0.8742158,
                      1.4912791,
                      1.195657,
                      1.1405274,
                      1.1806089,
                      1.3881943,
                      1.4003501,
                      1.2572947,
                      1.3072425,
                      1.6485046,
                      1.7716621,
                      1.4496235,
                      1.7799745,
                      2.2702587,
                      2.2899292,
                      1.7006243,
                      1.210349,
                      1.2761202,
                      1.5527306
                    ],
                    [
                      1.514528,
                      1.6627417,
                      1.7901982,
                      1.8845134,
                      1.6503778,
                      1.6598308,
                      2.2102938,
                      3.0567262,
                      2.6920025,
                      2.2766187,
                      1.7491174,
                      1.6401668,
                      1.7480973,
                      1.3824075,
                      2.17818,
                      2.1367896,
                      3.02,
                      3.02,
                      3.02,
                      3.6540792
                    ],
                    [
                      1.3587399,
                      1.6445006,
                      1.8984102,
                      2.3240378,
                      2.127391,
                      2.2352855,
                      2.2941806,
                      2.1426485,
                      2.1817307,
                      1.8543305,
                      1.551117,
                      1.5216019,
                      1.4627895,
                      1.5650183,
                      1.3366978,
                      1.2991309,
                      1.3504469,
                      1.5716279,
                      1.41001,
                      1.271871
                    ],
                    [
                      2.1793478,
                      1.8275224,
                      2.0717597,
                      1.8517305,
                      1.1117029,
                      1.1305639,
                      1.1777908,
                      1.0828706,
                      1.2709968,
                      0.8018987,
                      0.7346071,
                      1.1470212,
                      1.0297301,
                      1.0014695,
                      1.8583031,
                      1.2781807,
                      0.8358096,
                      0.7922463,
                      0.96487284,
                      0.94273376
                    ],
                    [
                      3.0586965,
                      2.5183065,
                      2.56168,
                      2.537057,
                      2.2515478,
                      2.0709019,
                      1.9689238,
                      2.1492164,
                      2.056844,
                      2.2751782,
                      2.3805983,
                      3.2769973,
                      3.5300004,
                      3.1283245,
                      3.7853525,
                      3.7101407,
                      3.7010896,
                      4.1972437,
                      3.8799367,
                      3.6394374
                    ],
                    [
                      3.0793817,
                      2.7531233,
                      2.9512544,
                      3.5051093,
                      2.911843,
                      1.9074589,
                      2.938514,
                      2.8451164,
                      2.591638,
                      2.1976764,
                      1.898436,
                      1.8262029,
                      1.6788926,
                      1.5118626,
                      3.370934,
                      2.334489,
                      2.2556834,
                      2.1872225,
                      2.1656253,
                      2.6144226
                    ],
                    [
                      1.37837,
                      1.5671062,
                      1.6613846,
                      1.89696,
                      2.0360782,
                      2.0694277,
                      2.6287878,
                      2.496198,
                      2.5679245,
                      2.6047385,
                      2.8184626,
                      3.1456044,
                      3.2793179,
                      3.3643696,
                      3.7561417,
                      3.8551333,
                      3.8213453,
                      3.8516917,
                      3.9098785,
                      3.985248
                    ],
                    [
                      1.9693553,
                      1.6629802,
                      1.5995079,
                      1.9949033,
                      1.6722546,
                      2.1667252,
                      2.0673041,
                      1.9431645,
                      1.9281391,
                      1.7957209,
                      1.8454075,
                      1.6243147,
                      1.5968585,
                      1.40331,
                      1.6416243,
                      1.4187355,
                      2.6235335,
                      3.3229375,
                      3.346404,
                      3.503866
                    ],
                    [
                      2.95349,
                      2.7590642,
                      3.0026157,
                      3.0929852,
                      2.2961075,
                      2.1193106,
                      1.9657952,
                      1.9331208,
                      2.0143213,
                      2.2946665,
                      2.5215418,
                      2.3057194,
                      1.7841326,
                      2.2625782,
                      2.6511192,
                      2.527218,
                      2.2715528,
                      2.4082148,
                      2.189205,
                      2.367903
                    ],
                    [
                      2.2242806,
                      2.8590746,
                      3.354874,
                      3.3837519,
                      2.7111137,
                      3.2204528,
                      2.4496324,
                      2.7873492,
                      2.304268,
                      2.723855,
                      1.985845,
                      2.310211,
                      2.53492,
                      2.8936713,
                      2.8937383,
                      2.990106,
                      2.7952228,
                      3.2737606,
                      3.3801348,
                      2.808578
                    ],
                    [
                      1.6760716,
                      1.7256784,
                      1.9422165,
                      2.137651,
                      1.8600316,
                      1.8631225,
                      2.1947365,
                      2.1892748,
                      2.3482394,
                      2.239317,
                      2.3334582,
                      2.5680902,
                      2.4239647,
                      2.4378204,
                      2.879141,
                      2.6846821,
                      2.4790332,
                      2.6876001,
                      2.7340403,
                      2.8408022
                    ],
                    [
                      1.0411046,
                      0.89620453,
                      0.9212909,
                      1.1948231,
                      1.2526153,
                      1.2348667,
                      1.5537467,
                      1.4073569,
                      2.1239748,
                      2.5148501,
                      2.897599,
                      3.244631,
                      3.4031253,
                      3.5270128,
                      3.4823282,
                      3.4330869,
                      3.735121,
                      3.6722128,
                      4.181628,
                      5.0456123
                    ],
                    [
                      1.0515109,
                      1.0067142,
                      1.0725362,
                      1.1043344,
                      1.130459,
                      1.112443,
                      1.0779961,
                      1.025762,
                      0.9849305,
                      1.0226817,
                      1.1342577,
                      1.1106106,
                      1.0996007,
                      1.162741,
                      1.2209711,
                      1.1610159,
                      1.1753767,
                      1.1838727,
                      1.2868866,
                      1.4072376
                    ],
                    [
                      2.7007782,
                      2.4568024,
                      2.4442182,
                      2.0318427,
                      1.6966529,
                      1.6795566,
                      1.4725788,
                      1.4111065,
                      1.5853491,
                      2.0292695,
                      0.938495,
                      1.3555936,
                      1.3266094,
                      1.3559998,
                      1.3726482,
                      1.4105833,
                      1.8063211,
                      0.9802713,
                      1.7245413,
                      1.5595164
                    ],
                    [
                      0.70897907,
                      0.72678214,
                      0.6768522,
                      0.70806503,
                      0.77264553,
                      0.72468257,
                      0.9635658,
                      0.88427275,
                      1.0153012,
                      0.93487114,
                      0.803211,
                      0.9125831,
                      1.1264259,
                      1.0057976,
                      1.0195494,
                      1.0330042,
                      1.0289141,
                      1.1477365,
                      1.153629,
                      1.0755363
                    ],
                    [
                      1.5682518,
                      1.4740888,
                      1.6523527,
                      1.6878978,
                      1.8225683,
                      1.906288,
                      2.1653826,
                      2.1269505,
                      2.25078,
                      2.1886222,
                      2.151934,
                      2.3893278,
                      2.2681863,
                      2.319788,
                      2.5169935,
                      2.3754969,
                      2.153148,
                      2.1477466,
                      2.3218894,
                      2.334729
                    ],
                    [
                      1.5918225,
                      2.107388,
                      2.249324,
                      2.2070816,
                      1.458689,
                      0.5159652,
                      0.48360488,
                      1.2901691,
                      1.2961535,
                      0.8552962,
                      1.0835382,
                      1.0685465,
                      1.3632015,
                      1.1577876,
                      1.916627,
                      1.8494534,
                      1.0469749,
                      1.5913706,
                      1.6250124,
                      1.1451223
                    ],
                    [
                      3.0064342,
                      3.016743,
                      3.157869,
                      3.1514888,
                      3.7073193,
                      3.4469993,
                      4.513239,
                      3.52455,
                      3.0550668,
                      2.700564,
                      2.9189365,
                      3.2081819,
                      2.897891,
                      2.6915417,
                      3.0733347,
                      3.1005263,
                      3.0401907,
                      3.0459418,
                      2.7824442,
                      2.8273575
                    ],
                    [
                      1.6228714,
                      2.018927,
                      1.4356055,
                      1.7727538,
                      1.5933776,
                      1.4980943,
                      2.0450037,
                      1.5088502,
                      1.5805624,
                      2.3990438,
                      2.923945,
                      3.044228,
                      3.729888,
                      3.2230544,
                      3.6749635,
                      3.8293767,
                      3.5755205,
                      3.1406758,
                      3.24216,
                      2.128885
                    ],
                    [
                      1.2444063,
                      0.7692242,
                      0.7539717,
                      0.9485829,
                      1.034079,
                      1.0959394,
                      1.2704159,
                      1.3133003,
                      1.3133117,
                      0.87968224,
                      0.55486584,
                      0.66542757,
                      0.41822648,
                      0.7846244,
                      1.3464986,
                      2.0117688,
                      1.977159,
                      2.098946,
                      2.3782427,
                      2.7362447
                    ]
                  ],
                  "hovertemplate": "Cluster=%{x}<br>1995=%{customdata[0]}<br>1996=%{customdata[1]}<br>1997=%{customdata[2]}<br>1998=%{customdata[3]}<br>1999=%{customdata[4]}<br>2000=%{customdata[5]}<br>2001=%{customdata[6]}<br>2002=%{customdata[7]}<br>2003=%{customdata[8]}<br>2004=%{customdata[9]}<br>2005=%{customdata[10]}<br>2006=%{customdata[11]}<br>2007=%{customdata[12]}<br>2008=%{customdata[13]}<br>2009=%{customdata[14]}<br>2010=%{customdata[15]}<br>2011=%{customdata[16]}<br>2012=%{customdata[17]}<br>2013=%{customdata[18]}<br>2014=%{customdata[19]}<extra></extra>",
                  "legendgroup": "Cluster 1",
                  "marker": {
                    "color": "#EF553B"
                  },
                  "name": "Cluster 1",
                  "notched": true,
                  "offsetgroup": "Cluster 1",
                  "showlegend": false,
                  "type": "box",
                  "x": [
                    "Cluster 1",
                    "Cluster 1",
                    "Cluster 1",
                    "Cluster 1",
                    "Cluster 1",
                    "Cluster 1",
                    "Cluster 1",
                    "Cluster 1",
                    "Cluster 1",
                    "Cluster 1",
                    "Cluster 1",
                    "Cluster 1",
                    "Cluster 1",
                    "Cluster 1",
                    "Cluster 1",
                    "Cluster 1",
                    "Cluster 1",
                    "Cluster 1",
                    "Cluster 1",
                    "Cluster 1",
                    "Cluster 1",
                    "Cluster 1",
                    "Cluster 1",
                    "Cluster 1",
                    "Cluster 1",
                    "Cluster 1",
                    "Cluster 1",
                    "Cluster 1",
                    "Cluster 1",
                    "Cluster 1",
                    "Cluster 1",
                    "Cluster 1",
                    "Cluster 1",
                    "Cluster 1",
                    "Cluster 1",
                    "Cluster 1",
                    "Cluster 1",
                    "Cluster 1",
                    "Cluster 1",
                    "Cluster 1",
                    "Cluster 1",
                    "Cluster 1",
                    "Cluster 1",
                    "Cluster 1",
                    "Cluster 1",
                    "Cluster 1",
                    "Cluster 1",
                    "Cluster 1",
                    "Cluster 1",
                    "Cluster 1",
                    "Cluster 1",
                    "Cluster 1",
                    "Cluster 1",
                    "Cluster 1",
                    "Cluster 1",
                    "Cluster 1",
                    "Cluster 1",
                    "Cluster 1",
                    "Cluster 1",
                    "Cluster 1",
                    "Cluster 1",
                    "Cluster 1",
                    "Cluster 1",
                    "Cluster 1",
                    "Cluster 1",
                    "Cluster 1",
                    "Cluster 1",
                    "Cluster 1",
                    "Cluster 1",
                    "Cluster 1",
                    "Cluster 1",
                    "Cluster 1",
                    "Cluster 1",
                    "Cluster 1",
                    "Cluster 1",
                    "Cluster 1",
                    "Cluster 1",
                    "Cluster 1",
                    "Cluster 1",
                    "Cluster 1",
                    "Cluster 1",
                    "Cluster 1",
                    "Cluster 1",
                    "Cluster 1",
                    "Cluster 1",
                    "Cluster 1",
                    "Cluster 1",
                    "Cluster 1",
                    "Cluster 1",
                    "Cluster 1",
                    "Cluster 1"
                  ],
                  "xaxis": "x2",
                  "yaxis": "y2"
                },
                {
                  "alignmentgroup": "True",
                  "bingroup": "x",
                  "hovertemplate": "Cluster=%{x}<br>count=%{y}<extra></extra>",
                  "legendgroup": "Cluster 2",
                  "marker": {
                    "color": "#00cc96",
                    "opacity": 0.7,
                    "pattern": {
                      "shape": ""
                    }
                  },
                  "name": "Cluster 2",
                  "offsetgroup": "Cluster 2",
                  "orientation": "v",
                  "showlegend": true,
                  "type": "histogram",
                  "x": [
                    "Cluster 2",
                    "Cluster 2",
                    "Cluster 2",
                    "Cluster 2",
                    "Cluster 2",
                    "Cluster 2",
                    "Cluster 2",
                    "Cluster 2",
                    "Cluster 2",
                    "Cluster 2",
                    "Cluster 2",
                    "Cluster 2",
                    "Cluster 2",
                    "Cluster 2",
                    "Cluster 2",
                    "Cluster 2",
                    "Cluster 2",
                    "Cluster 2",
                    "Cluster 2",
                    "Cluster 2",
                    "Cluster 2",
                    "Cluster 2",
                    "Cluster 2",
                    "Cluster 2",
                    "Cluster 2",
                    "Cluster 2",
                    "Cluster 2",
                    "Cluster 2",
                    "Cluster 2"
                  ],
                  "xaxis": "x",
                  "yaxis": "y"
                },
                {
                  "alignmentgroup": "True",
                  "customdata": [
                    [
                      8.65019,
                      8.769107,
                      8.390542,
                      7.074246,
                      7.6243234,
                      6.370625,
                      6.185119,
                      5.9485207,
                      6.094253,
                      6.4906735,
                      5.895631,
                      6.3421054,
                      6.5597644,
                      6.540845,
                      6.6146464,
                      7.6411166,
                      6.548387,
                      6.739224,
                      6.599187,
                      6.53197
                    ],
                    [
                      8.968472,
                      8.797772,
                      8.983,
                      6.6569543,
                      8.444217,
                      7.5829206,
                      8.491803,
                      8.56391,
                      9.467626,
                      9.892086,
                      9.460432,
                      9.359713,
                      11.400771,
                      10.311666,
                      10.364765,
                      8.72561,
                      8.568862,
                      8.313609,
                      8.232914,
                      8.291027
                    ],
                    [
                      8.696186,
                      8.135027,
                      7.2770886,
                      6.462138,
                      7.0648565,
                      7.35331,
                      8.006993,
                      7.414074,
                      9.029862,
                      9.899822,
                      11.3112,
                      11.033992,
                      11.135547,
                      11.695402,
                      12.1732855,
                      12.610783,
                      12.538216,
                      11.58814,
                      12.089938,
                      12.433752
                    ],
                    [
                      5.8453207,
                      6.1840377,
                      5.853458,
                      5.8994384,
                      6.023602,
                      6.0583744,
                      6.252815,
                      6.2445087,
                      6.9180965,
                      7.127857,
                      7.112748,
                      6.9623704,
                      6.9529366,
                      7.3967543,
                      8.043822,
                      7.896703,
                      8.006738,
                      8.186299,
                      8.226719,
                      8.2499895
                    ],
                    [
                      5.6138735,
                      5.574902,
                      5.216401,
                      5.2734394,
                      5.503507,
                      5.5234675,
                      5.7659497,
                      6.040016,
                      6.209568,
                      6.48243,
                      6.6583447,
                      6.8265986,
                      6.7944813,
                      7.220153,
                      8.162898,
                      7.941676,
                      7.7654114,
                      7.8026333,
                      7.780481,
                      7.5788503
                    ],
                    [
                      5.9094787,
                      5.8912745,
                      5.83075,
                      5.676669,
                      5.613685,
                      5.653471,
                      6.074098,
                      6.4239407,
                      6.6188674,
                      6.6981006,
                      6.722609,
                      6.8825326,
                      7.0163603,
                      7.3678837,
                      8.014549,
                      8.079784,
                      8.074126,
                      8.042357,
                      8.045007,
                      8.278518
                    ],
                    [
                      7.1371,
                      7.096257,
                      7.3567286,
                      7.4787197,
                      7.648252,
                      7.5363665,
                      7.503314,
                      7.6065083,
                      7.7364798,
                      7.7913365,
                      7.831419,
                      7.7379327,
                      7.7758026,
                      7.995857,
                      8.466129,
                      8.400007,
                      8.213675,
                      8.41719,
                      8.370613,
                      8.725026
                    ],
                    [
                      4.775233,
                      4.856308,
                      5.016476,
                      5.0846477,
                      5.326927,
                      5.399512,
                      5.4209986,
                      5.6206603,
                      5.5061274,
                      5.724899,
                      5.6614485,
                      5.660887,
                      5.7658763,
                      5.927631,
                      6.186556,
                      6.127334,
                      6.315378,
                      6.285633,
                      6.274917,
                      6.3165927
                    ],
                    [
                      5.627187,
                      5.7535357,
                      5.5631323,
                      5.326593,
                      5.268778,
                      5.144464,
                      5.343613,
                      5.65716,
                      5.9322324,
                      6.0172663,
                      6.2218657,
                      6.2791886,
                      6.031731,
                      6.253822,
                      6.896823,
                      6.738832,
                      6.753551,
                      7.0408397,
                      7.2040167,
                      7.2898145
                    ],
                    [
                      8.058219,
                      8.042809,
                      7.944487,
                      7.8442483,
                      7.831248,
                      7.7594995,
                      7.8486667,
                      8.141654,
                      8.127821,
                      8.206409,
                      8.266337,
                      8.173183,
                      8.118288,
                      8.169337,
                      8.746523,
                      8.679105,
                      8.731136,
                      8.826052,
                      8.910694,
                      9.024514
                    ],
                    [
                      4.645839,
                      5.0249705,
                      5.049987,
                      5.1174574,
                      5.3179307,
                      6.1932793,
                      6.2331443,
                      6.462405,
                      6.564296,
                      6.8934,
                      6.9899287,
                      6.5834603,
                      6.5067124,
                      6.6740375,
                      7.1605215,
                      7.1714926,
                      6.700656,
                      6.238911,
                      6.2321553,
                      6.1581893
                    ],
                    [
                      7.6786733,
                      8.11737,
                      8.085699,
                      8.040406,
                      8.01233,
                      7.9987526,
                      8.033764,
                      8.181588,
                      8.289386,
                      7.9198194,
                      8.006701,
                      7.8585186,
                      7.7325196,
                      7.9017386,
                      8.709863,
                      8.57573,
                      8.307622,
                      8.3611145,
                      8.569494,
                      8.697237
                    ],
                    [
                      4.648496,
                      4.756708,
                      4.9869514,
                      5.2260203,
                      5.4749994,
                      5.509534,
                      5.670491,
                      5.72485,
                      5.648789,
                      5.4681854,
                      8.744449,
                      7.08125,
                      9.883198,
                      10.293358,
                      11.283919,
                      9.703828,
                      10.071011,
                      8.088255,
                      8.962295,
                      10.573663
                    ],
                    [
                      5.83067,
                      6.1350217,
                      4.8937607,
                      5.733092,
                      6.3263245,
                      6.602275,
                      5.964355,
                      4.9550643,
                      5.242817,
                      5.314159,
                      5.9306173,
                      5.984642,
                      6.477623,
                      6.538723,
                      7.0068674,
                      7.0649643,
                      6.255412,
                      6.363207,
                      6.403029,
                      6.3882875
                    ],
                    [
                      5.020895,
                      5.0844936,
                      5.2862887,
                      5.3002343,
                      5.38467,
                      5.704658,
                      5.973164,
                      6.076903,
                      6.0704536,
                      6.414767,
                      6.6441474,
                      6.7435975,
                      6.4878397,
                      6.8366537,
                      7.248666,
                      7.2566733,
                      6.9691854,
                      6.9931207,
                      6.9673514,
                      6.992651
                    ],
                    [
                      5.792909,
                      5.8190265,
                      5.819144,
                      5.8979325,
                      5.900415,
                      6.116333,
                      6.2805023,
                      6.324764,
                      6.314121,
                      6.2219048,
                      6.2127333,
                      6.122383,
                      5.7739296,
                      6.291264,
                      6.9246335,
                      6.728626,
                      6.6735506,
                      6.8038874,
                      6.6682606,
                      6.6238217
                    ],
                    [
                      4.9819646,
                      5.0655074,
                      4.8389926,
                      5.637174,
                      5.3629227,
                      5.612425,
                      5.4855075,
                      6.283476,
                      6.4502754,
                      5.6532593,
                      5.465712,
                      5.397314,
                      5.627837,
                      6.2613106,
                      7.02219,
                      7.092617,
                      7.149714,
                      7.000227,
                      6.914441,
                      6.7676015
                    ],
                    [
                      5.3735065,
                      5.40027,
                      5.314512,
                      5.2844057,
                      5.269708,
                      5.1674595,
                      5.1557384,
                      5.1689363,
                      5.7278757,
                      5.797936,
                      5.875803,
                      6.0053205,
                      6.09879,
                      6.512856,
                      7.20976,
                      7.173242,
                      7.001061,
                      6.7346153,
                      6.50261,
                      6.399992
                    ],
                    [
                      6.8871374,
                      6.797413,
                      6.4931173,
                      7.037369,
                      7.775043,
                      7.5449805,
                      7.405369,
                      8.074376,
                      8.231289,
                      7.7942963,
                      7.499485,
                      7.34951,
                      7.2254434,
                      7.2743096,
                      7.4794807,
                      7.116064,
                      6.9722433,
                      6.994048,
                      7.0675807,
                      7.179706
                    ],
                    [
                      5.362052,
                      5.283706,
                      5.486241,
                      5.7879033,
                      5.731562,
                      5.827839,
                      5.791985,
                      6.1465206,
                      6.041511,
                      6.281577,
                      6.572475,
                      6.9229956,
                      6.8833995,
                      8.906984,
                      9.32301,
                      9.305462,
                      9.342877,
                      9.547667,
                      9.226557,
                      9.082656
                    ],
                    [
                      5.2868543,
                      4.948234,
                      5.0715566,
                      4.8494673,
                      4.7220845,
                      4.6826215,
                      4.894734,
                      5.2119207,
                      5.627419,
                      5.591159,
                      6.668937,
                      7.9744644,
                      7.9804897,
                      8.209742,
                      8.901517,
                      9.081296,
                      9.085858,
                      9.528421,
                      9.617135,
                      9.4811325
                    ],
                    [
                      6.0840425,
                      5.812946,
                      5.779225,
                      5.803851,
                      5.7446103,
                      5.702535,
                      5.7649026,
                      6.1498346,
                      6.4044743,
                      6.154497,
                      6.0540442,
                      5.805409,
                      5.5566263,
                      5.6287847,
                      6.569654,
                      6.2249365,
                      6.3147326,
                      6.341765,
                      6.313088,
                      6.2649765
                    ],
                    [
                      5.1457167,
                      5.24556,
                      5.173766,
                      5.2379036,
                      5.2321897,
                      6.361267,
                      6.236389,
                      7.0708585,
                      6.4576235,
                      6.9582977,
                      6.7477064,
                      6.5973797,
                      5.820074,
                      6.49297,
                      7.0256443,
                      6.594702,
                      6.2606616,
                      5.988071,
                      5.939237,
                      5.822836
                    ],
                    [
                      6.705344,
                      6.7675376,
                      6.706312,
                      6.694654,
                      7.5170193,
                      7.2951856,
                      7.6605387,
                      7.8850503,
                      8.039901,
                      8.152819,
                      8.253255,
                      8.3995495,
                      8.429011,
                      8.621215,
                      9.756125,
                      9.433818,
                      9.268852,
                      9.419661,
                      9.59321,
                      9.158734
                    ],
                    [
                      6.499859,
                      6.452809,
                      6.697117,
                      7.454887,
                      7.547604,
                      6.823828,
                      7.2239604,
                      8.027209,
                      8.247464,
                      7.8888607,
                      7.430282,
                      7.0628877,
                      7.219227,
                      7.0911727,
                      8.021738,
                      7.8392286,
                      7.717231,
                      7.773856,
                      8.005414,
                      8.309618
                    ],
                    [
                      6.901267,
                      7.128358,
                      6.888227,
                      6.9624805,
                      7.0275497,
                      6.943698,
                      7.18824,
                      7.5139446,
                      7.6348586,
                      7.3951964,
                      7.3541503,
                      7.2595162,
                      7.254789,
                      7.5215645,
                      8.100548,
                      7.7183104,
                      9.914692,
                      9.955521,
                      10.052015,
                      10.024694
                    ],
                    [
                      4.999426,
                      5.2923107,
                      5.3136253,
                      5.38164,
                      5.5155597,
                      5.492176,
                      5.8529463,
                      6.1237793,
                      6.3797517,
                      6.4003115,
                      6.459406,
                      6.141738,
                      6.0324183,
                      6.7037387,
                      7.209715,
                      7.09727,
                      7.2009273,
                      7.498785,
                      7.7338057,
                      7.6951175
                    ],
                    [
                      6.3135004,
                      6.112419,
                      6.033112,
                      6.2289705,
                      6.1076984,
                      6.098427,
                      6.364905,
                      6.5143056,
                      6.6942434,
                      6.719902,
                      6.7235594,
                      6.788408,
                      6.8935013,
                      7.0634537,
                      7.9141583,
                      7.8843966,
                      7.6767926,
                      7.6511445,
                      7.575665,
                      7.411932
                    ],
                    [
                      5.451501,
                      5.342586,
                      5.4699163,
                      5.6529117,
                      5.9090977,
                      6.087614,
                      6.297406,
                      6.3615527,
                      6.42041,
                      6.4727397,
                      6.6574597,
                      6.5964394,
                      6.715045,
                      6.995022,
                      7.7534933,
                      7.8619695,
                      8.31825,
                      8.409921,
                      8.528219,
                      8.550081
                    ]
                  ],
                  "hovertemplate": "Cluster=%{x}<br>1995=%{customdata[0]}<br>1996=%{customdata[1]}<br>1997=%{customdata[2]}<br>1998=%{customdata[3]}<br>1999=%{customdata[4]}<br>2000=%{customdata[5]}<br>2001=%{customdata[6]}<br>2002=%{customdata[7]}<br>2003=%{customdata[8]}<br>2004=%{customdata[9]}<br>2005=%{customdata[10]}<br>2006=%{customdata[11]}<br>2007=%{customdata[12]}<br>2008=%{customdata[13]}<br>2009=%{customdata[14]}<br>2010=%{customdata[15]}<br>2011=%{customdata[16]}<br>2012=%{customdata[17]}<br>2013=%{customdata[18]}<br>2014=%{customdata[19]}<extra></extra>",
                  "legendgroup": "Cluster 2",
                  "marker": {
                    "color": "#00cc96"
                  },
                  "name": "Cluster 2",
                  "notched": true,
                  "offsetgroup": "Cluster 2",
                  "showlegend": false,
                  "type": "box",
                  "x": [
                    "Cluster 2",
                    "Cluster 2",
                    "Cluster 2",
                    "Cluster 2",
                    "Cluster 2",
                    "Cluster 2",
                    "Cluster 2",
                    "Cluster 2",
                    "Cluster 2",
                    "Cluster 2",
                    "Cluster 2",
                    "Cluster 2",
                    "Cluster 2",
                    "Cluster 2",
                    "Cluster 2",
                    "Cluster 2",
                    "Cluster 2",
                    "Cluster 2",
                    "Cluster 2",
                    "Cluster 2",
                    "Cluster 2",
                    "Cluster 2",
                    "Cluster 2",
                    "Cluster 2",
                    "Cluster 2",
                    "Cluster 2",
                    "Cluster 2",
                    "Cluster 2",
                    "Cluster 2"
                  ],
                  "xaxis": "x2",
                  "yaxis": "y2"
                },
                {
                  "alignmentgroup": "True",
                  "bingroup": "x",
                  "hovertemplate": "Cluster=%{x}<br>count=%{y}<extra></extra>",
                  "legendgroup": "Cluster 3",
                  "marker": {
                    "color": "#ab63fa",
                    "opacity": 0.7,
                    "pattern": {
                      "shape": ""
                    }
                  },
                  "name": "Cluster 3",
                  "offsetgroup": "Cluster 3",
                  "orientation": "v",
                  "showlegend": true,
                  "type": "histogram",
                  "x": [
                    "Cluster 3",
                    "Cluster 3",
                    "Cluster 3"
                  ],
                  "xaxis": "x",
                  "yaxis": "y"
                },
                {
                  "alignmentgroup": "True",
                  "customdata": [
                    [
                      12.334931,
                      11.594283,
                      11.826018,
                      12.564984,
                      12.337984,
                      12.547686,
                      13.312807,
                      14.5354185,
                      13.454671,
                      10.649628,
                      11.617775,
                      12.576337,
                      18.102823,
                      15.606703,
                      8.727534,
                      8.454552,
                      7.110557,
                      6.523966,
                      4.1921635,
                      2.8676662
                    ],
                    [
                      7.9601855,
                      11.274663,
                      8.087747,
                      8.614015,
                      9.221983,
                      15.666667,
                      17.26923,
                      14.386207,
                      21.654095,
                      16.748972,
                      18.234377,
                      19.256752,
                      16.856098,
                      13.268344,
                      12.693344,
                      16.62857,
                      16.842106,
                      13.641026,
                      16.475,
                      16.404762
                    ],
                    [
                      28.049786,
                      16.678892,
                      17.168133,
                      15.645229,
                      15.427423,
                      19.240433,
                      16.07197,
                      14.835146,
                      14.211288,
                      15.09093,
                      14.67971,
                      17.055555,
                      17.592,
                      16.481699,
                      16.028948,
                      14.39817,
                      14.271676,
                      13.906522,
                      14.551898,
                      14.449168
                    ]
                  ],
                  "hovertemplate": "Cluster=%{x}<br>1995=%{customdata[0]}<br>1996=%{customdata[1]}<br>1997=%{customdata[2]}<br>1998=%{customdata[3]}<br>1999=%{customdata[4]}<br>2000=%{customdata[5]}<br>2001=%{customdata[6]}<br>2002=%{customdata[7]}<br>2003=%{customdata[8]}<br>2004=%{customdata[9]}<br>2005=%{customdata[10]}<br>2006=%{customdata[11]}<br>2007=%{customdata[12]}<br>2008=%{customdata[13]}<br>2009=%{customdata[14]}<br>2010=%{customdata[15]}<br>2011=%{customdata[16]}<br>2012=%{customdata[17]}<br>2013=%{customdata[18]}<br>2014=%{customdata[19]}<extra></extra>",
                  "legendgroup": "Cluster 3",
                  "marker": {
                    "color": "#ab63fa"
                  },
                  "name": "Cluster 3",
                  "notched": true,
                  "offsetgroup": "Cluster 3",
                  "showlegend": false,
                  "type": "box",
                  "x": [
                    "Cluster 3",
                    "Cluster 3",
                    "Cluster 3"
                  ],
                  "xaxis": "x2",
                  "yaxis": "y2"
                }
              ],
              "layout": {
                "barmode": "relative",
                "height": 600,
                "legend": {
                  "title": {
                    "text": "Cluster"
                  },
                  "tracegroupgap": 0
                },
                "margin": {
                  "t": 60
                },
                "template": {
                  "data": {
                    "bar": [
                      {
                        "error_x": {
                          "color": "#2a3f5f"
                        },
                        "error_y": {
                          "color": "#2a3f5f"
                        },
                        "marker": {
                          "line": {
                            "color": "#E5ECF6",
                            "width": 0.5
                          },
                          "pattern": {
                            "fillmode": "overlay",
                            "size": 10,
                            "solidity": 0.2
                          }
                        },
                        "type": "bar"
                      }
                    ],
                    "barpolar": [
                      {
                        "marker": {
                          "line": {
                            "color": "#E5ECF6",
                            "width": 0.5
                          },
                          "pattern": {
                            "fillmode": "overlay",
                            "size": 10,
                            "solidity": 0.2
                          }
                        },
                        "type": "barpolar"
                      }
                    ],
                    "carpet": [
                      {
                        "aaxis": {
                          "endlinecolor": "#2a3f5f",
                          "gridcolor": "white",
                          "linecolor": "white",
                          "minorgridcolor": "white",
                          "startlinecolor": "#2a3f5f"
                        },
                        "baxis": {
                          "endlinecolor": "#2a3f5f",
                          "gridcolor": "white",
                          "linecolor": "white",
                          "minorgridcolor": "white",
                          "startlinecolor": "#2a3f5f"
                        },
                        "type": "carpet"
                      }
                    ],
                    "choropleth": [
                      {
                        "colorbar": {
                          "outlinewidth": 0,
                          "ticks": ""
                        },
                        "type": "choropleth"
                      }
                    ],
                    "contour": [
                      {
                        "colorbar": {
                          "outlinewidth": 0,
                          "ticks": ""
                        },
                        "colorscale": [
                          [
                            0,
                            "#0d0887"
                          ],
                          [
                            0.1111111111111111,
                            "#46039f"
                          ],
                          [
                            0.2222222222222222,
                            "#7201a8"
                          ],
                          [
                            0.3333333333333333,
                            "#9c179e"
                          ],
                          [
                            0.4444444444444444,
                            "#bd3786"
                          ],
                          [
                            0.5555555555555556,
                            "#d8576b"
                          ],
                          [
                            0.6666666666666666,
                            "#ed7953"
                          ],
                          [
                            0.7777777777777778,
                            "#fb9f3a"
                          ],
                          [
                            0.8888888888888888,
                            "#fdca26"
                          ],
                          [
                            1,
                            "#f0f921"
                          ]
                        ],
                        "type": "contour"
                      }
                    ],
                    "contourcarpet": [
                      {
                        "colorbar": {
                          "outlinewidth": 0,
                          "ticks": ""
                        },
                        "type": "contourcarpet"
                      }
                    ],
                    "heatmap": [
                      {
                        "colorbar": {
                          "outlinewidth": 0,
                          "ticks": ""
                        },
                        "colorscale": [
                          [
                            0,
                            "#0d0887"
                          ],
                          [
                            0.1111111111111111,
                            "#46039f"
                          ],
                          [
                            0.2222222222222222,
                            "#7201a8"
                          ],
                          [
                            0.3333333333333333,
                            "#9c179e"
                          ],
                          [
                            0.4444444444444444,
                            "#bd3786"
                          ],
                          [
                            0.5555555555555556,
                            "#d8576b"
                          ],
                          [
                            0.6666666666666666,
                            "#ed7953"
                          ],
                          [
                            0.7777777777777778,
                            "#fb9f3a"
                          ],
                          [
                            0.8888888888888888,
                            "#fdca26"
                          ],
                          [
                            1,
                            "#f0f921"
                          ]
                        ],
                        "type": "heatmap"
                      }
                    ],
                    "heatmapgl": [
                      {
                        "colorbar": {
                          "outlinewidth": 0,
                          "ticks": ""
                        },
                        "colorscale": [
                          [
                            0,
                            "#0d0887"
                          ],
                          [
                            0.1111111111111111,
                            "#46039f"
                          ],
                          [
                            0.2222222222222222,
                            "#7201a8"
                          ],
                          [
                            0.3333333333333333,
                            "#9c179e"
                          ],
                          [
                            0.4444444444444444,
                            "#bd3786"
                          ],
                          [
                            0.5555555555555556,
                            "#d8576b"
                          ],
                          [
                            0.6666666666666666,
                            "#ed7953"
                          ],
                          [
                            0.7777777777777778,
                            "#fb9f3a"
                          ],
                          [
                            0.8888888888888888,
                            "#fdca26"
                          ],
                          [
                            1,
                            "#f0f921"
                          ]
                        ],
                        "type": "heatmapgl"
                      }
                    ],
                    "histogram": [
                      {
                        "marker": {
                          "pattern": {
                            "fillmode": "overlay",
                            "size": 10,
                            "solidity": 0.2
                          }
                        },
                        "type": "histogram"
                      }
                    ],
                    "histogram2d": [
                      {
                        "colorbar": {
                          "outlinewidth": 0,
                          "ticks": ""
                        },
                        "colorscale": [
                          [
                            0,
                            "#0d0887"
                          ],
                          [
                            0.1111111111111111,
                            "#46039f"
                          ],
                          [
                            0.2222222222222222,
                            "#7201a8"
                          ],
                          [
                            0.3333333333333333,
                            "#9c179e"
                          ],
                          [
                            0.4444444444444444,
                            "#bd3786"
                          ],
                          [
                            0.5555555555555556,
                            "#d8576b"
                          ],
                          [
                            0.6666666666666666,
                            "#ed7953"
                          ],
                          [
                            0.7777777777777778,
                            "#fb9f3a"
                          ],
                          [
                            0.8888888888888888,
                            "#fdca26"
                          ],
                          [
                            1,
                            "#f0f921"
                          ]
                        ],
                        "type": "histogram2d"
                      }
                    ],
                    "histogram2dcontour": [
                      {
                        "colorbar": {
                          "outlinewidth": 0,
                          "ticks": ""
                        },
                        "colorscale": [
                          [
                            0,
                            "#0d0887"
                          ],
                          [
                            0.1111111111111111,
                            "#46039f"
                          ],
                          [
                            0.2222222222222222,
                            "#7201a8"
                          ],
                          [
                            0.3333333333333333,
                            "#9c179e"
                          ],
                          [
                            0.4444444444444444,
                            "#bd3786"
                          ],
                          [
                            0.5555555555555556,
                            "#d8576b"
                          ],
                          [
                            0.6666666666666666,
                            "#ed7953"
                          ],
                          [
                            0.7777777777777778,
                            "#fb9f3a"
                          ],
                          [
                            0.8888888888888888,
                            "#fdca26"
                          ],
                          [
                            1,
                            "#f0f921"
                          ]
                        ],
                        "type": "histogram2dcontour"
                      }
                    ],
                    "mesh3d": [
                      {
                        "colorbar": {
                          "outlinewidth": 0,
                          "ticks": ""
                        },
                        "type": "mesh3d"
                      }
                    ],
                    "parcoords": [
                      {
                        "line": {
                          "colorbar": {
                            "outlinewidth": 0,
                            "ticks": ""
                          }
                        },
                        "type": "parcoords"
                      }
                    ],
                    "pie": [
                      {
                        "automargin": true,
                        "type": "pie"
                      }
                    ],
                    "scatter": [
                      {
                        "fillpattern": {
                          "fillmode": "overlay",
                          "size": 10,
                          "solidity": 0.2
                        },
                        "type": "scatter"
                      }
                    ],
                    "scatter3d": [
                      {
                        "line": {
                          "colorbar": {
                            "outlinewidth": 0,
                            "ticks": ""
                          }
                        },
                        "marker": {
                          "colorbar": {
                            "outlinewidth": 0,
                            "ticks": ""
                          }
                        },
                        "type": "scatter3d"
                      }
                    ],
                    "scattercarpet": [
                      {
                        "marker": {
                          "colorbar": {
                            "outlinewidth": 0,
                            "ticks": ""
                          }
                        },
                        "type": "scattercarpet"
                      }
                    ],
                    "scattergeo": [
                      {
                        "marker": {
                          "colorbar": {
                            "outlinewidth": 0,
                            "ticks": ""
                          }
                        },
                        "type": "scattergeo"
                      }
                    ],
                    "scattergl": [
                      {
                        "marker": {
                          "colorbar": {
                            "outlinewidth": 0,
                            "ticks": ""
                          }
                        },
                        "type": "scattergl"
                      }
                    ],
                    "scattermapbox": [
                      {
                        "marker": {
                          "colorbar": {
                            "outlinewidth": 0,
                            "ticks": ""
                          }
                        },
                        "type": "scattermapbox"
                      }
                    ],
                    "scatterpolar": [
                      {
                        "marker": {
                          "colorbar": {
                            "outlinewidth": 0,
                            "ticks": ""
                          }
                        },
                        "type": "scatterpolar"
                      }
                    ],
                    "scatterpolargl": [
                      {
                        "marker": {
                          "colorbar": {
                            "outlinewidth": 0,
                            "ticks": ""
                          }
                        },
                        "type": "scatterpolargl"
                      }
                    ],
                    "scatterternary": [
                      {
                        "marker": {
                          "colorbar": {
                            "outlinewidth": 0,
                            "ticks": ""
                          }
                        },
                        "type": "scatterternary"
                      }
                    ],
                    "surface": [
                      {
                        "colorbar": {
                          "outlinewidth": 0,
                          "ticks": ""
                        },
                        "colorscale": [
                          [
                            0,
                            "#0d0887"
                          ],
                          [
                            0.1111111111111111,
                            "#46039f"
                          ],
                          [
                            0.2222222222222222,
                            "#7201a8"
                          ],
                          [
                            0.3333333333333333,
                            "#9c179e"
                          ],
                          [
                            0.4444444444444444,
                            "#bd3786"
                          ],
                          [
                            0.5555555555555556,
                            "#d8576b"
                          ],
                          [
                            0.6666666666666666,
                            "#ed7953"
                          ],
                          [
                            0.7777777777777778,
                            "#fb9f3a"
                          ],
                          [
                            0.8888888888888888,
                            "#fdca26"
                          ],
                          [
                            1,
                            "#f0f921"
                          ]
                        ],
                        "type": "surface"
                      }
                    ],
                    "table": [
                      {
                        "cells": {
                          "fill": {
                            "color": "#EBF0F8"
                          },
                          "line": {
                            "color": "white"
                          }
                        },
                        "header": {
                          "fill": {
                            "color": "#C8D4E3"
                          },
                          "line": {
                            "color": "white"
                          }
                        },
                        "type": "table"
                      }
                    ]
                  },
                  "layout": {
                    "annotationdefaults": {
                      "arrowcolor": "#2a3f5f",
                      "arrowhead": 0,
                      "arrowwidth": 1
                    },
                    "autotypenumbers": "strict",
                    "coloraxis": {
                      "colorbar": {
                        "outlinewidth": 0,
                        "ticks": ""
                      }
                    },
                    "colorscale": {
                      "diverging": [
                        [
                          0,
                          "#8e0152"
                        ],
                        [
                          0.1,
                          "#c51b7d"
                        ],
                        [
                          0.2,
                          "#de77ae"
                        ],
                        [
                          0.3,
                          "#f1b6da"
                        ],
                        [
                          0.4,
                          "#fde0ef"
                        ],
                        [
                          0.5,
                          "#f7f7f7"
                        ],
                        [
                          0.6,
                          "#e6f5d0"
                        ],
                        [
                          0.7,
                          "#b8e186"
                        ],
                        [
                          0.8,
                          "#7fbc41"
                        ],
                        [
                          0.9,
                          "#4d9221"
                        ],
                        [
                          1,
                          "#276419"
                        ]
                      ],
                      "sequential": [
                        [
                          0,
                          "#0d0887"
                        ],
                        [
                          0.1111111111111111,
                          "#46039f"
                        ],
                        [
                          0.2222222222222222,
                          "#7201a8"
                        ],
                        [
                          0.3333333333333333,
                          "#9c179e"
                        ],
                        [
                          0.4444444444444444,
                          "#bd3786"
                        ],
                        [
                          0.5555555555555556,
                          "#d8576b"
                        ],
                        [
                          0.6666666666666666,
                          "#ed7953"
                        ],
                        [
                          0.7777777777777778,
                          "#fb9f3a"
                        ],
                        [
                          0.8888888888888888,
                          "#fdca26"
                        ],
                        [
                          1,
                          "#f0f921"
                        ]
                      ],
                      "sequentialminus": [
                        [
                          0,
                          "#0d0887"
                        ],
                        [
                          0.1111111111111111,
                          "#46039f"
                        ],
                        [
                          0.2222222222222222,
                          "#7201a8"
                        ],
                        [
                          0.3333333333333333,
                          "#9c179e"
                        ],
                        [
                          0.4444444444444444,
                          "#bd3786"
                        ],
                        [
                          0.5555555555555556,
                          "#d8576b"
                        ],
                        [
                          0.6666666666666666,
                          "#ed7953"
                        ],
                        [
                          0.7777777777777778,
                          "#fb9f3a"
                        ],
                        [
                          0.8888888888888888,
                          "#fdca26"
                        ],
                        [
                          1,
                          "#f0f921"
                        ]
                      ]
                    },
                    "colorway": [
                      "#636efa",
                      "#EF553B",
                      "#00cc96",
                      "#ab63fa",
                      "#FFA15A",
                      "#19d3f3",
                      "#FF6692",
                      "#B6E880",
                      "#FF97FF",
                      "#FECB52"
                    ],
                    "font": {
                      "color": "#2a3f5f"
                    },
                    "geo": {
                      "bgcolor": "white",
                      "lakecolor": "white",
                      "landcolor": "#E5ECF6",
                      "showlakes": true,
                      "showland": true,
                      "subunitcolor": "white"
                    },
                    "hoverlabel": {
                      "align": "left"
                    },
                    "hovermode": "closest",
                    "mapbox": {
                      "style": "light"
                    },
                    "paper_bgcolor": "white",
                    "plot_bgcolor": "#E5ECF6",
                    "polar": {
                      "angularaxis": {
                        "gridcolor": "white",
                        "linecolor": "white",
                        "ticks": ""
                      },
                      "bgcolor": "#E5ECF6",
                      "radialaxis": {
                        "gridcolor": "white",
                        "linecolor": "white",
                        "ticks": ""
                      }
                    },
                    "scene": {
                      "xaxis": {
                        "backgroundcolor": "#E5ECF6",
                        "gridcolor": "white",
                        "gridwidth": 2,
                        "linecolor": "white",
                        "showbackground": true,
                        "ticks": "",
                        "zerolinecolor": "white"
                      },
                      "yaxis": {
                        "backgroundcolor": "#E5ECF6",
                        "gridcolor": "white",
                        "gridwidth": 2,
                        "linecolor": "white",
                        "showbackground": true,
                        "ticks": "",
                        "zerolinecolor": "white"
                      },
                      "zaxis": {
                        "backgroundcolor": "#E5ECF6",
                        "gridcolor": "white",
                        "gridwidth": 2,
                        "linecolor": "white",
                        "showbackground": true,
                        "ticks": "",
                        "zerolinecolor": "white"
                      }
                    },
                    "shapedefaults": {
                      "line": {
                        "color": "#2a3f5f"
                      }
                    },
                    "ternary": {
                      "aaxis": {
                        "gridcolor": "white",
                        "linecolor": "white",
                        "ticks": ""
                      },
                      "baxis": {
                        "gridcolor": "white",
                        "linecolor": "white",
                        "ticks": ""
                      },
                      "bgcolor": "#E5ECF6",
                      "caxis": {
                        "gridcolor": "white",
                        "linecolor": "white",
                        "ticks": ""
                      }
                    },
                    "title": {
                      "x": 0.05
                    },
                    "xaxis": {
                      "automargin": true,
                      "gridcolor": "white",
                      "linecolor": "white",
                      "ticks": "",
                      "title": {
                        "standoff": 15
                      },
                      "zerolinecolor": "white",
                      "zerolinewidth": 2
                    },
                    "yaxis": {
                      "automargin": true,
                      "gridcolor": "white",
                      "linecolor": "white",
                      "ticks": "",
                      "title": {
                        "standoff": 15
                      },
                      "zerolinecolor": "white",
                      "zerolinewidth": 2
                    }
                  }
                },
                "xaxis": {
                  "anchor": "y",
                  "categoryarray": [
                    "Cluster 0",
                    "Cluster 1",
                    "Cluster 2",
                    "Cluster 3"
                  ],
                  "categoryorder": "array",
                  "domain": [
                    0,
                    1
                  ],
                  "title": {
                    "text": "Cluster"
                  }
                },
                "xaxis2": {
                  "anchor": "y2",
                  "domain": [
                    0,
                    1
                  ],
                  "matches": "x",
                  "showgrid": true,
                  "showticklabels": false
                },
                "yaxis": {
                  "anchor": "x",
                  "domain": [
                    0,
                    0.7326
                  ],
                  "title": {
                    "text": "count"
                  }
                },
                "yaxis2": {
                  "anchor": "x2",
                  "domain": [
                    0.7426,
                    1
                  ],
                  "matches": "y2",
                  "showgrid": false,
                  "showline": false,
                  "showticklabels": false,
                  "ticks": ""
                }
              }
            }
          },
          "metadata": {},
          "output_type": "display_data"
        }
      ],
      "source": [
        "# number of countries by cluster\n",
        "plot_model(kmeans, plot = 'distribution')"
      ]
    },
    {
      "cell_type": "code",
      "execution_count": 24,
      "metadata": {
        "colab": {
          "base_uri": "https://localhost:8080/",
          "height": 617
        },
        "id": "JP61-wGR8bbR",
        "outputId": "b2a17550-d95d-4df8-9ae5-d9164582c4c8"
      },
      "outputs": [
        {
          "data": {
            "text/html": [
              "<div>\n",
              "<style scoped>\n",
              "    .dataframe tbody tr th:only-of-type {\n",
              "        vertical-align: middle;\n",
              "    }\n",
              "\n",
              "    .dataframe tbody tr th {\n",
              "        vertical-align: top;\n",
              "    }\n",
              "\n",
              "    .dataframe thead th {\n",
              "        text-align: right;\n",
              "    }\n",
              "</style>\n",
              "<table border=\"1\" class=\"dataframe\">\n",
              "  <thead>\n",
              "    <tr style=\"text-align: right;\">\n",
              "      <th></th>\n",
              "      <th>1995</th>\n",
              "      <th>1996</th>\n",
              "      <th>1997</th>\n",
              "      <th>1998</th>\n",
              "      <th>1999</th>\n",
              "      <th>2000</th>\n",
              "      <th>2001</th>\n",
              "      <th>2002</th>\n",
              "      <th>2003</th>\n",
              "      <th>2004</th>\n",
              "      <th>...</th>\n",
              "      <th>2006</th>\n",
              "      <th>2007</th>\n",
              "      <th>2008</th>\n",
              "      <th>2009</th>\n",
              "      <th>2010</th>\n",
              "      <th>2011</th>\n",
              "      <th>2012</th>\n",
              "      <th>2013</th>\n",
              "      <th>2014</th>\n",
              "      <th>Cluster</th>\n",
              "    </tr>\n",
              "  </thead>\n",
              "  <tbody>\n",
              "    <tr>\n",
              "      <th>0</th>\n",
              "      <td>1.713004</td>\n",
              "      <td>1.746198</td>\n",
              "      <td>2.024509</td>\n",
              "      <td>2.095128</td>\n",
              "      <td>2.510171</td>\n",
              "      <td>2.258418</td>\n",
              "      <td>2.292224</td>\n",
              "      <td>2.256326</td>\n",
              "      <td>2.252104</td>\n",
              "      <td>2.679405</td>\n",
              "      <td>...</td>\n",
              "      <td>2.575136</td>\n",
              "      <td>2.629171</td>\n",
              "      <td>2.693898</td>\n",
              "      <td>2.833576</td>\n",
              "      <td>2.476568</td>\n",
              "      <td>2.849171</td>\n",
              "      <td>2.735704</td>\n",
              "      <td>2.835984</td>\n",
              "      <td>2.936373</td>\n",
              "      <td>Cluster 1</td>\n",
              "    </tr>\n",
              "    <tr>\n",
              "      <th>1</th>\n",
              "      <td>2.673594</td>\n",
              "      <td>2.502182</td>\n",
              "      <td>2.553366</td>\n",
              "      <td>2.527980</td>\n",
              "      <td>2.383331</td>\n",
              "      <td>2.558561</td>\n",
              "      <td>2.971717</td>\n",
              "      <td>2.852274</td>\n",
              "      <td>2.802237</td>\n",
              "      <td>2.566248</td>\n",
              "      <td>...</td>\n",
              "      <td>2.334851</td>\n",
              "      <td>2.705571</td>\n",
              "      <td>3.062804</td>\n",
              "      <td>3.837966</td>\n",
              "      <td>3.593209</td>\n",
              "      <td>3.775729</td>\n",
              "      <td>4.520251</td>\n",
              "      <td>5.188359</td>\n",
              "      <td>5.244145</td>\n",
              "      <td>Cluster 0</td>\n",
              "    </tr>\n",
              "    <tr>\n",
              "      <th>2</th>\n",
              "      <td>3.982683</td>\n",
              "      <td>4.235647</td>\n",
              "      <td>4.297071</td>\n",
              "      <td>5.737580</td>\n",
              "      <td>3.933466</td>\n",
              "      <td>3.976548</td>\n",
              "      <td>3.979764</td>\n",
              "      <td>4.109589</td>\n",
              "      <td>3.946180</td>\n",
              "      <td>3.916260</td>\n",
              "      <td>...</td>\n",
              "      <td>3.566122</td>\n",
              "      <td>4.586323</td>\n",
              "      <td>4.825071</td>\n",
              "      <td>5.037537</td>\n",
              "      <td>6.242027</td>\n",
              "      <td>4.926289</td>\n",
              "      <td>5.747040</td>\n",
              "      <td>9.692357</td>\n",
              "      <td>6.341446</td>\n",
              "      <td>Cluster 0</td>\n",
              "    </tr>\n",
              "    <tr>\n",
              "      <th>3</th>\n",
              "      <td>4.659118</td>\n",
              "      <td>1.739782</td>\n",
              "      <td>2.019219</td>\n",
              "      <td>1.414705</td>\n",
              "      <td>2.131798</td>\n",
              "      <td>1.677216</td>\n",
              "      <td>2.812403</td>\n",
              "      <td>1.685217</td>\n",
              "      <td>2.044369</td>\n",
              "      <td>2.407840</td>\n",
              "      <td>...</td>\n",
              "      <td>3.022435</td>\n",
              "      <td>2.213764</td>\n",
              "      <td>2.716334</td>\n",
              "      <td>2.663917</td>\n",
              "      <td>2.061255</td>\n",
              "      <td>2.155094</td>\n",
              "      <td>2.137316</td>\n",
              "      <td>3.080408</td>\n",
              "      <td>2.124912</td>\n",
              "      <td>Cluster 1</td>\n",
              "    </tr>\n",
              "    <tr>\n",
              "      <th>4</th>\n",
              "      <td>2.746345</td>\n",
              "      <td>2.505800</td>\n",
              "      <td>2.597403</td>\n",
              "      <td>2.672065</td>\n",
              "      <td>2.744200</td>\n",
              "      <td>2.787806</td>\n",
              "      <td>2.949760</td>\n",
              "      <td>2.950232</td>\n",
              "      <td>2.950013</td>\n",
              "      <td>2.679794</td>\n",
              "      <td>...</td>\n",
              "      <td>2.950106</td>\n",
              "      <td>2.950000</td>\n",
              "      <td>3.343031</td>\n",
              "      <td>3.343899</td>\n",
              "      <td>3.893547</td>\n",
              "      <td>3.891040</td>\n",
              "      <td>3.652333</td>\n",
              "      <td>3.592597</td>\n",
              "      <td>3.784611</td>\n",
              "      <td>Cluster 1</td>\n",
              "    </tr>\n",
              "    <tr>\n",
              "      <th>...</th>\n",
              "      <td>...</td>\n",
              "      <td>...</td>\n",
              "      <td>...</td>\n",
              "      <td>...</td>\n",
              "      <td>...</td>\n",
              "      <td>...</td>\n",
              "      <td>...</td>\n",
              "      <td>...</td>\n",
              "      <td>...</td>\n",
              "      <td>...</td>\n",
              "      <td>...</td>\n",
              "      <td>...</td>\n",
              "      <td>...</td>\n",
              "      <td>...</td>\n",
              "      <td>...</td>\n",
              "      <td>...</td>\n",
              "      <td>...</td>\n",
              "      <td>...</td>\n",
              "      <td>...</td>\n",
              "      <td>...</td>\n",
              "      <td>...</td>\n",
              "    </tr>\n",
              "    <tr>\n",
              "      <th>179</th>\n",
              "      <td>2.139305</td>\n",
              "      <td>1.749747</td>\n",
              "      <td>2.296830</td>\n",
              "      <td>3.038570</td>\n",
              "      <td>2.639953</td>\n",
              "      <td>2.736929</td>\n",
              "      <td>2.788550</td>\n",
              "      <td>2.907660</td>\n",
              "      <td>3.418927</td>\n",
              "      <td>3.524657</td>\n",
              "      <td>...</td>\n",
              "      <td>3.427445</td>\n",
              "      <td>3.161682</td>\n",
              "      <td>3.179892</td>\n",
              "      <td>3.402323</td>\n",
              "      <td>4.182598</td>\n",
              "      <td>3.320178</td>\n",
              "      <td>3.167396</td>\n",
              "      <td>3.391475</td>\n",
              "      <td>4.510749</td>\n",
              "      <td>Cluster 1</td>\n",
              "    </tr>\n",
              "    <tr>\n",
              "      <th>180</th>\n",
              "      <td>1.803152</td>\n",
              "      <td>1.482415</td>\n",
              "      <td>1.387316</td>\n",
              "      <td>1.466016</td>\n",
              "      <td>1.833422</td>\n",
              "      <td>2.163059</td>\n",
              "      <td>2.340757</td>\n",
              "      <td>2.151332</td>\n",
              "      <td>2.079300</td>\n",
              "      <td>2.158141</td>\n",
              "      <td>...</td>\n",
              "      <td>2.221770</td>\n",
              "      <td>2.464781</td>\n",
              "      <td>1.230489</td>\n",
              "      <td>2.496312</td>\n",
              "      <td>2.088239</td>\n",
              "      <td>2.335451</td>\n",
              "      <td>1.675638</td>\n",
              "      <td>1.542859</td>\n",
              "      <td>1.542766</td>\n",
              "      <td>Cluster 1</td>\n",
              "    </tr>\n",
              "    <tr>\n",
              "      <th>181</th>\n",
              "      <td>1.757863</td>\n",
              "      <td>1.632232</td>\n",
              "      <td>1.604611</td>\n",
              "      <td>1.731438</td>\n",
              "      <td>1.717060</td>\n",
              "      <td>1.513863</td>\n",
              "      <td>1.627561</td>\n",
              "      <td>1.447736</td>\n",
              "      <td>1.551822</td>\n",
              "      <td>1.393650</td>\n",
              "      <td>...</td>\n",
              "      <td>1.944867</td>\n",
              "      <td>2.563552</td>\n",
              "      <td>2.131963</td>\n",
              "      <td>2.569187</td>\n",
              "      <td>2.960967</td>\n",
              "      <td>2.805002</td>\n",
              "      <td>3.722124</td>\n",
              "      <td>3.796360</td>\n",
              "      <td>3.820019</td>\n",
              "      <td>Cluster 1</td>\n",
              "    </tr>\n",
              "    <tr>\n",
              "      <th>182</th>\n",
              "      <td>1.358740</td>\n",
              "      <td>1.644501</td>\n",
              "      <td>1.898410</td>\n",
              "      <td>2.324038</td>\n",
              "      <td>2.127391</td>\n",
              "      <td>2.235286</td>\n",
              "      <td>2.294181</td>\n",
              "      <td>2.142648</td>\n",
              "      <td>2.181731</td>\n",
              "      <td>1.854331</td>\n",
              "      <td>...</td>\n",
              "      <td>1.521602</td>\n",
              "      <td>1.462790</td>\n",
              "      <td>1.565018</td>\n",
              "      <td>1.336698</td>\n",
              "      <td>1.299131</td>\n",
              "      <td>1.350447</td>\n",
              "      <td>1.571628</td>\n",
              "      <td>1.410010</td>\n",
              "      <td>1.271871</td>\n",
              "      <td>Cluster 1</td>\n",
              "    </tr>\n",
              "    <tr>\n",
              "      <th>183</th>\n",
              "      <td>2.152489</td>\n",
              "      <td>2.484678</td>\n",
              "      <td>2.585239</td>\n",
              "      <td>3.133965</td>\n",
              "      <td>3.403697</td>\n",
              "      <td>3.719900</td>\n",
              "      <td>3.526559</td>\n",
              "      <td>4.018110</td>\n",
              "      <td>4.187669</td>\n",
              "      <td>3.657084</td>\n",
              "      <td>...</td>\n",
              "      <td>2.755846</td>\n",
              "      <td>1.885822</td>\n",
              "      <td>2.189942</td>\n",
              "      <td>2.261668</td>\n",
              "      <td>2.279956</td>\n",
              "      <td>2.148932</td>\n",
              "      <td>2.536371</td>\n",
              "      <td>2.765405</td>\n",
              "      <td>2.760095</td>\n",
              "      <td>Cluster 1</td>\n",
              "    </tr>\n",
              "  </tbody>\n",
              "</table>\n",
              "<p>184 rows × 21 columns</p>\n",
              "</div>"
            ],
            "text/plain": [
              "         1995      1996      1997      1998      1999      2000      2001  \\\n",
              "0    1.713004  1.746198  2.024509  2.095128  2.510171  2.258418  2.292224   \n",
              "1    2.673594  2.502182  2.553366  2.527980  2.383331  2.558561  2.971717   \n",
              "2    3.982683  4.235647  4.297071  5.737580  3.933466  3.976548  3.979764   \n",
              "3    4.659118  1.739782  2.019219  1.414705  2.131798  1.677216  2.812403   \n",
              "4    2.746345  2.505800  2.597403  2.672065  2.744200  2.787806  2.949760   \n",
              "..        ...       ...       ...       ...       ...       ...       ...   \n",
              "179  2.139305  1.749747  2.296830  3.038570  2.639953  2.736929  2.788550   \n",
              "180  1.803152  1.482415  1.387316  1.466016  1.833422  2.163059  2.340757   \n",
              "181  1.757863  1.632232  1.604611  1.731438  1.717060  1.513863  1.627561   \n",
              "182  1.358740  1.644501  1.898410  2.324038  2.127391  2.235286  2.294181   \n",
              "183  2.152489  2.484678  2.585239  3.133965  3.403697  3.719900  3.526559   \n",
              "\n",
              "         2002      2003      2004  ...      2006      2007      2008  \\\n",
              "0    2.256326  2.252104  2.679405  ...  2.575136  2.629171  2.693898   \n",
              "1    2.852274  2.802237  2.566248  ...  2.334851  2.705571  3.062804   \n",
              "2    4.109589  3.946180  3.916260  ...  3.566122  4.586323  4.825071   \n",
              "3    1.685217  2.044369  2.407840  ...  3.022435  2.213764  2.716334   \n",
              "4    2.950232  2.950013  2.679794  ...  2.950106  2.950000  3.343031   \n",
              "..        ...       ...       ...  ...       ...       ...       ...   \n",
              "179  2.907660  3.418927  3.524657  ...  3.427445  3.161682  3.179892   \n",
              "180  2.151332  2.079300  2.158141  ...  2.221770  2.464781  1.230489   \n",
              "181  1.447736  1.551822  1.393650  ...  1.944867  2.563552  2.131963   \n",
              "182  2.142648  2.181731  1.854331  ...  1.521602  1.462790  1.565018   \n",
              "183  4.018110  4.187669  3.657084  ...  2.755846  1.885822  2.189942   \n",
              "\n",
              "         2009      2010      2011      2012      2013      2014    Cluster  \n",
              "0    2.833576  2.476568  2.849171  2.735704  2.835984  2.936373  Cluster 1  \n",
              "1    3.837966  3.593209  3.775729  4.520251  5.188359  5.244145  Cluster 0  \n",
              "2    5.037537  6.242027  4.926289  5.747040  9.692357  6.341446  Cluster 0  \n",
              "3    2.663917  2.061255  2.155094  2.137316  3.080408  2.124912  Cluster 1  \n",
              "4    3.343899  3.893547  3.891040  3.652333  3.592597  3.784611  Cluster 1  \n",
              "..        ...       ...       ...       ...       ...       ...        ...  \n",
              "179  3.402323  4.182598  3.320178  3.167396  3.391475  4.510749  Cluster 1  \n",
              "180  2.496312  2.088239  2.335451  1.675638  1.542859  1.542766  Cluster 1  \n",
              "181  2.569187  2.960967  2.805002  3.722124  3.796360  3.820019  Cluster 1  \n",
              "182  1.336698  1.299131  1.350447  1.571628  1.410010  1.271871  Cluster 1  \n",
              "183  2.261668  2.279956  2.148932  2.536371  2.765405  2.760095  Cluster 1  \n",
              "\n",
              "[184 rows x 21 columns]"
            ]
          },
          "execution_count": 24,
          "metadata": {},
          "output_type": "execute_result"
        }
      ],
      "source": [
        "# assign results of kmeans model into dataframe\n",
        "# notice the last column of this frame. It is a result of Kmeans algorithm.\n",
        "kmeans_results = assign_model(kmeans)\n",
        "kmeans_results"
      ]
    },
    {
      "cell_type": "code",
      "execution_count": 25,
      "metadata": {
        "colab": {
          "base_uri": "https://localhost:8080/",
          "height": 1000
        },
        "id": "3wf60StO80AC",
        "outputId": "381b0b4a-6f17-4e7f-e29e-c14aa2c12d17"
      },
      "outputs": [
        {
          "data": {
            "text/html": [
              "<div>\n",
              "<style scoped>\n",
              "    .dataframe tbody tr th:only-of-type {\n",
              "        vertical-align: middle;\n",
              "    }\n",
              "\n",
              "    .dataframe tbody tr th {\n",
              "        vertical-align: top;\n",
              "    }\n",
              "\n",
              "    .dataframe thead th {\n",
              "        text-align: right;\n",
              "    }\n",
              "</style>\n",
              "<table border=\"1\" class=\"dataframe\">\n",
              "  <thead>\n",
              "    <tr style=\"text-align: right;\">\n",
              "      <th></th>\n",
              "      <th>1995</th>\n",
              "      <th>1996</th>\n",
              "      <th>1997</th>\n",
              "      <th>1998</th>\n",
              "      <th>1999</th>\n",
              "      <th>2000</th>\n",
              "      <th>2001</th>\n",
              "      <th>2002</th>\n",
              "      <th>2003</th>\n",
              "      <th>2004</th>\n",
              "      <th>...</th>\n",
              "      <th>2006</th>\n",
              "      <th>2007</th>\n",
              "      <th>2008</th>\n",
              "      <th>2009</th>\n",
              "      <th>2010</th>\n",
              "      <th>2011</th>\n",
              "      <th>2012</th>\n",
              "      <th>2013</th>\n",
              "      <th>2014</th>\n",
              "      <th>Cluster</th>\n",
              "    </tr>\n",
              "  </thead>\n",
              "  <tbody>\n",
              "    <tr>\n",
              "      <th>7</th>\n",
              "      <td>4.775233</td>\n",
              "      <td>4.856308</td>\n",
              "      <td>5.016476</td>\n",
              "      <td>5.084648</td>\n",
              "      <td>5.326927</td>\n",
              "      <td>5.399512</td>\n",
              "      <td>5.420999</td>\n",
              "      <td>5.620660</td>\n",
              "      <td>5.506127</td>\n",
              "      <td>5.724899</td>\n",
              "      <td>...</td>\n",
              "      <td>5.660887</td>\n",
              "      <td>5.765876</td>\n",
              "      <td>5.927631</td>\n",
              "      <td>6.186556</td>\n",
              "      <td>6.127334</td>\n",
              "      <td>6.315378</td>\n",
              "      <td>6.285633</td>\n",
              "      <td>6.274917</td>\n",
              "      <td>6.316593</td>\n",
              "      <td>Cluster 2</td>\n",
              "    </tr>\n",
              "    <tr>\n",
              "      <th>8</th>\n",
              "      <td>7.137100</td>\n",
              "      <td>7.096257</td>\n",
              "      <td>7.356729</td>\n",
              "      <td>7.478720</td>\n",
              "      <td>7.648252</td>\n",
              "      <td>7.536366</td>\n",
              "      <td>7.503314</td>\n",
              "      <td>7.606508</td>\n",
              "      <td>7.736480</td>\n",
              "      <td>7.791337</td>\n",
              "      <td>...</td>\n",
              "      <td>7.737933</td>\n",
              "      <td>7.775803</td>\n",
              "      <td>7.995857</td>\n",
              "      <td>8.466129</td>\n",
              "      <td>8.400007</td>\n",
              "      <td>8.213675</td>\n",
              "      <td>8.417190</td>\n",
              "      <td>8.370613</td>\n",
              "      <td>8.725026</td>\n",
              "      <td>Cluster 2</td>\n",
              "    </tr>\n",
              "    <tr>\n",
              "      <th>15</th>\n",
              "      <td>5.845321</td>\n",
              "      <td>6.184038</td>\n",
              "      <td>5.853458</td>\n",
              "      <td>5.899438</td>\n",
              "      <td>6.023602</td>\n",
              "      <td>6.058374</td>\n",
              "      <td>6.252815</td>\n",
              "      <td>6.244509</td>\n",
              "      <td>6.918097</td>\n",
              "      <td>7.127857</td>\n",
              "      <td>...</td>\n",
              "      <td>6.962370</td>\n",
              "      <td>6.952937</td>\n",
              "      <td>7.396754</td>\n",
              "      <td>8.043822</td>\n",
              "      <td>7.896703</td>\n",
              "      <td>8.006738</td>\n",
              "      <td>8.186299</td>\n",
              "      <td>8.226719</td>\n",
              "      <td>8.249990</td>\n",
              "      <td>Cluster 2</td>\n",
              "    </tr>\n",
              "    <tr>\n",
              "      <th>30</th>\n",
              "      <td>6.313500</td>\n",
              "      <td>6.112419</td>\n",
              "      <td>6.033112</td>\n",
              "      <td>6.228971</td>\n",
              "      <td>6.107698</td>\n",
              "      <td>6.098427</td>\n",
              "      <td>6.364905</td>\n",
              "      <td>6.514306</td>\n",
              "      <td>6.694243</td>\n",
              "      <td>6.719902</td>\n",
              "      <td>...</td>\n",
              "      <td>6.788408</td>\n",
              "      <td>6.893501</td>\n",
              "      <td>7.063454</td>\n",
              "      <td>7.914158</td>\n",
              "      <td>7.884397</td>\n",
              "      <td>7.676793</td>\n",
              "      <td>7.651145</td>\n",
              "      <td>7.575665</td>\n",
              "      <td>7.411932</td>\n",
              "      <td>Cluster 2</td>\n",
              "    </tr>\n",
              "    <tr>\n",
              "      <th>39</th>\n",
              "      <td>4.981965</td>\n",
              "      <td>5.065507</td>\n",
              "      <td>4.838993</td>\n",
              "      <td>5.637174</td>\n",
              "      <td>5.362923</td>\n",
              "      <td>5.612425</td>\n",
              "      <td>5.485507</td>\n",
              "      <td>6.283476</td>\n",
              "      <td>6.450275</td>\n",
              "      <td>5.653259</td>\n",
              "      <td>...</td>\n",
              "      <td>5.397314</td>\n",
              "      <td>5.627837</td>\n",
              "      <td>6.261311</td>\n",
              "      <td>7.022190</td>\n",
              "      <td>7.092617</td>\n",
              "      <td>7.149714</td>\n",
              "      <td>7.000227</td>\n",
              "      <td>6.914441</td>\n",
              "      <td>6.767601</td>\n",
              "      <td>Cluster 2</td>\n",
              "    </tr>\n",
              "    <tr>\n",
              "      <th>41</th>\n",
              "      <td>5.830670</td>\n",
              "      <td>6.135022</td>\n",
              "      <td>4.893761</td>\n",
              "      <td>5.733092</td>\n",
              "      <td>6.326324</td>\n",
              "      <td>6.602275</td>\n",
              "      <td>5.964355</td>\n",
              "      <td>4.955064</td>\n",
              "      <td>5.242817</td>\n",
              "      <td>5.314159</td>\n",
              "      <td>...</td>\n",
              "      <td>5.984642</td>\n",
              "      <td>6.477623</td>\n",
              "      <td>6.538723</td>\n",
              "      <td>7.006867</td>\n",
              "      <td>7.064964</td>\n",
              "      <td>6.255412</td>\n",
              "      <td>6.363207</td>\n",
              "      <td>6.403029</td>\n",
              "      <td>6.388288</td>\n",
              "      <td>Cluster 2</td>\n",
              "    </tr>\n",
              "    <tr>\n",
              "      <th>42</th>\n",
              "      <td>4.648496</td>\n",
              "      <td>4.756708</td>\n",
              "      <td>4.986951</td>\n",
              "      <td>5.226020</td>\n",
              "      <td>5.474999</td>\n",
              "      <td>5.509534</td>\n",
              "      <td>5.670491</td>\n",
              "      <td>5.724850</td>\n",
              "      <td>5.648789</td>\n",
              "      <td>5.468185</td>\n",
              "      <td>...</td>\n",
              "      <td>7.081250</td>\n",
              "      <td>9.883198</td>\n",
              "      <td>10.293358</td>\n",
              "      <td>11.283919</td>\n",
              "      <td>9.703828</td>\n",
              "      <td>10.071011</td>\n",
              "      <td>8.088255</td>\n",
              "      <td>8.962295</td>\n",
              "      <td>10.573663</td>\n",
              "      <td>Cluster 2</td>\n",
              "    </tr>\n",
              "    <tr>\n",
              "      <th>44</th>\n",
              "      <td>6.084043</td>\n",
              "      <td>5.812946</td>\n",
              "      <td>5.779225</td>\n",
              "      <td>5.803851</td>\n",
              "      <td>5.744610</td>\n",
              "      <td>5.702535</td>\n",
              "      <td>5.764903</td>\n",
              "      <td>6.149835</td>\n",
              "      <td>6.404474</td>\n",
              "      <td>6.154497</td>\n",
              "      <td>...</td>\n",
              "      <td>5.805409</td>\n",
              "      <td>5.556626</td>\n",
              "      <td>5.628785</td>\n",
              "      <td>6.569654</td>\n",
              "      <td>6.224936</td>\n",
              "      <td>6.314733</td>\n",
              "      <td>6.341765</td>\n",
              "      <td>6.313088</td>\n",
              "      <td>6.264977</td>\n",
              "      <td>Cluster 2</td>\n",
              "    </tr>\n",
              "    <tr>\n",
              "      <th>45</th>\n",
              "      <td>6.705344</td>\n",
              "      <td>6.767538</td>\n",
              "      <td>6.706312</td>\n",
              "      <td>6.694654</td>\n",
              "      <td>7.517019</td>\n",
              "      <td>7.295186</td>\n",
              "      <td>7.660539</td>\n",
              "      <td>7.885050</td>\n",
              "      <td>8.039901</td>\n",
              "      <td>8.152819</td>\n",
              "      <td>...</td>\n",
              "      <td>8.399549</td>\n",
              "      <td>8.429011</td>\n",
              "      <td>8.621215</td>\n",
              "      <td>9.756125</td>\n",
              "      <td>9.433818</td>\n",
              "      <td>9.268852</td>\n",
              "      <td>9.419661</td>\n",
              "      <td>9.593210</td>\n",
              "      <td>9.158734</td>\n",
              "      <td>Cluster 2</td>\n",
              "    </tr>\n",
              "    <tr>\n",
              "      <th>57</th>\n",
              "      <td>5.627187</td>\n",
              "      <td>5.753536</td>\n",
              "      <td>5.563132</td>\n",
              "      <td>5.326593</td>\n",
              "      <td>5.268778</td>\n",
              "      <td>5.144464</td>\n",
              "      <td>5.343613</td>\n",
              "      <td>5.657160</td>\n",
              "      <td>5.932232</td>\n",
              "      <td>6.017266</td>\n",
              "      <td>...</td>\n",
              "      <td>6.279189</td>\n",
              "      <td>6.031731</td>\n",
              "      <td>6.253822</td>\n",
              "      <td>6.896823</td>\n",
              "      <td>6.738832</td>\n",
              "      <td>6.753551</td>\n",
              "      <td>7.040840</td>\n",
              "      <td>7.204017</td>\n",
              "      <td>7.289814</td>\n",
              "      <td>Cluster 2</td>\n",
              "    </tr>\n",
              "    <tr>\n",
              "      <th>58</th>\n",
              "      <td>8.058219</td>\n",
              "      <td>8.042809</td>\n",
              "      <td>7.944487</td>\n",
              "      <td>7.844248</td>\n",
              "      <td>7.831248</td>\n",
              "      <td>7.759500</td>\n",
              "      <td>7.848667</td>\n",
              "      <td>8.141654</td>\n",
              "      <td>8.127821</td>\n",
              "      <td>8.206409</td>\n",
              "      <td>...</td>\n",
              "      <td>8.173183</td>\n",
              "      <td>8.118288</td>\n",
              "      <td>8.169337</td>\n",
              "      <td>8.746523</td>\n",
              "      <td>8.679105</td>\n",
              "      <td>8.731136</td>\n",
              "      <td>8.826052</td>\n",
              "      <td>8.910694</td>\n",
              "      <td>9.024514</td>\n",
              "      <td>Cluster 2</td>\n",
              "    </tr>\n",
              "    <tr>\n",
              "      <th>62</th>\n",
              "      <td>7.678673</td>\n",
              "      <td>8.117370</td>\n",
              "      <td>8.085699</td>\n",
              "      <td>8.040406</td>\n",
              "      <td>8.012330</td>\n",
              "      <td>7.998753</td>\n",
              "      <td>8.033764</td>\n",
              "      <td>8.181588</td>\n",
              "      <td>8.289386</td>\n",
              "      <td>7.919819</td>\n",
              "      <td>...</td>\n",
              "      <td>7.858519</td>\n",
              "      <td>7.732520</td>\n",
              "      <td>7.901739</td>\n",
              "      <td>8.709863</td>\n",
              "      <td>8.575730</td>\n",
              "      <td>8.307622</td>\n",
              "      <td>8.361115</td>\n",
              "      <td>8.569494</td>\n",
              "      <td>8.697237</td>\n",
              "      <td>Cluster 2</td>\n",
              "    </tr>\n",
              "    <tr>\n",
              "      <th>73</th>\n",
              "      <td>6.887137</td>\n",
              "      <td>6.797413</td>\n",
              "      <td>6.493117</td>\n",
              "      <td>7.037369</td>\n",
              "      <td>7.775043</td>\n",
              "      <td>7.544981</td>\n",
              "      <td>7.405369</td>\n",
              "      <td>8.074376</td>\n",
              "      <td>8.231289</td>\n",
              "      <td>7.794296</td>\n",
              "      <td>...</td>\n",
              "      <td>7.349510</td>\n",
              "      <td>7.225443</td>\n",
              "      <td>7.274310</td>\n",
              "      <td>7.479481</td>\n",
              "      <td>7.116064</td>\n",
              "      <td>6.972243</td>\n",
              "      <td>6.994048</td>\n",
              "      <td>7.067581</td>\n",
              "      <td>7.179706</td>\n",
              "      <td>Cluster 2</td>\n",
              "    </tr>\n",
              "    <tr>\n",
              "      <th>79</th>\n",
              "      <td>5.020895</td>\n",
              "      <td>5.084494</td>\n",
              "      <td>5.286289</td>\n",
              "      <td>5.300234</td>\n",
              "      <td>5.384670</td>\n",
              "      <td>5.704658</td>\n",
              "      <td>5.973164</td>\n",
              "      <td>6.076903</td>\n",
              "      <td>6.070454</td>\n",
              "      <td>6.414767</td>\n",
              "      <td>...</td>\n",
              "      <td>6.743598</td>\n",
              "      <td>6.487840</td>\n",
              "      <td>6.836654</td>\n",
              "      <td>7.248666</td>\n",
              "      <td>7.256673</td>\n",
              "      <td>6.969185</td>\n",
              "      <td>6.993121</td>\n",
              "      <td>6.967351</td>\n",
              "      <td>6.992651</td>\n",
              "      <td>Cluster 2</td>\n",
              "    </tr>\n",
              "    <tr>\n",
              "      <th>81</th>\n",
              "      <td>5.451501</td>\n",
              "      <td>5.342586</td>\n",
              "      <td>5.469916</td>\n",
              "      <td>5.652912</td>\n",
              "      <td>5.909098</td>\n",
              "      <td>6.087614</td>\n",
              "      <td>6.297406</td>\n",
              "      <td>6.361553</td>\n",
              "      <td>6.420410</td>\n",
              "      <td>6.472740</td>\n",
              "      <td>...</td>\n",
              "      <td>6.596439</td>\n",
              "      <td>6.715045</td>\n",
              "      <td>6.995022</td>\n",
              "      <td>7.753493</td>\n",
              "      <td>7.861969</td>\n",
              "      <td>8.318250</td>\n",
              "      <td>8.409921</td>\n",
              "      <td>8.528219</td>\n",
              "      <td>8.550081</td>\n",
              "      <td>Cluster 2</td>\n",
              "    </tr>\n",
              "    <tr>\n",
              "      <th>85</th>\n",
              "      <td>8.968472</td>\n",
              "      <td>8.797772</td>\n",
              "      <td>8.983000</td>\n",
              "      <td>6.656954</td>\n",
              "      <td>8.444217</td>\n",
              "      <td>7.582921</td>\n",
              "      <td>8.491803</td>\n",
              "      <td>8.563910</td>\n",
              "      <td>9.467626</td>\n",
              "      <td>9.892086</td>\n",
              "      <td>...</td>\n",
              "      <td>9.359713</td>\n",
              "      <td>11.400771</td>\n",
              "      <td>10.311666</td>\n",
              "      <td>10.364765</td>\n",
              "      <td>8.725610</td>\n",
              "      <td>8.568862</td>\n",
              "      <td>8.313609</td>\n",
              "      <td>8.232914</td>\n",
              "      <td>8.291027</td>\n",
              "      <td>Cluster 2</td>\n",
              "    </tr>\n",
              "    <tr>\n",
              "      <th>95</th>\n",
              "      <td>5.145717</td>\n",
              "      <td>5.245560</td>\n",
              "      <td>5.173766</td>\n",
              "      <td>5.237904</td>\n",
              "      <td>5.232190</td>\n",
              "      <td>6.361267</td>\n",
              "      <td>6.236389</td>\n",
              "      <td>7.070858</td>\n",
              "      <td>6.457623</td>\n",
              "      <td>6.958298</td>\n",
              "      <td>...</td>\n",
              "      <td>6.597380</td>\n",
              "      <td>5.820074</td>\n",
              "      <td>6.492970</td>\n",
              "      <td>7.025644</td>\n",
              "      <td>6.594702</td>\n",
              "      <td>6.260662</td>\n",
              "      <td>5.988071</td>\n",
              "      <td>5.939237</td>\n",
              "      <td>5.822836</td>\n",
              "      <td>Cluster 2</td>\n",
              "    </tr>\n",
              "    <tr>\n",
              "      <th>107</th>\n",
              "      <td>8.696186</td>\n",
              "      <td>8.135027</td>\n",
              "      <td>7.277089</td>\n",
              "      <td>6.462138</td>\n",
              "      <td>7.064857</td>\n",
              "      <td>7.353310</td>\n",
              "      <td>8.006993</td>\n",
              "      <td>7.414074</td>\n",
              "      <td>9.029862</td>\n",
              "      <td>9.899822</td>\n",
              "      <td>...</td>\n",
              "      <td>11.033992</td>\n",
              "      <td>11.135547</td>\n",
              "      <td>11.695402</td>\n",
              "      <td>12.173285</td>\n",
              "      <td>12.610783</td>\n",
              "      <td>12.538216</td>\n",
              "      <td>11.588140</td>\n",
              "      <td>12.089938</td>\n",
              "      <td>12.433752</td>\n",
              "      <td>Cluster 2</td>\n",
              "    </tr>\n",
              "    <tr>\n",
              "      <th>118</th>\n",
              "      <td>5.286854</td>\n",
              "      <td>4.948234</td>\n",
              "      <td>5.071557</td>\n",
              "      <td>4.849467</td>\n",
              "      <td>4.722085</td>\n",
              "      <td>4.682621</td>\n",
              "      <td>4.894734</td>\n",
              "      <td>5.211921</td>\n",
              "      <td>5.627419</td>\n",
              "      <td>5.591159</td>\n",
              "      <td>...</td>\n",
              "      <td>7.974464</td>\n",
              "      <td>7.980490</td>\n",
              "      <td>8.209742</td>\n",
              "      <td>8.901517</td>\n",
              "      <td>9.081296</td>\n",
              "      <td>9.085858</td>\n",
              "      <td>9.528421</td>\n",
              "      <td>9.617135</td>\n",
              "      <td>9.481133</td>\n",
              "      <td>Cluster 2</td>\n",
              "    </tr>\n",
              "    <tr>\n",
              "      <th>119</th>\n",
              "      <td>5.362052</td>\n",
              "      <td>5.283706</td>\n",
              "      <td>5.486241</td>\n",
              "      <td>5.787903</td>\n",
              "      <td>5.731562</td>\n",
              "      <td>5.827839</td>\n",
              "      <td>5.791985</td>\n",
              "      <td>6.146521</td>\n",
              "      <td>6.041511</td>\n",
              "      <td>6.281577</td>\n",
              "      <td>...</td>\n",
              "      <td>6.922996</td>\n",
              "      <td>6.883399</td>\n",
              "      <td>8.906984</td>\n",
              "      <td>9.323010</td>\n",
              "      <td>9.305462</td>\n",
              "      <td>9.342877</td>\n",
              "      <td>9.547667</td>\n",
              "      <td>9.226557</td>\n",
              "      <td>9.082656</td>\n",
              "      <td>Cluster 2</td>\n",
              "    </tr>\n",
              "    <tr>\n",
              "      <th>123</th>\n",
              "      <td>6.499859</td>\n",
              "      <td>6.452809</td>\n",
              "      <td>6.697117</td>\n",
              "      <td>7.454887</td>\n",
              "      <td>7.547604</td>\n",
              "      <td>6.823828</td>\n",
              "      <td>7.223960</td>\n",
              "      <td>8.027209</td>\n",
              "      <td>8.247464</td>\n",
              "      <td>7.888861</td>\n",
              "      <td>...</td>\n",
              "      <td>7.062888</td>\n",
              "      <td>7.219227</td>\n",
              "      <td>7.091173</td>\n",
              "      <td>8.021738</td>\n",
              "      <td>7.839229</td>\n",
              "      <td>7.717231</td>\n",
              "      <td>7.773856</td>\n",
              "      <td>8.005414</td>\n",
              "      <td>8.309618</td>\n",
              "      <td>Cluster 2</td>\n",
              "    </tr>\n",
              "    <tr>\n",
              "      <th>126</th>\n",
              "      <td>8.650190</td>\n",
              "      <td>8.769107</td>\n",
              "      <td>8.390542</td>\n",
              "      <td>7.074246</td>\n",
              "      <td>7.624323</td>\n",
              "      <td>6.370625</td>\n",
              "      <td>6.185119</td>\n",
              "      <td>5.948521</td>\n",
              "      <td>6.094253</td>\n",
              "      <td>6.490674</td>\n",
              "      <td>...</td>\n",
              "      <td>6.342105</td>\n",
              "      <td>6.559764</td>\n",
              "      <td>6.540845</td>\n",
              "      <td>6.614646</td>\n",
              "      <td>7.641117</td>\n",
              "      <td>6.548387</td>\n",
              "      <td>6.739224</td>\n",
              "      <td>6.599187</td>\n",
              "      <td>6.531970</td>\n",
              "      <td>Cluster 2</td>\n",
              "    </tr>\n",
              "    <tr>\n",
              "      <th>133</th>\n",
              "      <td>4.645839</td>\n",
              "      <td>5.024971</td>\n",
              "      <td>5.049987</td>\n",
              "      <td>5.117457</td>\n",
              "      <td>5.317931</td>\n",
              "      <td>6.193279</td>\n",
              "      <td>6.233144</td>\n",
              "      <td>6.462405</td>\n",
              "      <td>6.564296</td>\n",
              "      <td>6.893400</td>\n",
              "      <td>...</td>\n",
              "      <td>6.583460</td>\n",
              "      <td>6.506712</td>\n",
              "      <td>6.674037</td>\n",
              "      <td>7.160522</td>\n",
              "      <td>7.171493</td>\n",
              "      <td>6.700656</td>\n",
              "      <td>6.238911</td>\n",
              "      <td>6.232155</td>\n",
              "      <td>6.158189</td>\n",
              "      <td>Cluster 2</td>\n",
              "    </tr>\n",
              "    <tr>\n",
              "      <th>148</th>\n",
              "      <td>5.792909</td>\n",
              "      <td>5.819026</td>\n",
              "      <td>5.819144</td>\n",
              "      <td>5.897933</td>\n",
              "      <td>5.900415</td>\n",
              "      <td>6.116333</td>\n",
              "      <td>6.280502</td>\n",
              "      <td>6.324764</td>\n",
              "      <td>6.314121</td>\n",
              "      <td>6.221905</td>\n",
              "      <td>...</td>\n",
              "      <td>6.122383</td>\n",
              "      <td>5.773930</td>\n",
              "      <td>6.291264</td>\n",
              "      <td>6.924634</td>\n",
              "      <td>6.728626</td>\n",
              "      <td>6.673551</td>\n",
              "      <td>6.803887</td>\n",
              "      <td>6.668261</td>\n",
              "      <td>6.623822</td>\n",
              "      <td>Cluster 2</td>\n",
              "    </tr>\n",
              "    <tr>\n",
              "      <th>151</th>\n",
              "      <td>5.373507</td>\n",
              "      <td>5.400270</td>\n",
              "      <td>5.314512</td>\n",
              "      <td>5.284406</td>\n",
              "      <td>5.269708</td>\n",
              "      <td>5.167459</td>\n",
              "      <td>5.155738</td>\n",
              "      <td>5.168936</td>\n",
              "      <td>5.727876</td>\n",
              "      <td>5.797936</td>\n",
              "      <td>...</td>\n",
              "      <td>6.005321</td>\n",
              "      <td>6.098790</td>\n",
              "      <td>6.512856</td>\n",
              "      <td>7.209760</td>\n",
              "      <td>7.173242</td>\n",
              "      <td>7.001061</td>\n",
              "      <td>6.734615</td>\n",
              "      <td>6.502610</td>\n",
              "      <td>6.399992</td>\n",
              "      <td>Cluster 2</td>\n",
              "    </tr>\n",
              "    <tr>\n",
              "      <th>159</th>\n",
              "      <td>6.901267</td>\n",
              "      <td>7.128358</td>\n",
              "      <td>6.888227</td>\n",
              "      <td>6.962481</td>\n",
              "      <td>7.027550</td>\n",
              "      <td>6.943698</td>\n",
              "      <td>7.188240</td>\n",
              "      <td>7.513945</td>\n",
              "      <td>7.634859</td>\n",
              "      <td>7.395196</td>\n",
              "      <td>...</td>\n",
              "      <td>7.259516</td>\n",
              "      <td>7.254789</td>\n",
              "      <td>7.521564</td>\n",
              "      <td>8.100548</td>\n",
              "      <td>7.718310</td>\n",
              "      <td>9.914692</td>\n",
              "      <td>9.955521</td>\n",
              "      <td>10.052015</td>\n",
              "      <td>10.024694</td>\n",
              "      <td>Cluster 2</td>\n",
              "    </tr>\n",
              "    <tr>\n",
              "      <th>160</th>\n",
              "      <td>4.999426</td>\n",
              "      <td>5.292311</td>\n",
              "      <td>5.313625</td>\n",
              "      <td>5.381640</td>\n",
              "      <td>5.515560</td>\n",
              "      <td>5.492176</td>\n",
              "      <td>5.852946</td>\n",
              "      <td>6.123779</td>\n",
              "      <td>6.379752</td>\n",
              "      <td>6.400311</td>\n",
              "      <td>...</td>\n",
              "      <td>6.141738</td>\n",
              "      <td>6.032418</td>\n",
              "      <td>6.703739</td>\n",
              "      <td>7.209715</td>\n",
              "      <td>7.097270</td>\n",
              "      <td>7.200927</td>\n",
              "      <td>7.498785</td>\n",
              "      <td>7.733806</td>\n",
              "      <td>7.695117</td>\n",
              "      <td>Cluster 2</td>\n",
              "    </tr>\n",
              "    <tr>\n",
              "      <th>175</th>\n",
              "      <td>5.613873</td>\n",
              "      <td>5.574902</td>\n",
              "      <td>5.216401</td>\n",
              "      <td>5.273439</td>\n",
              "      <td>5.503507</td>\n",
              "      <td>5.523468</td>\n",
              "      <td>5.765950</td>\n",
              "      <td>6.040016</td>\n",
              "      <td>6.209568</td>\n",
              "      <td>6.482430</td>\n",
              "      <td>...</td>\n",
              "      <td>6.826599</td>\n",
              "      <td>6.794481</td>\n",
              "      <td>7.220153</td>\n",
              "      <td>8.162898</td>\n",
              "      <td>7.941676</td>\n",
              "      <td>7.765411</td>\n",
              "      <td>7.802633</td>\n",
              "      <td>7.780481</td>\n",
              "      <td>7.578850</td>\n",
              "      <td>Cluster 2</td>\n",
              "    </tr>\n",
              "    <tr>\n",
              "      <th>176</th>\n",
              "      <td>5.909479</td>\n",
              "      <td>5.891274</td>\n",
              "      <td>5.830750</td>\n",
              "      <td>5.676669</td>\n",
              "      <td>5.613685</td>\n",
              "      <td>5.653471</td>\n",
              "      <td>6.074098</td>\n",
              "      <td>6.423941</td>\n",
              "      <td>6.618867</td>\n",
              "      <td>6.698101</td>\n",
              "      <td>...</td>\n",
              "      <td>6.882533</td>\n",
              "      <td>7.016360</td>\n",
              "      <td>7.367884</td>\n",
              "      <td>8.014549</td>\n",
              "      <td>8.079784</td>\n",
              "      <td>8.074126</td>\n",
              "      <td>8.042357</td>\n",
              "      <td>8.045007</td>\n",
              "      <td>8.278518</td>\n",
              "      <td>Cluster 2</td>\n",
              "    </tr>\n",
              "  </tbody>\n",
              "</table>\n",
              "<p>29 rows × 21 columns</p>\n",
              "</div>"
            ],
            "text/plain": [
              "         1995      1996      1997      1998      1999      2000      2001  \\\n",
              "7    4.775233  4.856308  5.016476  5.084648  5.326927  5.399512  5.420999   \n",
              "8    7.137100  7.096257  7.356729  7.478720  7.648252  7.536366  7.503314   \n",
              "15   5.845321  6.184038  5.853458  5.899438  6.023602  6.058374  6.252815   \n",
              "30   6.313500  6.112419  6.033112  6.228971  6.107698  6.098427  6.364905   \n",
              "39   4.981965  5.065507  4.838993  5.637174  5.362923  5.612425  5.485507   \n",
              "41   5.830670  6.135022  4.893761  5.733092  6.326324  6.602275  5.964355   \n",
              "42   4.648496  4.756708  4.986951  5.226020  5.474999  5.509534  5.670491   \n",
              "44   6.084043  5.812946  5.779225  5.803851  5.744610  5.702535  5.764903   \n",
              "45   6.705344  6.767538  6.706312  6.694654  7.517019  7.295186  7.660539   \n",
              "57   5.627187  5.753536  5.563132  5.326593  5.268778  5.144464  5.343613   \n",
              "58   8.058219  8.042809  7.944487  7.844248  7.831248  7.759500  7.848667   \n",
              "62   7.678673  8.117370  8.085699  8.040406  8.012330  7.998753  8.033764   \n",
              "73   6.887137  6.797413  6.493117  7.037369  7.775043  7.544981  7.405369   \n",
              "79   5.020895  5.084494  5.286289  5.300234  5.384670  5.704658  5.973164   \n",
              "81   5.451501  5.342586  5.469916  5.652912  5.909098  6.087614  6.297406   \n",
              "85   8.968472  8.797772  8.983000  6.656954  8.444217  7.582921  8.491803   \n",
              "95   5.145717  5.245560  5.173766  5.237904  5.232190  6.361267  6.236389   \n",
              "107  8.696186  8.135027  7.277089  6.462138  7.064857  7.353310  8.006993   \n",
              "118  5.286854  4.948234  5.071557  4.849467  4.722085  4.682621  4.894734   \n",
              "119  5.362052  5.283706  5.486241  5.787903  5.731562  5.827839  5.791985   \n",
              "123  6.499859  6.452809  6.697117  7.454887  7.547604  6.823828  7.223960   \n",
              "126  8.650190  8.769107  8.390542  7.074246  7.624323  6.370625  6.185119   \n",
              "133  4.645839  5.024971  5.049987  5.117457  5.317931  6.193279  6.233144   \n",
              "148  5.792909  5.819026  5.819144  5.897933  5.900415  6.116333  6.280502   \n",
              "151  5.373507  5.400270  5.314512  5.284406  5.269708  5.167459  5.155738   \n",
              "159  6.901267  7.128358  6.888227  6.962481  7.027550  6.943698  7.188240   \n",
              "160  4.999426  5.292311  5.313625  5.381640  5.515560  5.492176  5.852946   \n",
              "175  5.613873  5.574902  5.216401  5.273439  5.503507  5.523468  5.765950   \n",
              "176  5.909479  5.891274  5.830750  5.676669  5.613685  5.653471  6.074098   \n",
              "\n",
              "         2002      2003      2004  ...       2006       2007       2008  \\\n",
              "7    5.620660  5.506127  5.724899  ...   5.660887   5.765876   5.927631   \n",
              "8    7.606508  7.736480  7.791337  ...   7.737933   7.775803   7.995857   \n",
              "15   6.244509  6.918097  7.127857  ...   6.962370   6.952937   7.396754   \n",
              "30   6.514306  6.694243  6.719902  ...   6.788408   6.893501   7.063454   \n",
              "39   6.283476  6.450275  5.653259  ...   5.397314   5.627837   6.261311   \n",
              "41   4.955064  5.242817  5.314159  ...   5.984642   6.477623   6.538723   \n",
              "42   5.724850  5.648789  5.468185  ...   7.081250   9.883198  10.293358   \n",
              "44   6.149835  6.404474  6.154497  ...   5.805409   5.556626   5.628785   \n",
              "45   7.885050  8.039901  8.152819  ...   8.399549   8.429011   8.621215   \n",
              "57   5.657160  5.932232  6.017266  ...   6.279189   6.031731   6.253822   \n",
              "58   8.141654  8.127821  8.206409  ...   8.173183   8.118288   8.169337   \n",
              "62   8.181588  8.289386  7.919819  ...   7.858519   7.732520   7.901739   \n",
              "73   8.074376  8.231289  7.794296  ...   7.349510   7.225443   7.274310   \n",
              "79   6.076903  6.070454  6.414767  ...   6.743598   6.487840   6.836654   \n",
              "81   6.361553  6.420410  6.472740  ...   6.596439   6.715045   6.995022   \n",
              "85   8.563910  9.467626  9.892086  ...   9.359713  11.400771  10.311666   \n",
              "95   7.070858  6.457623  6.958298  ...   6.597380   5.820074   6.492970   \n",
              "107  7.414074  9.029862  9.899822  ...  11.033992  11.135547  11.695402   \n",
              "118  5.211921  5.627419  5.591159  ...   7.974464   7.980490   8.209742   \n",
              "119  6.146521  6.041511  6.281577  ...   6.922996   6.883399   8.906984   \n",
              "123  8.027209  8.247464  7.888861  ...   7.062888   7.219227   7.091173   \n",
              "126  5.948521  6.094253  6.490674  ...   6.342105   6.559764   6.540845   \n",
              "133  6.462405  6.564296  6.893400  ...   6.583460   6.506712   6.674037   \n",
              "148  6.324764  6.314121  6.221905  ...   6.122383   5.773930   6.291264   \n",
              "151  5.168936  5.727876  5.797936  ...   6.005321   6.098790   6.512856   \n",
              "159  7.513945  7.634859  7.395196  ...   7.259516   7.254789   7.521564   \n",
              "160  6.123779  6.379752  6.400311  ...   6.141738   6.032418   6.703739   \n",
              "175  6.040016  6.209568  6.482430  ...   6.826599   6.794481   7.220153   \n",
              "176  6.423941  6.618867  6.698101  ...   6.882533   7.016360   7.367884   \n",
              "\n",
              "          2009       2010       2011       2012       2013       2014  \\\n",
              "7     6.186556   6.127334   6.315378   6.285633   6.274917   6.316593   \n",
              "8     8.466129   8.400007   8.213675   8.417190   8.370613   8.725026   \n",
              "15    8.043822   7.896703   8.006738   8.186299   8.226719   8.249990   \n",
              "30    7.914158   7.884397   7.676793   7.651145   7.575665   7.411932   \n",
              "39    7.022190   7.092617   7.149714   7.000227   6.914441   6.767601   \n",
              "41    7.006867   7.064964   6.255412   6.363207   6.403029   6.388288   \n",
              "42   11.283919   9.703828  10.071011   8.088255   8.962295  10.573663   \n",
              "44    6.569654   6.224936   6.314733   6.341765   6.313088   6.264977   \n",
              "45    9.756125   9.433818   9.268852   9.419661   9.593210   9.158734   \n",
              "57    6.896823   6.738832   6.753551   7.040840   7.204017   7.289814   \n",
              "58    8.746523   8.679105   8.731136   8.826052   8.910694   9.024514   \n",
              "62    8.709863   8.575730   8.307622   8.361115   8.569494   8.697237   \n",
              "73    7.479481   7.116064   6.972243   6.994048   7.067581   7.179706   \n",
              "79    7.248666   7.256673   6.969185   6.993121   6.967351   6.992651   \n",
              "81    7.753493   7.861969   8.318250   8.409921   8.528219   8.550081   \n",
              "85   10.364765   8.725610   8.568862   8.313609   8.232914   8.291027   \n",
              "95    7.025644   6.594702   6.260662   5.988071   5.939237   5.822836   \n",
              "107  12.173285  12.610783  12.538216  11.588140  12.089938  12.433752   \n",
              "118   8.901517   9.081296   9.085858   9.528421   9.617135   9.481133   \n",
              "119   9.323010   9.305462   9.342877   9.547667   9.226557   9.082656   \n",
              "123   8.021738   7.839229   7.717231   7.773856   8.005414   8.309618   \n",
              "126   6.614646   7.641117   6.548387   6.739224   6.599187   6.531970   \n",
              "133   7.160522   7.171493   6.700656   6.238911   6.232155   6.158189   \n",
              "148   6.924634   6.728626   6.673551   6.803887   6.668261   6.623822   \n",
              "151   7.209760   7.173242   7.001061   6.734615   6.502610   6.399992   \n",
              "159   8.100548   7.718310   9.914692   9.955521  10.052015  10.024694   \n",
              "160   7.209715   7.097270   7.200927   7.498785   7.733806   7.695117   \n",
              "175   8.162898   7.941676   7.765411   7.802633   7.780481   7.578850   \n",
              "176   8.014549   8.079784   8.074126   8.042357   8.045007   8.278518   \n",
              "\n",
              "       Cluster  \n",
              "7    Cluster 2  \n",
              "8    Cluster 2  \n",
              "15   Cluster 2  \n",
              "30   Cluster 2  \n",
              "39   Cluster 2  \n",
              "41   Cluster 2  \n",
              "42   Cluster 2  \n",
              "44   Cluster 2  \n",
              "45   Cluster 2  \n",
              "57   Cluster 2  \n",
              "58   Cluster 2  \n",
              "62   Cluster 2  \n",
              "73   Cluster 2  \n",
              "79   Cluster 2  \n",
              "81   Cluster 2  \n",
              "85   Cluster 2  \n",
              "95   Cluster 2  \n",
              "107  Cluster 2  \n",
              "118  Cluster 2  \n",
              "119  Cluster 2  \n",
              "123  Cluster 2  \n",
              "126  Cluster 2  \n",
              "133  Cluster 2  \n",
              "148  Cluster 2  \n",
              "151  Cluster 2  \n",
              "159  Cluster 2  \n",
              "160  Cluster 2  \n",
              "175  Cluster 2  \n",
              "176  Cluster 2  \n",
              "\n",
              "[29 rows x 21 columns]"
            ]
          },
          "execution_count": 25,
          "metadata": {},
          "output_type": "execute_result"
        }
      ],
      "source": [
        "# check countries in Cluster 2. There are only 3 countries in this cluster.\n",
        "# what do you notice here?\n",
        "kmeans_results[kmeans_results['Cluster'] == 'Cluster 2']"
      ]
    },
    {
      "cell_type": "code",
      "execution_count": 26,
      "metadata": {
        "colab": {
          "base_uri": "https://localhost:8080/",
          "height": 617
        },
        "id": "adT3Fqm785Do",
        "outputId": "e8cf4805-11ca-40fa-bcc1-466fb87033af"
      },
      "outputs": [
        {
          "data": {
            "text/html": [
              "<div>\n",
              "<style scoped>\n",
              "    .dataframe tbody tr th:only-of-type {\n",
              "        vertical-align: middle;\n",
              "    }\n",
              "\n",
              "    .dataframe tbody tr th {\n",
              "        vertical-align: top;\n",
              "    }\n",
              "\n",
              "    .dataframe thead th {\n",
              "        text-align: right;\n",
              "    }\n",
              "</style>\n",
              "<table border=\"1\" class=\"dataframe\">\n",
              "  <thead>\n",
              "    <tr style=\"text-align: right;\">\n",
              "      <th></th>\n",
              "      <th>1995</th>\n",
              "      <th>1996</th>\n",
              "      <th>1997</th>\n",
              "      <th>1998</th>\n",
              "      <th>1999</th>\n",
              "      <th>2000</th>\n",
              "      <th>2001</th>\n",
              "      <th>2002</th>\n",
              "      <th>2003</th>\n",
              "      <th>2004</th>\n",
              "      <th>...</th>\n",
              "      <th>2006</th>\n",
              "      <th>2007</th>\n",
              "      <th>2008</th>\n",
              "      <th>2009</th>\n",
              "      <th>2010</th>\n",
              "      <th>2011</th>\n",
              "      <th>2012</th>\n",
              "      <th>2013</th>\n",
              "      <th>2014</th>\n",
              "      <th>Cluster</th>\n",
              "    </tr>\n",
              "  </thead>\n",
              "  <tbody>\n",
              "    <tr>\n",
              "      <th>0</th>\n",
              "      <td>1.713004</td>\n",
              "      <td>1.746198</td>\n",
              "      <td>2.024509</td>\n",
              "      <td>2.095128</td>\n",
              "      <td>2.510171</td>\n",
              "      <td>2.258418</td>\n",
              "      <td>2.292224</td>\n",
              "      <td>2.256326</td>\n",
              "      <td>2.252104</td>\n",
              "      <td>2.679405</td>\n",
              "      <td>...</td>\n",
              "      <td>2.575136</td>\n",
              "      <td>2.629171</td>\n",
              "      <td>2.693898</td>\n",
              "      <td>2.833576</td>\n",
              "      <td>2.476568</td>\n",
              "      <td>2.849171</td>\n",
              "      <td>2.735704</td>\n",
              "      <td>2.835984</td>\n",
              "      <td>2.936373</td>\n",
              "      <td>Cluster 1</td>\n",
              "    </tr>\n",
              "    <tr>\n",
              "      <th>3</th>\n",
              "      <td>4.659118</td>\n",
              "      <td>1.739782</td>\n",
              "      <td>2.019219</td>\n",
              "      <td>1.414705</td>\n",
              "      <td>2.131798</td>\n",
              "      <td>1.677216</td>\n",
              "      <td>2.812403</td>\n",
              "      <td>1.685217</td>\n",
              "      <td>2.044369</td>\n",
              "      <td>2.407840</td>\n",
              "      <td>...</td>\n",
              "      <td>3.022435</td>\n",
              "      <td>2.213764</td>\n",
              "      <td>2.716334</td>\n",
              "      <td>2.663917</td>\n",
              "      <td>2.061255</td>\n",
              "      <td>2.155094</td>\n",
              "      <td>2.137316</td>\n",
              "      <td>3.080408</td>\n",
              "      <td>2.124912</td>\n",
              "      <td>Cluster 1</td>\n",
              "    </tr>\n",
              "    <tr>\n",
              "      <th>4</th>\n",
              "      <td>2.746345</td>\n",
              "      <td>2.505800</td>\n",
              "      <td>2.597403</td>\n",
              "      <td>2.672065</td>\n",
              "      <td>2.744200</td>\n",
              "      <td>2.787806</td>\n",
              "      <td>2.949760</td>\n",
              "      <td>2.950232</td>\n",
              "      <td>2.950013</td>\n",
              "      <td>2.679794</td>\n",
              "      <td>...</td>\n",
              "      <td>2.950106</td>\n",
              "      <td>2.950000</td>\n",
              "      <td>3.343031</td>\n",
              "      <td>3.343899</td>\n",
              "      <td>3.893547</td>\n",
              "      <td>3.891040</td>\n",
              "      <td>3.652333</td>\n",
              "      <td>3.592597</td>\n",
              "      <td>3.784611</td>\n",
              "      <td>Cluster 1</td>\n",
              "    </tr>\n",
              "    <tr>\n",
              "      <th>6</th>\n",
              "      <td>1.996273</td>\n",
              "      <td>1.621148</td>\n",
              "      <td>1.407496</td>\n",
              "      <td>1.644913</td>\n",
              "      <td>1.612415</td>\n",
              "      <td>1.137532</td>\n",
              "      <td>1.591475</td>\n",
              "      <td>1.361332</td>\n",
              "      <td>1.516570</td>\n",
              "      <td>1.404451</td>\n",
              "      <td>...</td>\n",
              "      <td>2.052882</td>\n",
              "      <td>2.099285</td>\n",
              "      <td>1.764770</td>\n",
              "      <td>2.010005</td>\n",
              "      <td>1.922714</td>\n",
              "      <td>1.938904</td>\n",
              "      <td>1.875682</td>\n",
              "      <td>1.946691</td>\n",
              "      <td>1.925676</td>\n",
              "      <td>Cluster 1</td>\n",
              "    </tr>\n",
              "    <tr>\n",
              "      <th>9</th>\n",
              "      <td>1.391753</td>\n",
              "      <td>1.485547</td>\n",
              "      <td>1.228626</td>\n",
              "      <td>0.903807</td>\n",
              "      <td>0.985430</td>\n",
              "      <td>0.866893</td>\n",
              "      <td>0.846501</td>\n",
              "      <td>0.791818</td>\n",
              "      <td>0.829678</td>\n",
              "      <td>1.028670</td>\n",
              "      <td>...</td>\n",
              "      <td>0.864184</td>\n",
              "      <td>0.980254</td>\n",
              "      <td>0.824676</td>\n",
              "      <td>1.338970</td>\n",
              "      <td>1.168021</td>\n",
              "      <td>1.080988</td>\n",
              "      <td>1.210597</td>\n",
              "      <td>1.150184</td>\n",
              "      <td>1.230968</td>\n",
              "      <td>Cluster 1</td>\n",
              "    </tr>\n",
              "    <tr>\n",
              "      <th>...</th>\n",
              "      <td>...</td>\n",
              "      <td>...</td>\n",
              "      <td>...</td>\n",
              "      <td>...</td>\n",
              "      <td>...</td>\n",
              "      <td>...</td>\n",
              "      <td>...</td>\n",
              "      <td>...</td>\n",
              "      <td>...</td>\n",
              "      <td>...</td>\n",
              "      <td>...</td>\n",
              "      <td>...</td>\n",
              "      <td>...</td>\n",
              "      <td>...</td>\n",
              "      <td>...</td>\n",
              "      <td>...</td>\n",
              "      <td>...</td>\n",
              "      <td>...</td>\n",
              "      <td>...</td>\n",
              "      <td>...</td>\n",
              "      <td>...</td>\n",
              "    </tr>\n",
              "    <tr>\n",
              "      <th>179</th>\n",
              "      <td>2.139305</td>\n",
              "      <td>1.749747</td>\n",
              "      <td>2.296830</td>\n",
              "      <td>3.038570</td>\n",
              "      <td>2.639953</td>\n",
              "      <td>2.736929</td>\n",
              "      <td>2.788550</td>\n",
              "      <td>2.907660</td>\n",
              "      <td>3.418927</td>\n",
              "      <td>3.524657</td>\n",
              "      <td>...</td>\n",
              "      <td>3.427445</td>\n",
              "      <td>3.161682</td>\n",
              "      <td>3.179892</td>\n",
              "      <td>3.402323</td>\n",
              "      <td>4.182598</td>\n",
              "      <td>3.320178</td>\n",
              "      <td>3.167396</td>\n",
              "      <td>3.391475</td>\n",
              "      <td>4.510749</td>\n",
              "      <td>Cluster 1</td>\n",
              "    </tr>\n",
              "    <tr>\n",
              "      <th>180</th>\n",
              "      <td>1.803152</td>\n",
              "      <td>1.482415</td>\n",
              "      <td>1.387316</td>\n",
              "      <td>1.466016</td>\n",
              "      <td>1.833422</td>\n",
              "      <td>2.163059</td>\n",
              "      <td>2.340757</td>\n",
              "      <td>2.151332</td>\n",
              "      <td>2.079300</td>\n",
              "      <td>2.158141</td>\n",
              "      <td>...</td>\n",
              "      <td>2.221770</td>\n",
              "      <td>2.464781</td>\n",
              "      <td>1.230489</td>\n",
              "      <td>2.496312</td>\n",
              "      <td>2.088239</td>\n",
              "      <td>2.335451</td>\n",
              "      <td>1.675638</td>\n",
              "      <td>1.542859</td>\n",
              "      <td>1.542766</td>\n",
              "      <td>Cluster 1</td>\n",
              "    </tr>\n",
              "    <tr>\n",
              "      <th>181</th>\n",
              "      <td>1.757863</td>\n",
              "      <td>1.632232</td>\n",
              "      <td>1.604611</td>\n",
              "      <td>1.731438</td>\n",
              "      <td>1.717060</td>\n",
              "      <td>1.513863</td>\n",
              "      <td>1.627561</td>\n",
              "      <td>1.447736</td>\n",
              "      <td>1.551822</td>\n",
              "      <td>1.393650</td>\n",
              "      <td>...</td>\n",
              "      <td>1.944867</td>\n",
              "      <td>2.563552</td>\n",
              "      <td>2.131963</td>\n",
              "      <td>2.569187</td>\n",
              "      <td>2.960967</td>\n",
              "      <td>2.805002</td>\n",
              "      <td>3.722124</td>\n",
              "      <td>3.796360</td>\n",
              "      <td>3.820019</td>\n",
              "      <td>Cluster 1</td>\n",
              "    </tr>\n",
              "    <tr>\n",
              "      <th>182</th>\n",
              "      <td>1.358740</td>\n",
              "      <td>1.644501</td>\n",
              "      <td>1.898410</td>\n",
              "      <td>2.324038</td>\n",
              "      <td>2.127391</td>\n",
              "      <td>2.235286</td>\n",
              "      <td>2.294181</td>\n",
              "      <td>2.142648</td>\n",
              "      <td>2.181731</td>\n",
              "      <td>1.854331</td>\n",
              "      <td>...</td>\n",
              "      <td>1.521602</td>\n",
              "      <td>1.462790</td>\n",
              "      <td>1.565018</td>\n",
              "      <td>1.336698</td>\n",
              "      <td>1.299131</td>\n",
              "      <td>1.350447</td>\n",
              "      <td>1.571628</td>\n",
              "      <td>1.410010</td>\n",
              "      <td>1.271871</td>\n",
              "      <td>Cluster 1</td>\n",
              "    </tr>\n",
              "    <tr>\n",
              "      <th>183</th>\n",
              "      <td>2.152489</td>\n",
              "      <td>2.484678</td>\n",
              "      <td>2.585239</td>\n",
              "      <td>3.133965</td>\n",
              "      <td>3.403697</td>\n",
              "      <td>3.719900</td>\n",
              "      <td>3.526559</td>\n",
              "      <td>4.018110</td>\n",
              "      <td>4.187669</td>\n",
              "      <td>3.657084</td>\n",
              "      <td>...</td>\n",
              "      <td>2.755846</td>\n",
              "      <td>1.885822</td>\n",
              "      <td>2.189942</td>\n",
              "      <td>2.261668</td>\n",
              "      <td>2.279956</td>\n",
              "      <td>2.148932</td>\n",
              "      <td>2.536371</td>\n",
              "      <td>2.765405</td>\n",
              "      <td>2.760095</td>\n",
              "      <td>Cluster 1</td>\n",
              "    </tr>\n",
              "  </tbody>\n",
              "</table>\n",
              "<p>91 rows × 21 columns</p>\n",
              "</div>"
            ],
            "text/plain": [
              "         1995      1996      1997      1998      1999      2000      2001  \\\n",
              "0    1.713004  1.746198  2.024509  2.095128  2.510171  2.258418  2.292224   \n",
              "3    4.659118  1.739782  2.019219  1.414705  2.131798  1.677216  2.812403   \n",
              "4    2.746345  2.505800  2.597403  2.672065  2.744200  2.787806  2.949760   \n",
              "6    1.996273  1.621148  1.407496  1.644913  1.612415  1.137532  1.591475   \n",
              "9    1.391753  1.485547  1.228626  0.903807  0.985430  0.866893  0.846501   \n",
              "..        ...       ...       ...       ...       ...       ...       ...   \n",
              "179  2.139305  1.749747  2.296830  3.038570  2.639953  2.736929  2.788550   \n",
              "180  1.803152  1.482415  1.387316  1.466016  1.833422  2.163059  2.340757   \n",
              "181  1.757863  1.632232  1.604611  1.731438  1.717060  1.513863  1.627561   \n",
              "182  1.358740  1.644501  1.898410  2.324038  2.127391  2.235286  2.294181   \n",
              "183  2.152489  2.484678  2.585239  3.133965  3.403697  3.719900  3.526559   \n",
              "\n",
              "         2002      2003      2004  ...      2006      2007      2008  \\\n",
              "0    2.256326  2.252104  2.679405  ...  2.575136  2.629171  2.693898   \n",
              "3    1.685217  2.044369  2.407840  ...  3.022435  2.213764  2.716334   \n",
              "4    2.950232  2.950013  2.679794  ...  2.950106  2.950000  3.343031   \n",
              "6    1.361332  1.516570  1.404451  ...  2.052882  2.099285  1.764770   \n",
              "9    0.791818  0.829678  1.028670  ...  0.864184  0.980254  0.824676   \n",
              "..        ...       ...       ...  ...       ...       ...       ...   \n",
              "179  2.907660  3.418927  3.524657  ...  3.427445  3.161682  3.179892   \n",
              "180  2.151332  2.079300  2.158141  ...  2.221770  2.464781  1.230489   \n",
              "181  1.447736  1.551822  1.393650  ...  1.944867  2.563552  2.131963   \n",
              "182  2.142648  2.181731  1.854331  ...  1.521602  1.462790  1.565018   \n",
              "183  4.018110  4.187669  3.657084  ...  2.755846  1.885822  2.189942   \n",
              "\n",
              "         2009      2010      2011      2012      2013      2014    Cluster  \n",
              "0    2.833576  2.476568  2.849171  2.735704  2.835984  2.936373  Cluster 1  \n",
              "3    2.663917  2.061255  2.155094  2.137316  3.080408  2.124912  Cluster 1  \n",
              "4    3.343899  3.893547  3.891040  3.652333  3.592597  3.784611  Cluster 1  \n",
              "6    2.010005  1.922714  1.938904  1.875682  1.946691  1.925676  Cluster 1  \n",
              "9    1.338970  1.168021  1.080988  1.210597  1.150184  1.230968  Cluster 1  \n",
              "..        ...       ...       ...       ...       ...       ...        ...  \n",
              "179  3.402323  4.182598  3.320178  3.167396  3.391475  4.510749  Cluster 1  \n",
              "180  2.496312  2.088239  2.335451  1.675638  1.542859  1.542766  Cluster 1  \n",
              "181  2.569187  2.960967  2.805002  3.722124  3.796360  3.820019  Cluster 1  \n",
              "182  1.336698  1.299131  1.350447  1.571628  1.410010  1.271871  Cluster 1  \n",
              "183  2.261668  2.279956  2.148932  2.536371  2.765405  2.760095  Cluster 1  \n",
              "\n",
              "[91 rows x 21 columns]"
            ]
          },
          "execution_count": 26,
          "metadata": {},
          "output_type": "execute_result"
        }
      ],
      "source": [
        "# check all countries in Cluster 1\n",
        "kmeans_results[kmeans_results['Cluster'] == 'Cluster 1']"
      ]
    },
    {
      "cell_type": "code",
      "execution_count": 27,
      "metadata": {
        "colab": {
          "base_uri": "https://localhost:8080/",
          "height": 36
        },
        "id": "xFMo2BIsfkET",
        "outputId": "e45c6f29-02d7-4888-dc0f-f432febae83c"
      },
      "outputs": [
        {
          "data": {
            "text/plain": [
              "'Marshall Islands'"
            ]
          },
          "execution_count": 27,
          "metadata": {},
          "output_type": "execute_result"
        }
      ],
      "source": [
        "data.iloc[103]['Country Name']"
      ]
    },
    {
      "cell_type": "code",
      "execution_count": 28,
      "metadata": {
        "colab": {
          "base_uri": "https://localhost:8080/",
          "height": 617
        },
        "id": "lGyX4qfQ89gk",
        "outputId": "b508bd0e-e1c2-43b2-c800-0a7c840c7baa"
      },
      "outputs": [
        {
          "data": {
            "text/html": [],
            "text/plain": [
              "<IPython.core.display.HTML object>"
            ]
          },
          "metadata": {},
          "output_type": "display_data"
        },
        {
          "data": {
            "application/vnd.plotly.v1+json": {
              "config": {
                "plotlyServerURL": "https://plot.ly"
              },
              "data": [
                {
                  "alignmentgroup": "True",
                  "bingroup": "x",
                  "hovertemplate": "Cluster=Cluster 0<br>2014=%{x}<br>count=%{y}<extra></extra>",
                  "legendgroup": "Cluster 0",
                  "marker": {
                    "color": "#636efa",
                    "opacity": 0.7,
                    "pattern": {
                      "shape": ""
                    }
                  },
                  "name": "Cluster 0",
                  "offsetgroup": "Cluster 0",
                  "orientation": "v",
                  "showlegend": true,
                  "type": "histogram",
                  "x": [
                    3.0439246,
                    3.4655428,
                    4.5076394,
                    4.474478,
                    3.6909227,
                    5.028396,
                    6.536869,
                    5.7360587,
                    4.469508,
                    3.6122546,
                    4.1014204,
                    3.767973,
                    6.750848,
                    6.416506,
                    3.1072428,
                    5.839599,
                    4.985039,
                    4.6404824,
                    5.878366,
                    4.4178343,
                    4.4468894,
                    10.757052,
                    8.082168,
                    3.715232,
                    6.7434306,
                    5.3039885,
                    3.8410985,
                    5.193102,
                    3.667381,
                    3.9367347,
                    4.7516956,
                    5.1414843,
                    5.3571377,
                    5.0957975,
                    4.883082,
                    3.119698,
                    4.243269,
                    5.998621,
                    4.265699,
                    3.7417552,
                    4.193779,
                    3.9688165,
                    3.604521,
                    6.1114845,
                    2.6150396,
                    4.5653777,
                    6.813077,
                    3.1938844,
                    3.83176,
                    4.6076317,
                    5.6153803,
                    4.7446322,
                    2.6526737,
                    3.5992951,
                    5.409943,
                    4.385223,
                    5.2441454,
                    6.341446,
                    2.940624,
                    3.5572267,
                    7.0049095
                  ],
                  "xaxis": "x",
                  "yaxis": "y"
                },
                {
                  "alignmentgroup": "True",
                  "customdata": [
                    [
                      4.242476463317871,
                      4.991736888885498,
                      5.061636447906494,
                      3.1449100971221924,
                      2.943009376525879,
                      3.2063486576080322,
                      3.733963966369629,
                      3.735593557357788,
                      3.496375799179077,
                      3.711970806121826,
                      3.744333028793335,
                      3.631882429122925,
                      3.7155356407165527,
                      3.144813299179077,
                      3.1234171390533447,
                      2.7085514068603516,
                      2.744396924972534,
                      3.2358553409576416,
                      3.054229736328125,
                      "Cluster 0"
                    ],
                    [
                      2.449537754058838,
                      2.5857062339782715,
                      2.979203939437866,
                      3.166581153869629,
                      3.373244285583496,
                      3.256162643432617,
                      5.895055770874023,
                      6.716728210449219,
                      6.02492094039917,
                      7.601456165313721,
                      5.470584392547607,
                      5.0591230392456055,
                      3.123843193054199,
                      3.075413227081299,
                      3.220881223678589,
                      3.183410882949829,
                      4.041347026824951,
                      3.6532795429229736,
                      3.906003713607788,
                      "Cluster 0"
                    ],
                    [
                      3.9050374031066895,
                      4.224738121032715,
                      3.983748435974121,
                      3.8286070823669434,
                      4.032901287078857,
                      3.852713108062744,
                      4.210391521453857,
                      4.497808456420898,
                      4.349886894226074,
                      4.242001056671143,
                      4.2989020347595215,
                      4.3132100105285645,
                      4.420360088348389,
                      4.93531608581543,
                      5.09718132019043,
                      4.902807235717773,
                      4.710355758666992,
                      4.577515602111816,
                      4.534424781799316,
                      "Cluster 0"
                    ],
                    [
                      2.3977770805358887,
                      2.3537192344665527,
                      3.3087964057922363,
                      2.8352913856506348,
                      3.3441600799560547,
                      3.513699769973755,
                      3.534191608428955,
                      3.7578327655792236,
                      4.49338436126709,
                      4.052139759063721,
                      4.398723602294922,
                      4.03078556060791,
                      4.278891086578369,
                      4.374197959899902,
                      4.391968250274658,
                      4.686605453491211,
                      4.378078460693359,
                      4.397386074066162,
                      4.520294666290283,
                      "Cluster 0"
                    ],
                    [
                      3.96224308013916,
                      3.9654738903045654,
                      5.02641487121582,
                      4.308860778808594,
                      3.5854411125183105,
                      3.246824264526367,
                      3.32863712310791,
                      3.530756950378418,
                      3.298708438873291,
                      3.0909368991851807,
                      3.2304787635803223,
                      3.354360818862915,
                      3.4528911113739014,
                      3.520137310028076,
                      4.159021854400635,
                      3.6969454288482666,
                      3.5824553966522217,
                      3.7958388328552246,
                      3.707301378250122,
                      "Cluster 0"
                    ],
                    [
                      5.671494960784912,
                      5.809624195098877,
                      5.517908573150635,
                      4.797025203704834,
                      4.536437511444092,
                      4.075514793395996,
                      3.8174870014190674,
                      3.7357258796691895,
                      3.7750091552734375,
                      3.87711763381958,
                      3.850041627883911,
                      3.673549175262451,
                      3.899242639541626,
                      4.712423324584961,
                      5.216716766357422,
                      4.927346706390381,
                      4.625885486602783,
                      5.115761756896973,
                      5.138603210449219,
                      "Cluster 0"
                    ],
                    [
                      3.390716552734375,
                      3.010723829269409,
                      3.3387949466705322,
                      3.9269490242004395,
                      4.269501686096191,
                      4.115449905395508,
                      3.848022222518921,
                      3.9408514499664307,
                      3.649491548538208,
                      3.596860885620117,
                      3.587932586669922,
                      3.9255664348602295,
                      4.509782791137695,
                      3.824845314025879,
                      4.341031551361084,
                      4.98522424697876,
                      5.101682662963867,
                      4.33764123916626,
                      6.216667652130127,
                      "Cluster 0"
                    ],
                    [
                      4.563939094543457,
                      4.383787155151367,
                      4.312443256378174,
                      4.248369216918945,
                      4.300679683685303,
                      4.38539981842041,
                      4.296809673309326,
                      4.269449234008789,
                      3.907268524169922,
                      3.8323774337768555,
                      3.749748468399048,
                      3.5223729610443115,
                      3.541544198989868,
                      3.6162638664245605,
                      4.2040629386901855,
                      4.6474504470825195,
                      5.322357654571533,
                      5.86594820022583,
                      5.65607213973999,
                      "Cluster 0"
                    ],
                    [
                      2.4567654132843018,
                      3.1063272953033447,
                      3.20477294921875,
                      3.683575391769409,
                      3.651732921600342,
                      3.7963027954101562,
                      3.753448724746704,
                      3.805680274963379,
                      3.750173568725586,
                      3.6353042125701904,
                      3.8125531673431396,
                      4.153138637542725,
                      3.74476957321167,
                      3.7067148685455322,
                      4.133697032928467,
                      4.290120601654053,
                      4.3279032707214355,
                      4.210471153259277,
                      4.632291793823242,
                      "Cluster 0"
                    ],
                    [
                      2.805079460144043,
                      1.9668108224868774,
                      2.9381842613220215,
                      2.909236431121826,
                      3.856299638748169,
                      3.8239758014678955,
                      3.7920382022857666,
                      3.845614194869995,
                      6.038615703582764,
                      5.13836145401001,
                      5.293304443359375,
                      2.5410377979278564,
                      2.1379077434539795,
                      1.5920761823654175,
                      2.507352828979492,
                      2.5373311042785645,
                      2.6053125858306885,
                      2.482304334640503,
                      3.5868170261383057,
                      "Cluster 0"
                    ],
                    [
                      4.996397495269775,
                      5.135953426361084,
                      5.554996490478516,
                      6.489321231842041,
                      5.341639041900635,
                      4.787766456604004,
                      4.631112575531006,
                      5.191571235656738,
                      5.226035118103027,
                      5.039289474487305,
                      4.781614780426025,
                      4.876749515533447,
                      4.445867538452148,
                      4.747491836547852,
                      4.456857681274414,
                      4.292903423309326,
                      4.272932529449463,
                      4.425396919250488,
                      4.204268932342529,
                      "Cluster 0"
                    ],
                    [
                      4.159861087799072,
                      4.217261791229248,
                      4.370036602020264,
                      4.155978202819824,
                      4.149951457977295,
                      3.308396577835083,
                      3.2382640838623047,
                      3.2902727127075195,
                      3.1737759113311768,
                      2.9741580486297607,
                      3.019700050354004,
                      3.0946829319000244,
                      3.0779197216033936,
                      2.969510316848755,
                      3.652604579925537,
                      4.047182559967041,
                      3.9743900299072266,
                      3.6693639755249023,
                      3.8122167587280273,
                      "Cluster 0"
                    ],
                    [
                      2.384148359298706,
                      2.318293571472168,
                      2.832920551300049,
                      3.6097571849823,
                      4.407148361206055,
                      3.9005062580108643,
                      3.4863803386688232,
                      3.516449451446533,
                      4.167696475982666,
                      4.600888252258301,
                      4.939467906951904,
                      4.702732086181641,
                      5.3376007080078125,
                      5.745632648468018,
                      5.9572062492370605,
                      5.149939060211182,
                      5.019683837890625,
                      5.258885860443115,
                      5.322417259216309,
                      "Cluster 0"
                    ],
                    [
                      4.26781702041626,
                      4.26781702041626,
                      4.26781702041626,
                      4.26781702041626,
                      4.26781702041626,
                      4.26781702041626,
                      4.600454807281494,
                      5.837583065032959,
                      5.766948699951172,
                      5.672611236572266,
                      5.742701053619385,
                      5.6649041175842285,
                      6.1466217041015625,
                      6.228211879730225,
                      6.126575946807861,
                      6.2419915199279785,
                      6.039682865142822,
                      6.049713134765625,
                      5.9843621253967285,
                      "Cluster 0"
                    ],
                    [
                      4.222966194152832,
                      4.451643943786621,
                      4.820469379425049,
                      4.185799598693848,
                      4.236396789550781,
                      3.7856147289276123,
                      3.758676528930664,
                      3.6364588737487793,
                      4.145566940307617,
                      3.812610626220703,
                      3.620129346847534,
                      3.4579110145568848,
                      3.0607287883758545,
                      2.405118465423584,
                      2.4130780696868896,
                      3.20885968208313,
                      3.1987717151641846,
                      3.7978925704956055,
                      3.3356995582580566,
                      "Cluster 0"
                    ],
                    [
                      5.367669105529785,
                      5.7082600593566895,
                      5.302839756011963,
                      5.1793718338012695,
                      5.157902717590332,
                      4.9152421951293945,
                      4.914849758148193,
                      5.013706684112549,
                      5.1388750076293945,
                      5.319742202758789,
                      5.241058349609375,
                      5.02021598815918,
                      5.184301853179932,
                      5.435299873352051,
                      6.0120344161987305,
                      5.797130584716797,
                      5.643904685974121,
                      5.679221153259277,
                      5.788082122802734,
                      "Cluster 0"
                    ],
                    [
                      4.3013596534729,
                      4.325647354125977,
                      4.232330799102783,
                      4.1185479164123535,
                      4.340426445007324,
                      4.562211036682129,
                      5.14607048034668,
                      5.0556464195251465,
                      5.146868705749512,
                      4.908737659454346,
                      5.627318859100342,
                      5.79083251953125,
                      5.677828311920166,
                      5.84985876083374,
                      6.7810797691345215,
                      6.216353893280029,
                      6.682802200317383,
                      6.274430274963379,
                      6.066287517547607,
                      "Cluster 0"
                    ],
                    [
                      3.0135176181793213,
                      2.784282684326172,
                      3.047041654586792,
                      3.277214527130127,
                      3.5447921752929688,
                      4.299521446228027,
                      6.162337303161621,
                      5.820957660675049,
                      5.537965774536133,
                      5.18093729019165,
                      7.370558738708496,
                      6.205507278442383,
                      5.954165458679199,
                      5.522732257843018,
                      7.453790187835693,
                      7.022895336151123,
                      4.6962504386901855,
                      5.094695091247559,
                      4.990695476531982,
                      "Cluster 0"
                    ],
                    [
                      5.246581554412842,
                      4.628785133361816,
                      4.875049591064453,
                      4.727189540863037,
                      4.543351650238037,
                      5.284626483917236,
                      5.179758548736572,
                      5.544147968292236,
                      5.046701431274414,
                      5.688574314117432,
                      5.2054033279418945,
                      4.7207794189453125,
                      4.048878192901611,
                      4.666452407836914,
                      5.632765293121338,
                      5.650022029876709,
                      5.089732646942139,
                      4.971519947052002,
                      5.804009914398193,
                      "Cluster 0"
                    ],
                    [
                      2.866579532623291,
                      2.4606075286865234,
                      2.3729522228240967,
                      2.9239084720611572,
                      2.902757406234741,
                      3.592970132827759,
                      3.6164588928222656,
                      3.9061684608459473,
                      4.733087062835693,
                      4.20717716217041,
                      3.9058985710144043,
                      3.4889702796936035,
                      3.6394693851470947,
                      3.7255735397338867,
                      4.554171562194824,
                      4.215610504150391,
                      3.916841983795166,
                      4.453647613525391,
                      4.4570746421813965,
                      "Cluster 0"
                    ],
                    [
                      3.985217809677124,
                      3.931004285812378,
                      4.161431789398193,
                      4.616116046905518,
                      4.6461920738220215,
                      4.50192928314209,
                      4.547918796539307,
                      4.792171955108643,
                      4.929875373840332,
                      3.832472801208496,
                      3.953664541244507,
                      4.306715965270996,
                      4.542177200317383,
                      4.784195899963379,
                      5.485546588897705,
                      5.020955562591553,
                      4.739136695861816,
                      4.349539279937744,
                      4.312630653381348,
                      "Cluster 0"
                    ],
                    [
                      3.6626136302948,
                      3.6030938625335693,
                      3.54408860206604,
                      4.648467063903809,
                      4.749578952789307,
                      5.119448184967041,
                      3.700268030166626,
                      3.5671825408935547,
                      3.77820086479187,
                      3.876877784729004,
                      7.126649856567383,
                      5.237830638885498,
                      4.553267478942871,
                      7.025877952575684,
                      6.729711532592773,
                      5.273435115814209,
                      5.608781814575195,
                      6.502927303314209,
                      8.263833045959473,
                      "Cluster 0"
                    ],
                    [
                      3.5622591972351074,
                      3.7805335521698,
                      3.1176090240478516,
                      3.2720441818237305,
                      3.2392334938049316,
                      3.4740209579467773,
                      4.372509956359863,
                      3.8313193321228027,
                      4.034880638122559,
                      3.9382917881011963,
                      3.309583902359009,
                      4.175710678100586,
                      5.597512245178223,
                      6.059683799743652,
                      7.00041389465332,
                      8.079925537109375,
                      9.087435722351074,
                      8.44735050201416,
                      8.408564567565918,
                      "Cluster 0"
                    ],
                    [
                      3.820164918899536,
                      3.5258703231811523,
                      3.459615707397461,
                      3.6262617111206055,
                      3.7286572456359863,
                      3.265446662902832,
                      3.157707929611206,
                      3.2790679931640625,
                      3.2495229244232178,
                      3.6846981048583984,
                      3.6371512413024902,
                      4.3578572273254395,
                      4.255979061126709,
                      4.124515056610107,
                      4.070041656494141,
                      3.940258264541626,
                      3.873401403427124,
                      3.5769553184509277,
                      3.5398430824279785,
                      "Cluster 0"
                    ],
                    [
                      3.8195178508758545,
                      4.105345249176025,
                      4.384384632110596,
                      4.443696975708008,
                      4.393656253814697,
                      4.742394924163818,
                      4.834267616271973,
                      5.42940092086792,
                      5.5420241355896,
                      5.653686046600342,
                      5.997448921203613,
                      6.0463128089904785,
                      5.482240676879883,
                      5.1562323570251465,
                      5.250028610229492,
                      5.219544887542725,
                      6.46201229095459,
                      6.625234603881836,
                      6.5542826652526855,
                      "Cluster 0"
                    ],
                    [
                      5.815895080566406,
                      6.709797382354736,
                      6.0750250816345215,
                      4.323722839355469,
                      2.901963949203491,
                      3.229712963104248,
                      3.2075371742248535,
                      4.040609836578369,
                      3.967196464538574,
                      4.182380199432373,
                      4.1761393547058105,
                      4.718684196472168,
                      4.919708251953125,
                      5.389847755432129,
                      6.059437274932861,
                      5.62147855758667,
                      5.311540126800537,
                      5.517522811889648,
                      5.0313401222229,
                      "Cluster 0"
                    ],
                    [
                      2.7828047275543213,
                      2.722031593322754,
                      2.8387482166290283,
                      2.760402202606201,
                      2.9899075031280518,
                      2.866187334060669,
                      2.9117724895477295,
                      2.9567880630493164,
                      3.466538429260254,
                      3.5451300144195557,
                      3.5289366245269775,
                      3.3603203296661377,
                      2.9526548385620117,
                      3.1897776126861572,
                      3.8011579513549805,
                      3.8964602947235107,
                      3.7052571773529053,
                      3.764194965362549,
                      3.554960250854492,
                      "Cluster 0"
                    ],
                    [
                      5.3288984298706055,
                      5.4411821365356445,
                      5.116392612457275,
                      5.300589561462402,
                      4.991069793701172,
                      4.635309219360352,
                      4.786093235015869,
                      4.8106913566589355,
                      4.4510369300842285,
                      4.692326068878174,
                      4.761008262634277,
                      4.4899001121521,
                      4.994182109832764,
                      5.43125057220459,
                      6.695984363555908,
                      5.921295642852783,
                      5.905862331390381,
                      5.509302616119385,
                      4.873555660247803,
                      "Cluster 0"
                    ],
                    [
                      5.196506023406982,
                      5.196506023406982,
                      5.196506023406982,
                      5.196506023406982,
                      5.196506023406982,
                      5.196506023406982,
                      5.957184791564941,
                      5.880242347717285,
                      6.66301155090332,
                      6.232366561889648,
                      6.022940158843994,
                      5.613499641418457,
                      4.547821521759033,
                      3.9917967319488525,
                      3.6139307022094727,
                      4.173469543457031,
                      4.186590194702148,
                      4.472378253936768,
                      3.719088315963745,
                      "Cluster 0"
                    ],
                    [
                      3.3965561389923096,
                      2.5982613563537598,
                      2.955873966217041,
                      2.9684767723083496,
                      3.5660974979400635,
                      4.311882972717285,
                      3.9675960540771484,
                      4.488862037658691,
                      4.108241081237793,
                      3.521927833557129,
                      4.306135177612305,
                      3.950981855392456,
                      3.1000051498413086,
                      2.606804609298706,
                      2.515159845352173,
                      3.0181028842926025,
                      2.6645777225494385,
                      2.7763826847076416,
                      3.1190876960754395,
                      "Cluster 0"
                    ],
                    [
                      4.950145244598389,
                      5.108144283294678,
                      5.144840717315674,
                      4.7621893882751465,
                      4.601782321929932,
                      4.460361480712891,
                      4.71917200088501,
                      4.737818717956543,
                      4.587586402893066,
                      4.47343635559082,
                      4.408425807952881,
                      4.7025604248046875,
                      4.560885906219482,
                      4.471592903137207,
                      4.5607733726501465,
                      4.612276554107666,
                      4.618524551391602,
                      4.865016937255859,
                      4.857808589935303,
                      "Cluster 0"
                    ],
                    [
                      4.669803142547607,
                      4.541905403137207,
                      4.644839763641357,
                      4.4945387840271,
                      4.46186637878418,
                      4.4666008949279785,
                      4.911672592163086,
                      5.171166896820068,
                      5.402683734893799,
                      5.596229076385498,
                      5.520724296569824,
                      5.443878650665283,
                      5.729910373687744,
                      6.513027191162109,
                      6.91724157333374,
                      6.101439952850342,
                      5.52604341506958,
                      5.622416973114014,
                      5.333288669586182,
                      "Cluster 0"
                    ],
                    [
                      4.413658618927002,
                      4.750908851623535,
                      4.924511909484863,
                      4.952596664428711,
                      5.111744403839111,
                      4.214029312133789,
                      3.4742469787597656,
                      3.5769686698913574,
                      3.7223353385925293,
                      3.207038640975952,
                      3.5796196460723877,
                      3.129120111465454,
                      3.8007712364196777,
                      3.898543119430542,
                      4.417229652404785,
                      4.5944294929504395,
                      5.315764427185059,
                      4.854097843170166,
                      5.029136657714844,
                      "Cluster 0"
                    ],
                    [
                      4.175094127655029,
                      3.7946176528930664,
                      2.577101230621338,
                      2.7720205783843994,
                      2.4336471557617188,
                      2.8811020851135254,
                      2.8359501361846924,
                      2.995229959487915,
                      3.462231159210205,
                      3.389498233795166,
                      3.4505674839019775,
                      3.4730517864227295,
                      3.7924041748046875,
                      3.830040693283081,
                      4.2866973876953125,
                      4.288147449493408,
                      4.081974506378174,
                      4.260162353515625,
                      4.42015266418457,
                      "Cluster 0"
                    ],
                    [
                      6.065784931182861,
                      5.707631587982178,
                      5.480771064758301,
                      5.2930474281311035,
                      5.215692520141602,
                      4.992262840270996,
                      4.907747745513916,
                      5.241661071777344,
                      5.9868292808532715,
                      5.6259050369262695,
                      5.79831600189209,
                      5.651159286499023,
                      5.050827980041504,
                      4.912567138671875,
                      4.958614826202393,
                      5.117494583129883,
                      5.0298871994018555,
                      4.910106182098389,
                      4.905828475952148,
                      "Cluster 0"
                    ],
                    [
                      4.123692035675049,
                      4.042182445526123,
                      4.267222881317139,
                      4.314013481140137,
                      3.815805196762085,
                      4.954943656921387,
                      4.89801025390625,
                      4.946580410003662,
                      4.749728679656982,
                      4.548307418823242,
                      4.359658718109131,
                      3.0449442863464355,
                      4.68579626083374,
                      5.597246170043945,
                      5.3009114265441895,
                      4.460583686828613,
                      4.571477890014648,
                      4.339437961578369,
                      2.896153450012207,
                      "Cluster 0"
                    ],
                    [
                      3.4277403354644775,
                      3.840620517730713,
                      3.7549939155578613,
                      3.5844171047210693,
                      3.4183764457702637,
                      3.290839195251465,
                      3.330803394317627,
                      3.231917381286621,
                      3.3379948139190674,
                      3.2180862426757812,
                      3.3158986568450928,
                      3.3609328269958496,
                      3.398527145385742,
                      3.5953454971313477,
                      3.9473984241485596,
                      3.99005389213562,
                      4.134083271026611,
                      4.2762932777404785,
                      4.204761028289795,
                      "Cluster 0"
                    ],
                    [
                      1.8652137517929077,
                      1.263387680053711,
                      1.6004340648651123,
                      1.8810967206954956,
                      2.274782180786133,
                      2.7785565853118896,
                      2.2150814533233643,
                      2.9125499725341797,
                      4.57849645614624,
                      5.716963291168213,
                      6.066366672515869,
                      6.194908142089844,
                      4.416110515594482,
                      6.096624851226807,
                      6.185752868652344,
                      6.339254856109619,
                      6.93370246887207,
                      6.765934467315674,
                      5.793450832366943,
                      "Cluster 0"
                    ],
                    [
                      2.6708245277404785,
                      2.7968637943267822,
                      3.040161609649658,
                      3.212721586227417,
                      3.76389217376709,
                      3.350358009338379,
                      4.284100532531738,
                      3.80791974067688,
                      4.233041286468506,
                      4.050934791564941,
                      5.680380344390869,
                      4.879183769226074,
                      4.762818336486816,
                      4.186537265777588,
                      3.7051100730895996,
                      3.694868326187134,
                      3.223524332046509,
                      3.6405303478240967,
                      4.055624485015869,
                      "Cluster 0"
                    ],
                    [
                      4.79395055770874,
                      4.696646690368652,
                      5.427282333374023,
                      4.588919162750244,
                      4.715802192687988,
                      4.626454830169678,
                      4.739935398101807,
                      4.560548782348633,
                      4.865755558013916,
                      4.9229512214660645,
                      5.022738456726074,
                      4.450400352478027,
                      4.4514241218566895,
                      3.8715765476226807,
                      3.895442485809326,
                      4.314805507659912,
                      3.472557544708252,
                      3.865757942199707,
                      4.02229118347168,
                      "Cluster 0"
                    ],
                    [
                      1.762877106666565,
                      2.007166862487793,
                      2.2440240383148193,
                      2.584670305252075,
                      2.9131157398223877,
                      3.1142396926879883,
                      3.5125536918640137,
                      3.786278247833252,
                      3.839653253555298,
                      3.82607102394104,
                      3.696382999420166,
                      3.9710397720336914,
                      4.095218658447266,
                      4.435295104980469,
                      4.922532081604004,
                      4.412270545959473,
                      4.205859661102295,
                      4.149143218994141,
                      4.225639820098877,
                      "Cluster 0"
                    ],
                    [
                      2.8943400382995605,
                      2.9873340129852295,
                      2.6998274326324463,
                      2.919304847717285,
                      2.8987083435058594,
                      2.9616098403930664,
                      2.8344478607177734,
                      2.801417589187622,
                      2.8334052562713623,
                      2.9136857986450195,
                      2.8660364151000977,
                      2.955066204071045,
                      2.9523963928222656,
                      3.041912317276001,
                      3.5073788166046143,
                      3.8292124271392822,
                      4.167223930358887,
                      4.157872676849365,
                      4.229623317718506,
                      "Cluster 0"
                    ],
                    [
                      5.088198661804199,
                      4.789083003997803,
                      4.193678379058838,
                      3.5402023792266846,
                      2.942150592803955,
                      2.8954548835754395,
                      3.072138786315918,
                      3.5140161514282227,
                      4.042590141296387,
                      3.8697469234466553,
                      3.811739444732666,
                      3.8845691680908203,
                      3.9304540157318115,
                      3.8250904083251953,
                      4.292354106903076,
                      4.421334743499756,
                      3.72982120513916,
                      4.125240325927734,
                      4.150794982910156,
                      "Cluster 0"
                    ],
                    [
                      3.880155563354492,
                      3.4247286319732666,
                      2.612250328063965,
                      2.5861527919769287,
                      2.9180638790130615,
                      2.711547613143921,
                      2.3143270015716553,
                      2.0447163581848145,
                      1.7534277439117432,
                      7.29388427734375,
                      7.06981086730957,
                      7.245025157928467,
                      4.59327507019043,
                      5.2978129386901855,
                      5.352676868438721,
                      5.372432231903076,
                      5.520950794219971,
                      5.947088718414307,
                      6.074635028839111,
                      "Cluster 0"
                    ],
                    [
                      2.6556711196899414,
                      4.922489166259766,
                      5.589715957641602,
                      5.4207611083984375,
                      5.06048583984375,
                      5.325051784515381,
                      4.849893569946289,
                      6.606985092163086,
                      3.7490193843841553,
                      3.193554639816284,
                      4.166375637054443,
                      4.290579795837402,
                      5.118894100189209,
                      5.562408447265625,
                      4.891295433044434,
                      4.544795036315918,
                      4.142893314361572,
                      2.7008609771728516,
                      2.8048248291015625,
                      "Cluster 0"
                    ],
                    [
                      2.112215280532837,
                      2.9782254695892334,
                      2.6672608852386475,
                      3.1224420070648193,
                      3.602860927581787,
                      3.2453436851501465,
                      3.7441675662994385,
                      4.101807594299316,
                      3.496279001235962,
                      3.492276430130005,
                      3.860740900039673,
                      3.521340847015381,
                      3.408827781677246,
                      3.4068431854248047,
                      3.9482262134552,
                      3.662996768951416,
                      3.7521417140960693,
                      3.7723662853240967,
                      4.238348960876465,
                      "Cluster 0"
                    ],
                    [
                      3.3504531383514404,
                      4.802889823913574,
                      3.4999256134033203,
                      3.329547166824341,
                      4.730752468109131,
                      4.032095909118652,
                      4.312505722045898,
                      4.42254638671875,
                      5.478548049926758,
                      5.173272132873535,
                      4.865928649902344,
                      4.9799699783325195,
                      5.334221839904785,
                      5.812860488891602,
                      6.803551197052002,
                      6.788921356201172,
                      6.923006534576416,
                      7.080212116241455,
                      6.629772186279297,
                      "Cluster 0"
                    ],
                    [
                      2.12687349319458,
                      2.123124361038208,
                      2.429731845855713,
                      2.17925763130188,
                      2.163569927215576,
                      2.8998525142669678,
                      4.146457195281982,
                      4.894690036773682,
                      2.9697964191436768,
                      3.8880958557128906,
                      4.090479373931885,
                      3.479114055633545,
                      3.3157119750976562,
                      3.9283218383789062,
                      4.494537353515625,
                      3.544461727142334,
                      3.2360169887542725,
                      3.9553821086883545,
                      3.5069453716278076,
                      "Cluster 0"
                    ],
                    [
                      2.80055832862854,
                      2.7004501819610596,
                      2.8744149208068848,
                      2.796989917755127,
                      2.9525749683380127,
                      2.8324718475341797,
                      3.040958881378174,
                      3.1829922199249268,
                      3.0803282260894775,
                      3.3236756324768066,
                      3.4319088459014893,
                      3.492652177810669,
                      3.455148220062256,
                      3.6115822792053223,
                      3.841355562210083,
                      3.786139726638794,
                      3.6540019512176514,
                      3.6613521575927734,
                      3.8273069858551025,
                      "Cluster 0"
                    ],
                    [
                      3.5155234336853027,
                      3.1825408935546875,
                      3.3980000019073486,
                      3.2624900341033936,
                      3.8838865756988525,
                      3.6982741355895996,
                      4.22438907623291,
                      4.536791801452637,
                      4.617962837219238,
                      4.3051533699035645,
                      4.312971591949463,
                      3.8008129596710205,
                      3.730705976486206,
                      3.87031626701355,
                      3.751849889755249,
                      4.0342302322387695,
                      3.7596559524536133,
                      3.9998185634613037,
                      4.122861862182617,
                      "Cluster 0"
                    ],
                    [
                      1.9694428443908691,
                      2.150731086730957,
                      2.5368940830230713,
                      2.4557034969329834,
                      2.3148207664489746,
                      2.302887201309204,
                      2.2922821044921875,
                      3.330872058868408,
                      3.467646837234497,
                      3.334134101867676,
                      3.381277561187744,
                      3.904107093811035,
                      4.608862400054932,
                      4.714661121368408,
                      4.734495162963867,
                      4.441559314727783,
                      4.995567321777344,
                      5.237114906311035,
                      5.26584005355835,
                      "Cluster 0"
                    ],
                    [
                      3.541707992553711,
                      3.4617397785186768,
                      3.3299527168273926,
                      3.189417839050293,
                      3.2778429985046387,
                      3.39205002784729,
                      3.6966440677642822,
                      3.9629902839660645,
                      3.843278169631958,
                      3.718071460723877,
                      3.4632790088653564,
                      3.4158458709716797,
                      3.758301019668579,
                      4.056312561035156,
                      4.144961833953857,
                      4.0099287033081055,
                      4.155990123748779,
                      4.841513633728027,
                      4.8998942375183105,
                      "Cluster 0"
                    ],
                    [
                      4.966443061828613,
                      4.631641387939453,
                      4.553044319152832,
                      4.62421178817749,
                      5.152315616607666,
                      4.965803623199463,
                      5.065934181213379,
                      4.452939987182617,
                      4.251023292541504,
                      3.5223968029022217,
                      3.664233922958374,
                      3.6548688411712646,
                      3.7830748558044434,
                      4.121097564697266,
                      5.040785789489746,
                      4.163482189178467,
                      3.7453925609588623,
                      2.9589507579803467,
                      2.7350220680236816,
                      "Cluster 0"
                    ],
                    [
                      3.044466018676758,
                      3.5404133796691895,
                      3.011746883392334,
                      3.089960813522339,
                      3.086048126220703,
                      2.8750946521759033,
                      3.2434444427490234,
                      3.267744779586792,
                      2.943800210952759,
                      2.948052406311035,
                      2.895099639892578,
                      3.1148810386657715,
                      2.979865312576294,
                      3.5734264850616455,
                      4.401846408843994,
                      4.034045219421387,
                      3.2629811763763428,
                      4.207408905029297,
                      3.5359764099121094,
                      "Cluster 0"
                    ],
                    [
                      3.7205698490142822,
                      5.067606449127197,
                      5.593914031982422,
                      6.1034393310546875,
                      6.459251403808594,
                      4.683826923370361,
                      4.690523624420166,
                      4.549736022949219,
                      4.899277210235596,
                      4.082866668701172,
                      4.316017150878906,
                      4.5350422859191895,
                      4.539526462554932,
                      4.698007106781006,
                      5.148273944854736,
                      4.975653171539307,
                      5.016164779663086,
                      5.277512073516846,
                      5.218918323516846,
                      "Cluster 0"
                    ],
                    [
                      3.7804031372070312,
                      3.762662887573242,
                      3.9050159454345703,
                      3.3791661262512207,
                      3.4596669673919678,
                      3.067373037338257,
                      2.950634717941284,
                      3.2315351963043213,
                      3.2055296897888184,
                      3.022706985473633,
                      2.95904278755188,
                      3.1835520267486572,
                      3.2201201915740967,
                      3.9464058876037598,
                      4.330497741699219,
                      3.858236074447632,
                      4.092983245849609,
                      4.403446674346924,
                      4.308599948883057,
                      "Cluster 0"
                    ],
                    [
                      2.6735944747924805,
                      2.5021824836730957,
                      2.553365707397461,
                      2.527980327606201,
                      2.383331298828125,
                      2.558561325073242,
                      2.971717357635498,
                      2.85227370262146,
                      2.802237033843994,
                      2.5662481784820557,
                      2.280233144760132,
                      2.334850788116455,
                      2.705570697784424,
                      3.0628039836883545,
                      3.837965965270996,
                      3.5932085514068604,
                      3.7757294178009033,
                      4.5202507972717285,
                      5.188359260559082,
                      "Cluster 0"
                    ],
                    [
                      3.9826831817626953,
                      4.235647201538086,
                      4.297070503234863,
                      5.737580299377441,
                      3.9334657192230225,
                      3.976548194885254,
                      3.9797635078430176,
                      4.109589099884033,
                      3.9461798667907715,
                      3.916260242462158,
                      3.4597089290618896,
                      3.56612229347229,
                      4.586322784423828,
                      4.825070858001709,
                      5.037537097930908,
                      6.2420268058776855,
                      4.926289081573486,
                      5.747039794921875,
                      9.692357063293457,
                      "Cluster 0"
                    ],
                    [
                      4.4718852043151855,
                      3.145059823989868,
                      5.651223182678223,
                      7.115667819976807,
                      5.196504592895508,
                      5.617562770843506,
                      4.184378623962402,
                      3.5513534545898438,
                      3.357144832611084,
                      3.3271644115448,
                      3.4693877696990967,
                      3.177793025970459,
                      2.9772980213165283,
                      2.709678888320923,
                      3.1965179443359375,
                      2.930358648300171,
                      2.921405553817749,
                      3.2158617973327637,
                      3.202562093734741,
                      "Cluster 0"
                    ],
                    [
                      4.252399921417236,
                      3.9401934146881104,
                      3.862837314605713,
                      3.9262704849243164,
                      3.4246561527252197,
                      3.524933099746704,
                      3.9135355949401855,
                      3.893120527267456,
                      3.7468717098236084,
                      3.7893526554107666,
                      3.6499905586242676,
                      3.9626803398132324,
                      3.3863365650177,
                      3.0373497009277344,
                      3.2392654418945312,
                      3.4317667484283447,
                      3.3357603549957275,
                      3.338641405105591,
                      3.1204397678375244,
                      "Cluster 0"
                    ],
                    [
                      2.832071542739868,
                      3.057919502258301,
                      2.8120784759521484,
                      2.879100799560547,
                      3.0030665397644043,
                      2.9584121704101562,
                      2.933657169342041,
                      3.050457239151001,
                      3.7192249298095703,
                      3.7224764823913574,
                      4.591989040374756,
                      4.559222221374512,
                      4.817315101623535,
                      5.7002949714660645,
                      5.768594741821289,
                      5.965266227722168,
                      5.971126079559326,
                      6.295392990112305,
                      7.374204158782959,
                      "Cluster 0"
                    ]
                  ],
                  "hovertemplate": "Cluster=%{customdata[19]}<br>2014=%{x}<br>1995=%{customdata[0]}<br>1996=%{customdata[1]}<br>1997=%{customdata[2]}<br>1998=%{customdata[3]}<br>1999=%{customdata[4]}<br>2000=%{customdata[5]}<br>2001=%{customdata[6]}<br>2002=%{customdata[7]}<br>2003=%{customdata[8]}<br>2004=%{customdata[9]}<br>2005=%{customdata[10]}<br>2006=%{customdata[11]}<br>2007=%{customdata[12]}<br>2008=%{customdata[13]}<br>2009=%{customdata[14]}<br>2010=%{customdata[15]}<br>2011=%{customdata[16]}<br>2012=%{customdata[17]}<br>2013=%{customdata[18]}<extra></extra>",
                  "legendgroup": "Cluster 0",
                  "marker": {
                    "color": "#636efa"
                  },
                  "name": "Cluster 0",
                  "notched": true,
                  "offsetgroup": "Cluster 0",
                  "showlegend": false,
                  "type": "box",
                  "x": [
                    3.0439246,
                    3.4655428,
                    4.5076394,
                    4.474478,
                    3.6909227,
                    5.028396,
                    6.536869,
                    5.7360587,
                    4.469508,
                    3.6122546,
                    4.1014204,
                    3.767973,
                    6.750848,
                    6.416506,
                    3.1072428,
                    5.839599,
                    4.985039,
                    4.6404824,
                    5.878366,
                    4.4178343,
                    4.4468894,
                    10.757052,
                    8.082168,
                    3.715232,
                    6.7434306,
                    5.3039885,
                    3.8410985,
                    5.193102,
                    3.667381,
                    3.9367347,
                    4.7516956,
                    5.1414843,
                    5.3571377,
                    5.0957975,
                    4.883082,
                    3.119698,
                    4.243269,
                    5.998621,
                    4.265699,
                    3.7417552,
                    4.193779,
                    3.9688165,
                    3.604521,
                    6.1114845,
                    2.6150396,
                    4.5653777,
                    6.813077,
                    3.1938844,
                    3.83176,
                    4.6076317,
                    5.6153803,
                    4.7446322,
                    2.6526737,
                    3.5992951,
                    5.409943,
                    4.385223,
                    5.2441454,
                    6.341446,
                    2.940624,
                    3.5572267,
                    7.0049095
                  ],
                  "xaxis": "x2",
                  "yaxis": "y2"
                },
                {
                  "alignmentgroup": "True",
                  "bingroup": "x",
                  "hovertemplate": "Cluster=Cluster 1<br>2014=%{x}<br>count=%{y}<extra></extra>",
                  "legendgroup": "Cluster 1",
                  "marker": {
                    "color": "#EF553B",
                    "opacity": 0.7,
                    "pattern": {
                      "shape": ""
                    }
                  },
                  "name": "Cluster 1",
                  "offsetgroup": "Cluster 1",
                  "orientation": "v",
                  "showlegend": true,
                  "type": "histogram",
                  "x": [
                    3.1112483,
                    2.6205728,
                    3.820019,
                    3.2595515,
                    1.5681721,
                    1.3485305,
                    2.6361516,
                    2.0013263,
                    2.30029,
                    1.8012513,
                    2.3646858,
                    1.542766,
                    1.8710163,
                    4.5107493,
                    1.9639534,
                    3.1902285,
                    2.337819,
                    2.0546832,
                    1.8838018,
                    1.8023618,
                    1.5071658,
                    1.983765,
                    3.4907897,
                    2.5899587,
                    2.017321,
                    1.0448998,
                    2.8694012,
                    1.6146852,
                    3.318751,
                    4.50224,
                    0.9188115,
                    2.144605,
                    0.9225351,
                    3.1746275,
                    3.2144938,
                    1.8753914,
                    2.417956,
                    2.9363732,
                    4.508157,
                    2.8675668,
                    1.527464,
                    2.9327104,
                    2.1553845,
                    1.4734147,
                    2.9273756,
                    3.3320193,
                    1.6785384,
                    4.2119207,
                    1.5983565,
                    2.2173204,
                    3.0951743,
                    3.8513095,
                    1.9789501,
                    2.056943,
                    0.9386337,
                    1.251042,
                    3.9737275,
                    2.5939736,
                    2.4855678,
                    2.2511964,
                    3.8796577,
                    0.7865325,
                    3.1505003,
                    3.5506728,
                    1.2309675,
                    1.9256756,
                    3.7846107,
                    2.1249123,
                    2.9532082,
                    2.350581,
                    2.7600946,
                    1.5527306,
                    3.6540792,
                    1.271871,
                    0.94273376,
                    3.6394374,
                    2.6144226,
                    3.985248,
                    3.503866,
                    2.367903,
                    2.808578,
                    2.8408022,
                    5.0456123,
                    1.4072376,
                    1.5595164,
                    1.0755363,
                    2.334729,
                    1.1451223,
                    2.8273575,
                    2.128885,
                    2.7362447
                  ],
                  "xaxis": "x",
                  "yaxis": "y"
                },
                {
                  "alignmentgroup": "True",
                  "customdata": [
                    [
                      3.5999999046325684,
                      3.700000047683716,
                      3.299999952316284,
                      2.944586753845215,
                      2.8045814037323,
                      2.515690803527832,
                      2.550114154815674,
                      2.424055337905884,
                      2.380603790283203,
                      2.2624974250793457,
                      2.279013156890869,
                      2.454803466796875,
                      2.29868745803833,
                      2.529900074005127,
                      2.6192901134490967,
                      2.751317262649536,
                      2.863900661468506,
                      3.1273715496063232,
                      3.117906332015991,
                      "Cluster 1"
                    ],
                    [
                      2.5989179611206055,
                      3.0338892936706543,
                      3.0634255409240723,
                      3.481327533721924,
                      3.4173998832702637,
                      3.8282861709594727,
                      3.899852752685547,
                      3.4552791118621826,
                      2.9180312156677246,
                      2.9267642498016357,
                      2.484591245651245,
                      2.396913528442383,
                      2.736412286758423,
                      3.183519124984741,
                      2.7683727741241455,
                      2.654478073120117,
                      2.5957062244415283,
                      2.260514974594116,
                      2.211594581604004,
                      "Cluster 1"
                    ],
                    [
                      1.7578626871109009,
                      1.6322317123413086,
                      1.6046112775802612,
                      1.7314375638961792,
                      1.7170600891113281,
                      1.513863444328308,
                      1.6275607347488403,
                      1.4477356672286987,
                      1.5518224239349365,
                      1.3936495780944824,
                      1.4195696115493774,
                      1.944867491722107,
                      2.5635523796081543,
                      2.1319632530212402,
                      2.5691874027252197,
                      2.9609665870666504,
                      2.805001974105835,
                      3.7221240997314453,
                      3.796360492706299,
                      "Cluster 1"
                    ],
                    [
                      2.13016939163208,
                      1.9017575979232788,
                      2.1086061000823975,
                      2.2097766399383545,
                      2.394740104675293,
                      2.3181076049804688,
                      2.398620843887329,
                      2.422027349472046,
                      2.5412774085998535,
                      2.6880040168762207,
                      2.61887788772583,
                      2.56034517288208,
                      2.6423747539520264,
                      2.760936737060547,
                      3.095935583114624,
                      3.1032955646514893,
                      3.067131280899048,
                      3.160971164703369,
                      3.256993293762207,
                      "Cluster 1"
                    ],
                    [
                      2.627422332763672,
                      2.9937875270843506,
                      2.478276252746582,
                      2.1367528438568115,
                      1.819396734237671,
                      2.0699212551116943,
                      2.872448682785034,
                      2.538877487182617,
                      2.7571990489959717,
                      3.091886520385742,
                      3.038529396057129,
                      3.1646335124969482,
                      3.366576910018921,
                      3.135697364807129,
                      3.148995876312256,
                      2.807459592819214,
                      3.0152463912963867,
                      2.250262498855591,
                      1.1342730522155762,
                      "Cluster 1"
                    ],
                    [
                      1.8558281660079956,
                      2.261439323425293,
                      3.4792237281799316,
                      3.5012505054473877,
                      2.385819673538208,
                      3.214627504348755,
                      2.8179171085357666,
                      2.431476593017578,
                      2.708526134490967,
                      2.4214305877685547,
                      2.021050214767456,
                      1.5455485582351685,
                      1.3881481885910034,
                      0.9468364715576172,
                      1.163073182106018,
                      1.2236378192901611,
                      1.2680972814559937,
                      1.2733763456344604,
                      1.4260022640228271,
                      "Cluster 1"
                    ],
                    [
                      2.081738233566284,
                      1.948805570602417,
                      1.948395848274231,
                      2.056706666946411,
                      1.9176294803619385,
                      1.6770585775375366,
                      1.9444921016693115,
                      1.7139829397201538,
                      1.671540379524231,
                      1.4560425281524658,
                      1.3688971996307373,
                      1.3825069665908813,
                      1.5553772449493408,
                      1.9216340780258179,
                      3.034126043319702,
                      2.834165573120117,
                      2.7324881553649902,
                      2.5500259399414062,
                      2.557326078414917,
                      "Cluster 1"
                    ],
                    [
                      1.184133768081665,
                      1.1433515548706055,
                      1.073390245437622,
                      1.1791020631790161,
                      1.1491419076919556,
                      1.2297378778457642,
                      1.4277591705322266,
                      1.3788089752197266,
                      1.3949954509735107,
                      1.4295297861099243,
                      1.438925862312317,
                      1.7144025564193726,
                      1.898077368736267,
                      1.8919717073440552,
                      2.046396017074585,
                      2.0675721168518066,
                      2.0877721309661865,
                      2.1814663410186768,
                      1.9577494859695435,
                      "Cluster 1"
                    ],
                    [
                      1.6735800504684448,
                      1.693100094795227,
                      1.5034688711166382,
                      1.6234893798828125,
                      1.682393193244934,
                      1.6935325860977173,
                      1.9903823137283325,
                      1.958873987197876,
                      2.362041473388672,
                      2.1180405616760254,
                      1.6908276081085205,
                      2.0118167400360107,
                      1.9618676900863647,
                      1.936706304550171,
                      2.336639642715454,
                      2.2862966060638428,
                      2.135913848876953,
                      2.215233325958252,
                      2.2031471729278564,
                      "Cluster 1"
                    ],
                    [
                      1.4199349880218506,
                      1.4132376909255981,
                      1.434781551361084,
                      1.8951829671859741,
                      1.658548355102539,
                      1.8379589319229126,
                      1.980048656463623,
                      2.1053218841552734,
                      1.948108434677124,
                      2.265551805496216,
                      2.361978054046631,
                      2.4723570346832275,
                      2.4618093967437744,
                      2.3028194904327393,
                      1.8143343925476074,
                      3.1183583736419678,
                      2.6332671642303467,
                      2.1538994312286377,
                      2.0878968238830566,
                      "Cluster 1"
                    ],
                    [
                      1.9791547060012817,
                      1.9049162864685059,
                      1.9114688634872437,
                      1.9544999599456787,
                      1.8827776908874512,
                      1.9695496559143066,
                      2.0041706562042236,
                      2.180551767349243,
                      2.1883490085601807,
                      2.3490889072418213,
                      2.214836835861206,
                      2.0475075244903564,
                      1.8729097843170166,
                      1.782954216003418,
                      2.168691396713257,
                      2.5825881958007812,
                      2.46122407913208,
                      2.2927026748657227,
                      2.365556240081787,
                      "Cluster 1"
                    ],
                    [
                      1.803152084350586,
                      1.482414960861206,
                      1.3873164653778076,
                      1.4660155773162842,
                      1.833422064781189,
                      2.1630594730377197,
                      2.34075665473938,
                      2.151331901550293,
                      2.0793004035949707,
                      2.1581406593322754,
                      2.153332471847534,
                      2.2217700481414795,
                      2.4647812843322754,
                      1.2304891347885132,
                      2.496312379837036,
                      2.0882391929626465,
                      2.335451364517212,
                      1.6756380796432495,
                      1.5428590774536133,
                      "Cluster 1"
                    ],
                    [
                      2.2303342819213867,
                      1.3288084268569946,
                      1.4921914339065552,
                      2.0847620964050293,
                      2.90181303024292,
                      2.77099347114563,
                      1.8795604705810547,
                      2.862060308456421,
                      2.179218292236328,
                      2.4641125202178955,
                      2.033355951309204,
                      1.447616457939148,
                      1.6517913341522217,
                      1.3545647859573364,
                      1.7998027801513672,
                      1.5210537910461426,
                      1.2791414260864258,
                      1.3702470064163208,
                      1.7260388135910034,
                      "Cluster 1"
                    ],
                    [
                      2.139305353164673,
                      1.7497467994689941,
                      2.296830177307129,
                      3.0385704040527344,
                      2.6399526596069336,
                      2.736929416656494,
                      2.7885501384735107,
                      2.9076602458953857,
                      3.4189271926879883,
                      3.5246570110321045,
                      3.2929961681365967,
                      3.427445411682129,
                      3.161681652069092,
                      3.179891586303711,
                      3.402322769165039,
                      4.182597637176514,
                      3.320178270339966,
                      3.167396306991577,
                      3.391475200653076,
                      "Cluster 1"
                    ],
                    [
                      1.6153717041015625,
                      1.6114501953125,
                      1.520769476890564,
                      1.8780219554901123,
                      1.7467114925384521,
                      1.8463215827941895,
                      1.7582097053527832,
                      1.6833360195159912,
                      1.6776151657104492,
                      2.0055088996887207,
                      1.8501032590866089,
                      1.950059175491333,
                      1.8259764909744263,
                      1.581524133682251,
                      1.5351706743240356,
                      1.5538039207458496,
                      1.380926489830017,
                      1.2195993661880493,
                      2.1025640964508057,
                      "Cluster 1"
                    ],
                    [
                      3.0600435733795166,
                      2.984456777572632,
                      2.782569646835327,
                      3.0185177326202393,
                      2.8937463760375977,
                      2.5120341777801514,
                      2.528963565826416,
                      2.6547508239746094,
                      2.6294658184051514,
                      2.4375617504119873,
                      2.130347967147827,
                      1.8645977973937988,
                      1.9682893753051758,
                      1.5863008499145508,
                      2.3007373809814453,
                      2.2697291374206543,
                      2.0395665168762207,
                      2.0799567699432373,
                      2.408573865890503,
                      "Cluster 1"
                    ],
                    [
                      1.4073787927627563,
                      1.42214035987854,
                      1.4710270166397095,
                      2.554396152496338,
                      1.763231873512268,
                      1.3521233797073364,
                      1.5944633483886719,
                      1.640841007232666,
                      1.527687668800354,
                      1.5903265476226807,
                      1.585328459739685,
                      2.044874906539917,
                      2.283125162124634,
                      2.725698709487915,
                      2.824395179748535,
                      2.867316961288452,
                      3.2420973777770996,
                      2.4668545722961426,
                      2.219902515411377,
                      "Cluster 1"
                    ],
                    [
                      1.4561508893966675,
                      1.3919031620025635,
                      1.3447728157043457,
                      1.6641104221343994,
                      1.4782905578613281,
                      1.2177850008010864,
                      0.8870397806167603,
                      1.0589667558670044,
                      1.3461614847183228,
                      1.0302561521530151,
                      1.0037580728530884,
                      1.0010905265808105,
                      0.9553898572921753,
                      1.200490117073059,
                      1.5265973806381226,
                      1.3714286088943481,
                      1.346479058265686,
                      1.5010777711868286,
                      1.7359206676483154,
                      "Cluster 1"
                    ],
                    [
                      2.388388156890869,
                      2.16342830657959,
                      2.5131638050079346,
                      2.047149419784546,
                      3.064624547958374,
                      3.4941320419311523,
                      2.824141502380371,
                      2.9649159908294678,
                      2.7842612266540527,
                      2.683917284011841,
                      2.6761741638183594,
                      1.9616953134536743,
                      1.6453759670257568,
                      1.7879204750061035,
                      2.207517385482788,
                      2.3969407081604004,
                      2.6469335556030273,
                      1.980878472328186,
                      1.6946555376052856,
                      "Cluster 1"
                    ],
                    [
                      0.7858220934867859,
                      1.113244652748108,
                      0.8913511633872986,
                      0.9474230408668518,
                      0.7634363770484924,
                      0.8873989582061768,
                      0.7551158666610718,
                      0.7832779884338379,
                      0.8832155466079712,
                      1.0807228088378906,
                      1.0913640260696411,
                      1.2705626487731934,
                      1.5118423700332642,
                      2.630955457687378,
                      2.3567347526550293,
                      2.6984689235687256,
                      2.5573434829711914,
                      1.8717955350875854,
                      1.859793782234192,
                      "Cluster 1"
                    ],
                    [
                      2.189237594604492,
                      1.954094648361206,
                      1.8777605295181274,
                      1.960923194885254,
                      2.014425754547119,
                      1.9897791147232056,
                      2.173051357269287,
                      2.2622430324554443,
                      2.4683382511138916,
                      2.148408889770508,
                      2.075568437576294,
                      1.8335468769073486,
                      1.7896512746810913,
                      1.596476674079895,
                      1.6313763856887817,
                      1.507165789604187,
                      1.507165789604187,
                      1.507165789604187,
                      1.507165789604187,
                      "Cluster 1"
                    ],
                    [
                      1.2894444465637207,
                      1.2967208623886108,
                      1.6012272834777832,
                      1.1412291526794434,
                      1.040832281112671,
                      0.9464746713638306,
                      0.9497662782669067,
                      0.906582772731781,
                      0.9105603694915771,
                      0.9433344006538391,
                      1.1438193321228027,
                      1.1290538311004639,
                      1.1847517490386963,
                      1.3717741966247559,
                      1.4785369634628296,
                      1.594683289527893,
                      1.710279941558838,
                      1.8776044845581055,
                      2.0677318572998047,
                      "Cluster 1"
                    ],
                    [
                      1.5431946516036987,
                      1.617271900177002,
                      1.7527047395706177,
                      1.9458600282669067,
                      2.803396224975586,
                      3.0518345832824707,
                      3.2564687728881836,
                      3.090089797973633,
                      2.896422863006592,
                      2.56182861328125,
                      2.4783644676208496,
                      2.6413912773132324,
                      2.5073976516723633,
                      1.8894052505493164,
                      2.7882370948791504,
                      2.265200138092041,
                      2.495887041091919,
                      2.7522826194763184,
                      3.100369453430176,
                      "Cluster 1"
                    ],
                    [
                      1.3671389818191528,
                      1.174080491065979,
                      1.1272283792495728,
                      1.0097352266311646,
                      1.1200299263000488,
                      1.1459393501281738,
                      1.7695953845977783,
                      2.1066222190856934,
                      2.5735249519348145,
                      2.5659451484680176,
                      2.965165853500366,
                      4.763505935668945,
                      3.038471221923828,
                      2.435878038406372,
                      2.109638214111328,
                      2.072897434234619,
                      2.4866151809692383,
                      2.7904603481292725,
                      2.5654079914093018,
                      "Cluster 1"
                    ],
                    [
                      1.5142425298690796,
                      1.4763661623001099,
                      1.263694405555725,
                      1.5228179693222046,
                      1.4206209182739258,
                      1.4208430051803589,
                      1.2527248859405518,
                      0.9061489701271057,
                      1.4419997930526733,
                      1.6843732595443726,
                      1.8984559774398804,
                      2.2596330642700195,
                      2.1575734615325928,
                      2.416491746902466,
                      3.2782154083251953,
                      1.9385851621627808,
                      1.6553374528884888,
                      1.9477972984313965,
                      2.1483070850372314,
                      "Cluster 1"
                    ],
                    [
                      0.40560317039489746,
                      0.33454757928848267,
                      0.2628071904182434,
                      0.16829349100589752,
                      0.17096418142318726,
                      0.2609971761703491,
                      0.22498200833797455,
                      0.31358838081359863,
                      0.2433345466852188,
                      0.2669615149497986,
                      0.16497407853603363,
                      0.2563120424747467,
                      0.19819527864456177,
                      0.20755469799041748,
                      0.2325536608695984,
                      0.299251914024353,
                      0.2976246476173401,
                      0.8196290731430054,
                      0.826846182346344,
                      "Cluster 1"
                    ],
                    [
                      1.639887809753418,
                      1.8756932020187378,
                      1.8534048795700073,
                      2.5584161281585693,
                      2.0835049152374268,
                      1.6531531810760498,
                      2.1388914585113525,
                      2.182617425918579,
                      3.345043420791626,
                      2.875959873199463,
                      3.1994948387145996,
                      4.980591773986816,
                      3.780193567276001,
                      2.8301188945770264,
                      2.4020538330078125,
                      2.928013563156128,
                      2.8108057975769043,
                      2.8358771800994873,
                      2.9251773357391357,
                      "Cluster 1"
                    ],
                    [
                      1.3636568784713745,
                      1.4514241218566895,
                      1.5581077337265015,
                      1.3732068538665771,
                      1.4283558130264282,
                      1.5267614126205444,
                      1.3244431018829346,
                      1.1166423559188843,
                      1.306200623512268,
                      1.3031314611434937,
                      1.5016485452651978,
                      1.4521870613098145,
                      1.3678264617919922,
                      1.3327456712722778,
                      1.548676609992981,
                      1.573691487312317,
                      1.3063629865646362,
                      1.3862563371658325,
                      1.4492170810699463,
                      "Cluster 1"
                    ],
                    [
                      2.4000535011291504,
                      2.4394218921661377,
                      2.2663278579711914,
                      2.571913242340088,
                      2.82991623878479,
                      2.7208316326141357,
                      2.83143949508667,
                      2.8257055282592773,
                      2.6908621788024902,
                      2.5437612533569336,
                      2.6938960552215576,
                      2.392145872116089,
                      2.4146230220794678,
                      2.452033758163452,
                      2.9834444522857666,
                      2.7942872047424316,
                      2.6241402626037598,
                      2.8466477394104004,
                      3.0451035499572754,
                      "Cluster 1"
                    ],
                    [
                      2.130023717880249,
                      2.395655393600464,
                      2.4280812740325928,
                      2.821045398712158,
                      3.0309391021728516,
                      3.230628252029419,
                      2.654111862182617,
                      2.1601037979125977,
                      1.9494919776916504,
                      2.0315706729888916,
                      2.3551974296569824,
                      2.6100149154663086,
                      2.6921865940093994,
                      2.713075637817383,
                      3.498680591583252,
                      3.360902786254883,
                      3.7659192085266113,
                      4.598601341247559,
                      4.781259059906006,
                      "Cluster 1"
                    ],
                    [
                      0.6555092334747314,
                      0.7153439521789551,
                      0.6555669903755188,
                      0.571406900882721,
                      0.5547307133674622,
                      0.6086024045944214,
                      0.5515241622924805,
                      0.8093860745429993,
                      0.6483209133148193,
                      0.6773009896278381,
                      0.6859182715415955,
                      0.7887747883796692,
                      0.7988322377204895,
                      0.8392359018325806,
                      0.8029035329818726,
                      0.9542344808578491,
                      0.9197682738304138,
                      1.0184630155563354,
                      0.9943308234214783,
                      "Cluster 1"
                    ],
                    [
                      3.210272789001465,
                      3.1674208641052246,
                      2.9649596214294434,
                      3.0322580337524414,
                      3.0387747287750244,
                      2.5725905895233154,
                      2.2624428272247314,
                      2.0918617248535156,
                      2.087233781814575,
                      1.8705092668533325,
                      1.9221867322921753,
                      2.3366830348968506,
                      2.1546106338500977,
                      2.0306687355041504,
                      2.1931090354919434,
                      2.53202223777771,
                      2.2606701850891113,
                      2.3751745223999023,
                      2.1837286949157715,
                      "Cluster 1"
                    ],
                    [
                      0.658145010471344,
                      0.6004809141159058,
                      0.7176122665405273,
                      0.9066261649131775,
                      0.9836661219596863,
                      0.9492860436439514,
                      1.017707347869873,
                      0.6220043301582336,
                      0.9066618084907532,
                      1.4147604703903198,
                      1.197786808013916,
                      1.2046008110046387,
                      1.4727288484573364,
                      1.4700593948364258,
                      1.3246699571609497,
                      0.9085807204246521,
                      1.1516112089157104,
                      1.0331695079803467,
                      0.8826272487640381,
                      "Cluster 1"
                    ],
                    [
                      2.6382699012756348,
                      2.3867650032043457,
                      2.344393253326416,
                      1.9526588916778564,
                      2.3448612689971924,
                      1.9555948972702026,
                      2.2269811630249023,
                      2.6470065116882324,
                      2.599973201751709,
                      2.5997772216796875,
                      2.641981601715088,
                      2.2319772243499756,
                      2.375267505645752,
                      2.1644504070281982,
                      3.280810594558716,
                      3.018338680267334,
                      2.6801514625549316,
                      2.894988775253296,
                      3.1444942951202393,
                      "Cluster 1"
                    ],
                    [
                      1.4689477682113647,
                      1.2844856977462769,
                      1.684795618057251,
                      1.6945950984954834,
                      1.6988028287887573,
                      1.522465467453003,
                      1.8667211532592773,
                      1.9092583656311035,
                      1.6804503202438354,
                      1.845863938331604,
                      2.978654384613037,
                      3.175497055053711,
                      2.6628646850585938,
                      2.6958768367767334,
                      2.6503865718841553,
                      2.1624369621276855,
                      2.453245162963867,
                      2.211834669113159,
                      2.4556772708892822,
                      "Cluster 1"
                    ],
                    [
                      2.3204104900360107,
                      2.494258403778076,
                      2.1475446224212646,
                      2.2621991634368896,
                      1.9516241550445557,
                      1.5747300386428833,
                      1.9219924211502075,
                      2.0359230041503906,
                      3.4880869388580322,
                      3.0369040966033936,
                      2.535151720046997,
                      2.1720821857452393,
                      1.9433211088180542,
                      1.5741826295852661,
                      2.06552791595459,
                      1.6208308935165405,
                      1.5059313774108887,
                      1.8314776420593262,
                      1.854801058769226,
                      "Cluster 1"
                    ],
                    [
                      1.2798538208007812,
                      1.4840143918991089,
                      1.2842600345611572,
                      1.3111685514450073,
                      1.7410012483596802,
                      1.8955416679382324,
                      2.135240316390991,
                      1.9504809379577637,
                      2.0913283824920654,
                      2.1192572116851807,
                      2.9824373722076416,
                      3.1499016284942627,
                      2.332512378692627,
                      2.527526378631592,
                      2.4862637519836426,
                      2.3685479164123535,
                      2.279839515686035,
                      2.179866313934326,
                      2.2383153438568115,
                      "Cluster 1"
                    ],
                    [
                      1.713004469871521,
                      1.7461975812911987,
                      2.0245094299316406,
                      2.095127820968628,
                      2.510171413421631,
                      2.258417844772339,
                      2.2922239303588867,
                      2.2563259601593018,
                      2.2521040439605713,
                      2.6794049739837646,
                      2.7064554691314697,
                      2.575136184692383,
                      2.629171133041382,
                      2.6938984394073486,
                      2.83357572555542,
                      2.4765679836273193,
                      2.8491709232330322,
                      2.735704183578491,
                      2.835984230041504,
                      "Cluster 1"
                    ],
                    [
                      1.8815244436264038,
                      2.20420241355896,
                      1.9874813556671143,
                      1.4007405042648315,
                      1.3751416206359863,
                      0.8960031867027283,
                      1.2284631729125977,
                      1.4288759231567383,
                      1.4257146120071411,
                      1.429314374923706,
                      1.30987548828125,
                      1.4236557483673096,
                      1.5062408447265625,
                      1.630354642868042,
                      2.186591386795044,
                      2.4594075679779053,
                      2.5973808765411377,
                      2.9572930335998535,
                      3.8583853244781494,
                      "Cluster 1"
                    ],
                    [
                      1.201089859008789,
                      1.11333167552948,
                      1.3082830905914307,
                      1.6341359615325928,
                      1.8427428007125854,
                      2.382655382156372,
                      2.230818271636963,
                      2.550281286239624,
                      2.556368827819824,
                      2.373640775680542,
                      2.580334424972534,
                      2.5294055938720703,
                      2.571477174758911,
                      2.2213222980499268,
                      2.4215197563171387,
                      3.716736078262329,
                      3.7351558208465576,
                      3.3105950355529785,
                      2.9536375999450684,
                      "Cluster 1"
                    ],
                    [
                      2.1719744205474854,
                      1.3211003541946411,
                      1.7709269523620605,
                      1.8514262437820435,
                      1.9965689182281494,
                      1.5885111093521118,
                      1.3867813348770142,
                      1.6404693126678467,
                      1.2916890382766724,
                      1.2360146045684814,
                      1.0959391593933105,
                      1.470450520515442,
                      1.4903380870819092,
                      1.9314296245574951,
                      1.3979601860046387,
                      1.424863576889038,
                      1.407822608947754,
                      1.3839764595031738,
                      1.3782662153244019,
                      "Cluster 1"
                    ],
                    [
                      3.8838582038879395,
                      2.7329981327056885,
                      2.2512457370758057,
                      3.0559542179107666,
                      1.922256588935852,
                      2.166271686553955,
                      1.3355251550674438,
                      1.1117215156555176,
                      1.527597188949585,
                      1.352454662322998,
                      0.913982093334198,
                      1.467452049255371,
                      1.6408283710479736,
                      1.7950795888900757,
                      4.461108207702637,
                      3.057171106338501,
                      2.5966544151306152,
                      3.3258819580078125,
                      2.961789846420288,
                      "Cluster 1"
                    ],
                    [
                      1.6460250616073608,
                      1.6206647157669067,
                      1.7855395078659058,
                      1.9698113203048706,
                      2.123413324356079,
                      2.2469584941864014,
                      2.3275582790374756,
                      2.4038171768188477,
                      2.0685479640960693,
                      1.98591148853302,
                      1.9850410223007202,
                      2.2875192165374756,
                      2.0466957092285156,
                      2.0297272205352783,
                      2.058126926422119,
                      1.872592806816101,
                      1.9908041954040527,
                      1.9092313051223755,
                      2.0574681758880615,
                      "Cluster 1"
                    ],
                    [
                      1.441526174545288,
                      1.9149720668792725,
                      2.148022174835205,
                      1.9613351821899414,
                      2.0399136543273926,
                      2.5733041763305664,
                      2.8085155487060547,
                      2.7432138919830322,
                      2.26017427444458,
                      2.436995267868042,
                      2.6214499473571777,
                      2.817711591720581,
                      2.7398219108581543,
                      2.4189183712005615,
                      2.408212900161743,
                      2.6065585613250732,
                      2.4358723163604736,
                      1.8161052465438843,
                      2.5604448318481445,
                      "Cluster 1"
                    ],
                    [
                      1.1552207469940186,
                      1.2382752895355225,
                      1.4883543252944946,
                      1.7989108562469482,
                      2.001889228820801,
                      2.192495107650757,
                      1.9258959293365479,
                      2.0087385177612305,
                      1.8208773136138916,
                      1.388619303703308,
                      1.4859490394592285,
                      1.781605839729309,
                      1.9925087690353394,
                      2.0512778759002686,
                      2.2455601692199707,
                      2.263964891433716,
                      2.6043860912323,
                      2.701812267303467,
                      2.623467445373535,
                      "Cluster 1"
                    ],
                    [
                      1.697054386138916,
                      1.7748134136199951,
                      1.9483381509780884,
                      2.33811616897583,
                      2.388126850128174,
                      2.402830123901367,
                      2.4492595195770264,
                      2.754518508911133,
                      3.0826268196105957,
                      2.8134608268737793,
                      2.66267728805542,
                      2.663821220397949,
                      2.57804012298584,
                      2.850825548171997,
                      3.3114724159240723,
                      3.425307273864746,
                      3.5076351165771484,
                      3.4116036891937256,
                      3.4707913398742676,
                      "Cluster 1"
                    ],
                    [
                      1.645869255065918,
                      1.8541070222854614,
                      2.0032899379730225,
                      1.8888131380081177,
                      1.7996673583984375,
                      1.7880357503890991,
                      1.2902578115463257,
                      1.408600926399231,
                      1.3383336067199707,
                      1.4716744422912598,
                      1.2697194814682007,
                      1.3584038019180298,
                      1.428213119506836,
                      1.5286264419555664,
                      1.6968101263046265,
                      1.676172137260437,
                      1.6356970071792603,
                      1.8850455284118652,
                      1.7965878248214722,
                      "Cluster 1"
                    ],
                    [
                      1.875942349433899,
                      1.721611499786377,
                      1.9118362665176392,
                      2.2184019088745117,
                      1.7527649402618408,
                      1.2225921154022217,
                      1.3345324993133545,
                      1.287959098815918,
                      1.300179123878479,
                      1.3696751594543457,
                      1.4346084594726562,
                      1.4940327405929565,
                      1.5457640886306763,
                      1.2385928630828857,
                      1.1411417722702026,
                      1.386578917503357,
                      1.9773752689361572,
                      3.149421453475952,
                      4.057311058044434,
                      "Cluster 1"
                    ],
                    [
                      0.1514696627855301,
                      0.11302006244659424,
                      0.20486781001091003,
                      0.17818515002727509,
                      0.24769671261310577,
                      0.044703610241413116,
                      0.14417974650859833,
                      0.16008040308952332,
                      0.7000268697738647,
                      0.7183546423912048,
                      0.7524621486663818,
                      0.9389913082122803,
                      1.2094343900680542,
                      2.0998728275299072,
                      2.3629791736602783,
                      1.0625956058502197,
                      1.2552685737609863,
                      1.68717360496521,
                      1.323441743850708,
                      "Cluster 1"
                    ],
                    [
                      2.879786252975464,
                      2.713949680328369,
                      2.584925651550293,
                      2.1850361824035645,
                      1.9644266366958618,
                      1.5227230787277222,
                      1.0946753025054932,
                      1.6697580814361572,
                      1.8154748678207397,
                      2.0104384422302246,
                      2.2740519046783447,
                      2.5071516036987305,
                      2.8029913902282715,
                      3.094532012939453,
                      1.7212121486663818,
                      1.454408884048462,
                      1.6567593812942505,
                      2.646604061126709,
                      2.0031931400299072,
                      "Cluster 1"
                    ],
                    [
                      1.7803819179534912,
                      1.7637161016464233,
                      1.7806565761566162,
                      1.8120753765106201,
                      1.8349422216415405,
                      1.7598434686660767,
                      1.6212842464447021,
                      1.7146722078323364,
                      1.7465299367904663,
                      1.7934298515319824,
                      1.8059203624725342,
                      1.8385382890701294,
                      2.0265920162200928,
                      2.292123556137085,
                      2.664482593536377,
                      2.653820037841797,
                      2.810652732849121,
                      2.9458136558532715,
                      3.005601406097412,
                      "Cluster 1"
                    ],
                    [
                      2.483034372329712,
                      2.667579412460327,
                      2.7228963375091553,
                      2.9992799758911133,
                      3.1887834072113037,
                      3.332061767578125,
                      3.48454213142395,
                      3.529890775680542,
                      2.6875498294830322,
                      2.638143539428711,
                      2.5362915992736816,
                      2.5176174640655518,
                      2.655656337738037,
                      2.9425888061523438,
                      3.468102216720581,
                      3.2949256896972656,
                      3.332639217376709,
                      3.4761648178100586,
                      3.632821559906006,
                      "Cluster 1"
                    ],
                    [
                      2.0113751888275146,
                      1.9609137773513794,
                      1.9635887145996094,
                      1.659397006034851,
                      1.9898415803909302,
                      2.6674842834472656,
                      2.396482467651367,
                      2.691864013671875,
                      2.268320322036743,
                      2.2993552684783936,
                      1.5579713582992554,
                      1.1289788484573364,
                      1.2502511739730835,
                      0.9966042041778564,
                      1.231522798538208,
                      1.185137152671814,
                      1.5348745584487915,
                      1.4219393730163574,
                      1.7746922969818115,
                      "Cluster 1"
                    ],
                    [
                      1.3639745712280273,
                      2.023371934890747,
                      1.2161839008331299,
                      1.4170993566513062,
                      1.8717182874679565,
                      2.102146863937378,
                      1.863889217376709,
                      2.0622520446777344,
                      2.0768120288848877,
                      1.8451151847839355,
                      2.114689826965332,
                      1.923990249633789,
                      2.036722421646118,
                      2.290508985519409,
                      1.497162103652954,
                      1.9771463871002197,
                      1.840226173400879,
                      1.768029808998108,
                      1.91335928440094,
                      "Cluster 1"
                    ],
                    [
                      0.9002687335014343,
                      0.8933683037757874,
                      0.9789659976959229,
                      0.7846296429634094,
                      0.8337348103523254,
                      0.9326291680335999,
                      1.1291992664337158,
                      1.290383219718933,
                      1.3317279815673828,
                      1.1296380758285522,
                      1.1200791597366333,
                      1.0760923624038696,
                      1.0657762289047241,
                      1.0492873191833496,
                      1.2831329107284546,
                      1.507602334022522,
                      1.3314471244812012,
                      1.0667470693588257,
                      1.0124696493148804,
                      "Cluster 1"
                    ],
                    [
                      1.1239032745361328,
                      2.6427724361419678,
                      2.055718421936035,
                      1.3567755222320557,
                      1.1849344968795776,
                      1.3401496410369873,
                      1.303768277168274,
                      1.5204392671585083,
                      2.4161641597747803,
                      2.392324209213257,
                      1.6182187795639038,
                      1.2352886199951172,
                      1.3217709064483643,
                      1.1113312244415283,
                      1.3124685287475586,
                      1.4407750368118286,
                      1.3398555517196655,
                      1.503340721130371,
                      1.3975846767425537,
                      "Cluster 1"
                    ],
                    [
                      1.3464323282241821,
                      1.4941034317016602,
                      1.1308436393737793,
                      1.2478421926498413,
                      1.2384856939315796,
                      1.4043644666671753,
                      1.6344859600067139,
                      1.5551224946975708,
                      1.3451882600784302,
                      2.544952154159546,
                      2.9377963542938232,
                      3.528829336166382,
                      3.7804362773895264,
                      3.355311632156372,
                      3.0930402278900146,
                      5.499656677246094,
                      5.401877403259277,
                      4.930865287780762,
                      4.396653175354004,
                      "Cluster 1"
                    ],
                    [
                      1.8658620119094849,
                      1.933787226676941,
                      2.0678870677948,
                      2.061326742172241,
                      2.191443681716919,
                      2.0169153213500977,
                      1.8324488401412964,
                      2.2566864490509033,
                      2.604253053665161,
                      3.4643845558166504,
                      4.091775894165039,
                      3.74106502532959,
                      3.9957218170166016,
                      3.996973991394043,
                      3.658379316329956,
                      3.971179723739624,
                      2.9551477432250977,
                      2.9803686141967773,
                      3.4893953800201416,
                      "Cluster 1"
                    ],
                    [
                      2.294038772583008,
                      3.01649808883667,
                      3.0172369480133057,
                      3.7179110050201416,
                      3.1839404106140137,
                      2.5985889434814453,
                      2.5767812728881836,
                      2.56738543510437,
                      2.593538761138916,
                      2.5222666263580322,
                      2.2158970832824707,
                      1.9290779829025269,
                      2.0386710166931152,
                      2.0157744884490967,
                      2.591951608657837,
                      2.520024538040161,
                      2.066757917404175,
                      2.112532377243042,
                      2.4074809551239014,
                      "Cluster 1"
                    ],
                    [
                      2.111729621887207,
                      2.031550884246826,
                      1.814422845840454,
                      1.9397958517074585,
                      2.109912395477295,
                      1.9175268411636353,
                      2.3082635402679443,
                      1.8886704444885254,
                      2.21126651763916,
                      2.1752328872680664,
                      2.352479934692383,
                      2.3857510089874268,
                      2.3070855140686035,
                      2.1376967430114746,
                      2.3286240100860596,
                      2.688570261001587,
                      2.9290096759796143,
                      2.1540937423706055,
                      2.215456485748291,
                      "Cluster 1"
                    ],
                    [
                      2.6323652267456055,
                      2.0480408668518066,
                      2.263611078262329,
                      2.1556966304779053,
                      2.035490036010742,
                      2.0916972160339355,
                      2.5894224643707275,
                      2.4565417766571045,
                      2.5893943309783936,
                      2.507171869277954,
                      2.647951126098633,
                      2.669250965118408,
                      3.022312879562378,
                      3.2906746864318848,
                      3.862427234649658,
                      3.858381748199463,
                      3.725604295730591,
                      3.5777435302734375,
                      3.7771308422088623,
                      "Cluster 1"
                    ],
                    [
                      1.1998052597045898,
                      1.0312840938568115,
                      0.9681247472763062,
                      0.935335099697113,
                      0.9351601600646973,
                      0.9467124342918396,
                      1.0249264240264893,
                      1.067809820175171,
                      0.9755480885505676,
                      1.0420671701431274,
                      0.9668001532554626,
                      1.0388301610946655,
                      0.9876837134361267,
                      0.9537524580955505,
                      0.9910996556282043,
                      1.050173044204712,
                      1.0410901308059692,
                      0.9844837188720703,
                      0.81032395362854,
                      "Cluster 1"
                    ],
                    [
                      2.8185465335845947,
                      2.7515132427215576,
                      3.0477218627929688,
                      2.8813207149505615,
                      2.8387277126312256,
                      2.362417697906494,
                      2.5328783988952637,
                      2.5843231678009033,
                      2.5011236667633057,
                      2.2678096294403076,
                      2.156522274017334,
                      2.1252505779266357,
                      2.1845672130584717,
                      2.3130581378936768,
                      2.7484443187713623,
                      2.593379497528076,
                      2.383532762527466,
                      2.762662172317505,
                      3.0159943103790283,
                      "Cluster 1"
                    ],
                    [
                      2.729658842086792,
                      2.7736215591430664,
                      2.357290744781494,
                      2.5395047664642334,
                      2.4678187370300293,
                      2.5025475025177,
                      2.4668960571289062,
                      2.5106654167175293,
                      2.647886037826538,
                      2.8804357051849365,
                      2.6421897411346436,
                      3.272602081298828,
                      3.181501626968384,
                      3.354877471923828,
                      3.526524066925049,
                      3.4608154296875,
                      3.575056314468384,
                      3.2982492446899414,
                      3.076955795288086,
                      "Cluster 1"
                    ],
                    [
                      1.3917526006698608,
                      1.4855470657348633,
                      1.2286256551742554,
                      0.9038070440292358,
                      0.9854304790496826,
                      0.8668927550315857,
                      0.8465011119842529,
                      0.7918179035186768,
                      0.8296779990196228,
                      1.028670072555542,
                      0.8809053897857666,
                      0.8641843795776367,
                      0.9802538752555847,
                      0.8246755003929138,
                      1.3389697074890137,
                      1.1680207252502441,
                      1.0809876918792725,
                      1.2105965614318848,
                      1.150183916091919,
                      "Cluster 1"
                    ],
                    [
                      1.9962725639343262,
                      1.6211481094360352,
                      1.4074962139129639,
                      1.6449130773544312,
                      1.612414836883545,
                      1.1375319957733154,
                      1.5914746522903442,
                      1.3613324165344238,
                      1.5165702104568481,
                      1.4044506549835205,
                      1.9050533771514893,
                      2.052881956100464,
                      2.0992848873138428,
                      1.764770269393921,
                      2.010005474090576,
                      1.922714114189148,
                      1.938903570175171,
                      1.8756815195083618,
                      1.9466910362243652,
                      "Cluster 1"
                    ],
                    [
                      2.746344566345215,
                      2.505800485610962,
                      2.597402572631836,
                      2.672064781188965,
                      2.7441999912261963,
                      2.7878055572509766,
                      2.9497599601745605,
                      2.9502315521240234,
                      2.9500129222869873,
                      2.6797935962677,
                      2.9500985145568848,
                      2.950105905532837,
                      2.950000047683716,
                      3.343031406402588,
                      3.3438994884490967,
                      3.8935470581054688,
                      3.8910396099090576,
                      3.6523325443267822,
                      3.592597484588623,
                      "Cluster 1"
                    ],
                    [
                      4.659118175506592,
                      1.7397817373275757,
                      2.019219398498535,
                      1.4147053956985474,
                      2.1317977905273438,
                      1.6772164106369019,
                      2.812403440475464,
                      1.6852174997329712,
                      2.0443694591522217,
                      2.4078404903411865,
                      2.024646282196045,
                      3.022435426712036,
                      2.213763952255249,
                      2.716334342956543,
                      2.663917303085327,
                      2.0612547397613525,
                      2.1550943851470947,
                      2.1373164653778076,
                      3.0804083347320557,
                      "Cluster 1"
                    ],
                    [
                      2.4636871814727783,
                      2.643610715866089,
                      2.892407178878784,
                      2.604433536529541,
                      2.505337715148926,
                      3.2355711460113525,
                      2.628178358078003,
                      2.8544881343841553,
                      2.7002646923065186,
                      2.8876633644104004,
                      2.936055898666382,
                      3.012362003326416,
                      2.791982650756836,
                      2.7803289890289307,
                      2.9539060592651367,
                      2.9652059078216553,
                      2.6771442890167236,
                      2.76214861869812,
                      2.9022438526153564,
                      "Cluster 1"
                    ],
                    [
                      1.2574453353881836,
                      1.2864755392074585,
                      1.192176342010498,
                      1.7313438653945923,
                      1.2139877080917358,
                      1.1548562049865723,
                      1.2858374118804932,
                      1.2072900533676147,
                      1.4675812721252441,
                      1.3605983257293701,
                      1.114980936050415,
                      1.2350860834121704,
                      1.2669780254364014,
                      1.076241374015808,
                      1.5480996370315552,
                      2.440924644470215,
                      2.103287935256958,
                      2.2102012634277344,
                      2.9318296909332275,
                      "Cluster 1"
                    ],
                    [
                      2.152488946914673,
                      2.484677791595459,
                      2.5852394104003906,
                      3.133965015411377,
                      3.4036970138549805,
                      3.719899892807007,
                      3.5265591144561768,
                      4.0181097984313965,
                      4.187669277191162,
                      3.6570844650268555,
                      3.9569790363311768,
                      2.755845546722412,
                      1.885822057723999,
                      2.189941644668579,
                      2.2616677284240723,
                      2.279956340789795,
                      2.1489319801330566,
                      2.5363705158233643,
                      2.76540470123291,
                      "Cluster 1"
                    ],
                    [
                      0.2672812044620514,
                      0.8742157816886902,
                      1.491279125213623,
                      1.1956570148468018,
                      1.140527367591858,
                      1.180608868598938,
                      1.3881943225860596,
                      1.4003500938415527,
                      1.2572946548461914,
                      1.307242512702942,
                      1.648504614830017,
                      1.7716621160507202,
                      1.449623465538025,
                      1.7799744606018066,
                      2.270258665084839,
                      2.289929151535034,
                      1.7006243467330933,
                      1.2103489637374878,
                      1.2761201858520508,
                      "Cluster 1"
                    ],
                    [
                      1.5145280361175537,
                      1.6627416610717773,
                      1.7901982069015503,
                      1.8845133781433105,
                      1.6503777503967285,
                      1.6598308086395264,
                      2.210293769836426,
                      3.0567262172698975,
                      2.692002534866333,
                      2.276618719100952,
                      1.749117374420166,
                      1.6401667594909668,
                      1.74809730052948,
                      1.382407546043396,
                      2.178179979324341,
                      2.136789560317993,
                      3.0199999809265137,
                      3.0199999809265137,
                      3.0199999809265137,
                      "Cluster 1"
                    ],
                    [
                      1.3587398529052734,
                      1.6445006132125854,
                      1.8984102010726929,
                      2.324037790298462,
                      2.1273910999298096,
                      2.235285520553589,
                      2.2941806316375732,
                      2.142648458480835,
                      2.1817307472229004,
                      1.8543305397033691,
                      1.551116943359375,
                      1.521601915359497,
                      1.462789535522461,
                      1.5650182962417603,
                      1.3366978168487549,
                      1.299130916595459,
                      1.3504469394683838,
                      1.5716278553009033,
                      1.4100099802017212,
                      "Cluster 1"
                    ],
                    [
                      2.1793477535247803,
                      1.8275223970413208,
                      2.0717597007751465,
                      1.851730465888977,
                      1.1117029190063477,
                      1.1305638551712036,
                      1.1777907609939575,
                      1.082870602607727,
                      1.2709968090057373,
                      0.801898717880249,
                      0.7346071004867554,
                      1.1470211744308472,
                      1.0297300815582275,
                      1.0014694929122925,
                      1.8583030700683594,
                      1.278180718421936,
                      0.835809588432312,
                      0.7922462821006775,
                      0.9648728370666504,
                      "Cluster 1"
                    ],
                    [
                      3.0586965084075928,
                      2.5183064937591553,
                      2.5616800785064697,
                      2.5370569229125977,
                      2.2515478134155273,
                      2.070901870727539,
                      1.968923807144165,
                      2.149216413497925,
                      2.0568439960479736,
                      2.2751781940460205,
                      2.380598306655884,
                      3.2769973278045654,
                      3.5300004482269287,
                      3.128324508666992,
                      3.7853524684906006,
                      3.7101407051086426,
                      3.70108962059021,
                      4.197243690490723,
                      3.879936695098877,
                      "Cluster 1"
                    ],
                    [
                      3.0793817043304443,
                      2.7531232833862305,
                      2.951254367828369,
                      3.5051093101501465,
                      2.9118430614471436,
                      1.9074589014053345,
                      2.938513994216919,
                      2.845116376876831,
                      2.5916380882263184,
                      2.197676420211792,
                      1.8984359502792358,
                      1.8262028694152832,
                      1.6788926124572754,
                      1.5118626356124878,
                      3.370934009552002,
                      2.334489107131958,
                      2.255683422088623,
                      2.187222480773926,
                      2.1656253337860107,
                      "Cluster 1"
                    ],
                    [
                      1.3783700466156006,
                      1.5671062469482422,
                      1.6613845825195312,
                      1.8969600200653076,
                      2.0360782146453857,
                      2.069427728652954,
                      2.6287877559661865,
                      2.4961979389190674,
                      2.5679244995117188,
                      2.604738473892212,
                      2.818462610244751,
                      3.145604372024536,
                      3.279317855834961,
                      3.3643696308135986,
                      3.7561416625976562,
                      3.855133295059204,
                      3.821345329284668,
                      3.851691722869873,
                      3.9098784923553467,
                      "Cluster 1"
                    ],
                    [
                      1.9693553447723389,
                      1.6629801988601685,
                      1.5995079278945923,
                      1.994903326034546,
                      1.6722545623779297,
                      2.1667251586914062,
                      2.0673041343688965,
                      1.9431644678115845,
                      1.928139090538025,
                      1.7957209348678589,
                      1.845407485961914,
                      1.6243146657943726,
                      1.5968585014343262,
                      1.403309941291809,
                      1.6416243314743042,
                      1.4187355041503906,
                      2.6235334873199463,
                      3.322937488555908,
                      3.3464040756225586,
                      "Cluster 1"
                    ],
                    [
                      2.9534900188446045,
                      2.759064197540283,
                      3.0026156902313232,
                      3.092985153198242,
                      2.296107530593872,
                      2.1193106174468994,
                      1.9657951593399048,
                      1.933120846748352,
                      2.0143213272094727,
                      2.2946665287017822,
                      2.5215418338775635,
                      2.3057193756103516,
                      1.7841325998306274,
                      2.262578248977661,
                      2.6511192321777344,
                      2.5272181034088135,
                      2.271552801132202,
                      2.408214807510376,
                      2.1892049312591553,
                      "Cluster 1"
                    ],
                    [
                      2.224280595779419,
                      2.859074592590332,
                      3.3548738956451416,
                      3.38375186920166,
                      2.711113691329956,
                      3.2204527854919434,
                      2.449632406234741,
                      2.787349224090576,
                      2.3042678833007812,
                      2.7238550186157227,
                      1.9858449697494507,
                      2.310210943222046,
                      2.5349199771881104,
                      2.8936712741851807,
                      2.893738269805908,
                      2.9901061058044434,
                      2.795222759246826,
                      3.2737605571746826,
                      3.3801348209381104,
                      "Cluster 1"
                    ],
                    [
                      1.6760716438293457,
                      1.7256784439086914,
                      1.9422165155410767,
                      2.137650966644287,
                      1.8600316047668457,
                      1.8631224632263184,
                      2.1947364807128906,
                      2.189274787902832,
                      2.3482394218444824,
                      2.239316940307617,
                      2.333458185195923,
                      2.5680902004241943,
                      2.423964738845825,
                      2.4378204345703125,
                      2.879141092300415,
                      2.6846821308135986,
                      2.4790332317352295,
                      2.6876001358032227,
                      2.7340402603149414,
                      "Cluster 1"
                    ],
                    [
                      1.0411045551300049,
                      0.8962045311927795,
                      0.9212908744812012,
                      1.194823145866394,
                      1.2526153326034546,
                      1.234866738319397,
                      1.5537467002868652,
                      1.407356858253479,
                      2.1239748001098633,
                      2.51485013961792,
                      2.8975989818573,
                      3.244631052017212,
                      3.403125286102295,
                      3.527012825012207,
                      3.482328176498413,
                      3.43308687210083,
                      3.735121011734009,
                      3.672212839126587,
                      4.181628227233887,
                      "Cluster 1"
                    ],
                    [
                      1.0515109300613403,
                      1.0067142248153687,
                      1.0725362300872803,
                      1.1043343544006348,
                      1.130458950996399,
                      1.112442970275879,
                      1.0779961347579956,
                      1.0257619619369507,
                      0.9849305152893066,
                      1.022681713104248,
                      1.1342576742172241,
                      1.1106106042861938,
                      1.0996006727218628,
                      1.16274094581604,
                      1.2209711074829102,
                      1.1610158681869507,
                      1.1753766536712646,
                      1.1838726997375488,
                      1.2868865728378296,
                      "Cluster 1"
                    ],
                    [
                      2.7007782459259033,
                      2.4568023681640625,
                      2.444218158721924,
                      2.0318427085876465,
                      1.696652889251709,
                      1.6795566082000732,
                      1.472578763961792,
                      1.4111064672470093,
                      1.5853490829467773,
                      2.0292694568634033,
                      0.9384949803352356,
                      1.3555935621261597,
                      1.3266093730926514,
                      1.3559998273849487,
                      1.3726482391357422,
                      1.410583257675171,
                      1.806321144104004,
                      0.9802712798118591,
                      1.7245413064956665,
                      "Cluster 1"
                    ],
                    [
                      0.708979070186615,
                      0.7267821431159973,
                      0.6768522262573242,
                      0.7080650329589844,
                      0.7726455330848694,
                      0.7246825695037842,
                      0.9635658264160156,
                      0.8842727541923523,
                      1.01530122756958,
                      0.9348711371421814,
                      0.803210973739624,
                      0.9125831127166748,
                      1.126425862312317,
                      1.0057976245880127,
                      1.0195493698120117,
                      1.0330041646957397,
                      1.0289140939712524,
                      1.1477365493774414,
                      1.153628945350647,
                      "Cluster 1"
                    ],
                    [
                      1.5682518482208252,
                      1.4740887880325317,
                      1.6523526906967163,
                      1.687897801399231,
                      1.8225682973861694,
                      1.9062880277633667,
                      2.1653826236724854,
                      2.12695050239563,
                      2.2507801055908203,
                      2.188622236251831,
                      2.1519339084625244,
                      2.3893277645111084,
                      2.268186330795288,
                      2.3197879791259766,
                      2.516993522644043,
                      2.3754968643188477,
                      2.1531479358673096,
                      2.1477465629577637,
                      2.3218894004821777,
                      "Cluster 1"
                    ],
                    [
                      1.5918225049972534,
                      2.1073880195617676,
                      2.249324083328247,
                      2.2070815563201904,
                      1.4586889743804932,
                      0.5159652233123779,
                      0.48360487818717957,
                      1.2901691198349,
                      1.2961535453796387,
                      0.8552961945533752,
                      1.0835381746292114,
                      1.0685465335845947,
                      1.3632014989852905,
                      1.157787561416626,
                      1.916627049446106,
                      1.8494534492492676,
                      1.0469748973846436,
                      1.5913705825805664,
                      1.6250123977661133,
                      "Cluster 1"
                    ],
                    [
                      3.006434202194214,
                      3.0167429447174072,
                      3.1578691005706787,
                      3.151488780975342,
                      3.7073192596435547,
                      3.4469993114471436,
                      4.513238906860352,
                      3.524549961090088,
                      3.0550668239593506,
                      2.700563907623291,
                      2.9189364910125732,
                      3.208181858062744,
                      2.897891044616699,
                      2.6915416717529297,
                      3.0733346939086914,
                      3.1005263328552246,
                      3.0401906967163086,
                      3.0459418296813965,
                      2.7824442386627197,
                      "Cluster 1"
                    ],
                    [
                      1.6228713989257812,
                      2.0189270973205566,
                      1.435605525970459,
                      1.7727538347244263,
                      1.5933775901794434,
                      1.4980943202972412,
                      2.045003652572632,
                      1.5088502168655396,
                      1.5805623531341553,
                      2.3990437984466553,
                      2.9239449501037598,
                      3.0442280769348145,
                      3.7298879623413086,
                      3.2230544090270996,
                      3.6749634742736816,
                      3.829376697540283,
                      3.5755205154418945,
                      3.1406757831573486,
                      3.2421600818634033,
                      "Cluster 1"
                    ],
                    [
                      1.2444063425064087,
                      0.769224226474762,
                      0.7539716958999634,
                      0.9485828876495361,
                      1.0340789556503296,
                      1.0959393978118896,
                      1.2704159021377563,
                      1.3133002519607544,
                      1.3133116960525513,
                      0.8796822428703308,
                      0.554865837097168,
                      0.665427565574646,
                      0.4182264804840088,
                      0.7846243977546692,
                      1.3464986085891724,
                      2.0117688179016113,
                      1.977159023284912,
                      2.0989460945129395,
                      2.3782427310943604,
                      "Cluster 1"
                    ]
                  ],
                  "hovertemplate": "Cluster=%{customdata[19]}<br>2014=%{x}<br>1995=%{customdata[0]}<br>1996=%{customdata[1]}<br>1997=%{customdata[2]}<br>1998=%{customdata[3]}<br>1999=%{customdata[4]}<br>2000=%{customdata[5]}<br>2001=%{customdata[6]}<br>2002=%{customdata[7]}<br>2003=%{customdata[8]}<br>2004=%{customdata[9]}<br>2005=%{customdata[10]}<br>2006=%{customdata[11]}<br>2007=%{customdata[12]}<br>2008=%{customdata[13]}<br>2009=%{customdata[14]}<br>2010=%{customdata[15]}<br>2011=%{customdata[16]}<br>2012=%{customdata[17]}<br>2013=%{customdata[18]}<extra></extra>",
                  "legendgroup": "Cluster 1",
                  "marker": {
                    "color": "#EF553B"
                  },
                  "name": "Cluster 1",
                  "notched": true,
                  "offsetgroup": "Cluster 1",
                  "showlegend": false,
                  "type": "box",
                  "x": [
                    3.1112483,
                    2.6205728,
                    3.820019,
                    3.2595515,
                    1.5681721,
                    1.3485305,
                    2.6361516,
                    2.0013263,
                    2.30029,
                    1.8012513,
                    2.3646858,
                    1.542766,
                    1.8710163,
                    4.5107493,
                    1.9639534,
                    3.1902285,
                    2.337819,
                    2.0546832,
                    1.8838018,
                    1.8023618,
                    1.5071658,
                    1.983765,
                    3.4907897,
                    2.5899587,
                    2.017321,
                    1.0448998,
                    2.8694012,
                    1.6146852,
                    3.318751,
                    4.50224,
                    0.9188115,
                    2.144605,
                    0.9225351,
                    3.1746275,
                    3.2144938,
                    1.8753914,
                    2.417956,
                    2.9363732,
                    4.508157,
                    2.8675668,
                    1.527464,
                    2.9327104,
                    2.1553845,
                    1.4734147,
                    2.9273756,
                    3.3320193,
                    1.6785384,
                    4.2119207,
                    1.5983565,
                    2.2173204,
                    3.0951743,
                    3.8513095,
                    1.9789501,
                    2.056943,
                    0.9386337,
                    1.251042,
                    3.9737275,
                    2.5939736,
                    2.4855678,
                    2.2511964,
                    3.8796577,
                    0.7865325,
                    3.1505003,
                    3.5506728,
                    1.2309675,
                    1.9256756,
                    3.7846107,
                    2.1249123,
                    2.9532082,
                    2.350581,
                    2.7600946,
                    1.5527306,
                    3.6540792,
                    1.271871,
                    0.94273376,
                    3.6394374,
                    2.6144226,
                    3.985248,
                    3.503866,
                    2.367903,
                    2.808578,
                    2.8408022,
                    5.0456123,
                    1.4072376,
                    1.5595164,
                    1.0755363,
                    2.334729,
                    1.1451223,
                    2.8273575,
                    2.128885,
                    2.7362447
                  ],
                  "xaxis": "x2",
                  "yaxis": "y2"
                },
                {
                  "alignmentgroup": "True",
                  "bingroup": "x",
                  "hovertemplate": "Cluster=Cluster 2<br>2014=%{x}<br>count=%{y}<extra></extra>",
                  "legendgroup": "Cluster 2",
                  "marker": {
                    "color": "#00cc96",
                    "opacity": 0.7,
                    "pattern": {
                      "shape": ""
                    }
                  },
                  "name": "Cluster 2",
                  "offsetgroup": "Cluster 2",
                  "orientation": "v",
                  "showlegend": true,
                  "type": "histogram",
                  "x": [
                    6.53197,
                    8.291027,
                    12.433752,
                    8.2499895,
                    7.5788503,
                    8.278518,
                    8.725026,
                    6.3165927,
                    7.2898145,
                    9.024514,
                    6.1581893,
                    8.697237,
                    10.573663,
                    6.3882875,
                    6.992651,
                    6.6238217,
                    6.7676015,
                    6.399992,
                    7.179706,
                    9.082656,
                    9.4811325,
                    6.2649765,
                    5.822836,
                    9.158734,
                    8.309618,
                    10.024694,
                    7.6951175,
                    7.411932,
                    8.550081
                  ],
                  "xaxis": "x",
                  "yaxis": "y"
                },
                {
                  "alignmentgroup": "True",
                  "customdata": [
                    [
                      8.650190353393555,
                      8.7691068649292,
                      8.390542030334473,
                      7.074245929718018,
                      7.62432336807251,
                      6.370625019073486,
                      6.185119152069092,
                      5.948520660400391,
                      6.094253063201904,
                      6.490673542022705,
                      5.895630836486816,
                      6.342105388641357,
                      6.559764385223389,
                      6.540844917297363,
                      6.6146464347839355,
                      7.641116619110107,
                      6.548387050628662,
                      6.739223957061768,
                      6.599186897277832,
                      "Cluster 2"
                    ],
                    [
                      8.96847152709961,
                      8.797772407531738,
                      8.982999801635742,
                      6.656954288482666,
                      8.44421672821045,
                      7.582920551300049,
                      8.491803169250488,
                      8.563909530639648,
                      9.467625617980957,
                      9.892086029052734,
                      9.460432052612305,
                      9.359712600708008,
                      11.400771141052246,
                      10.311665534973145,
                      10.364765167236328,
                      8.72560977935791,
                      8.568861961364746,
                      8.31360912322998,
                      8.232913970947266,
                      "Cluster 2"
                    ],
                    [
                      8.696186065673828,
                      8.135026931762695,
                      7.277088642120361,
                      6.4621381759643555,
                      7.06485652923584,
                      7.3533101081848145,
                      8.006993293762207,
                      7.414073944091797,
                      9.029862403869629,
                      9.899822235107422,
                      11.311200141906738,
                      11.033991813659668,
                      11.135546684265137,
                      11.695402145385742,
                      12.173285484313965,
                      12.610782623291016,
                      12.538215637207031,
                      11.588139533996582,
                      12.089938163757324,
                      "Cluster 2"
                    ],
                    [
                      5.845320701599121,
                      6.184037685394287,
                      5.853457927703857,
                      5.899438381195068,
                      6.02360200881958,
                      6.058374404907227,
                      6.252814769744873,
                      6.244508743286133,
                      6.918096542358398,
                      7.127857208251953,
                      7.112748146057129,
                      6.9623703956604,
                      6.95293664932251,
                      7.396754264831543,
                      8.043822288513184,
                      7.896702766418457,
                      8.00673770904541,
                      8.186299324035645,
                      8.22671890258789,
                      "Cluster 2"
                    ],
                    [
                      5.613873481750488,
                      5.574902057647705,
                      5.216401100158691,
                      5.273439407348633,
                      5.503507137298584,
                      5.523467540740967,
                      5.765949726104736,
                      6.040016174316406,
                      6.209568023681641,
                      6.4824299812316895,
                      6.658344745635986,
                      6.826598644256592,
                      6.79448127746582,
                      7.220152854919434,
                      8.162898063659668,
                      7.941676139831543,
                      7.765411376953125,
                      7.802633285522461,
                      7.780480861663818,
                      "Cluster 2"
                    ],
                    [
                      5.909478664398193,
                      5.891274452209473,
                      5.830749988555908,
                      5.676669120788574,
                      5.613685131072998,
                      5.653470993041992,
                      6.074098110198975,
                      6.423940658569336,
                      6.61886739730835,
                      6.698100566864014,
                      6.722609043121338,
                      6.882532596588135,
                      7.016360282897949,
                      7.367883682250977,
                      8.014549255371094,
                      8.079784393310547,
                      8.074126243591309,
                      8.042357444763184,
                      8.04500675201416,
                      "Cluster 2"
                    ],
                    [
                      7.1371002197265625,
                      7.096257209777832,
                      7.356728553771973,
                      7.478719711303711,
                      7.648252010345459,
                      7.5363664627075195,
                      7.503314018249512,
                      7.606508255004883,
                      7.736479759216309,
                      7.791336536407471,
                      7.831418991088867,
                      7.7379326820373535,
                      7.7758026123046875,
                      7.995856761932373,
                      8.466129302978516,
                      8.400007247924805,
                      8.213674545288086,
                      8.417189598083496,
                      8.370613098144531,
                      "Cluster 2"
                    ],
                    [
                      4.775232791900635,
                      4.8563079833984375,
                      5.016476154327393,
                      5.0846476554870605,
                      5.326927185058594,
                      5.399511814117432,
                      5.420998573303223,
                      5.620660305023193,
                      5.50612735748291,
                      5.724898815155029,
                      5.6614484786987305,
                      5.660886764526367,
                      5.765876293182373,
                      5.92763090133667,
                      6.186555862426758,
                      6.127334117889404,
                      6.315378189086914,
                      6.285633087158203,
                      6.274917125701904,
                      "Cluster 2"
                    ],
                    [
                      5.6271867752075195,
                      5.753535747528076,
                      5.563132286071777,
                      5.326592922210693,
                      5.268777847290039,
                      5.144464015960693,
                      5.343613147735596,
                      5.657159805297852,
                      5.93223237991333,
                      6.017266273498535,
                      6.221865653991699,
                      6.279188632965088,
                      6.031731128692627,
                      6.253821849822998,
                      6.896822929382324,
                      6.738831996917725,
                      6.753551006317139,
                      7.040839672088623,
                      7.20401668548584,
                      "Cluster 2"
                    ],
                    [
                      8.058218955993652,
                      8.042808532714844,
                      7.94448709487915,
                      7.844248294830322,
                      7.831247806549072,
                      7.759499549865723,
                      7.848666667938232,
                      8.141654014587402,
                      8.12782096862793,
                      8.206409454345703,
                      8.266337394714355,
                      8.17318344116211,
                      8.118288040161133,
                      8.169337272644043,
                      8.746522903442383,
                      8.679104804992676,
                      8.731136322021484,
                      8.826051712036133,
                      8.910694122314453,
                      "Cluster 2"
                    ],
                    [
                      4.645839214324951,
                      5.024970531463623,
                      5.049986839294434,
                      5.117457389831543,
                      5.317930698394775,
                      6.193279266357422,
                      6.233144283294678,
                      6.462405204772949,
                      6.564295768737793,
                      6.893400192260742,
                      6.989928722381592,
                      6.583460330963135,
                      6.506712436676025,
                      6.674037456512451,
                      7.160521507263184,
                      7.171492576599121,
                      6.700655937194824,
                      6.238911151885986,
                      6.2321553230285645,
                      "Cluster 2"
                    ],
                    [
                      7.678673267364502,
                      8.117369651794434,
                      8.085699081420898,
                      8.040406227111816,
                      8.012330055236816,
                      7.998752593994141,
                      8.033763885498047,
                      8.181588172912598,
                      8.289385795593262,
                      7.919819355010986,
                      8.006701469421387,
                      7.858518600463867,
                      7.732519626617432,
                      7.90173864364624,
                      8.70986270904541,
                      8.575730323791504,
                      8.307621955871582,
                      8.361114501953125,
                      8.569494247436523,
                      "Cluster 2"
                    ],
                    [
                      4.648496150970459,
                      4.756708145141602,
                      4.9869513511657715,
                      5.226020336151123,
                      5.47499942779541,
                      5.509533882141113,
                      5.6704912185668945,
                      5.724850177764893,
                      5.648788928985596,
                      5.4681854248046875,
                      8.7444486618042,
                      7.081250190734863,
                      9.883197784423828,
                      10.293357849121094,
                      11.283919334411621,
                      9.703827857971191,
                      10.07101058959961,
                      8.088254928588867,
                      8.962294578552246,
                      "Cluster 2"
                    ],
                    [
                      5.83066987991333,
                      6.135021686553955,
                      4.893760681152344,
                      5.733091831207275,
                      6.326324462890625,
                      6.6022748947143555,
                      5.964354991912842,
                      4.955064296722412,
                      5.242816925048828,
                      5.314158916473389,
                      5.930617332458496,
                      5.984642028808594,
                      6.477622985839844,
                      6.538722991943359,
                      7.006867408752441,
                      7.064964294433594,
                      6.2554121017456055,
                      6.36320686340332,
                      6.403028964996338,
                      "Cluster 2"
                    ],
                    [
                      5.020895004272461,
                      5.084493637084961,
                      5.286288738250732,
                      5.300234317779541,
                      5.384669780731201,
                      5.704658031463623,
                      5.973164081573486,
                      6.076902866363525,
                      6.070453643798828,
                      6.414766788482666,
                      6.6441473960876465,
                      6.743597507476807,
                      6.487839698791504,
                      6.836653709411621,
                      7.248665809631348,
                      7.256673336029053,
                      6.9691853523254395,
                      6.9931206703186035,
                      6.96735143661499,
                      "Cluster 2"
                    ],
                    [
                      5.792909145355225,
                      5.819026470184326,
                      5.819143772125244,
                      5.897932529449463,
                      5.900414943695068,
                      6.1163330078125,
                      6.2805023193359375,
                      6.324763774871826,
                      6.314120769500732,
                      6.221904754638672,
                      6.212733268737793,
                      6.122383117675781,
                      5.773929595947266,
                      6.291264057159424,
                      6.924633502960205,
                      6.728625774383545,
                      6.673550605773926,
                      6.803887367248535,
                      6.66826057434082,
                      "Cluster 2"
                    ],
                    [
                      4.981964588165283,
                      5.065507411956787,
                      4.838992595672607,
                      5.637174129486084,
                      5.362922668457031,
                      5.612424850463867,
                      5.485507488250732,
                      6.283475875854492,
                      6.450275421142578,
                      5.65325927734375,
                      5.465712070465088,
                      5.397314071655273,
                      5.627837181091309,
                      6.261310577392578,
                      7.022190093994141,
                      7.092617034912109,
                      7.14971399307251,
                      7.000226974487305,
                      6.914441108703613,
                      "Cluster 2"
                    ],
                    [
                      5.373506546020508,
                      5.400269985198975,
                      5.314511775970459,
                      5.284405708312988,
                      5.269708156585693,
                      5.167459487915039,
                      5.155738353729248,
                      5.168936252593994,
                      5.727875709533691,
                      5.797935962677002,
                      5.875802993774414,
                      6.0053205490112305,
                      6.098790168762207,
                      6.5128560066223145,
                      7.2097601890563965,
                      7.173242092132568,
                      7.001060962677002,
                      6.734615325927734,
                      6.502610206604004,
                      "Cluster 2"
                    ],
                    [
                      6.887137413024902,
                      6.797412872314453,
                      6.493117332458496,
                      7.0373687744140625,
                      7.77504301071167,
                      7.544980525970459,
                      7.405368804931641,
                      8.074376106262207,
                      8.23128890991211,
                      7.7942962646484375,
                      7.499485015869141,
                      7.349510192871094,
                      7.225443363189697,
                      7.2743096351623535,
                      7.479480743408203,
                      7.116064071655273,
                      6.972243309020996,
                      6.994048118591309,
                      7.067580699920654,
                      "Cluster 2"
                    ],
                    [
                      5.362051963806152,
                      5.283706188201904,
                      5.486240863800049,
                      5.787903308868408,
                      5.73156213760376,
                      5.827838897705078,
                      5.791985034942627,
                      6.146520614624023,
                      6.041511058807373,
                      6.281577110290527,
                      6.572474956512451,
                      6.922995567321777,
                      6.883399486541748,
                      8.906984329223633,
                      9.323010444641113,
                      9.305461883544922,
                      9.342877388000488,
                      9.547666549682617,
                      9.226556777954102,
                      "Cluster 2"
                    ],
                    [
                      5.286854267120361,
                      4.9482340812683105,
                      5.071556568145752,
                      4.8494672775268555,
                      4.7220845222473145,
                      4.682621479034424,
                      4.894733905792236,
                      5.211920738220215,
                      5.6274189949035645,
                      5.591158866882324,
                      6.6689372062683105,
                      7.974464416503906,
                      7.980489730834961,
                      8.209741592407227,
                      8.901516914367676,
                      9.08129596710205,
                      9.085858345031738,
                      9.528421401977539,
                      9.617135047912598,
                      "Cluster 2"
                    ],
                    [
                      6.084042549133301,
                      5.81294584274292,
                      5.779224872589111,
                      5.803851127624512,
                      5.74461030960083,
                      5.702535152435303,
                      5.764902591705322,
                      6.149834632873535,
                      6.404474258422852,
                      6.154497146606445,
                      6.054044246673584,
                      5.805408954620361,
                      5.556626319885254,
                      5.628784656524658,
                      6.5696539878845215,
                      6.224936485290527,
                      6.314732551574707,
                      6.3417649269104,
                      6.3130879402160645,
                      "Cluster 2"
                    ],
                    [
                      5.145716667175293,
                      5.245560169219971,
                      5.173766136169434,
                      5.237903594970703,
                      5.232189655303955,
                      6.36126708984375,
                      6.23638916015625,
                      7.070858478546143,
                      6.457623481750488,
                      6.9582977294921875,
                      6.747706413269043,
                      6.597379684448242,
                      5.820074081420898,
                      6.492969989776611,
                      7.025644302368164,
                      6.594701766967773,
                      6.260661602020264,
                      5.988070964813232,
                      5.939237117767334,
                      "Cluster 2"
                    ],
                    [
                      6.705344200134277,
                      6.767537593841553,
                      6.70631217956543,
                      6.6946539878845215,
                      7.517019271850586,
                      7.295185565948486,
                      7.660538673400879,
                      7.885050296783447,
                      8.039900779724121,
                      8.15281867980957,
                      8.253254890441895,
                      8.39954948425293,
                      8.429011344909668,
                      8.621214866638184,
                      9.756125450134277,
                      9.433817863464355,
                      9.268852233886719,
                      9.419660568237305,
                      9.593210220336914,
                      "Cluster 2"
                    ],
                    [
                      6.499858856201172,
                      6.452808856964111,
                      6.697116851806641,
                      7.4548869132995605,
                      7.547604084014893,
                      6.823828220367432,
                      7.2239603996276855,
                      8.027209281921387,
                      8.247464179992676,
                      7.888860702514648,
                      7.430282115936279,
                      7.062887668609619,
                      7.219226837158203,
                      7.091172695159912,
                      8.021738052368164,
                      7.839228630065918,
                      7.717230796813965,
                      7.773856163024902,
                      8.005414009094238,
                      "Cluster 2"
                    ],
                    [
                      6.901267051696777,
                      7.128357887268066,
                      6.8882269859313965,
                      6.962480545043945,
                      7.027549743652344,
                      6.943697929382324,
                      7.188240051269531,
                      7.513944625854492,
                      7.63485860824585,
                      7.395196437835693,
                      7.354150295257568,
                      7.25951623916626,
                      7.254788875579834,
                      7.521564483642578,
                      8.100547790527344,
                      7.718310356140137,
                      9.914691925048828,
                      9.955520629882812,
                      10.05201530456543,
                      "Cluster 2"
                    ],
                    [
                      4.999425888061523,
                      5.29231071472168,
                      5.313625335693359,
                      5.3816399574279785,
                      5.515559673309326,
                      5.492176055908203,
                      5.8529462814331055,
                      6.123779296875,
                      6.379751682281494,
                      6.400311470031738,
                      6.459405899047852,
                      6.141737937927246,
                      6.032418251037598,
                      6.703738689422607,
                      7.209714889526367,
                      7.0972700119018555,
                      7.200927257537842,
                      7.498785018920898,
                      7.7338056564331055,
                      "Cluster 2"
                    ],
                    [
                      6.31350040435791,
                      6.112419128417969,
                      6.033112049102783,
                      6.228970527648926,
                      6.107698440551758,
                      6.098426818847656,
                      6.364904880523682,
                      6.514305591583252,
                      6.694243431091309,
                      6.719902038574219,
                      6.723559379577637,
                      6.788407802581787,
                      6.893501281738281,
                      7.063453674316406,
                      7.914158344268799,
                      7.884396553039551,
                      7.676792621612549,
                      7.651144504547119,
                      7.57566499710083,
                      "Cluster 2"
                    ],
                    [
                      5.45150089263916,
                      5.342586040496826,
                      5.469916343688965,
                      5.65291166305542,
                      5.909097671508789,
                      6.087614059448242,
                      6.297406196594238,
                      6.361552715301514,
                      6.42041015625,
                      6.4727396965026855,
                      6.657459735870361,
                      6.596439361572266,
                      6.715044975280762,
                      6.995021820068359,
                      7.753493309020996,
                      7.861969470977783,
                      8.318249702453613,
                      8.409920692443848,
                      8.528219223022461,
                      "Cluster 2"
                    ]
                  ],
                  "hovertemplate": "Cluster=%{customdata[19]}<br>2014=%{x}<br>1995=%{customdata[0]}<br>1996=%{customdata[1]}<br>1997=%{customdata[2]}<br>1998=%{customdata[3]}<br>1999=%{customdata[4]}<br>2000=%{customdata[5]}<br>2001=%{customdata[6]}<br>2002=%{customdata[7]}<br>2003=%{customdata[8]}<br>2004=%{customdata[9]}<br>2005=%{customdata[10]}<br>2006=%{customdata[11]}<br>2007=%{customdata[12]}<br>2008=%{customdata[13]}<br>2009=%{customdata[14]}<br>2010=%{customdata[15]}<br>2011=%{customdata[16]}<br>2012=%{customdata[17]}<br>2013=%{customdata[18]}<extra></extra>",
                  "legendgroup": "Cluster 2",
                  "marker": {
                    "color": "#00cc96"
                  },
                  "name": "Cluster 2",
                  "notched": true,
                  "offsetgroup": "Cluster 2",
                  "showlegend": false,
                  "type": "box",
                  "x": [
                    6.53197,
                    8.291027,
                    12.433752,
                    8.2499895,
                    7.5788503,
                    8.278518,
                    8.725026,
                    6.3165927,
                    7.2898145,
                    9.024514,
                    6.1581893,
                    8.697237,
                    10.573663,
                    6.3882875,
                    6.992651,
                    6.6238217,
                    6.7676015,
                    6.399992,
                    7.179706,
                    9.082656,
                    9.4811325,
                    6.2649765,
                    5.822836,
                    9.158734,
                    8.309618,
                    10.024694,
                    7.6951175,
                    7.411932,
                    8.550081
                  ],
                  "xaxis": "x2",
                  "yaxis": "y2"
                },
                {
                  "alignmentgroup": "True",
                  "bingroup": "x",
                  "hovertemplate": "Cluster=Cluster 3<br>2014=%{x}<br>count=%{y}<extra></extra>",
                  "legendgroup": "Cluster 3",
                  "marker": {
                    "color": "#ab63fa",
                    "opacity": 0.7,
                    "pattern": {
                      "shape": ""
                    }
                  },
                  "name": "Cluster 3",
                  "offsetgroup": "Cluster 3",
                  "orientation": "v",
                  "showlegend": true,
                  "type": "histogram",
                  "x": [
                    2.8676662,
                    16.404762,
                    14.449168
                  ],
                  "xaxis": "x",
                  "yaxis": "y"
                },
                {
                  "alignmentgroup": "True",
                  "customdata": [
                    [
                      12.334931373596191,
                      11.594283103942871,
                      11.826018333435059,
                      12.564984321594238,
                      12.337984085083008,
                      12.547685623168945,
                      13.312807083129883,
                      14.535418510437012,
                      13.454670906066895,
                      10.649627685546875,
                      11.617774963378906,
                      12.576336860656738,
                      18.10282325744629,
                      15.60670280456543,
                      8.727534294128418,
                      8.454551696777344,
                      7.1105570793151855,
                      6.523965835571289,
                      4.192163467407227,
                      "Cluster 3"
                    ],
                    [
                      7.960185527801514,
                      11.274662971496582,
                      8.087746620178223,
                      8.614014625549316,
                      9.221982955932617,
                      15.666666984558105,
                      17.269229888916016,
                      14.38620662689209,
                      21.654094696044922,
                      16.748971939086914,
                      18.234376907348633,
                      19.256752014160156,
                      16.856098175048828,
                      13.268343925476074,
                      12.693344116210938,
                      16.628570556640625,
                      16.842105865478516,
                      13.64102554321289,
                      16.475000381469727,
                      "Cluster 3"
                    ],
                    [
                      28.049785614013672,
                      16.678892135620117,
                      17.168132781982422,
                      15.64522933959961,
                      15.427422523498535,
                      19.240432739257812,
                      16.071969985961914,
                      14.835145950317383,
                      14.211288452148438,
                      15.090929985046387,
                      14.679710388183594,
                      17.05555534362793,
                      17.591999053955078,
                      16.481698989868164,
                      16.028947830200195,
                      14.398170471191406,
                      14.271676063537598,
                      13.906521797180176,
                      14.551898002624512,
                      "Cluster 3"
                    ]
                  ],
                  "hovertemplate": "Cluster=%{customdata[19]}<br>2014=%{x}<br>1995=%{customdata[0]}<br>1996=%{customdata[1]}<br>1997=%{customdata[2]}<br>1998=%{customdata[3]}<br>1999=%{customdata[4]}<br>2000=%{customdata[5]}<br>2001=%{customdata[6]}<br>2002=%{customdata[7]}<br>2003=%{customdata[8]}<br>2004=%{customdata[9]}<br>2005=%{customdata[10]}<br>2006=%{customdata[11]}<br>2007=%{customdata[12]}<br>2008=%{customdata[13]}<br>2009=%{customdata[14]}<br>2010=%{customdata[15]}<br>2011=%{customdata[16]}<br>2012=%{customdata[17]}<br>2013=%{customdata[18]}<extra></extra>",
                  "legendgroup": "Cluster 3",
                  "marker": {
                    "color": "#ab63fa"
                  },
                  "name": "Cluster 3",
                  "notched": true,
                  "offsetgroup": "Cluster 3",
                  "showlegend": false,
                  "type": "box",
                  "x": [
                    2.8676662,
                    16.404762,
                    14.449168
                  ],
                  "xaxis": "x2",
                  "yaxis": "y2"
                }
              ],
              "layout": {
                "barmode": "relative",
                "height": 600,
                "legend": {
                  "title": {
                    "text": "Cluster"
                  },
                  "tracegroupgap": 0
                },
                "margin": {
                  "t": 60
                },
                "template": {
                  "data": {
                    "bar": [
                      {
                        "error_x": {
                          "color": "#2a3f5f"
                        },
                        "error_y": {
                          "color": "#2a3f5f"
                        },
                        "marker": {
                          "line": {
                            "color": "#E5ECF6",
                            "width": 0.5
                          },
                          "pattern": {
                            "fillmode": "overlay",
                            "size": 10,
                            "solidity": 0.2
                          }
                        },
                        "type": "bar"
                      }
                    ],
                    "barpolar": [
                      {
                        "marker": {
                          "line": {
                            "color": "#E5ECF6",
                            "width": 0.5
                          },
                          "pattern": {
                            "fillmode": "overlay",
                            "size": 10,
                            "solidity": 0.2
                          }
                        },
                        "type": "barpolar"
                      }
                    ],
                    "carpet": [
                      {
                        "aaxis": {
                          "endlinecolor": "#2a3f5f",
                          "gridcolor": "white",
                          "linecolor": "white",
                          "minorgridcolor": "white",
                          "startlinecolor": "#2a3f5f"
                        },
                        "baxis": {
                          "endlinecolor": "#2a3f5f",
                          "gridcolor": "white",
                          "linecolor": "white",
                          "minorgridcolor": "white",
                          "startlinecolor": "#2a3f5f"
                        },
                        "type": "carpet"
                      }
                    ],
                    "choropleth": [
                      {
                        "colorbar": {
                          "outlinewidth": 0,
                          "ticks": ""
                        },
                        "type": "choropleth"
                      }
                    ],
                    "contour": [
                      {
                        "colorbar": {
                          "outlinewidth": 0,
                          "ticks": ""
                        },
                        "colorscale": [
                          [
                            0,
                            "#0d0887"
                          ],
                          [
                            0.1111111111111111,
                            "#46039f"
                          ],
                          [
                            0.2222222222222222,
                            "#7201a8"
                          ],
                          [
                            0.3333333333333333,
                            "#9c179e"
                          ],
                          [
                            0.4444444444444444,
                            "#bd3786"
                          ],
                          [
                            0.5555555555555556,
                            "#d8576b"
                          ],
                          [
                            0.6666666666666666,
                            "#ed7953"
                          ],
                          [
                            0.7777777777777778,
                            "#fb9f3a"
                          ],
                          [
                            0.8888888888888888,
                            "#fdca26"
                          ],
                          [
                            1,
                            "#f0f921"
                          ]
                        ],
                        "type": "contour"
                      }
                    ],
                    "contourcarpet": [
                      {
                        "colorbar": {
                          "outlinewidth": 0,
                          "ticks": ""
                        },
                        "type": "contourcarpet"
                      }
                    ],
                    "heatmap": [
                      {
                        "colorbar": {
                          "outlinewidth": 0,
                          "ticks": ""
                        },
                        "colorscale": [
                          [
                            0,
                            "#0d0887"
                          ],
                          [
                            0.1111111111111111,
                            "#46039f"
                          ],
                          [
                            0.2222222222222222,
                            "#7201a8"
                          ],
                          [
                            0.3333333333333333,
                            "#9c179e"
                          ],
                          [
                            0.4444444444444444,
                            "#bd3786"
                          ],
                          [
                            0.5555555555555556,
                            "#d8576b"
                          ],
                          [
                            0.6666666666666666,
                            "#ed7953"
                          ],
                          [
                            0.7777777777777778,
                            "#fb9f3a"
                          ],
                          [
                            0.8888888888888888,
                            "#fdca26"
                          ],
                          [
                            1,
                            "#f0f921"
                          ]
                        ],
                        "type": "heatmap"
                      }
                    ],
                    "heatmapgl": [
                      {
                        "colorbar": {
                          "outlinewidth": 0,
                          "ticks": ""
                        },
                        "colorscale": [
                          [
                            0,
                            "#0d0887"
                          ],
                          [
                            0.1111111111111111,
                            "#46039f"
                          ],
                          [
                            0.2222222222222222,
                            "#7201a8"
                          ],
                          [
                            0.3333333333333333,
                            "#9c179e"
                          ],
                          [
                            0.4444444444444444,
                            "#bd3786"
                          ],
                          [
                            0.5555555555555556,
                            "#d8576b"
                          ],
                          [
                            0.6666666666666666,
                            "#ed7953"
                          ],
                          [
                            0.7777777777777778,
                            "#fb9f3a"
                          ],
                          [
                            0.8888888888888888,
                            "#fdca26"
                          ],
                          [
                            1,
                            "#f0f921"
                          ]
                        ],
                        "type": "heatmapgl"
                      }
                    ],
                    "histogram": [
                      {
                        "marker": {
                          "pattern": {
                            "fillmode": "overlay",
                            "size": 10,
                            "solidity": 0.2
                          }
                        },
                        "type": "histogram"
                      }
                    ],
                    "histogram2d": [
                      {
                        "colorbar": {
                          "outlinewidth": 0,
                          "ticks": ""
                        },
                        "colorscale": [
                          [
                            0,
                            "#0d0887"
                          ],
                          [
                            0.1111111111111111,
                            "#46039f"
                          ],
                          [
                            0.2222222222222222,
                            "#7201a8"
                          ],
                          [
                            0.3333333333333333,
                            "#9c179e"
                          ],
                          [
                            0.4444444444444444,
                            "#bd3786"
                          ],
                          [
                            0.5555555555555556,
                            "#d8576b"
                          ],
                          [
                            0.6666666666666666,
                            "#ed7953"
                          ],
                          [
                            0.7777777777777778,
                            "#fb9f3a"
                          ],
                          [
                            0.8888888888888888,
                            "#fdca26"
                          ],
                          [
                            1,
                            "#f0f921"
                          ]
                        ],
                        "type": "histogram2d"
                      }
                    ],
                    "histogram2dcontour": [
                      {
                        "colorbar": {
                          "outlinewidth": 0,
                          "ticks": ""
                        },
                        "colorscale": [
                          [
                            0,
                            "#0d0887"
                          ],
                          [
                            0.1111111111111111,
                            "#46039f"
                          ],
                          [
                            0.2222222222222222,
                            "#7201a8"
                          ],
                          [
                            0.3333333333333333,
                            "#9c179e"
                          ],
                          [
                            0.4444444444444444,
                            "#bd3786"
                          ],
                          [
                            0.5555555555555556,
                            "#d8576b"
                          ],
                          [
                            0.6666666666666666,
                            "#ed7953"
                          ],
                          [
                            0.7777777777777778,
                            "#fb9f3a"
                          ],
                          [
                            0.8888888888888888,
                            "#fdca26"
                          ],
                          [
                            1,
                            "#f0f921"
                          ]
                        ],
                        "type": "histogram2dcontour"
                      }
                    ],
                    "mesh3d": [
                      {
                        "colorbar": {
                          "outlinewidth": 0,
                          "ticks": ""
                        },
                        "type": "mesh3d"
                      }
                    ],
                    "parcoords": [
                      {
                        "line": {
                          "colorbar": {
                            "outlinewidth": 0,
                            "ticks": ""
                          }
                        },
                        "type": "parcoords"
                      }
                    ],
                    "pie": [
                      {
                        "automargin": true,
                        "type": "pie"
                      }
                    ],
                    "scatter": [
                      {
                        "fillpattern": {
                          "fillmode": "overlay",
                          "size": 10,
                          "solidity": 0.2
                        },
                        "type": "scatter"
                      }
                    ],
                    "scatter3d": [
                      {
                        "line": {
                          "colorbar": {
                            "outlinewidth": 0,
                            "ticks": ""
                          }
                        },
                        "marker": {
                          "colorbar": {
                            "outlinewidth": 0,
                            "ticks": ""
                          }
                        },
                        "type": "scatter3d"
                      }
                    ],
                    "scattercarpet": [
                      {
                        "marker": {
                          "colorbar": {
                            "outlinewidth": 0,
                            "ticks": ""
                          }
                        },
                        "type": "scattercarpet"
                      }
                    ],
                    "scattergeo": [
                      {
                        "marker": {
                          "colorbar": {
                            "outlinewidth": 0,
                            "ticks": ""
                          }
                        },
                        "type": "scattergeo"
                      }
                    ],
                    "scattergl": [
                      {
                        "marker": {
                          "colorbar": {
                            "outlinewidth": 0,
                            "ticks": ""
                          }
                        },
                        "type": "scattergl"
                      }
                    ],
                    "scattermapbox": [
                      {
                        "marker": {
                          "colorbar": {
                            "outlinewidth": 0,
                            "ticks": ""
                          }
                        },
                        "type": "scattermapbox"
                      }
                    ],
                    "scatterpolar": [
                      {
                        "marker": {
                          "colorbar": {
                            "outlinewidth": 0,
                            "ticks": ""
                          }
                        },
                        "type": "scatterpolar"
                      }
                    ],
                    "scatterpolargl": [
                      {
                        "marker": {
                          "colorbar": {
                            "outlinewidth": 0,
                            "ticks": ""
                          }
                        },
                        "type": "scatterpolargl"
                      }
                    ],
                    "scatterternary": [
                      {
                        "marker": {
                          "colorbar": {
                            "outlinewidth": 0,
                            "ticks": ""
                          }
                        },
                        "type": "scatterternary"
                      }
                    ],
                    "surface": [
                      {
                        "colorbar": {
                          "outlinewidth": 0,
                          "ticks": ""
                        },
                        "colorscale": [
                          [
                            0,
                            "#0d0887"
                          ],
                          [
                            0.1111111111111111,
                            "#46039f"
                          ],
                          [
                            0.2222222222222222,
                            "#7201a8"
                          ],
                          [
                            0.3333333333333333,
                            "#9c179e"
                          ],
                          [
                            0.4444444444444444,
                            "#bd3786"
                          ],
                          [
                            0.5555555555555556,
                            "#d8576b"
                          ],
                          [
                            0.6666666666666666,
                            "#ed7953"
                          ],
                          [
                            0.7777777777777778,
                            "#fb9f3a"
                          ],
                          [
                            0.8888888888888888,
                            "#fdca26"
                          ],
                          [
                            1,
                            "#f0f921"
                          ]
                        ],
                        "type": "surface"
                      }
                    ],
                    "table": [
                      {
                        "cells": {
                          "fill": {
                            "color": "#EBF0F8"
                          },
                          "line": {
                            "color": "white"
                          }
                        },
                        "header": {
                          "fill": {
                            "color": "#C8D4E3"
                          },
                          "line": {
                            "color": "white"
                          }
                        },
                        "type": "table"
                      }
                    ]
                  },
                  "layout": {
                    "annotationdefaults": {
                      "arrowcolor": "#2a3f5f",
                      "arrowhead": 0,
                      "arrowwidth": 1
                    },
                    "autotypenumbers": "strict",
                    "coloraxis": {
                      "colorbar": {
                        "outlinewidth": 0,
                        "ticks": ""
                      }
                    },
                    "colorscale": {
                      "diverging": [
                        [
                          0,
                          "#8e0152"
                        ],
                        [
                          0.1,
                          "#c51b7d"
                        ],
                        [
                          0.2,
                          "#de77ae"
                        ],
                        [
                          0.3,
                          "#f1b6da"
                        ],
                        [
                          0.4,
                          "#fde0ef"
                        ],
                        [
                          0.5,
                          "#f7f7f7"
                        ],
                        [
                          0.6,
                          "#e6f5d0"
                        ],
                        [
                          0.7,
                          "#b8e186"
                        ],
                        [
                          0.8,
                          "#7fbc41"
                        ],
                        [
                          0.9,
                          "#4d9221"
                        ],
                        [
                          1,
                          "#276419"
                        ]
                      ],
                      "sequential": [
                        [
                          0,
                          "#0d0887"
                        ],
                        [
                          0.1111111111111111,
                          "#46039f"
                        ],
                        [
                          0.2222222222222222,
                          "#7201a8"
                        ],
                        [
                          0.3333333333333333,
                          "#9c179e"
                        ],
                        [
                          0.4444444444444444,
                          "#bd3786"
                        ],
                        [
                          0.5555555555555556,
                          "#d8576b"
                        ],
                        [
                          0.6666666666666666,
                          "#ed7953"
                        ],
                        [
                          0.7777777777777778,
                          "#fb9f3a"
                        ],
                        [
                          0.8888888888888888,
                          "#fdca26"
                        ],
                        [
                          1,
                          "#f0f921"
                        ]
                      ],
                      "sequentialminus": [
                        [
                          0,
                          "#0d0887"
                        ],
                        [
                          0.1111111111111111,
                          "#46039f"
                        ],
                        [
                          0.2222222222222222,
                          "#7201a8"
                        ],
                        [
                          0.3333333333333333,
                          "#9c179e"
                        ],
                        [
                          0.4444444444444444,
                          "#bd3786"
                        ],
                        [
                          0.5555555555555556,
                          "#d8576b"
                        ],
                        [
                          0.6666666666666666,
                          "#ed7953"
                        ],
                        [
                          0.7777777777777778,
                          "#fb9f3a"
                        ],
                        [
                          0.8888888888888888,
                          "#fdca26"
                        ],
                        [
                          1,
                          "#f0f921"
                        ]
                      ]
                    },
                    "colorway": [
                      "#636efa",
                      "#EF553B",
                      "#00cc96",
                      "#ab63fa",
                      "#FFA15A",
                      "#19d3f3",
                      "#FF6692",
                      "#B6E880",
                      "#FF97FF",
                      "#FECB52"
                    ],
                    "font": {
                      "color": "#2a3f5f"
                    },
                    "geo": {
                      "bgcolor": "white",
                      "lakecolor": "white",
                      "landcolor": "#E5ECF6",
                      "showlakes": true,
                      "showland": true,
                      "subunitcolor": "white"
                    },
                    "hoverlabel": {
                      "align": "left"
                    },
                    "hovermode": "closest",
                    "mapbox": {
                      "style": "light"
                    },
                    "paper_bgcolor": "white",
                    "plot_bgcolor": "#E5ECF6",
                    "polar": {
                      "angularaxis": {
                        "gridcolor": "white",
                        "linecolor": "white",
                        "ticks": ""
                      },
                      "bgcolor": "#E5ECF6",
                      "radialaxis": {
                        "gridcolor": "white",
                        "linecolor": "white",
                        "ticks": ""
                      }
                    },
                    "scene": {
                      "xaxis": {
                        "backgroundcolor": "#E5ECF6",
                        "gridcolor": "white",
                        "gridwidth": 2,
                        "linecolor": "white",
                        "showbackground": true,
                        "ticks": "",
                        "zerolinecolor": "white"
                      },
                      "yaxis": {
                        "backgroundcolor": "#E5ECF6",
                        "gridcolor": "white",
                        "gridwidth": 2,
                        "linecolor": "white",
                        "showbackground": true,
                        "ticks": "",
                        "zerolinecolor": "white"
                      },
                      "zaxis": {
                        "backgroundcolor": "#E5ECF6",
                        "gridcolor": "white",
                        "gridwidth": 2,
                        "linecolor": "white",
                        "showbackground": true,
                        "ticks": "",
                        "zerolinecolor": "white"
                      }
                    },
                    "shapedefaults": {
                      "line": {
                        "color": "#2a3f5f"
                      }
                    },
                    "ternary": {
                      "aaxis": {
                        "gridcolor": "white",
                        "linecolor": "white",
                        "ticks": ""
                      },
                      "baxis": {
                        "gridcolor": "white",
                        "linecolor": "white",
                        "ticks": ""
                      },
                      "bgcolor": "#E5ECF6",
                      "caxis": {
                        "gridcolor": "white",
                        "linecolor": "white",
                        "ticks": ""
                      }
                    },
                    "title": {
                      "x": 0.05
                    },
                    "xaxis": {
                      "automargin": true,
                      "gridcolor": "white",
                      "linecolor": "white",
                      "ticks": "",
                      "title": {
                        "standoff": 15
                      },
                      "zerolinecolor": "white",
                      "zerolinewidth": 2
                    },
                    "yaxis": {
                      "automargin": true,
                      "gridcolor": "white",
                      "linecolor": "white",
                      "ticks": "",
                      "title": {
                        "standoff": 15
                      },
                      "zerolinecolor": "white",
                      "zerolinewidth": 2
                    }
                  }
                },
                "xaxis": {
                  "anchor": "y",
                  "domain": [
                    0,
                    1
                  ],
                  "title": {
                    "text": "2014"
                  }
                },
                "xaxis2": {
                  "anchor": "y2",
                  "domain": [
                    0,
                    1
                  ],
                  "matches": "x",
                  "showgrid": true,
                  "showticklabels": false
                },
                "yaxis": {
                  "anchor": "x",
                  "domain": [
                    0,
                    0.7326
                  ],
                  "title": {
                    "text": "count"
                  }
                },
                "yaxis2": {
                  "anchor": "x2",
                  "domain": [
                    0.7426,
                    1
                  ],
                  "matches": "y2",
                  "showgrid": false,
                  "showline": false,
                  "showticklabels": false,
                  "ticks": ""
                }
              }
            }
          },
          "metadata": {},
          "output_type": "display_data"
        }
      ],
      "source": [
        "# histogram of 2014 by cluster.\n",
        "# what do you notice here?\n",
        "plot_model(kmeans, plot = 'distribution', feature = '2014')"
      ]
    }
  ],
  "metadata": {
    "colab": {
      "provenance": []
    },
    "kernelspec": {
      "display_name": "Python 3",
      "name": "python3"
    },
    "language_info": {
      "codemirror_mode": {
        "name": "ipython",
        "version": 3
      },
      "file_extension": ".py",
      "mimetype": "text/x-python",
      "name": "python",
      "nbconvert_exporter": "python",
      "pygments_lexer": "ipython3",
      "version": "3.11.9"
    },
    "widgets": {
      "application/vnd.jupyter.widget-state+json": {
        "33460209e56640b7b372fedd04be1c30": {
          "model_module": "@jupyter-widgets/controls",
          "model_module_version": "1.5.0",
          "model_name": "FloatProgressModel",
          "state": {
            "_dom_classes": [],
            "_model_module": "@jupyter-widgets/controls",
            "_model_module_version": "1.5.0",
            "_model_name": "FloatProgressModel",
            "_view_count": null,
            "_view_module": "@jupyter-widgets/controls",
            "_view_module_version": "1.5.0",
            "_view_name": "ProgressView",
            "bar_style": "",
            "description": "",
            "description_tooltip": null,
            "layout": "IPY_MODEL_a99b44674f404284a65b5ba60d96c5ad",
            "max": 3,
            "min": 0,
            "orientation": "horizontal",
            "style": "IPY_MODEL_9dfe95f9c4ef4cbca17fb0e6784c8987",
            "value": 3
          }
        },
        "71f5398b3de74b829ec7ca7caf2b9b9f": {
          "model_module": "@jupyter-widgets/base",
          "model_module_version": "1.2.0",
          "model_name": "LayoutModel",
          "state": {
            "_model_module": "@jupyter-widgets/base",
            "_model_module_version": "1.2.0",
            "_model_name": "LayoutModel",
            "_view_count": null,
            "_view_module": "@jupyter-widgets/base",
            "_view_module_version": "1.2.0",
            "_view_name": "LayoutView",
            "align_content": null,
            "align_items": null,
            "align_self": null,
            "border": null,
            "bottom": null,
            "display": null,
            "flex": null,
            "flex_flow": null,
            "grid_area": null,
            "grid_auto_columns": null,
            "grid_auto_flow": null,
            "grid_auto_rows": null,
            "grid_column": null,
            "grid_gap": null,
            "grid_row": null,
            "grid_template_areas": null,
            "grid_template_columns": null,
            "grid_template_rows": null,
            "height": null,
            "justify_content": null,
            "justify_items": null,
            "left": null,
            "margin": null,
            "max_height": null,
            "max_width": null,
            "min_height": null,
            "min_width": null,
            "object_fit": null,
            "object_position": null,
            "order": null,
            "overflow": null,
            "overflow_x": null,
            "overflow_y": null,
            "padding": null,
            "right": null,
            "top": null,
            "visibility": null,
            "width": null
          }
        },
        "753003b0e7b5471da12222dfc5ce6b30": {
          "model_module": "@jupyter-widgets/base",
          "model_module_version": "1.2.0",
          "model_name": "LayoutModel",
          "state": {
            "_model_module": "@jupyter-widgets/base",
            "_model_module_version": "1.2.0",
            "_model_name": "LayoutModel",
            "_view_count": null,
            "_view_module": "@jupyter-widgets/base",
            "_view_module_version": "1.2.0",
            "_view_name": "LayoutView",
            "align_content": null,
            "align_items": null,
            "align_self": null,
            "border": null,
            "bottom": null,
            "display": null,
            "flex": null,
            "flex_flow": null,
            "grid_area": null,
            "grid_auto_columns": null,
            "grid_auto_flow": null,
            "grid_auto_rows": null,
            "grid_column": null,
            "grid_gap": null,
            "grid_row": null,
            "grid_template_areas": null,
            "grid_template_columns": null,
            "grid_template_rows": null,
            "height": null,
            "justify_content": null,
            "justify_items": null,
            "left": null,
            "margin": null,
            "max_height": null,
            "max_width": null,
            "min_height": null,
            "min_width": null,
            "object_fit": null,
            "object_position": null,
            "order": null,
            "overflow": null,
            "overflow_x": null,
            "overflow_y": null,
            "padding": null,
            "right": null,
            "top": null,
            "visibility": null,
            "width": null
          }
        },
        "9dfe95f9c4ef4cbca17fb0e6784c8987": {
          "model_module": "@jupyter-widgets/controls",
          "model_module_version": "1.5.0",
          "model_name": "ProgressStyleModel",
          "state": {
            "_model_module": "@jupyter-widgets/controls",
            "_model_module_version": "1.5.0",
            "_model_name": "ProgressStyleModel",
            "_view_count": null,
            "_view_module": "@jupyter-widgets/base",
            "_view_module_version": "1.2.0",
            "_view_name": "StyleView",
            "bar_color": null,
            "description_width": ""
          }
        },
        "a4a1e49c96b145b2aa0daa2f2330348a": {
          "model_module": "@jupyter-widgets/controls",
          "model_module_version": "1.5.0",
          "model_name": "DescriptionStyleModel",
          "state": {
            "_model_module": "@jupyter-widgets/controls",
            "_model_module_version": "1.5.0",
            "_model_name": "DescriptionStyleModel",
            "_view_count": null,
            "_view_module": "@jupyter-widgets/base",
            "_view_module_version": "1.2.0",
            "_view_name": "StyleView",
            "description_width": ""
          }
        },
        "a99b44674f404284a65b5ba60d96c5ad": {
          "model_module": "@jupyter-widgets/base",
          "model_module_version": "1.2.0",
          "model_name": "LayoutModel",
          "state": {
            "_model_module": "@jupyter-widgets/base",
            "_model_module_version": "1.2.0",
            "_model_name": "LayoutModel",
            "_view_count": null,
            "_view_module": "@jupyter-widgets/base",
            "_view_module_version": "1.2.0",
            "_view_name": "LayoutView",
            "align_content": null,
            "align_items": null,
            "align_self": null,
            "border": null,
            "bottom": null,
            "display": null,
            "flex": null,
            "flex_flow": null,
            "grid_area": null,
            "grid_auto_columns": null,
            "grid_auto_flow": null,
            "grid_auto_rows": null,
            "grid_column": null,
            "grid_gap": null,
            "grid_row": null,
            "grid_template_areas": null,
            "grid_template_columns": null,
            "grid_template_rows": null,
            "height": null,
            "justify_content": null,
            "justify_items": null,
            "left": null,
            "margin": null,
            "max_height": null,
            "max_width": null,
            "min_height": null,
            "min_width": null,
            "object_fit": null,
            "object_position": null,
            "order": null,
            "overflow": null,
            "overflow_x": null,
            "overflow_y": null,
            "padding": null,
            "right": null,
            "top": null,
            "visibility": null,
            "width": null
          }
        },
        "aabb0e0212c245babb928bd35b733d73": {
          "model_module": "@jupyter-widgets/controls",
          "model_module_version": "1.5.0",
          "model_name": "HTMLModel",
          "state": {
            "_dom_classes": [],
            "_model_module": "@jupyter-widgets/controls",
            "_model_module_version": "1.5.0",
            "_model_name": "HTMLModel",
            "_view_count": null,
            "_view_module": "@jupyter-widgets/controls",
            "_view_module_version": "1.5.0",
            "_view_name": "HTMLView",
            "description": "",
            "description_tooltip": null,
            "layout": "IPY_MODEL_753003b0e7b5471da12222dfc5ce6b30",
            "placeholder": "​",
            "style": "IPY_MODEL_a4a1e49c96b145b2aa0daa2f2330348a",
            "value": "Processing:   0%"
          }
        },
        "ab4f91d821974b7191b8d412f4475bdf": {
          "model_module": "@jupyter-widgets/controls",
          "model_module_version": "1.5.0",
          "model_name": "DescriptionStyleModel",
          "state": {
            "_model_module": "@jupyter-widgets/controls",
            "_model_module_version": "1.5.0",
            "_model_name": "DescriptionStyleModel",
            "_view_count": null,
            "_view_module": "@jupyter-widgets/base",
            "_view_module_version": "1.2.0",
            "_view_name": "StyleView",
            "description_width": ""
          }
        },
        "b180379d8037426e8123f951382bca55": {
          "model_module": "@jupyter-widgets/controls",
          "model_module_version": "1.5.0",
          "model_name": "HBoxModel",
          "state": {
            "_dom_classes": [],
            "_model_module": "@jupyter-widgets/controls",
            "_model_module_version": "1.5.0",
            "_model_name": "HBoxModel",
            "_view_count": null,
            "_view_module": "@jupyter-widgets/controls",
            "_view_module_version": "1.5.0",
            "_view_name": "HBoxView",
            "box_style": "",
            "children": [
              "IPY_MODEL_aabb0e0212c245babb928bd35b733d73",
              "IPY_MODEL_33460209e56640b7b372fedd04be1c30",
              "IPY_MODEL_f25ab9b15fea42f9ae505f0d3fc9f1e5"
            ],
            "layout": "IPY_MODEL_ebf8fd7ce4394510be1495a5c20c5278"
          }
        },
        "ebf8fd7ce4394510be1495a5c20c5278": {
          "model_module": "@jupyter-widgets/base",
          "model_module_version": "1.2.0",
          "model_name": "LayoutModel",
          "state": {
            "_model_module": "@jupyter-widgets/base",
            "_model_module_version": "1.2.0",
            "_model_name": "LayoutModel",
            "_view_count": null,
            "_view_module": "@jupyter-widgets/base",
            "_view_module_version": "1.2.0",
            "_view_name": "LayoutView",
            "align_content": null,
            "align_items": null,
            "align_self": null,
            "border": null,
            "bottom": null,
            "display": null,
            "flex": null,
            "flex_flow": null,
            "grid_area": null,
            "grid_auto_columns": null,
            "grid_auto_flow": null,
            "grid_auto_rows": null,
            "grid_column": null,
            "grid_gap": null,
            "grid_row": null,
            "grid_template_areas": null,
            "grid_template_columns": null,
            "grid_template_rows": null,
            "height": null,
            "justify_content": null,
            "justify_items": null,
            "left": null,
            "margin": null,
            "max_height": null,
            "max_width": null,
            "min_height": null,
            "min_width": null,
            "object_fit": null,
            "object_position": null,
            "order": null,
            "overflow": null,
            "overflow_x": null,
            "overflow_y": null,
            "padding": null,
            "right": null,
            "top": null,
            "visibility": "hidden",
            "width": null
          }
        },
        "f25ab9b15fea42f9ae505f0d3fc9f1e5": {
          "model_module": "@jupyter-widgets/controls",
          "model_module_version": "1.5.0",
          "model_name": "HTMLModel",
          "state": {
            "_dom_classes": [],
            "_model_module": "@jupyter-widgets/controls",
            "_model_module_version": "1.5.0",
            "_model_name": "HTMLModel",
            "_view_count": null,
            "_view_module": "@jupyter-widgets/controls",
            "_view_module_version": "1.5.0",
            "_view_name": "HTMLView",
            "description": "",
            "description_tooltip": null,
            "layout": "IPY_MODEL_71f5398b3de74b829ec7ca7caf2b9b9f",
            "placeholder": "​",
            "style": "IPY_MODEL_ab4f91d821974b7191b8d412f4475bdf",
            "value": " 0/3 [00:00&lt;?, ?it/s]"
          }
        }
      }
    }
  },
  "nbformat": 4,
  "nbformat_minor": 0
}
